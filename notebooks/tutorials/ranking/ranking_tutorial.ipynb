{
 "cells": [
  {
   "cell_type": "code",
   "execution_count": null,
   "id": "lesser-coordinate",
   "metadata": {},
   "outputs": [],
   "source": [
    "import tempfile\n",
    "import os\n",
    "\n",
    "from openghg.localclient import RankSources\n",
    "from openghg.modules import ObsSurface\n",
    "from openghg.util import bilsdale_datapaths"
   ]
  },
  {
   "cell_type": "markdown",
   "id": "healthy-integer",
   "metadata": {},
   "source": [
    "### Set the object store\n",
    "\n",
    "Here we set the path of the object store, if you already have an object store built locally please add the path to your object store here."
   ]
  },
  {
   "cell_type": "code",
   "execution_count": null,
   "id": "turkish-probe",
   "metadata": {},
   "outputs": [],
   "source": [
    "tmp_dir = tempfile.TemporaryDirectory()\n",
    "os.environ[\"OPENGHG_PATH\"] = str(tmp_dir.name)"
   ]
  },
  {
   "cell_type": "markdown",
   "id": "premium-referral",
   "metadata": {},
   "source": [
    "### Get the tutorial data\n",
    "\n",
    "We need to read in some data so we can give specific sources a rank. Here we use some data that's provided with the OpenGHG package."
   ]
  },
  {
   "cell_type": "code",
   "execution_count": null,
   "id": "private-horror",
   "metadata": {},
   "outputs": [],
   "source": [
    "bsd_paths = bilsdale_datapaths()"
   ]
  },
  {
   "cell_type": "code",
   "execution_count": null,
   "id": "essential-table",
   "metadata": {},
   "outputs": [],
   "source": [
    "res = ObsSurface.read_file(filepath=bsd_paths, data_type=\"CRDS\", site=\"bsd\", network=\"DECC\")"
   ]
  },
  {
   "cell_type": "markdown",
   "id": "smaller-darwin",
   "metadata": {},
   "source": [
    "### Get the ranking data\n",
    "\n",
    "We just need to pass in the site and species we want to set the rank for"
   ]
  },
  {
   "cell_type": "code",
   "execution_count": null,
   "id": "integral-daughter",
   "metadata": {},
   "outputs": [],
   "source": [
    "r = RankSources()\n",
    "sources = r.get_sources(site=\"bsd\", species=\"ch4\")\n",
    "sources"
   ]
  },
  {
   "cell_type": "markdown",
   "id": "utility-headset",
   "metadata": {},
   "source": [
    "If we want to specify that between the dates 2015-01-01 to 2016-01-01 we want to set a rank of 1 to the 108m inlet from the picarro instrument we can first check its current ranking data."
   ]
  },
  {
   "cell_type": "code",
   "execution_count": null,
   "id": "structural-front",
   "metadata": {},
   "outputs": [],
   "source": [
    "r.get_specific_source(key=\"ch4_108m_picarro\")"
   ]
  },
  {
   "cell_type": "markdown",
   "id": "african-representative",
   "metadata": {},
   "source": [
    "Then we give it a rank between those dates"
   ]
  },
  {
   "cell_type": "code",
   "execution_count": null,
   "id": "professional-camel",
   "metadata": {},
   "outputs": [],
   "source": [
    "r.set_rank(key=\"ch4_108m_picarro\", rank=1, start_date=\"2015-01-01\", end_date=\"2016-01-01\")"
   ]
  },
  {
   "cell_type": "markdown",
   "id": "hourly-planet",
   "metadata": {},
   "source": [
    "And we can check to make sure it's been updated"
   ]
  },
  {
   "cell_type": "code",
   "execution_count": null,
   "id": "residential-eight",
   "metadata": {},
   "outputs": [],
   "source": [
    "r.get_specific_source(key=\"ch4_108m_picarro\")"
   ]
  },
  {
   "cell_type": "markdown",
   "id": "supreme-effects",
   "metadata": {},
   "source": [
    "### Setting multiple dateranges for a specific key\n",
    "\n",
    "We can also set multiple dateranges for a source using a list of dateranges. We'll update the 108m source's ranking now."
   ]
  },
  {
   "cell_type": "code",
   "execution_count": null,
   "id": "manual-singer",
   "metadata": {},
   "outputs": [],
   "source": [
    "dateranges = [\"2014-01-01_2014-03-06\", \"2014-06-07_2015-09-09\", \"2015-09-10_2019-01-06\"]\n",
    "r.set_rank(key=\"ch4_108m_picarro\", rank=1, dateranges=dateranges)"
   ]
  },
  {
   "cell_type": "markdown",
   "id": "powerful-portable",
   "metadata": {},
   "source": [
    "We can now check the ranking for that source again to make sure it's been updated"
   ]
  },
  {
   "cell_type": "code",
   "execution_count": null,
   "id": "distributed-burton",
   "metadata": {},
   "outputs": [],
   "source": [
    "r.get_sources(site=\"bsd\", species=\"ch4\")"
   ]
  },
  {
   "cell_type": "markdown",
   "id": "characteristic-marijuana",
   "metadata": {},
   "source": [
    "### Clearing ranking data\n",
    "\n",
    "If we want to clear ranking data we can use `clear_rank`"
   ]
  },
  {
   "cell_type": "code",
   "execution_count": null,
   "id": "differential-charity",
   "metadata": {},
   "outputs": [],
   "source": [
    "r.clear_rank(key=\"ch4_108m_picarro\")"
   ]
  },
  {
   "cell_type": "code",
   "execution_count": null,
   "id": "weighted-maria",
   "metadata": {},
   "outputs": [],
   "source": [
    "r.get_specific_source(key=\"ch4_108m_picarro\")"
   ]
  }
 ],
 "metadata": {
  "kernelspec": {
   "display_name": "Python 3",
   "language": "python",
   "name": "python3"
  },
  "language_info": {
   "codemirror_mode": {
    "name": "ipython",
    "version": 3
   },
   "file_extension": ".py",
   "mimetype": "text/x-python",
   "name": "python",
   "nbconvert_exporter": "python",
   "pygments_lexer": "ipython3"
  }
 },
 "nbformat": 4,
 "nbformat_minor": 5
}
