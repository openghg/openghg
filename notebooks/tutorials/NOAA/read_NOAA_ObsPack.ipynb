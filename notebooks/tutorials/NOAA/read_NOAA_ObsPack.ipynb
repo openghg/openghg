{
 "cells": [
  {
   "cell_type": "code",
   "execution_count": null,
   "id": "opposite-tiffany",
   "metadata": {},
   "outputs": [],
   "source": [
    "import tempfile\n",
    "import os\n",
    "from pathlib import Path\n",
    "\n",
    "from openghg.modules import ObsSurface\n",
    "from openghg.localclient import get_obs_surface"
   ]
  },
  {
   "cell_type": "markdown",
   "id": "massive-activation",
   "metadata": {},
   "source": [
    "### Note: to use this notebook you'll need to install OpenGHG from the `devel` branch."
   ]
  },
  {
   "cell_type": "markdown",
   "id": "colonial-snake",
   "metadata": {},
   "source": [
    "First we need to set the environment variable to tell OpenGHG where to put our object store. Here we either create a folder in our home directory or use a temporary folder but you can place the object store anywhere you like."
   ]
  },
  {
   "cell_type": "code",
   "execution_count": null,
   "id": "clinical-kennedy",
   "metadata": {},
   "outputs": [],
   "source": [
    "home_store = str(Path.home() / \"openghg_objectstore\")\n",
    "# tmp_store = \"/tmp/object_store\"\n",
    "\n",
    "os.environ[\"OPENGHG_PATH\"] =  home_store"
   ]
  },
  {
   "cell_type": "markdown",
   "id": "green-fossil",
   "metadata": {},
   "source": [
    "First we need to read some data into the OpenGHG object store. Here we read in a couple of files that are in the latest NOAA ObsPack package."
   ]
  },
  {
   "cell_type": "code",
   "execution_count": null,
   "id": "advance-jason",
   "metadata": {},
   "outputs": [],
   "source": [
    "fp = \"ch4_wgc_tower-insitu_1_allvalid-483magl.nc\"\n",
    "res = ObsSurface.read_file(filepath=fp, data_type=\"NOAA\", site=\"wgc\", \n",
    "                           network=\"NOAA\", inlet=\"483m\", measurement_type=\"insitu\")\n",
    "res"
   ]
  },
  {
   "cell_type": "code",
   "execution_count": null,
   "id": "antique-maryland",
   "metadata": {},
   "outputs": [],
   "source": [
    "fp = \"ch4_nat_surface-flask_1_representative.nc\"\n",
    "res = ObsSurface.read_file(filepath=fp, data_type=\"NOAA\", site=\"nat\", \n",
    "                           network=\"NOAA\", inlet=\"flask\", measurement_type=\"flask\")\n",
    "res"
   ]
  },
  {
   "cell_type": "markdown",
   "id": "authentic-seating",
   "metadata": {},
   "source": [
    "Then we can retrieve the data from the object store using the `get_obs_surface` function."
   ]
  },
  {
   "cell_type": "code",
   "execution_count": null,
   "id": "unexpected-glass",
   "metadata": {},
   "outputs": [],
   "source": [
    "wgc_data = get_obs_surface(site=\"wgc\", species=\"ch4\")\n",
    "wgc_data"
   ]
  },
  {
   "cell_type": "code",
   "execution_count": null,
   "id": "generous-oakland",
   "metadata": {},
   "outputs": [],
   "source": [
    "nat_data = get_obs_surface(site=\"nat\", species=\"ch4\")\n",
    "nat_data"
   ]
  }
 ],
 "metadata": {
  "kernelspec": {
   "display_name": "Python 3",
   "language": "python",
   "name": "python3"
  },
  "language_info": {
   "codemirror_mode": {
    "name": "ipython",
    "version": 3
   },
   "file_extension": ".py",
   "mimetype": "text/x-python",
   "name": "python",
   "nbconvert_exporter": "python",
   "pygments_lexer": "ipython3"
  }
 },
 "nbformat": 4,
 "nbformat_minor": 5
}
