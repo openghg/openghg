{
 "cells": [
  {
   "cell_type": "markdown",
   "id": "c50f5cfb",
   "metadata": {},
   "source": [
    "# Adding observation data\n",
    "\n",
    "This tutorial demonstrates how OpenGHG can be used to process new measurement data, search the data present and to retrieve this for analysis and visualisation."
   ]
  },
  {
   "cell_type": "markdown",
   "id": "70b79d3f",
   "metadata": {},
   "source": [
    "## 0. Using the tutorial object store\n",
    "\n",
    "To avoid adding the example data we use in this tutorial to your normal object store, we need to tell OpenGHG to use a separate sandboxed object store that we'll call the tutorial store. To do this we use the `use_tutorial_store` function from `openghg.tutorial`. This sets the `OPENGHG_TUT_STORE` environment variable for this session and won't affect your use of OpenGHG outside of this tutorial."
   ]
  },
  {
   "cell_type": "code",
   "execution_count": null,
   "id": "fb5255cf",
   "metadata": {},
   "outputs": [],
   "source": [
    "from openghg.tutorial import use_tutorial_store\n",
    "\n",
    "use_tutorial_store()"
   ]
  },
  {
   "cell_type": "markdown",
   "id": "7047988c",
   "metadata": {},
   "source": [
    "## 1. Adding and standardising data"
   ]
  },
  {
   "cell_type": "markdown",
   "id": "63e37f30",
   "metadata": {},
   "source": [
    "### Data types\n",
    "\n",
    "Within OpenGHG there are several data types which can be processed and stored within the object store. This includes data from the AGAGE, DECC, NOAA, LondonGHG, BEAC2ON networks.\n",
    "\n",
    "When uploading a new data file, the data type must be specified alongside some additional details so OpenGHG can recognise the format and the correct standardisation can occur. The details needed will vary by the type of data being uploaded but will often include the measurement reference (e.g. a site code) and the name of any network.\n",
    "\n",
    "For the full list of accepted observation inputs and data types, there is a summary function which can be called:"
   ]
  },
  {
   "cell_type": "code",
   "execution_count": null,
   "id": "375bc35e",
   "metadata": {},
   "outputs": [],
   "source": [
    "from openghg.standardise import summary_source_formats\n",
    "\n",
    "summary = summary_source_formats()\n",
    "\n",
    "## UNCOMMENT THIS CODE TO SHOW ALL ENTRIES\n",
    "# import pandas as pd; pd.set_option('display.max_rows', None)\n",
    "\n",
    "summary"
   ]
  },
  {
   "cell_type": "markdown",
   "id": "7f65c0f5",
   "metadata": {},
   "source": [
    "Note: there may be multiple data types applicable for a give site. This is can be dependent on various factors including the instrument type used to measure the data e.g. for Tacolneston (\"TAC\"):"
   ]
  },
  {
   "cell_type": "code",
   "execution_count": null,
   "id": "30ca3a1f",
   "metadata": {},
   "outputs": [],
   "source": [
    "summary[summary[\"Site code\"] == \"TAC\"]"
   ]
  },
  {
   "cell_type": "markdown",
   "id": "98aa17f1",
   "metadata": {},
   "source": [
    "### DECC network\n",
    "\n",
    "We will start by adding data to the object store from a surface site within the DECC network. Here we have accessed a subset of data from the Tacolneston site (site code \"TAC\") in the UK."
   ]
  },
  {
   "cell_type": "code",
   "execution_count": null,
   "id": "e612142a",
   "metadata": {},
   "outputs": [],
   "source": [
    "from openghg.tutorial import retrieve_example_data\n",
    "\n",
    "data_url = \"https://github.com/openghg/example_data/raw/main/timeseries/tac_example.tar.gz\"\n",
    "\n",
    "tac_data = retrieve_example_data(url=data_url)"
   ]
  },
  {
   "cell_type": "markdown",
   "id": "0dec96e3",
   "metadata": {},
   "source": [
    "As this data is measured in-situ, this is classed as a surface site and we need to use the `ObsSurface` class to interpret this data. We can pass our list of files to the `read_file` method associated within the `ObsSurface` class, also providing details on:\n",
    " - site code - `\"TAC\"` for Tacolneston\n",
    " - type of data we want to process, known as the data type - `\"CRDS\"`\n",
    " - network - `\"DECC\"`\n",
    "\n",
    "This is shown below:"
   ]
  },
  {
   "cell_type": "code",
   "execution_count": null,
   "id": "a96a7000",
   "metadata": {},
   "outputs": [],
   "source": [
    "from openghg.standardise import standardise_surface\n",
    "\n",
    "decc_results = standardise_surface(filepaths=tac_data, source_format=\"CRDS\", site=\"TAC\", network=\"DECC\")"
   ]
  },
  {
   "cell_type": "code",
   "execution_count": null,
   "id": "f3b213ff",
   "metadata": {},
   "outputs": [],
   "source": [
    "print(decc_results)"
   ]
  },
  {
   "cell_type": "markdown",
   "id": "7940cddb",
   "metadata": {},
   "source": [
    "Here this extracts the data (and metadata) from the supplied files, standardises them and adds these to our created object store.\n",
    "\n",
    "The returned `decc_results` will give us a dictionary of how the data has been stored. The data itself may have been split into different entries, each one stored with a unique ID (UUID). Each entry is known as a *Datasource* (see below for a note on Datasources). The `decc_results` output includes details of the processed data and tells us that the data has been stored correctly. This will also tell us if any errors have been encountered when trying to access and standardise this data."
   ]
  },
  {
   "cell_type": "markdown",
   "id": "d458023c",
   "metadata": {},
   "source": [
    "### AGAGE data\n",
    "\n",
    "Another data type which can be added is data from the AGAGE network. The functions that process the AGAGE data expect data to have an accompanying precisions file. For each data file we create a tuple with the data filename and the precisions filename. *Note: A simpler method of uploading these file types is planned.*"
   ]
  },
  {
   "cell_type": "markdown",
   "id": "68d3a5eb",
   "metadata": {},
   "source": [
    "We can now retrieve the example data for Capegrim as we did above"
   ]
  },
  {
   "cell_type": "code",
   "execution_count": null,
   "id": "ea4aca32",
   "metadata": {},
   "outputs": [],
   "source": [
    "cgo_url = \"https://github.com/openghg/example_data/raw/main/timeseries/capegrim_example.tar.gz\""
   ]
  },
  {
   "cell_type": "code",
   "execution_count": null,
   "id": "43832076",
   "metadata": {},
   "outputs": [],
   "source": [
    "capegrim_data = retrieve_example_data(url=cgo_url)"
   ]
  },
  {
   "cell_type": "code",
   "execution_count": null,
   "id": "3b5e479c",
   "metadata": {},
   "outputs": [],
   "source": [
    "capegrim_data"
   ]
  },
  {
   "cell_type": "markdown",
   "id": "8ac02910",
   "metadata": {},
   "source": [
    "We must create a `tuple` associated with each data file to link this to a precision file:\n",
    "\n",
    "```python\n",
    "list_of_tuples = [(data1_filepath, precision1_filepath), (data2_filepath, precision2_filepath), ...]\n",
    "```"
   ]
  },
  {
   "cell_type": "code",
   "execution_count": null,
   "id": "93137d6f",
   "metadata": {},
   "outputs": [],
   "source": [
    "capegrim_data.sort()\n",
    "capegrim_tuple = (capegrim_data[0], capegrim_data[1])"
   ]
  },
  {
   "cell_type": "markdown",
   "id": "43e88f12",
   "metadata": {},
   "source": [
    "The data being uploaded here is from the Cape Grim station in Australia, site code \"CGO\"."
   ]
  },
  {
   "cell_type": "markdown",
   "id": "694c6f79",
   "metadata": {},
   "source": [
    "We can add these files to the object store in the same way as the DECC data by including the right keywords:\n",
    " - site code - `\"CGO\"` for Cape Grim\n",
    " - data type - `\"GCWERKS\"`\n",
    " - network - `\"AGAGE\"`"
   ]
  },
  {
   "cell_type": "code",
   "execution_count": null,
   "id": "6e454bc8",
   "metadata": {},
   "outputs": [],
   "source": [
    "agage_results = standardise_surface(filepaths=capegrim_tuple, source_format=\"GCWERKS\", site=\"CGO\",\n",
    "                              network=\"AGAGE\", instrument=\"medusa\")"
   ]
  },
  {
   "cell_type": "markdown",
   "id": "aae9980f",
   "metadata": {},
   "source": [
    "When viewing `agage_results` there will be a large number of Datasource UUIDs shown due to the large number of gases in each data file"
   ]
  },
  {
   "cell_type": "code",
   "execution_count": null,
   "id": "50866e96",
   "metadata": {},
   "outputs": [],
   "source": [
    "agage_results"
   ]
  },
  {
   "cell_type": "markdown",
   "id": "823582d0",
   "metadata": {},
   "source": [
    "#### A note on Datasources\n",
    "\n",
    "Datasources are objects that are stored in the object store (++add link to object store notes++) that hold the data and metadata associated with each measurement we upload to the platform.\n",
    "\n",
    "For example, if we upload a file that contains readings for three gas species from a single site at a specific inlet height OpenGHG    will assign this data to three different Datasources, one for each species. Metadata such as the site, inlet height, species, network etc are stored alongside the measurements for easy searching.\n",
    "\n",
    "Datasources can also handle multiple versions of data from a single site, so if scales or other factors change multiple versions may be stored for easy future comparison."
   ]
  },
  {
   "cell_type": "markdown",
   "id": "f1f4ae4f",
   "metadata": {},
   "source": [
    "## 3. Searching for data"
   ]
  },
  {
   "cell_type": "markdown",
   "id": "b66221c7",
   "metadata": {},
   "source": [
    "### Searching the object store"
   ]
  },
  {
   "cell_type": "markdown",
   "id": "91214a8d",
   "metadata": {},
   "source": [
    "We can search the object store by property using the `search_surface(...)` function.\n",
    "\n",
    "For example we can find all sites which have measurements for carbon tetrafluoride (\"cf4\") using the `species` keyword:"
   ]
  },
  {
   "cell_type": "code",
   "execution_count": null,
   "id": "6d486ca1",
   "metadata": {},
   "outputs": [],
   "source": [
    "from openghg.retrieve import search_surface\n",
    "\n",
    "cfc_results = search_surface(species=\"cfc11\")\n",
    "cfc_results"
   ]
  },
  {
   "cell_type": "markdown",
   "id": "3aa68978",
   "metadata": {},
   "source": [
    "We could also look for details of all the data measured at the Billsdale (\"BSD\") site using the `site` keyword:"
   ]
  },
  {
   "cell_type": "code",
   "execution_count": null,
   "id": "3e31b5f5",
   "metadata": {},
   "outputs": [],
   "source": [
    "tac_results = search_surface(site=\"tac\")\n",
    "tac_results"
   ]
  },
  {
   "cell_type": "code",
   "execution_count": null,
   "id": "17e23eff",
   "metadata": {},
   "outputs": [],
   "source": [
    "tac_results.results"
   ]
  },
  {
   "cell_type": "markdown",
   "id": "b80e1f1e",
   "metadata": {},
   "source": [
    "For this site you can see this contains details of each of the species as well as the inlet heights these were measured at."
   ]
  },
  {
   "cell_type": "markdown",
   "id": "7389b7fc",
   "metadata": {},
   "source": [
    "### Quickly retrieve data"
   ]
  },
  {
   "cell_type": "markdown",
   "id": "be24351e",
   "metadata": {},
   "source": [
    "Say we want to retrieve all the `co2` data from Tacolneston, we can perform perform a search and expect a [`SearchResults`](https://docs.openghg.org/api/api_dataobjects.html#openghg.dataobjects.SearchResult) object to be returned. If no results are found `None` is returned."
   ]
  },
  {
   "cell_type": "code",
   "execution_count": null,
   "id": "f69def6e",
   "metadata": {},
   "outputs": [],
   "source": [
    "results = search_surface(site=\"tac\", species=\"co2\")"
   ]
  },
  {
   "cell_type": "code",
   "execution_count": null,
   "id": "d856d581",
   "metadata": {},
   "outputs": [],
   "source": [
    "results.results"
   ]
  },
  {
   "cell_type": "markdown",
   "id": "7ac6818f",
   "metadata": {},
   "source": [
    "We can retrive either some or all of the data easily using the `retrieve` function."
   ]
  },
  {
   "cell_type": "code",
   "execution_count": null,
   "id": "fb0b1488",
   "metadata": {},
   "outputs": [],
   "source": [
    "inlet_54m_data = results.retrieve(inlet=\"54m\")\n",
    "inlet_54m_data"
   ]
  },
  {
   "cell_type": "markdown",
   "id": "3af68ecd",
   "metadata": {},
   "source": [
    "Or we can retrieve all of the data and get a list of `ObsData` objects."
   ]
  },
  {
   "cell_type": "code",
   "execution_count": null,
   "id": "67d4eb8e",
   "metadata": {},
   "outputs": [],
   "source": [
    "all_co2_data = results.retrieve_all()"
   ]
  },
  {
   "cell_type": "code",
   "execution_count": null,
   "id": "365ddd22",
   "metadata": {},
   "outputs": [],
   "source": [
    "all_co2_data"
   ]
  },
  {
   "cell_type": "markdown",
   "id": "6e60d6e4",
   "metadata": {},
   "source": [
    "## 4. Retrieving data"
   ]
  },
  {
   "cell_type": "markdown",
   "id": "35097277",
   "metadata": {},
   "source": [
    "To retrieve the standardised data from the object store there are several functions we can use which depend on the type of data we want to access.\n",
    "\n",
    "To access the surface data we have added so far we can use the `get_obs_surface` function and pass keywords for the site code, species and inlet height to retrieve our data.\n",
    "\n",
    "In this case we want to extract the carbon dioxide (\"co2\") data from the Tacolneston data (\"TAC\") site measured at the \"185m\" inlet:"
   ]
  },
  {
   "cell_type": "code",
   "execution_count": null,
   "id": "738726b0",
   "metadata": {},
   "outputs": [],
   "source": [
    "from openghg.retrieve import get_obs_surface\n",
    "\n",
    "co2_data = get_obs_surface(site=\"tac\", species=\"co2\", inlet=\"185m\")"
   ]
  },
  {
   "cell_type": "markdown",
   "id": "0cb66e55",
   "metadata": {},
   "source": [
    "If we view our returned `obs_data` variable this will contain:\n",
    "\n",
    " - `data` - The standardised data (accessed using e.g. `obs_data.data`). This is returned as an [xarray Dataset](https://xarray.pydata.org/en/stable/generated/xarray.Dataset.html).\n",
    " - `metadata` - The associated metadata (accessed using e.g. `obs_data.metadata`)."
   ]
  },
  {
   "cell_type": "code",
   "execution_count": null,
   "id": "b394dd28",
   "metadata": {},
   "outputs": [],
   "source": [
    "co2_data"
   ]
  },
  {
   "cell_type": "markdown",
   "id": "baeb31ce",
   "metadata": {},
   "source": [
    "We can now make a simple plot using the `plot_timeseries` method of the `ObsData` object.\n",
    "\n",
    "> **_NOTE:_**  the plot created below may not show up on the online documentation version of this notebook."
   ]
  },
  {
   "cell_type": "code",
   "execution_count": null,
   "id": "214a6460",
   "metadata": {},
   "outputs": [],
   "source": [
    "co2_data.plot_timeseries()"
   ]
  },
  {
   "cell_type": "markdown",
   "id": "9f46c83f",
   "metadata": {},
   "source": [
    "You can also pass any of `title`, `xlabel`, `ylabel` and `units` to the `plot_timeseries` function to modify the labels."
   ]
  },
  {
   "cell_type": "markdown",
   "id": "694aecf3",
   "metadata": {},
   "source": [
    "## 5. Cleanup"
   ]
  },
  {
   "cell_type": "markdown",
   "id": "419cdc77",
   "metadata": {},
   "source": [
    "If you're finished with the data in this tutorial you can cleanup the tutorial object store using the `clear_tutorial_store` function."
   ]
  },
  {
   "cell_type": "code",
   "execution_count": null,
   "id": "8b5fe71e",
   "metadata": {},
   "outputs": [],
   "source": [
    "from openghg.tutorial import clear_tutorial_store"
   ]
  },
  {
   "cell_type": "code",
   "execution_count": null,
   "id": "8fcd92e9",
   "metadata": {},
   "outputs": [],
   "source": [
    "clear_tutorial_store()"
   ]
  }
 ],
 "metadata": {
  "jupytext": {
   "formats": "ipynb,md:myst"
  },
  "kernelspec": {
   "display_name": "Python 3 (ipykernel)",
   "language": "python",
   "name": "python3"
  },
  "language_info": {
   "codemirror_mode": {
    "name": "ipython",
    "version": 3
   },
   "file_extension": ".py",
   "mimetype": "text/x-python",
   "name": "python",
   "nbconvert_exporter": "python",
   "pygments_lexer": "ipython3",
   "version": "3.9.15"
  }
 },
 "nbformat": 4,
 "nbformat_minor": 5
}
