{
 "cells": [
  {
   "cell_type": "markdown",
   "id": "fcae9aa0",
   "metadata": {},
   "source": [
    "# Workflow 5: Searching and plotting\n",
    "\n",
    "In this short tutorial we'll show how to retrieve some data and create a simple plot using one of our plotting functions."
   ]
  },
  {
   "cell_type": "markdown",
   "id": "4cabec19",
   "metadata": {},
   "source": [
    "As in the [previous tutorial](1_Adding_observation_data.ipynb), we will start by setting up our temporary object store for our data. If you've already create your own local object store you can skip the next few steps and move onto the **Searching** section."
   ]
  },
  {
   "cell_type": "code",
   "execution_count": null,
   "id": "7fe5d713",
   "metadata": {},
   "outputs": [],
   "source": [
    "import os\n",
    "import tempfile\n",
    "\n",
    "tmp_dir = tempfile.TemporaryDirectory()\n",
    "os.environ[\"OPENGHG_PATH\"] = tmp_dir.name   # temporary directory"
   ]
  },
  {
   "cell_type": "code",
   "execution_count": null,
   "id": "6afd33a8",
   "metadata": {},
   "outputs": [],
   "source": [
    "from openghg.util import retrieve_example_data\n",
    "from openghg.standardise import standardise_surface\n",
    "\n",
    "tac_data = retrieve_example_data(path=\"timeseries/tac_example.tar.gz\")\n",
    "bsd_data = retrieve_example_data(path=\"timeseries/bsd_example.tar.gz\")"
   ]
  },
  {
   "cell_type": "code",
   "execution_count": null,
   "id": "33ab7209",
   "metadata": {},
   "outputs": [],
   "source": [
    "standardise_surface(filepaths=tac_data, data_type=\"CRDS\", site=\"TAC\", network=\"DECC\")"
   ]
  },
  {
   "cell_type": "code",
   "execution_count": null,
   "id": "4a84a566",
   "metadata": {},
   "outputs": [],
   "source": [
    "standardise_surface(filepaths=bsd_data, data_type=\"CRDS\", site=\"BSD\", network=\"DECC\")"
   ]
  },
  {
   "cell_type": "markdown",
   "id": "add053b6",
   "metadata": {},
   "source": [
    "## Searching"
   ]
  },
  {
   "cell_type": "markdown",
   "id": "f8c22cbc",
   "metadata": {},
   "source": [
    "Let's search for all the methane data from Tacolneston"
   ]
  },
  {
   "cell_type": "code",
   "execution_count": null,
   "id": "b2724ee5",
   "metadata": {},
   "outputs": [],
   "source": [
    "from openghg.retrieve import search_surface\n",
    "\n",
    "ch4_results = search_surface(site=\"tac\", species=\"ch4\")\n",
    "ch4_results"
   ]
  },
  {
   "cell_type": "markdown",
   "id": "48481d0c",
   "metadata": {},
   "source": [
    "If we want to take a look at the data from the 185m inlet we can first retrieve the data from the object store and then create a quick timeseries plot. See the [`SearchResults`](https://docs.openghg.org/api/api_dataobjects.html#openghg.dataobjects.SearchResults) object documentation for more information."
   ]
  },
  {
   "cell_type": "code",
   "execution_count": null,
   "id": "ebd14190",
   "metadata": {},
   "outputs": [],
   "source": [
    "data_185m = ch4_results.retrieve(inlet=\"185m\")"
   ]
  },
  {
   "cell_type": "markdown",
   "id": "92266867",
   "metadata": {},
   "source": [
    "> **_NOTE:_**  the plots created below may not show up on the online documentation version of this notebook."
   ]
  },
  {
   "cell_type": "code",
   "execution_count": null,
   "id": "1decb082",
   "metadata": {},
   "outputs": [],
   "source": [
    "data_185m.plot_timeseries()"
   ]
  },
  {
   "cell_type": "markdown",
   "id": "eb47e9cb",
   "metadata": {},
   "source": [
    "You can make some simple changes to the plot using arguments"
   ]
  },
  {
   "cell_type": "code",
   "execution_count": null,
   "id": "cbcdce52",
   "metadata": {},
   "outputs": [],
   "source": [
    "data_185m.plot_timeseries(title=\"Methane at Tacolneston\", xlabel=\"Time\", ylabel=\"Conc.\", units=\"ppm\")"
   ]
  },
  {
   "cell_type": "markdown",
   "id": "3e13e128",
   "metadata": {},
   "source": [
    "## Plot all the data"
   ]
  },
  {
   "cell_type": "markdown",
   "id": "3dad50ef",
   "metadata": {},
   "source": [
    "We can also retrieve all the data, get a `list` of [`ObsData`](https://docs.openghg.org/api/api_dataobjects.html#openghg.dataobjects.ObsData) objects."
   ]
  },
  {
   "cell_type": "code",
   "execution_count": null,
   "id": "f4b157b3",
   "metadata": {},
   "outputs": [],
   "source": [
    "all_ch4_tac = ch4_results.retrieve_all()"
   ]
  },
  {
   "cell_type": "markdown",
   "id": "1679fb2c",
   "metadata": {},
   "source": [
    "Then we can use the `plot_timeseries` function from the `plotting` submodule to compare measurements from different inlets. This creates a [Plotly](https://plotly.com/python/) plot that should be interactive and and responsive, even with relatively large amounts of data."
   ]
  },
  {
   "cell_type": "code",
   "execution_count": null,
   "id": "257b19ac",
   "metadata": {},
   "outputs": [],
   "source": [
    "from openghg.plotting import plot_timeseries\n",
    "\n",
    "plot_timeseries(data=all_ch4_tac, units=\"ppb\")"
   ]
  },
  {
   "cell_type": "markdown",
   "id": "d905d45c",
   "metadata": {},
   "source": [
    "## Compare different sites"
   ]
  },
  {
   "cell_type": "markdown",
   "id": "7f801744",
   "metadata": {},
   "source": [
    "We can easily compare data from different sites by doing a quick search to see what's available"
   ]
  },
  {
   "cell_type": "code",
   "execution_count": null,
   "id": "bb79ca74",
   "metadata": {},
   "outputs": [],
   "source": [
    "ch4_data = search_surface(species=\"ch4\")"
   ]
  },
  {
   "cell_type": "code",
   "execution_count": null,
   "id": "f7ccea3f",
   "metadata": {},
   "outputs": [],
   "source": [
    "ch4_data"
   ]
  },
  {
   "cell_type": "markdown",
   "id": "73fa0bc5",
   "metadata": {},
   "source": [
    "Then we refine our search to only retrieve the inlets we want"
   ]
  },
  {
   "cell_type": "code",
   "execution_count": null,
   "id": "3bbc14b2",
   "metadata": {},
   "outputs": [],
   "source": [
    "lower_inlets = search_surface(species=\"ch4\", inlet=[\"42m\", \"54m\"])"
   ]
  },
  {
   "cell_type": "code",
   "execution_count": null,
   "id": "01412e2d",
   "metadata": {},
   "outputs": [],
   "source": [
    "lower_inlets"
   ]
  },
  {
   "cell_type": "markdown",
   "id": "e9e5ce14",
   "metadata": {},
   "source": [
    "Then we can retrieve all the data and make a plot."
   ]
  },
  {
   "cell_type": "code",
   "execution_count": null,
   "id": "f2f39fe7",
   "metadata": {},
   "outputs": [],
   "source": [
    "lower_inlet_data = lower_inlets.retrieve_all()"
   ]
  },
  {
   "cell_type": "code",
   "execution_count": null,
   "id": "5f66bd83",
   "metadata": {},
   "outputs": [],
   "source": [
    "plot_timeseries(data=lower_inlet_data, title=\"Comparing CH4 measurements at Tacolneston and Bilsdale\")"
   ]
  },
  {
   "cell_type": "code",
   "execution_count": null,
   "id": "7a29ff2b",
   "metadata": {},
   "outputs": [],
   "source": [
    "tmp_dir.cleanup()"
   ]
  }
 ],
 "metadata": {
  "jupytext": {
   "formats": "ipynb,md:myst"
  },
  "kernelspec": {
   "display_name": "Python 3 (ipykernel)",
   "language": "python",
   "name": "python3"
  },
  "language_info": {
   "codemirror_mode": {
    "name": "ipython",
    "version": 3
   },
   "file_extension": ".py",
   "mimetype": "text/x-python",
   "name": "python",
   "nbconvert_exporter": "python",
   "pygments_lexer": "ipython3",
   "version": "3.9.12"
  }
 },
 "nbformat": 4,
 "nbformat_minor": 5
}
