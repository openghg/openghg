{
 "cells": [
  {
   "cell_type": "markdown",
   "id": "2cd054c5",
   "metadata": {},
   "source": [
    "# Modifying and deleting data"
   ]
  },
  {
   "cell_type": "markdown",
   "id": "cdff4223",
   "metadata": {},
   "source": [
    "Sometimes you might want to modify some metadata after running the data through the standardisation scripts.\n",
    "After the standardisation process the metadata associated with some data can still be edited. This can save\n",
    "time if the data standardisation process is quite time consuming. Data can also be deleted from the object store."
   ]
  },
  {
   "cell_type": "code",
   "execution_count": null,
   "id": "580bb241",
   "metadata": {},
   "outputs": [],
   "source": [
    "from openghg.store import data_handler_lookup\n",
    "from openghg.tutorial import populate_footprint_inert"
   ]
  },
  {
   "cell_type": "markdown",
   "id": "a897ebd2",
   "metadata": {},
   "source": [
    "We'll first add some footprint data to the object store."
   ]
  },
  {
   "cell_type": "code",
   "execution_count": null,
   "id": "510b0174",
   "metadata": {},
   "outputs": [],
   "source": [
    "populate_footprint_inert()"
   ]
  },
  {
   "cell_type": "code",
   "execution_count": null,
   "id": "c605f6bc",
   "metadata": {},
   "outputs": [],
   "source": [
    "result = data_handler_lookup(data_type=\"footprints\", site=\"TAC\", height=\"100m\")"
   ]
  },
  {
   "cell_type": "code",
   "execution_count": null,
   "id": "e69dff32",
   "metadata": {},
   "outputs": [],
   "source": [
    "result.metadata"
   ]
  },
  {
   "cell_type": "markdown",
   "id": "261440c0",
   "metadata": {},
   "source": [
    "We want to update the model name so we'll use the ``update_metadata`` method of the ``DataHandler`` object. To do this we need to take the\n",
    "UUID of the Datasource returned by the ``data_handler_lookup`` function, this is the key of the metadata dictionary."
   ]
  },
  {
   "cell_type": "markdown",
   "id": "6d14c830",
   "metadata": {},
   "source": [
    "> **_NOTE:_**  Each time an object is added to the object store it is assigned a unique id using the Python uuid4 function. This means any UUIDs you see in the documentation won't match those created when you run these tutorials."
   ]
  },
  {
   "cell_type": "markdown",
   "id": "9e222e96",
   "metadata": {},
   "source": [
    "For the purposes of this tutorial we take the first key from the metadata dictionary. We can do this only because we've checked the dictionary and seen that only one key exists. It also means you can run through this notebook and it should work without you having to modify it. But be careful, if the dictionary contains more than one key, running the cell below might not result in the UUID you want. Each time you want to modify the data **copy and paste** the UUID and **double check** it."
   ]
  },
  {
   "cell_type": "code",
   "execution_count": null,
   "id": "40c24021",
   "metadata": {},
   "outputs": [],
   "source": [
    "uuid = next(iter(result.metadata))"
   ]
  },
  {
   "cell_type": "code",
   "execution_count": null,
   "id": "2f1ca5cd",
   "metadata": {},
   "outputs": [],
   "source": [
    "updated = {\"model\": \"new_model\"}\n",
    "\n",
    "result.update_metadata(uuid=uuid, to_update=updated)"
   ]
  },
  {
   "cell_type": "markdown",
   "id": "1042d4b7",
   "metadata": {},
   "source": [
    "When you run `update_metadata` the internal store of metadata for each `Datasource` is updated. If you want to **really** make sure that the metadata in the object store has been updated you can run `refresh`."
   ]
  },
  {
   "cell_type": "code",
   "execution_count": null,
   "id": "2989151b",
   "metadata": {},
   "outputs": [],
   "source": [
    "result.refresh()"
   ]
  },
  {
   "cell_type": "code",
   "execution_count": null,
   "id": "b5bb050b",
   "metadata": {},
   "outputs": [],
   "source": [
    "metadata = result.metadata[uuid]"
   ]
  },
  {
   "cell_type": "markdown",
   "id": "4edb8ef2",
   "metadata": {},
   "source": [
    "And check the model has been changed."
   ]
  },
  {
   "cell_type": "code",
   "execution_count": null,
   "id": "99529533",
   "metadata": {},
   "outputs": [],
   "source": [
    "metadata[\"model\"]"
   ]
  },
  {
   "cell_type": "markdown",
   "id": "bdab3375",
   "metadata": {},
   "source": [
    "## Deleting keys"
   ]
  },
  {
   "cell_type": "markdown",
   "id": "b02c512a",
   "metadata": {},
   "source": [
    "Let's accidentally add too much metadata for the footprint and then delete."
   ]
  },
  {
   "cell_type": "code",
   "execution_count": null,
   "id": "00a65d69",
   "metadata": {},
   "outputs": [],
   "source": [
    "excess_metadata = {\"useless_key\": \"useless_value\"}\n",
    "result.update_metadata(uuid=uuid, to_update=excess_metadata)"
   ]
  },
  {
   "cell_type": "code",
   "execution_count": null,
   "id": "99122ee3",
   "metadata": {},
   "outputs": [],
   "source": [
    "result.metadata[uuid][\"useless_key\"]"
   ]
  },
  {
   "cell_type": "markdown",
   "id": "bb88123e",
   "metadata": {},
   "source": [
    "Oh no! We've added some useless metadata, let's remove it."
   ]
  },
  {
   "cell_type": "code",
   "execution_count": null,
   "id": "2222cf10",
   "metadata": {},
   "outputs": [],
   "source": [
    "to_delete = [\"useless_key\"]\n",
    "result.update_metadata(uuid=uuid, to_delete=to_delete)"
   ]
  },
  {
   "cell_type": "markdown",
   "id": "d29a20a2",
   "metadata": {},
   "source": [
    "And check if the key is in the metadata:"
   ]
  },
  {
   "cell_type": "code",
   "execution_count": null,
   "id": "784a96fe",
   "metadata": {},
   "outputs": [],
   "source": [
    "\"useless_key\" in result.metadata[uuid]"
   ]
  },
  {
   "cell_type": "markdown",
   "id": "b83a37a3",
   "metadata": {},
   "source": [
    "# Restore from backup\n",
    "\n",
    "If you've accidentally pushed some bad metadata you can fix this easily by restoring from backup. Each `DataHandler` object stores a backup of the current metadata each time you run `update_metadata`. Let's add some bad metadata, have a quick look at the backup and then restore it. We'll start with a fresh `DataHandler` object."
   ]
  },
  {
   "cell_type": "code",
   "execution_count": null,
   "id": "d787cf2d",
   "metadata": {},
   "outputs": [],
   "source": [
    "result = data_handler_lookup(data_type=\"footprints\", site=\"TAC\", height=\"100m\")"
   ]
  },
  {
   "cell_type": "code",
   "execution_count": null,
   "id": "5833172d",
   "metadata": {},
   "outputs": [],
   "source": [
    "bad_metadata = {\"domain\": \"neptune\"}"
   ]
  },
  {
   "cell_type": "code",
   "execution_count": null,
   "id": "49159fe4",
   "metadata": {},
   "outputs": [],
   "source": [
    "result.update_metadata(uuid=uuid, to_update=bad_metadata)"
   ]
  },
  {
   "cell_type": "markdown",
   "id": "58c32b4f",
   "metadata": {},
   "source": [
    "Let's check the domain"
   ]
  },
  {
   "cell_type": "code",
   "execution_count": null,
   "id": "d9d0dda1",
   "metadata": {},
   "outputs": [],
   "source": [
    "result.metadata[uuid][\"domain\"]"
   ]
  },
  {
   "cell_type": "markdown",
   "id": "e95b3f44",
   "metadata": {},
   "source": [
    "Using `view_backup` we can check the different versions of metadata we have backed up for each `Datasource`."
   ]
  },
  {
   "cell_type": "code",
   "execution_count": null,
   "id": "3cd95475",
   "metadata": {},
   "outputs": [],
   "source": [
    "result.view_backup()"
   ]
  },
  {
   "cell_type": "markdown",
   "id": "574acd97",
   "metadata": {},
   "source": [
    "To restore the metadata to the previous version we use the `restore` function. This takes the UUID of the datasource and optionally a version string. The default for the version string is `\"latest\"`, which is the version most recently backed up. We'll use the default here."
   ]
  },
  {
   "cell_type": "code",
   "execution_count": null,
   "id": "7d18659a",
   "metadata": {},
   "outputs": [],
   "source": [
    "result.restore(uuid=uuid)"
   ]
  },
  {
   "cell_type": "markdown",
   "id": "4b593fc6",
   "metadata": {},
   "source": [
    "Now we can check the domain again"
   ]
  },
  {
   "cell_type": "code",
   "execution_count": null,
   "id": "f91bb84e",
   "metadata": {},
   "outputs": [],
   "source": [
    "result.metadata[uuid][\"domain\"]"
   ]
  },
  {
   "cell_type": "markdown",
   "id": "71c7a648",
   "metadata": {},
   "source": [
    "To really make sure we can force a refresh of all the metadata from the object store and the `Datasource`."
   ]
  },
  {
   "cell_type": "code",
   "execution_count": null,
   "id": "5a7231bc",
   "metadata": {},
   "outputs": [],
   "source": [
    "result.refresh()"
   ]
  },
  {
   "cell_type": "markdown",
   "id": "cdee8cad",
   "metadata": {},
   "source": [
    "Then check again"
   ]
  },
  {
   "cell_type": "code",
   "execution_count": null,
   "id": "5af7bc53",
   "metadata": {},
   "outputs": [],
   "source": [
    "result.metadata[uuid][\"domain\"]"
   ]
  },
  {
   "cell_type": "markdown",
   "id": "20941c5c",
   "metadata": {},
   "source": [
    "## Multiple backups"
   ]
  },
  {
   "cell_type": "markdown",
   "id": "5231f5e8",
   "metadata": {},
   "source": [
    "The `DataHandler` object will store a backup each time you run `update_metadata`. This means you can restore any version of the metadata since you started editing. Do note that the backups, currently, only exist in memory belonging to the `DataHandler` object."
   ]
  },
  {
   "cell_type": "code",
   "execution_count": null,
   "id": "3407c749",
   "metadata": {},
   "outputs": [],
   "source": [
    "more_metadata = {\"time_period\": \"1m\"}\n",
    "result.update_metadata(uuid=uuid, to_update=more_metadata)"
   ]
  },
  {
   "cell_type": "markdown",
   "id": "c17623a4",
   "metadata": {},
   "source": [
    "We can view a specific metadata backup using the `version` argument. The first version is version 1, here we take a look at the backup made just before we made the update above."
   ]
  },
  {
   "cell_type": "code",
   "execution_count": null,
   "id": "a42f5495",
   "metadata": {},
   "outputs": [],
   "source": [
    "backup_2 = result.view_backup(uuid=uuid, version=2)"
   ]
  },
  {
   "cell_type": "code",
   "execution_count": null,
   "id": "7edfd4ba",
   "metadata": {},
   "outputs": [],
   "source": [
    "backup_2[\"time_period\"]"
   ]
  },
  {
   "cell_type": "markdown",
   "id": "4f4b9414",
   "metadata": {},
   "source": [
    "Say we want to keep some of the changes we've made to the metadata but undo the last one we can restore the last backup. To do this we can pass \"latest\" to the version argument when using `restore`."
   ]
  },
  {
   "cell_type": "code",
   "execution_count": null,
   "id": "cea24f18",
   "metadata": {},
   "outputs": [],
   "source": [
    "result.restore(uuid=uuid, version=\"latest\")"
   ]
  },
  {
   "cell_type": "code",
   "execution_count": null,
   "id": "5d91d0b4",
   "metadata": {},
   "outputs": [],
   "source": [
    "result.metadata[uuid][\"time_period\"]"
   ]
  },
  {
   "cell_type": "markdown",
   "id": "e143e932",
   "metadata": {},
   "source": [
    "We're now back to where we want to be."
   ]
  },
  {
   "cell_type": "markdown",
   "id": "a53f2037",
   "metadata": {},
   "source": [
    "# Deleting data"
   ]
  },
  {
   "cell_type": "markdown",
   "id": "4b648f42",
   "metadata": {},
   "source": [
    "To remove data from the object store we use `data_handler_lookup` again"
   ]
  },
  {
   "cell_type": "code",
   "execution_count": null,
   "id": "90a4203c",
   "metadata": {},
   "outputs": [],
   "source": [
    "result = data_handler_lookup(data_type=\"footprints\", site=\"TAC\", height=\"100m\")"
   ]
  },
  {
   "cell_type": "code",
   "execution_count": null,
   "id": "0e82088b",
   "metadata": {},
   "outputs": [],
   "source": [
    "result.metadata"
   ]
  },
  {
   "cell_type": "markdown",
   "id": "d68281b5",
   "metadata": {},
   "source": [
    "Each key of the metadata dictionary is a Datasource UUID. Please make sure that you **double check the UUID** of the Datasource you want to delete, this operation cannot be undone! Also remember to change the UUID below to the one in your version of the metadata."
   ]
  },
  {
   "cell_type": "code",
   "execution_count": null,
   "id": "586a2395",
   "metadata": {},
   "outputs": [],
   "source": [
    "uuid = \"13fd70dd-e549-4b06-afdb-9ed495552eed\""
   ]
  },
  {
   "cell_type": "code",
   "execution_count": null,
   "id": "d23f9a42",
   "metadata": {},
   "outputs": [],
   "source": [
    "result.delete_datasource(uuid=uuid)"
   ]
  },
  {
   "cell_type": "markdown",
   "id": "40b1c24b",
   "metadata": {},
   "source": [
    "To make sure it's gone let's run the search again"
   ]
  },
  {
   "cell_type": "code",
   "execution_count": null,
   "id": "c6fb2802",
   "metadata": {},
   "outputs": [],
   "source": [
    "result = data_handler_lookup(data_type=\"footprints\", site=\"TAC\", height=\"100m\")"
   ]
  },
  {
   "cell_type": "code",
   "execution_count": null,
   "id": "4484ce1d",
   "metadata": {},
   "outputs": [],
   "source": [
    "result.metadata"
   ]
  },
  {
   "cell_type": "markdown",
   "id": "e3ef3140",
   "metadata": {},
   "source": [
    "An empty dictionary means no results, the deletion worked."
   ]
  }
 ],
 "metadata": {
  "jupytext": {
   "formats": "ipynb,md:myst"
  },
  "kernelspec": {
   "display_name": "Python 3 (ipykernel)",
   "language": "python",
   "name": "python3"
  },
  "language_info": {
   "codemirror_mode": {
    "name": "ipython",
    "version": 3
   },
   "file_extension": ".py",
   "mimetype": "text/x-python",
   "name": "python",
   "nbconvert_exporter": "python",
   "pygments_lexer": "ipython3",
   "version": "3.9.13"
  }
 },
 "nbformat": 4,
 "nbformat_minor": 5
}
