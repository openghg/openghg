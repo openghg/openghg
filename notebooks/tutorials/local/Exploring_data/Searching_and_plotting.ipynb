{
 "cells": [
  {
   "cell_type": "markdown",
   "id": "fcae9aa0",
   "metadata": {},
   "source": [
    "# Searching and plotting\n",
    "\n",
    "In this short tutorial we'll show how to retrieve some data and create a simple plot using one of our plotting functions."
   ]
  },
  {
   "cell_type": "markdown",
   "id": "4cabec19",
   "metadata": {},
   "source": [
    "As in the [previous tutorial](Adding_observation_data.ipynb), we will start by setting up our temporary object store for our data. If you've already create your own local object store you can skip the next few steps and move onto the **Searching** section."
   ]
  },
  {
   "cell_type": "code",
   "execution_count": null,
   "id": "6afd33a8",
   "metadata": {},
   "outputs": [],
   "source": [
    "from openghg.tutorial import populate_surface_data"
   ]
  },
  {
   "cell_type": "code",
   "execution_count": null,
   "id": "ce3e8769",
   "metadata": {},
   "outputs": [],
   "source": [
    "populate_surface_data()"
   ]
  },
  {
   "cell_type": "markdown",
   "id": "add053b6",
   "metadata": {},
   "source": [
    "## Searching"
   ]
  },
  {
   "cell_type": "markdown",
   "id": "f8c22cbc",
   "metadata": {},
   "source": [
    "Let's search for all the methane data from Tacolneston"
   ]
  },
  {
   "cell_type": "code",
   "execution_count": null,
   "id": "2e1f744f",
   "metadata": {},
   "outputs": [],
   "source": [
    "from openghg.retrieve import search_surface\n",
    "\n",
    "ch4_results = search_surface(site=\"tac\", species=\"ch4\")\n",
    "ch4_results"
   ]
  },
  {
   "cell_type": "markdown",
   "id": "e6f91208",
   "metadata": {},
   "source": [
    "Let's take a look at the results property which is a pandas DataFrame object."
   ]
  },
  {
   "cell_type": "code",
   "execution_count": null,
   "id": "9a1185fc",
   "metadata": {},
   "outputs": [],
   "source": [
    "ch4_results.results"
   ]
  },
  {
   "cell_type": "markdown",
   "id": "48481d0c",
   "metadata": {},
   "source": [
    "If we want to take a look at the data from the 185m inlet we can first retrieve the data from the object store and then create a quick timeseries plot. See the [`SearchResults`](https://docs.openghg.org/api/api_dataobjects.html#openghg.dataobjects.SearchResults) object documentation for more information."
   ]
  },
  {
   "cell_type": "code",
   "execution_count": null,
   "id": "ebd14190",
   "metadata": {},
   "outputs": [],
   "source": [
    "data_185m = ch4_results.retrieve(inlet=\"185m\")"
   ]
  },
  {
   "cell_type": "markdown",
   "id": "92266867",
   "metadata": {},
   "source": [
    "> **_NOTE:_**  the plots created below may not show up on the online documentation version of this notebook."
   ]
  },
  {
   "cell_type": "code",
   "execution_count": null,
   "id": "7f95701e",
   "metadata": {},
   "outputs": [],
   "source": [
    "data_185m.plot_timeseries()"
   ]
  },
  {
   "cell_type": "markdown",
   "id": "e31d16b7",
   "metadata": {},
   "source": [
    "You can make some simple changes to the plot using arguments"
   ]
  },
  {
   "cell_type": "code",
   "execution_count": null,
   "id": "1decb082",
   "metadata": {},
   "outputs": [],
   "source": [
    "data_185m.plot_timeseries(title=\"Methane at Tacolneston\", xlabel=\"Time\", ylabel=\"Conc.\", units=\"ppm\")"
   ]
  },
  {
   "cell_type": "markdown",
   "id": "3e13e128",
   "metadata": {},
   "source": [
    "## Plot all the data"
   ]
  },
  {
   "cell_type": "markdown",
   "id": "3dad50ef",
   "metadata": {},
   "source": [
    "We can also retrieve all the data, get a `list` of [`ObsData`](https://docs.openghg.org/api/api_dataobjects.html#openghg.dataobjects.ObsData) objects."
   ]
  },
  {
   "cell_type": "code",
   "execution_count": null,
   "id": "f4b157b3",
   "metadata": {},
   "outputs": [],
   "source": [
    "all_ch4_tac = ch4_results.retrieve_all()"
   ]
  },
  {
   "cell_type": "markdown",
   "id": "1679fb2c",
   "metadata": {},
   "source": [
    "Then we can use the `plot_timeseries` function from the `plotting` submodule to compare measurements from different inlets. This creates a [Plotly](https://plotly.com/python/) plot that should be interactive and and responsive, even with relatively large amounts of data."
   ]
  },
  {
   "cell_type": "code",
   "execution_count": null,
   "id": "257b19ac",
   "metadata": {},
   "outputs": [],
   "source": [
    "from openghg.plotting import plot_timeseries\n",
    "\n",
    "plot_timeseries(data=all_ch4_tac, units=\"ppb\")"
   ]
  },
  {
   "cell_type": "markdown",
   "id": "d905d45c",
   "metadata": {},
   "source": [
    "## Compare different sites"
   ]
  },
  {
   "cell_type": "markdown",
   "id": "7f801744",
   "metadata": {},
   "source": [
    "We can easily compare data from different sites by doing a quick search to see what's available"
   ]
  },
  {
   "cell_type": "code",
   "execution_count": null,
   "id": "bb79ca74",
   "metadata": {},
   "outputs": [],
   "source": [
    "ch4_data = search_surface(species=\"ch4\")"
   ]
  },
  {
   "cell_type": "code",
   "execution_count": null,
   "id": "f7ccea3f",
   "metadata": {},
   "outputs": [],
   "source": [
    "ch4_data"
   ]
  },
  {
   "cell_type": "markdown",
   "id": "73fa0bc5",
   "metadata": {},
   "source": [
    "Then we refine our search to only retrieve the inlets we want"
   ]
  },
  {
   "cell_type": "code",
   "execution_count": null,
   "id": "d3fb1cd4",
   "metadata": {},
   "outputs": [],
   "source": [
    "ch4_data.results"
   ]
  },
  {
   "cell_type": "code",
   "execution_count": null,
   "id": "f6c0f0d0",
   "metadata": {},
   "outputs": [],
   "source": [
    "lower_inlets = search_surface(species=\"ch4\", inlet=[\"42m\", \"54m\"])"
   ]
  },
  {
   "cell_type": "code",
   "execution_count": null,
   "id": "8709acd2",
   "metadata": {},
   "outputs": [],
   "source": [
    "lower_inlets"
   ]
  },
  {
   "cell_type": "markdown",
   "id": "c587b1b1",
   "metadata": {},
   "source": [
    "Then we can retrieve all the data and make a plot."
   ]
  },
  {
   "cell_type": "code",
   "execution_count": null,
   "id": "3bbc14b2",
   "metadata": {},
   "outputs": [],
   "source": [
    "lower_inlet_data = lower_inlets.retrieve_all()"
   ]
  },
  {
   "cell_type": "code",
   "execution_count": null,
   "id": "5f66bd83",
   "metadata": {},
   "outputs": [],
   "source": [
    "plot_timeseries(data=lower_inlet_data, title=\"Comparing CH4 measurements at Tacolneston and Bilsdale\")"
   ]
  },
  {
   "cell_type": "markdown",
   "id": "175a6128",
   "metadata": {},
   "source": [
    "You can also search for different data types, say we want to find surface measurement data and emissions data at the same time. We can do that with the more generic `search` function."
   ]
  },
  {
   "cell_type": "markdown",
   "id": "57ddf99f",
   "metadata": {},
   "source": [
    "We need to first load in some emissions data"
   ]
  },
  {
   "cell_type": "code",
   "execution_count": null,
   "id": "2cde46f5",
   "metadata": {},
   "outputs": [],
   "source": [
    "from openghg.tutorial import populate_flux_data"
   ]
  },
  {
   "cell_type": "code",
   "execution_count": null,
   "id": "173e5457",
   "metadata": {},
   "outputs": [],
   "source": [
    "populate_flux_data()"
   ]
  },
  {
   "cell_type": "markdown",
   "id": "a7a18657",
   "metadata": {},
   "source": [
    "To search across different types we can use the more generic `search` function."
   ]
  },
  {
   "cell_type": "code",
   "execution_count": null,
   "id": "5065bc69",
   "metadata": {},
   "outputs": [],
   "source": [
    "from openghg.retrieve import search"
   ]
  },
  {
   "cell_type": "code",
   "execution_count": null,
   "id": "36790f56",
   "metadata": {},
   "outputs": [],
   "source": [
    "results = search(species=\"ch4\", data_type=[\"surface\", \"emissions\"])"
   ]
  },
  {
   "cell_type": "code",
   "execution_count": null,
   "id": "77c457a1",
   "metadata": {},
   "outputs": [],
   "source": [
    "results.results"
   ]
  }
 ],
 "metadata": {
  "jupytext": {
   "formats": "ipynb,md:myst"
  },
  "kernelspec": {
   "display_name": "Python 3 (ipykernel)",
   "language": "python",
   "name": "python3"
  },
  "language_info": {
   "codemirror_mode": {
    "name": "ipython",
    "version": 3
   },
   "file_extension": ".py",
   "mimetype": "text/x-python",
   "name": "python",
   "nbconvert_exporter": "python",
   "pygments_lexer": "ipython3",
   "version": "3.9.15"
  },
  "vscode": {
   "interpreter": {
    "hash": "c6b20a886e078e7aebafdab945aabc82a64001f5e141a43f69abbf99bdd12a2b"
   }
  }
 },
 "nbformat": 4,
 "nbformat_minor": 5
}
