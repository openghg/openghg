{
 "cells": [
  {
   "cell_type": "markdown",
   "metadata": {},
   "source": [
    "# Workflow 2: comparing observations to emissions\n",
    "\n",
    "In addition to observation files, ancillary data can also be added to an openghg object store which can be used to perform analysis.\n",
    "\n",
    "At the moment, the accepted files include:\n",
    " - Footprints - regional outputs from an LPDM model (e.g. NAME)\n",
    " - Emissions/Flux - estimates of species emissions within a region\n",
    " - *[+Boundary conditions - to be added+]*\n",
    " - Global CTM output (e.g. GEOSChem)\n",
    "\n",
    "These inputs must adhere to an expected format and are expected to minimally contain a fixed set of inputs.\n",
    "\n",
    "*At the moment, the expected format for these files is created through standard methods from within the ACRG repository.*\n",
    "\n",
    "> **_NOTE:_**  Plots created within this tutorial may not show up on the online documentation version of this notebook."
   ]
  },
  {
   "cell_type": "markdown",
   "metadata": {},
   "source": [
    "## 1. Creating a model scenario\n",
    "\n",
    "We can start to make comparisons between model data, such as bottom-up inventories, and our observations. This analysis is based around a `ModelScenario` class which can be created to link together observation, footprint and emissions data.\n",
    "\n",
    "*Boundary conditions and other model data will be added soon*\n",
    "\n",
    "Above we loaded observation data from the Tacolneston site into the object store. We also added an associated footprint (sensitivity map) and anthropogenic emissions maps both for a domain defined over Europe.\n",
    "\n",
    "To access and link this data we can set up our `ModelScenario` instance using a similiar set of keywords. In this case we have also limited ourselves to a date range:"
   ]
  },
  {
   "cell_type": "code",
   "execution_count": null,
   "metadata": {},
   "outputs": [],
   "source": [
    "from openghg.analyse import ModelScenario\n",
    "\n",
    "scenario = ModelScenario(site=\"tac\", \n",
    "                         inlet=\"100m\", \n",
    "                         domain=\"EUROPE\", \n",
    "                         species=\"ch4\",\n",
    "                         source=\"waste\", \n",
    "                         start_date=\"2016-07-01\",\n",
    "                         end_date=\"2016-08-01\")"
   ]
  },
  {
   "cell_type": "markdown",
   "metadata": {},
   "source": [
    "Using these keywords, this will search the object store and attempt to collect and attach observation, footprint and flux data. This collected data will be attached to your created `ModelScenario`. For the observations this will be stored as the `ModelScenario.obs` attribute. This will be an `ObsData` object which contains metadata and data for your observations:"
   ]
  },
  {
   "cell_type": "code",
   "execution_count": null,
   "metadata": {},
   "outputs": [],
   "source": [
    "scenario.obs"
   ]
  },
  {
   "cell_type": "markdown",
   "metadata": {},
   "source": [
    "To access the undelying xarray Dataset containing the observation data use `ModelScenario.obs.data`:"
   ]
  },
  {
   "cell_type": "code",
   "execution_count": null,
   "metadata": {},
   "outputs": [],
   "source": [
    "ds = scenario.obs.data"
   ]
  },
  {
   "cell_type": "markdown",
   "metadata": {},
   "source": [
    "The `ModelScenario.footprint` attribute contains the linked FootprintData (again, use `.data` to extract xarray Dataset):"
   ]
  },
  {
   "cell_type": "code",
   "execution_count": null,
   "metadata": {},
   "outputs": [],
   "source": [
    "scenario.footprint"
   ]
  },
  {
   "cell_type": "markdown",
   "metadata": {},
   "source": [
    "And the `ModelScenario.fluxes` attribute can be used to access the FluxData. Note that for `ModelScenario.fluxes` this can contain multiple flux sources and so this is stored as a dictionary linked to the source name:"
   ]
  },
  {
   "cell_type": "code",
   "execution_count": null,
   "metadata": {},
   "outputs": [],
   "source": [
    "scenario.fluxes"
   ]
  },
  {
   "cell_type": "markdown",
   "metadata": {},
   "source": [
    "An interactive plot for the linked observation data can be plotted using the `ModelScenario.plot_timeseries()` method:"
   ]
  },
  {
   "cell_type": "code",
   "execution_count": null,
   "metadata": {},
   "outputs": [],
   "source": [
    "scenario.plot_timeseries()"
   ]
  },
  {
   "cell_type": "markdown",
   "metadata": {},
   "source": [
    "You can also set up your own searches and add this data directly."
   ]
  },
  {
   "cell_type": "code",
   "execution_count": null,
   "metadata": {},
   "outputs": [],
   "source": [
    "from openghg.retrieve import get_obs_surface, get_footprint, get_flux\n",
    "\n",
    "# Extract obs results from object store\n",
    "obs_results = get_obs_surface(site=site,\n",
    "                              species=species,\n",
    "                              inlet=height,\n",
    "                              start_date=\"2016-07-01\",\n",
    "                              end_date=\"2016-08-01\")\n",
    "\n",
    "# Extract footprint results from object store\n",
    "footprint_results = get_footprint(site=site,\n",
    "                                  domain=domain,\n",
    "                                  height=height,\n",
    "                                  start_date=\"2016-07-01\",\n",
    "                                  end_date=\"2016-08-01\")\n",
    "\n",
    "# Extract flux results from object store\n",
    "flux_results = get_flux(species=species,\n",
    "                        domain=domain,\n",
    "                        source=source_waste)"
   ]
  },
  {
   "cell_type": "code",
   "execution_count": null,
   "metadata": {},
   "outputs": [],
   "source": [
    "scenario_direct = ModelScenario(obs=obs_results, footprint=footprint_results, flux=flux_results)"
   ]
  },
  {
   "cell_type": "markdown",
   "metadata": {},
   "source": [
    "*You can create your own input objects directly and add these in the same way. This allows you to bypass the object store for experimental examples. At the moment these inputs need to be `ObsData`, `FootprintData` or `FluxData` objects (can be created using classes from openghg.dataobjects) but simpler inputs will be made available*.\n",
    "\n",
    "One benefit of this interface is to reduce searching the database if the same data needs to be used for multiple different scenarios."
   ]
  },
  {
   "cell_type": "markdown",
   "metadata": {},
   "source": [
    "## 2. Comparing data sources\n",
    "\n",
    "Once your `ModelScenario` has been created you can then start to use the linked data to compare outputs. For example we may want to calculate modelled observations at our site based on our linkec footprint and emissions data:"
   ]
  },
  {
   "cell_type": "code",
   "execution_count": null,
   "metadata": {},
   "outputs": [],
   "source": [
    "modelled_observations = scenario.calc_modelled_obs()"
   ]
  },
  {
   "cell_type": "markdown",
   "metadata": {},
   "source": [
    "This could then be plotted directlt using the xarray plotting methods:"
   ]
  },
  {
   "cell_type": "code",
   "execution_count": null,
   "metadata": {},
   "outputs": [],
   "source": [
    "modelled_observations.plot()  # Can plot using xarray plotting methods"
   ]
  },
  {
   "cell_type": "markdown",
   "metadata": {},
   "source": [
    "To compare the these modelled observations to the ovbservations themselves, the `ModelScenario.plot_comparison()` method can be used."
   ]
  },
  {
   "cell_type": "code",
   "execution_count": null,
   "metadata": {},
   "outputs": [],
   "source": [
    "scenario.plot_comparison(baseline=\"percentile\")"
   ]
  },
  {
   "cell_type": "markdown",
   "metadata": {},
   "source": [
    "The `ModelScenario.footprints_data_merge()` method can also be used to created a combined output, with all aligned data stored directly within an `xarray.Dataset`:"
   ]
  },
  {
   "cell_type": "code",
   "execution_count": null,
   "metadata": {},
   "outputs": [],
   "source": [
    "combined_dataset = scenario.footprints_data_merge()\n",
    "combined_dataset"
   ]
  },
  {
   "cell_type": "markdown",
   "metadata": {},
   "source": [
    "When the same calculation is being performed for multiple methods, the last calculation is cached to allow the outputs to be produced more efficiently. This can be disabled for large datasets by using `cache=False`."
   ]
  },
  {
   "cell_type": "markdown",
   "metadata": {},
   "source": [
    "For a `ModelScenario` object, different analyses can be performed on this linked data. For example if a daily average for the modelled observations was required, we could calculate this setting our `resample_to` input to `\"1D\"` (matching available pandas time aliases):"
   ]
  },
  {
   "cell_type": "code",
   "execution_count": null,
   "metadata": {},
   "outputs": [],
   "source": [
    "modelled_observations_12H = scenario.calc_modelled_obs(resample_to=\"1D\")\n",
    "modelled_observations_12H.plot()"
   ]
  },
  {
   "cell_type": "markdown",
   "metadata": {},
   "source": [
    "To allow comparisons with multiple fluxes inputs, more than one flux source can be linked to your `ModelScenario`. This can be either be done upon creation or can be added using the `add_flux()` method. When calculating modelled observations, these flux sources will be aligned in time and stacked to create a total output:"
   ]
  },
  {
   "cell_type": "code",
   "execution_count": null,
   "metadata": {},
   "outputs": [],
   "source": [
    "scenario.add_flux(species=species, domain=domain, source=source_energyprod)"
   ]
  },
  {
   "cell_type": "code",
   "execution_count": null,
   "metadata": {},
   "outputs": [],
   "source": [
    "scenario.plot_comparison(baseline=\"percentile\")"
   ]
  },
  {
   "cell_type": "markdown",
   "metadata": {},
   "source": [
    "Output for individual sources can also be created by specifying the `sources` as an input:"
   ]
  },
  {
   "cell_type": "code",
   "execution_count": null,
   "metadata": {},
   "outputs": [],
   "source": [
    "# Included recalculate option to ensure this is updated from cached data.\n",
    "modelled_obs_energyprod = scenario.calc_modelled_obs(sources=\"energyprod\", recalculate=True)\n",
    "modelled_obs_energyprod.plot()"
   ]
  },
  {
   "cell_type": "markdown",
   "metadata": {},
   "source": [
    "*Plotting functions to be added for 2D / 3D data*"
   ]
  },
  {
   "cell_type": "markdown",
   "metadata": {},
   "source": [
    "---"
   ]
  }
 ],
 "metadata": {
  "interpreter": {
   "hash": "be46fac04113c12cba86920494e488404427b4279e35c30cf0606e819f4acc5b"
  },
  "jupytext": {
   "formats": "ipynb,md:myst"
  },
  "kernelspec": {
   "display_name": "Python 3 (ipykernel)",
   "language": "python",
   "name": "python3"
  },
  "language_info": {
   "codemirror_mode": {
    "name": "ipython",
    "version": 3
   },
   "file_extension": ".py",
   "mimetype": "text/x-python",
   "name": "python",
   "nbconvert_exporter": "python",
   "pygments_lexer": "ipython3",
   "version": "3.9.12"
  }
 },
 "nbformat": 4,
 "nbformat_minor": 2
}
