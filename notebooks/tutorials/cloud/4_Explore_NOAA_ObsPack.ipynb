{
 "cells": [
  {
   "cell_type": "markdown",
   "metadata": {},
   "source": [
    "# Workflow 5: Explore NOAA ObsPack"
   ]
  },
  {
   "cell_type": "markdown",
   "metadata": {},
   "source": [
    "The NOAA ObsPack products are collections of observation data from many sites which have been collated and standardised. ObsPack data products are prepared by NOAA in consultation with data providers. If you're using the OpenGHG Hub we cache the NOAA ObsPack data to make retrieval quick and easy. Below we will demonstrate how NOAA ObsPack data can can be explored and plotted."
   ]
  },
  {
   "cell_type": "markdown",
   "metadata": {},
   "source": [
    "## 1. Search, retrieve and plot\n",
    "\n",
    "Ww can query the object store and find all the flask data for example"
   ]
  },
  {
   "cell_type": "code",
   "execution_count": null,
   "metadata": {},
   "outputs": [],
   "source": [
    "from openghg.retrieve import search_surface\n",
    "\n",
    "search_surface(species=\"ch4\", measurement_type=\"flask\", data_source=\"noaa_obspack\", network=\"NOAA\")"
   ]
  },
  {
   "cell_type": "markdown",
   "metadata": {},
   "source": [
    "Or we can do an all in one search and retrieve using `get_obs_surface`. Here we find CH4 data from Estevan Point, British Columbia, retrieve it and plot it."
   ]
  },
  {
   "cell_type": "code",
   "execution_count": null,
   "metadata": {},
   "outputs": [],
   "source": [
    "from openghg.retrieve import get_obs_surface\n",
    "\n",
    "data = get_obs_surface(site=\"HPB\", species=\"ch4\", network=\"NOAA\")"
   ]
  },
  {
   "cell_type": "markdown",
   "metadata": {},
   "source": [
    "As there isn't any ranking data set (see tutorial 2) `get_obs_surface` doesn't know which inlet to select, we need to tell it."
   ]
  },
  {
   "cell_type": "code",
   "execution_count": null,
   "metadata": {},
   "outputs": [],
   "source": [
    "data = get_obs_surface(site=\"HPB\", species=\"ch4\", inlet=\"93m\", data_type=\"NOAA\")"
   ]
  },
  {
   "cell_type": "code",
   "execution_count": null,
   "metadata": {},
   "outputs": [],
   "source": [
    "data.plot_timeseries()"
   ]
  }
 ],
 "metadata": {
  "interpreter": {
   "hash": "639e5ac7f180c95d47b677421e2009c00ec272255444d3116823602467956294"
  },
  "jupytext": {
   "formats": "ipynb,md:myst"
  },
  "kernelspec": {
   "display_name": "Python 3 (ipykernel)",
   "language": "python",
   "name": "python3"
  },
  "language_info": {
   "codemirror_mode": {
    "name": "ipython",
    "version": 3
   },
   "file_extension": ".py",
   "mimetype": "text/x-python",
   "name": "python",
   "nbconvert_exporter": "python",
   "pygments_lexer": "ipython3",
   "version": "3.9.12"
  }
 },
 "nbformat": 4,
 "nbformat_minor": 2
}
