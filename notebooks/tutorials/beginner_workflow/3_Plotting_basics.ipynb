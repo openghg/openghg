{
 "cells": [
  {
   "cell_type": "markdown",
   "id": "25af58ea",
   "metadata": {},
   "source": [
    "## Plotting basics"
   ]
  },
  {
   "cell_type": "markdown",
   "id": "f7d5cd2b",
   "metadata": {},
   "source": [
    "OpenGHG provides some simple plotting functionality to make it easy to plot the data you retrieve from the object store. To do that we use [Plotly](https://plotly.com/) which makes nice looking, responsive graphs easily. We also show how you can access the raw data that can be used with your favourite plotting library.\n",
    "\n",
    "As in the previous tutorial we'll start by setting up a temporary object store."
   ]
  },
  {
   "cell_type": "code",
   "execution_count": null,
   "id": "eddf3023",
   "metadata": {},
   "outputs": [],
   "source": [
    "import os\n",
    "import tempfile\n",
    "\n",
    "from openghg.client import process_files, search\n",
    "from openghg.util import retrieve_example_data\n",
    "\n",
    "tmp_dir = tempfile.TemporaryDirectory()\n",
    "os.environ[\"OPENGHG_PATH\"] = tmp_dir.name   # temporary directory"
   ]
  },
  {
   "cell_type": "markdown",
   "id": "b0d1e1ba",
   "metadata": {},
   "source": [
    "### Find some data\n",
    "\n",
    "First we need to retrieve some data to plot. Here we download some data from our [example data repository](https://github.com/openghg/example_data) and then process it for storage in the object store."
   ]
  },
  {
   "cell_type": "code",
   "execution_count": null,
   "id": "54289ce9",
   "metadata": {},
   "outputs": [],
   "source": [
    "bsd_datafile = retrieve_example_data(path=\"timeseries/bsd_example.tar.gz\")\n",
    "\n",
    "decc_results = process_files(files=bsd_datafile, data_type=\"CRDS\", site=\"bsd\", network=\"DECC\")"
   ]
  },
  {
   "cell_type": "markdown",
   "id": "754bac21",
   "metadata": {},
   "source": [
    "Now we can retrieve some data and make a quick plot"
   ]
  },
  {
   "cell_type": "code",
   "execution_count": null,
   "id": "01775fd7",
   "metadata": {},
   "outputs": [],
   "source": [
    "search_results = search(site=\"bsd\", species=\"co2\")"
   ]
  },
  {
   "cell_type": "code",
   "execution_count": null,
   "id": "81611fd7",
   "metadata": {},
   "outputs": [],
   "source": [
    "search_results"
   ]
  },
  {
   "cell_type": "code",
   "execution_count": null,
   "id": "3ed07720",
   "metadata": {},
   "outputs": [],
   "source": [
    "bsd_co2_data = search_results.retrieve(site=\"bsd\", species=\"co2\")"
   ]
  },
  {
   "cell_type": "markdown",
   "id": "a1417827",
   "metadata": {},
   "source": [
    "Have a quick look at the `ObsData` object that gets returned by the `retrieve` function."
   ]
  },
  {
   "cell_type": "code",
   "execution_count": null,
   "id": "6df8e1b0",
   "metadata": {},
   "outputs": [],
   "source": [
    "bsd_co2_data"
   ]
  },
  {
   "cell_type": "markdown",
   "id": "97b9dc1b",
   "metadata": {},
   "source": [
    "Now we create a quick plot using the `plot_timeseries` member of `ObsData`. You can pass any of `title`, `xlabel`, `ylabel` and `units` to this function.\n",
    "\n",
    "Note: the plot below may not show up on the online documentation version of this notebook."
   ]
  },
  {
   "cell_type": "code",
   "execution_count": null,
   "id": "1a00bd16",
   "metadata": {},
   "outputs": [],
   "source": [
    "bsd_co2_data.plot_timeseries(units=\"ppm\")"
   ]
  },
  {
   "cell_type": "markdown",
   "id": "5eaba4c5",
   "metadata": {},
   "source": [
    "#### Clean up\n",
    "\n",
    "If you used the `tmp_dir` as a location for your object store at the start of the tutorial you can run the cell below to remove any files that were created to make sure any persistant data is refreshed when the notebook is re-run."
   ]
  },
  {
   "cell_type": "code",
   "execution_count": null,
   "id": "e1531565",
   "metadata": {},
   "outputs": [],
   "source": [
    "tmp_dir.cleanup()"
   ]
  }
 ],
 "metadata": {
  "jupytext": {
   "formats": "ipynb,md:myst"
  },
  "kernelspec": {
   "display_name": "Python 3",
   "language": "python",
   "name": "python3"
  },
  "language_info": {
   "codemirror_mode": {
    "name": "ipython",
    "version": 3
   },
   "file_extension": ".py",
   "mimetype": "text/x-python",
   "name": "python",
   "nbconvert_exporter": "python",
   "pygments_lexer": "ipython3",
   "version": "3.10.1"
  }
 },
 "nbformat": 4,
 "nbformat_minor": 5
}
