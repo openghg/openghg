{
 "cells": [
  {
   "cell_type": "markdown",
   "id": "790454ed",
   "metadata": {},
   "source": [
    "# Workflow 4: Working with carbon dioxide\n",
    "\n",
    "For carbon dioxide data, the natural diurnal cycle must be taken into account when comparing any expected measurements against our observations.\n",
    "\n",
    "In order to compare our measurements to modelled data for carbon dioxide ($\\mathrm{CO_2}$), we need high frequency inputs for both the footprint and flux files. For NAME footprints these should contain an additional \"H_back\" dimension to store hourly footprints overall an initial time period for each release time. For any natural flux data to compare against, this should have a frequency of less than 24 hours.\n",
    "\n",
    "*Operations around $CO_2$ and high resolution data may run slow at the moment, the plan is to profile this so we can optimise performance.*\n",
    "\n",
    "> **_NOTE:_**  Plots created within this tutorial may not show up on the online documentation version of this notebook."
   ]
  },
  {
   "cell_type": "code",
   "execution_count": null,
   "id": "b94ba8f1",
   "metadata": {},
   "outputs": [],
   "source": [
    "import os\n",
    "import tempfile\n",
    "\n",
    "tmp_dir = tempfile.TemporaryDirectory()\n",
    "os.environ[\"OPENGHG_PATH\"] = tmp_dir.name   # temporary directory\n",
    "\n",
    "%load_ext autoreload\n",
    "%autoreload 2"
   ]
  },
  {
   "cell_type": "markdown",
   "id": "f1c99f1a",
   "metadata": {},
   "source": [
    "## 1. Loading data sources into the object store\n",
    "\n",
    "For this tutorial we will again set up a temporary object store to store our data. See [1_Adding_observation_data.ipynb](1_Adding_observation_data.ipynb) for more details around this.\n",
    "\n",
    "First we define some input variables."
   ]
  },
  {
   "cell_type": "code",
   "execution_count": null,
   "id": "f78b500a",
   "metadata": {},
   "outputs": [],
   "source": [
    "site = \"TAC\"\n",
    "network = \"DECC\"\n",
    "height = \"100m\"\n",
    "\n",
    "domain = \"EUROPE\"\n",
    "species = \"co2\""
   ]
  },
  {
   "cell_type": "code",
   "execution_count": null,
   "id": "1d648409",
   "metadata": {},
   "outputs": [],
   "source": [
    "from openghg.client import standardise_surface\n",
    "from openghg.util import retrieve_example_data\n",
    "\n",
    "obs_data = retrieve_example_data(path=\"timeseries/tac_example.tar.gz\")\n",
    "\n",
    "site = \"TAC\"\n",
    "species = \"co2\"\n",
    "network = \"DECC\"\n",
    "\n",
    "decc_results = standardise_surface(filepaths=obs_data, data_type=\"CRDS\", site=site, network=network)"
   ]
  },
  {
   "cell_type": "markdown",
   "id": "1def51c5",
   "metadata": {},
   "source": [
    "Add some flux data."
   ]
  },
  {
   "cell_type": "code",
   "execution_count": null,
   "id": "63188a0e",
   "metadata": {},
   "outputs": [],
   "source": [
    "from openghg.client import standardise_flux\n",
    "\n",
    "flux_data = retrieve_example_data(path=\"flux/co2-flux_EUROPE_2017.tar.gz\")\n",
    "\n",
    "domain = \"EUROPE\"\n",
    "species = \"co2\"\n",
    "date = \"2017\"\n",
    "\n",
    "source_natural = \"natural\"\n",
    "source_fossil = \"ff-edgar-bp\"\n",
    "\n",
    "flux_file_natural = [filename for filename in flux_data if source_natural in str(filename)][0]\n",
    "flux_file_ff = [filename for filename in flux_data if source_fossil in str(filename)][0]\n",
    "\n",
    "standardise_flux(filepath=flux_file_natural, species=species, source=source_natural, domain=domain, date=date, high_time_resolution=True)\n",
    "standardise_flux(filepath=flux_file_ff, species=species, source=source_fossil, domain=domain, date=date)"
   ]
  },
  {
   "cell_type": "markdown",
   "id": "e0407973",
   "metadata": {},
   "source": [
    "Add some footprint data"
   ]
  },
  {
   "cell_type": "code",
   "execution_count": null,
   "id": "ff4caa40",
   "metadata": {},
   "outputs": [],
   "source": [
    "from openghg.client import standardise_footprint\n",
    "\n",
    "footprint_data = retrieve_example_data(path=\"footprint/tac_footprint_co2_201707.tar.gz\")\n",
    "\n",
    "site = \"TAC\"\n",
    "domain = \"EUROPE\"\n",
    "species = \"co2\"\n",
    "height = \"185m\"\n",
    "model = \"NAME\"\n",
    "metmodel = \"UKV\"\n",
    "\n",
    "standardise_footprint(filepath=footprint_data, site=site, height=height, domain=domain, model=model, metmodel=metmodel, species=species)"
   ]
  },
  {
   "cell_type": "markdown",
   "id": "e5421ea9",
   "metadata": {},
   "source": [
    "## 2. Creating a model scenario\n",
    "\n",
    "To link together our observations to our ancillary data we can create a `ModelScenario` object, as shown in the previous tutorial [3_Comparing_with_emissions.ipynb](3_Comparing_with_emissions.ipynb), using suitable keywords to grab the data from the object store."
   ]
  },
  {
   "cell_type": "code",
   "execution_count": null,
   "id": "3f2a3df7",
   "metadata": {},
   "outputs": [],
   "source": [
    "from openghg.analyse import ModelScenario\n",
    "\n",
    "start_date = \"2017-07-01\"\n",
    "end_date = \"2017-07-07\"\n",
    "\n",
    "scenario = ModelScenario(site=site, \n",
    "                         inlet=height, \n",
    "                         domain=domain, \n",
    "                         species=species, \n",
    "                         source=source_natural, \n",
    "                         start_date=start_date,\n",
    "                         end_date=end_date)"
   ]
  },
  {
   "cell_type": "markdown",
   "id": "69c0fafa",
   "metadata": {},
   "source": [
    "We can plot our observation timeseries using the `ModelScenario.plot_timeseries()` method as before:"
   ]
  },
  {
   "cell_type": "code",
   "execution_count": null,
   "id": "7ba361ef",
   "metadata": {},
   "outputs": [],
   "source": [
    "scenario.plot_timeseries()"
   ]
  },
  {
   "cell_type": "markdown",
   "id": "fa84d3af",
   "metadata": {},
   "source": [
    "We can also check trace details of the extracted data by checking the available metadata. For instance for our footprint data we would expect this to have an associated species and for this to be labelled as \"co2\":"
   ]
  },
  {
   "cell_type": "code",
   "execution_count": null,
   "id": "04f3e805",
   "metadata": {},
   "outputs": [],
   "source": [
    "footprint_metadata = scenario.footprint.metadata\n",
    "footprint_species = footprint_metadata[\"species\"]\n",
    "print(f\"Our linked footprint has an associated species of '{footprint_species}'\")"
   ]
  },
  {
   "cell_type": "markdown",
   "id": "301e7ef9",
   "metadata": {},
   "source": [
    "## 3. Comparing data sources\n",
    "\n",
    "Once the correct high frequency emissions and footprints have been linked for our carbon dioxide data, we can start to plot comparisons between the sources and our measurement data."
   ]
  },
  {
   "cell_type": "code",
   "execution_count": null,
   "id": "3c30c6d9",
   "metadata": {},
   "outputs": [],
   "source": [
    "scenario.plot_comparison(baseline=\"percentile\")"
   ]
  },
  {
   "cell_type": "markdown",
   "id": "f08600dc",
   "metadata": {},
   "source": [
    "As in the previous tutorial, multiple fluxes can be linked to your `ModelScenario` object if required. This can include additional high frequency (<24 hourly) or low frequency flux data. In this case we have added monthly \"fossil fuel\" emissions:"
   ]
  },
  {
   "cell_type": "code",
   "execution_count": null,
   "id": "39281969",
   "metadata": {},
   "outputs": [],
   "source": [
    "scenario.add_flux(species=species, \n",
    "                  source=source_fossil,\n",
    "                  domain=domain)"
   ]
  },
  {
   "cell_type": "code",
   "execution_count": null,
   "id": "26006b35",
   "metadata": {},
   "outputs": [],
   "source": [
    "fossil_flux = scenario.fluxes[source_fossil]\n",
    "fossil_flux"
   ]
  },
  {
   "cell_type": "markdown",
   "id": "b2f2f1f7",
   "metadata": {},
   "source": [
    "If we plot the modelled measurement comparison, this will stack the natural and fossil fuel flux sources and combine with the footprint data in an appropriate way:"
   ]
  },
  {
   "cell_type": "code",
   "execution_count": null,
   "id": "69596e77",
   "metadata": {},
   "outputs": [],
   "source": [
    "# scenario.plot_comparison(baseline=\"percentile\", recalculate=True)"
   ]
  }
 ],
 "metadata": {
  "interpreter": {
   "hash": "be46fac04113c12cba86920494e488404427b4279e35c30cf0606e819f4acc5b"
  },
  "jupytext": {
   "formats": "ipynb,md:myst"
  },
  "kernelspec": {
   "display_name": "Python 3 (ipykernel)",
   "language": "python",
   "name": "python3"
  },
  "language_info": {
   "codemirror_mode": {
    "name": "ipython",
    "version": 3
   },
   "file_extension": ".py",
   "mimetype": "text/x-python",
   "name": "python",
   "nbconvert_exporter": "python",
   "pygments_lexer": "ipython3",
   "version": "3.9.12"
  }
 },
 "nbformat": 4,
 "nbformat_minor": 5
}
