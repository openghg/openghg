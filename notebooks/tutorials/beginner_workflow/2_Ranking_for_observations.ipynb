{
 "cells": [
  {
   "cell_type": "markdown",
   "metadata": {},
   "source": [
    "# Workflow: handling overlapping observation data"
   ]
  },
  {
   "cell_type": "markdown",
   "metadata": {},
   "source": [
    "As in the [previous tutorial](1_Adding_observation_data.ipynb), we will start by setting up our temporary object store for our data."
   ]
  },
  {
   "cell_type": "code",
   "execution_count": 1,
   "metadata": {
    "execution": {
     "iopub.execute_input": "2022-02-01T15:30:41.573383Z",
     "iopub.status.busy": "2022-02-01T15:30:41.572797Z",
     "iopub.status.idle": "2022-02-01T15:30:41.576431Z",
     "shell.execute_reply": "2022-02-01T15:30:41.576817Z"
    }
   },
   "outputs": [],
   "source": [
    "import os\n",
    "import tempfile\n",
    "\n",
    "tmp_dir = tempfile.TemporaryDirectory()\n",
    "os.environ[\"OPENGHG_PATH\"] = tmp_dir.name   # temporary directory"
   ]
  },
  {
   "cell_type": "markdown",
   "metadata": {},
   "source": [
    "## 1. Overlapping observations\n",
    "\n",
    "For some surface sites in the networks considered, there will be multiple independent measurements made for the various species at the same time. This is often due to a site having multiple inlets which allow gases to be sampled at different heights.\n",
    "\n",
    "Often, when retrieving data for comparison there will be preferences between the streams of measurements, for example based on the inlet height. Within `openghg` it is possible to set a *ranking* for the different data sources so that the preferred data for a given species is always selected by default and without the need to know the exact details every time this data is accessed.\n",
    "\n",
    "To demonstrate this we will start by loading data from the Bilsdale (\"BSD\") site within the DECC network with measurements of the same species at multiple inlet heights."
   ]
  },
  {
   "cell_type": "code",
   "execution_count": 2,
   "metadata": {
    "execution": {
     "iopub.execute_input": "2022-02-01T15:30:41.581365Z",
     "iopub.status.busy": "2022-02-01T15:30:41.580854Z",
     "iopub.status.idle": "2022-02-01T15:30:44.001826Z",
     "shell.execute_reply": "2022-02-01T15:30:44.000865Z"
    }
   },
   "outputs": [
    {
     "name": "stdout",
     "output_type": "stream",
     "text": [
      "\r",
      "  0%|                                                                                                                                              | 0/3 [00:00<?, ?it/s]"
     ]
    },
    {
     "name": "stdout",
     "output_type": "stream",
     "text": [
      "\r",
      "Processing: bsd.picarro.1minute.42m.min.dat:   0%|                                                                                                 | 0/3 [00:00<?, ?it/s]"
     ]
    },
    {
     "name": "stderr",
     "output_type": "stream",
     "text": [
      "/home/gar/Documents/Devel/RSE/openghg/openghg/store/base/_datasource.py:285: FutureWarning: In a future version, when passing a np.datetime64 object and a timezone to Timestamp, the datetime64 will be interpreted as a wall time, not a UTC time.  To interpret as a UTC time, use `Timestamp(dt64).tz_localize('UTC').tz_convert(tz)`\n",
      "  start = Timestamp(dataset.time[0].values, tz=\"UTC\")\n",
      "/home/gar/Documents/Devel/RSE/openghg/openghg/store/base/_datasource.py:286: FutureWarning: In a future version, when passing a np.datetime64 object and a timezone to Timestamp, the datetime64 will be interpreted as a wall time, not a UTC time.  To interpret as a UTC time, use `Timestamp(dt64).tz_localize('UTC').tz_convert(tz)`\n",
      "  end = Timestamp(dataset.time[-1].values, tz=\"UTC\")\n",
      "/home/gar/Documents/Devel/RSE/openghg/openghg/store/base/_datasource.py:285: FutureWarning: In a future version, when passing a np.datetime64 object and a timezone to Timestamp, the datetime64 will be interpreted as a wall time, not a UTC time.  To interpret as a UTC time, use `Timestamp(dt64).tz_localize('UTC').tz_convert(tz)`\n",
      "  start = Timestamp(dataset.time[0].values, tz=\"UTC\")\n",
      "/home/gar/Documents/Devel/RSE/openghg/openghg/store/base/_datasource.py:286: FutureWarning: In a future version, when passing a np.datetime64 object and a timezone to Timestamp, the datetime64 will be interpreted as a wall time, not a UTC time.  To interpret as a UTC time, use `Timestamp(dt64).tz_localize('UTC').tz_convert(tz)`\n",
      "  end = Timestamp(dataset.time[-1].values, tz=\"UTC\")\n",
      "/home/gar/Documents/Devel/RSE/openghg/openghg/store/base/_datasource.py:285: FutureWarning: In a future version, when passing a np.datetime64 object and a timezone to Timestamp, the datetime64 will be interpreted as a wall time, not a UTC time.  To interpret as a UTC time, use `Timestamp(dt64).tz_localize('UTC').tz_convert(tz)`\n",
      "  start = Timestamp(dataset.time[0].values, tz=\"UTC\")\n",
      "/home/gar/Documents/Devel/RSE/openghg/openghg/store/base/_datasource.py:286: FutureWarning: In a future version, when passing a np.datetime64 object and a timezone to Timestamp, the datetime64 will be interpreted as a wall time, not a UTC time.  To interpret as a UTC time, use `Timestamp(dt64).tz_localize('UTC').tz_convert(tz)`\n",
      "  end = Timestamp(dataset.time[-1].values, tz=\"UTC\")\n"
     ]
    },
    {
     "name": "stdout",
     "output_type": "stream",
     "text": [
      "\r",
      "Processing: bsd.picarro.1minute.42m.min.dat:  33%|█████████████████████████████▋                                                           | 1/3 [00:00<00:00,  3.55it/s]"
     ]
    },
    {
     "name": "stdout",
     "output_type": "stream",
     "text": [
      "\r",
      "Processing: bsd.picarro.1minute.108m.min.dat:  33%|█████████████████████████████▎                                                          | 1/3 [00:00<00:00,  3.55it/s]"
     ]
    },
    {
     "name": "stderr",
     "output_type": "stream",
     "text": [
      "/home/gar/Documents/Devel/RSE/openghg/openghg/store/base/_datasource.py:285: FutureWarning: In a future version, when passing a np.datetime64 object and a timezone to Timestamp, the datetime64 will be interpreted as a wall time, not a UTC time.  To interpret as a UTC time, use `Timestamp(dt64).tz_localize('UTC').tz_convert(tz)`\n",
      "  start = Timestamp(dataset.time[0].values, tz=\"UTC\")\n",
      "/home/gar/Documents/Devel/RSE/openghg/openghg/store/base/_datasource.py:286: FutureWarning: In a future version, when passing a np.datetime64 object and a timezone to Timestamp, the datetime64 will be interpreted as a wall time, not a UTC time.  To interpret as a UTC time, use `Timestamp(dt64).tz_localize('UTC').tz_convert(tz)`\n",
      "  end = Timestamp(dataset.time[-1].values, tz=\"UTC\")\n",
      "/home/gar/Documents/Devel/RSE/openghg/openghg/store/base/_datasource.py:285: FutureWarning: In a future version, when passing a np.datetime64 object and a timezone to Timestamp, the datetime64 will be interpreted as a wall time, not a UTC time.  To interpret as a UTC time, use `Timestamp(dt64).tz_localize('UTC').tz_convert(tz)`\n",
      "  start = Timestamp(dataset.time[0].values, tz=\"UTC\")\n",
      "/home/gar/Documents/Devel/RSE/openghg/openghg/store/base/_datasource.py:286: FutureWarning: In a future version, when passing a np.datetime64 object and a timezone to Timestamp, the datetime64 will be interpreted as a wall time, not a UTC time.  To interpret as a UTC time, use `Timestamp(dt64).tz_localize('UTC').tz_convert(tz)`\n",
      "  end = Timestamp(dataset.time[-1].values, tz=\"UTC\")\n",
      "/home/gar/Documents/Devel/RSE/openghg/openghg/store/base/_datasource.py:285: FutureWarning: In a future version, when passing a np.datetime64 object and a timezone to Timestamp, the datetime64 will be interpreted as a wall time, not a UTC time.  To interpret as a UTC time, use `Timestamp(dt64).tz_localize('UTC').tz_convert(tz)`\n",
      "  start = Timestamp(dataset.time[0].values, tz=\"UTC\")\n",
      "/home/gar/Documents/Devel/RSE/openghg/openghg/store/base/_datasource.py:286: FutureWarning: In a future version, when passing a np.datetime64 object and a timezone to Timestamp, the datetime64 will be interpreted as a wall time, not a UTC time.  To interpret as a UTC time, use `Timestamp(dt64).tz_localize('UTC').tz_convert(tz)`\n",
      "  end = Timestamp(dataset.time[-1].values, tz=\"UTC\")\n"
     ]
    },
    {
     "name": "stdout",
     "output_type": "stream",
     "text": [
      "\r",
      "Processing: bsd.picarro.1minute.108m.min.dat:  67%|██████████████████████████████████████████████████████████▋                             | 2/3 [00:00<00:00,  3.84it/s]"
     ]
    },
    {
     "name": "stdout",
     "output_type": "stream",
     "text": [
      "\r",
      "Processing: bsd.picarro.1minute.248m.min.dat:  67%|██████████████████████████████████████████████████████████▋                             | 2/3 [00:00<00:00,  3.84it/s]"
     ]
    },
    {
     "name": "stderr",
     "output_type": "stream",
     "text": [
      "/home/gar/Documents/Devel/RSE/openghg/openghg/store/base/_datasource.py:285: FutureWarning: In a future version, when passing a np.datetime64 object and a timezone to Timestamp, the datetime64 will be interpreted as a wall time, not a UTC time.  To interpret as a UTC time, use `Timestamp(dt64).tz_localize('UTC').tz_convert(tz)`\n",
      "  start = Timestamp(dataset.time[0].values, tz=\"UTC\")\n",
      "/home/gar/Documents/Devel/RSE/openghg/openghg/store/base/_datasource.py:286: FutureWarning: In a future version, when passing a np.datetime64 object and a timezone to Timestamp, the datetime64 will be interpreted as a wall time, not a UTC time.  To interpret as a UTC time, use `Timestamp(dt64).tz_localize('UTC').tz_convert(tz)`\n",
      "  end = Timestamp(dataset.time[-1].values, tz=\"UTC\")\n",
      "/home/gar/Documents/Devel/RSE/openghg/openghg/store/base/_datasource.py:285: FutureWarning: In a future version, when passing a np.datetime64 object and a timezone to Timestamp, the datetime64 will be interpreted as a wall time, not a UTC time.  To interpret as a UTC time, use `Timestamp(dt64).tz_localize('UTC').tz_convert(tz)`\n",
      "  start = Timestamp(dataset.time[0].values, tz=\"UTC\")\n",
      "/home/gar/Documents/Devel/RSE/openghg/openghg/store/base/_datasource.py:286: FutureWarning: In a future version, when passing a np.datetime64 object and a timezone to Timestamp, the datetime64 will be interpreted as a wall time, not a UTC time.  To interpret as a UTC time, use `Timestamp(dt64).tz_localize('UTC').tz_convert(tz)`\n",
      "  end = Timestamp(dataset.time[-1].values, tz=\"UTC\")\n",
      "/home/gar/Documents/Devel/RSE/openghg/openghg/store/base/_datasource.py:285: FutureWarning: In a future version, when passing a np.datetime64 object and a timezone to Timestamp, the datetime64 will be interpreted as a wall time, not a UTC time.  To interpret as a UTC time, use `Timestamp(dt64).tz_localize('UTC').tz_convert(tz)`\n",
      "  start = Timestamp(dataset.time[0].values, tz=\"UTC\")\n",
      "/home/gar/Documents/Devel/RSE/openghg/openghg/store/base/_datasource.py:286: FutureWarning: In a future version, when passing a np.datetime64 object and a timezone to Timestamp, the datetime64 will be interpreted as a wall time, not a UTC time.  To interpret as a UTC time, use `Timestamp(dt64).tz_localize('UTC').tz_convert(tz)`\n",
      "  end = Timestamp(dataset.time[-1].values, tz=\"UTC\")\n"
     ]
    },
    {
     "name": "stdout",
     "output_type": "stream",
     "text": [
      "\r",
      "Processing: bsd.picarro.1minute.248m.min.dat: 100%|████████████████████████████████████████████████████████████████████████████████████████| 3/3 [00:00<00:00,  3.96it/s]"
     ]
    },
    {
     "name": "stdout",
     "output_type": "stream",
     "text": [
      "\r",
      "Processing: bsd.picarro.1minute.248m.min.dat: 100%|████████████████████████████████████████████████████████████████████████████████████████| 3/3 [00:00<00:00,  3.88it/s]"
     ]
    },
    {
     "name": "stdout",
     "output_type": "stream",
     "text": [
      "\n"
     ]
    }
   ],
   "source": [
    "from openghg.store import ObsSurface\n",
    "\n",
    "bsd_filepaths = [\"../data/DECC/bsd.picarro.1minute.42m.min.dat\", \"../data/DECC/bsd.picarro.1minute.108m.min.dat\", \"../data/DECC/bsd.picarro.1minute.248m.min.dat\"]\n",
    "decc_results = ObsSurface.read_file(filepath=bsd_filepaths, data_type=\"CRDS\", site=\"bsd\", network=\"DECC\")"
   ]
  },
  {
   "cell_type": "code",
   "execution_count": 3,
   "metadata": {
    "execution": {
     "iopub.execute_input": "2022-02-01T15:30:44.006921Z",
     "iopub.status.busy": "2022-02-01T15:30:44.005107Z",
     "iopub.status.idle": "2022-02-01T15:30:44.027994Z",
     "shell.execute_reply": "2022-02-01T15:30:44.027463Z"
    }
   },
   "outputs": [
    {
     "data": {
      "text/plain": [
       "Site: BSD\n",
       "---------\n",
       "co at 42m, 108m, 248m\n"
      ]
     },
     "execution_count": 3,
     "metadata": {},
     "output_type": "execute_result"
    }
   ],
   "source": [
    "from openghg.retrieve import search\n",
    "search(site=\"bsd\", species=\"co\")"
   ]
  },
  {
   "cell_type": "markdown",
   "metadata": {},
   "source": [
    "Before we set any ranking for this data, we can still retrieve this from the object store using the `get_obs_surface` function, as we did before, but because there are multiple inlets we must specify these details to be able to return unambiguous observation data:"
   ]
  },
  {
   "cell_type": "code",
   "execution_count": 4,
   "metadata": {
    "execution": {
     "iopub.execute_input": "2022-02-01T15:30:44.033528Z",
     "iopub.status.busy": "2022-02-01T15:30:44.032744Z",
     "iopub.status.idle": "2022-02-01T15:30:44.273588Z",
     "shell.execute_reply": "2022-02-01T15:30:44.273100Z"
    }
   },
   "outputs": [],
   "source": [
    "from openghg.retrieve import get_obs_surface\n",
    "\n",
    "obs_data_42m = get_obs_surface(site=\"bsd\", species=\"co\", inlet=\"42m\")\n",
    "obs_data_108m = get_obs_surface(site=\"bsd\", species=\"co\", inlet=\"108m\")\n",
    "obs_data_248m = get_obs_surface(site=\"bsd\", species=\"co\", inlet=\"108m\")\n",
    "\n",
    "## Uncomment the cell below to see what happens if we don't include the inlet details.\n",
    "# obs_data = get_obs_surface(site=\"bsd\", species=\"co\")"
   ]
  },
  {
   "cell_type": "markdown",
   "metadata": {},
   "source": [
    "We can get around this by setting up ranking details once, which will then persist as long as the object store exists or this is updated again."
   ]
  },
  {
   "cell_type": "markdown",
   "metadata": {},
   "source": [
    "## 2. Get ranking data\n",
    "\n",
    "We can access the ranking data and see any pre-existing details associated with our data by using the `RankSources` class and the `get_sources()` method. In this case we are looking at the Bilsdale site (\"BSD\") and the carbon monoxide (\"co\") species:"
   ]
  },
  {
   "cell_type": "code",
   "execution_count": 5,
   "metadata": {
    "execution": {
     "iopub.execute_input": "2022-02-01T15:30:44.278102Z",
     "iopub.status.busy": "2022-02-01T15:30:44.277480Z",
     "iopub.status.idle": "2022-02-01T15:30:44.288979Z",
     "shell.execute_reply": "2022-02-01T15:30:44.289368Z"
    }
   },
   "outputs": [],
   "source": [
    "from openghg.client import rank_sources\n",
    "\n",
    "ranker = rank_sources(site=\"BSD\", species=\"co\")"
   ]
  },
  {
   "cell_type": "markdown",
   "metadata": {},
   "source": [
    "What this tells us that, at the moment, there is no ranking data set for any of the inlets.\n",
    " - rank data for each inlet is set to 'NA' as shown by `{'rank_data':'NA',...}`"
   ]
  },
  {
   "cell_type": "markdown",
   "metadata": {},
   "source": [
    "## 3. Set ranking data\n",
    "\n",
    "To set ranking data for carbon monoxide at Bilsdale for given date ranges we can use the `set_rank` method along with the relevant details for each inlet. Here we want to set the following for our data:\n",
    "\n",
    "- From 01/01/2016 to 01/01/2018 (exclusive range)\n",
    "  - Access carbon monoxide data from the inlet at \"248m\"\n",
    "- From 01/01/2018 to 30/05/2019\n",
    "  - Access carbon monoxide data from the inlet at \"42m\"\n",
    "- From 30/05/2019 to 30/11/2021\n",
    "  - Access carbon monoxide data from the inlet at \"108m\""
   ]
  },
  {
   "cell_type": "code",
   "execution_count": 6,
   "metadata": {
    "execution": {
     "iopub.execute_input": "2022-02-01T15:30:44.294176Z",
     "iopub.status.busy": "2022-02-01T15:30:44.293339Z",
     "iopub.status.idle": "2022-02-01T15:30:44.299137Z",
     "shell.execute_reply": "2022-02-01T15:30:44.298623Z"
    }
   },
   "outputs": [],
   "source": [
    "ranker.set_rank(inlet=\"248m\", rank=1, start_date=\"2016-01-01\", end_date=\"2018-01-01\")\n",
    "ranker.set_rank(inlet=\"42m\", rank=1, start_date=\"2018-01-01\", end_date=\"2019-05-30\")\n",
    "ranker.set_rank(inlet=\"108m\", rank=1, start_date=\"2019-05-30\", end_date=\"2021-11-30\")"
   ]
  },
  {
   "cell_type": "markdown",
   "metadata": {},
   "source": [
    "Secondary ranks (`rank=2`) and so forth can also be set covering the same date ranges, to set a preference order based on which data is available.\n",
    "\n",
    "Now we can check everything was set correctlying using `get_sources` again as above:"
   ]
  },
  {
   "cell_type": "code",
   "execution_count": 7,
   "metadata": {
    "execution": {
     "iopub.execute_input": "2022-02-01T15:30:44.303673Z",
     "iopub.status.busy": "2022-02-01T15:30:44.302824Z",
     "iopub.status.idle": "2022-02-01T15:30:44.315425Z",
     "shell.execute_reply": "2022-02-01T15:30:44.314871Z"
    }
   },
   "outputs": [
    {
     "data": {
      "text/plain": [
       "{'42m': {'rank_data': {'2018-01-01-00:00:00+00:00_2019-05-30-00:00:00+00:00': 1},\n",
       "  'data_range': '2014-01-30T11:12:30_2020-12-01T22:31:30'},\n",
       " '108m': {'rank_data': {'2019-05-30-00:00:00+00:00_2021-11-30-00:00:00+00:00': 1},\n",
       "  'data_range': '2014-01-30T11:12:30_2020-12-01T22:31:30'},\n",
       " '248m': {'rank_data': {'2016-01-01-00:00:00+00:00_2018-01-01-00:00:00+00:00': 1},\n",
       "  'data_range': '2014-01-30T11:12:30_2020-12-01T22:31:30'}}"
      ]
     },
     "execution_count": 7,
     "metadata": {},
     "output_type": "execute_result"
    }
   ],
   "source": [
    "ranker.get_sources(site=\"BSD\", species=\"co\")"
   ]
  },
  {
   "cell_type": "markdown",
   "metadata": {},
   "source": [
    "## 4. Retrieve data\n",
    "\n",
    "Once this has been set, we can now try retrieving this data from the object store again. Whereas before we had to specify an inlet, we can now rely on the highest ranked data always being returned for each date range:"
   ]
  },
  {
   "cell_type": "code",
   "execution_count": 8,
   "metadata": {
    "execution": {
     "iopub.execute_input": "2022-02-01T15:30:44.319297Z",
     "iopub.status.busy": "2022-02-01T15:30:44.318792Z",
     "iopub.status.idle": "2022-02-01T15:30:44.441449Z",
     "shell.execute_reply": "2022-02-01T15:30:44.440912Z"
    }
   },
   "outputs": [],
   "source": [
    "co_data = get_obs_surface(site=\"bsd\", species=\"co\")"
   ]
  },
  {
   "cell_type": "code",
   "execution_count": 9,
   "metadata": {
    "execution": {
     "iopub.execute_input": "2022-02-01T15:30:44.461639Z",
     "iopub.status.busy": "2022-02-01T15:30:44.449366Z",
     "iopub.status.idle": "2022-02-01T15:30:44.470416Z",
     "shell.execute_reply": "2022-02-01T15:30:44.470798Z"
    }
   },
   "outputs": [
    {
     "data": {
      "text/html": [
       "<div><svg style=\"position: absolute; width: 0; height: 0; overflow: hidden\">\n",
       "<defs>\n",
       "<symbol id=\"icon-database\" viewBox=\"0 0 32 32\">\n",
       "<path d=\"M16 0c-8.837 0-16 2.239-16 5v4c0 2.761 7.163 5 16 5s16-2.239 16-5v-4c0-2.761-7.163-5-16-5z\"></path>\n",
       "<path d=\"M16 17c-8.837 0-16-2.239-16-5v6c0 2.761 7.163 5 16 5s16-2.239 16-5v-6c0 2.761-7.163 5-16 5z\"></path>\n",
       "<path d=\"M16 26c-8.837 0-16-2.239-16-5v6c0 2.761 7.163 5 16 5s16-2.239 16-5v-6c0 2.761-7.163 5-16 5z\"></path>\n",
       "</symbol>\n",
       "<symbol id=\"icon-file-text2\" viewBox=\"0 0 32 32\">\n",
       "<path d=\"M28.681 7.159c-0.694-0.947-1.662-2.053-2.724-3.116s-2.169-2.030-3.116-2.724c-1.612-1.182-2.393-1.319-2.841-1.319h-15.5c-1.378 0-2.5 1.121-2.5 2.5v27c0 1.378 1.122 2.5 2.5 2.5h23c1.378 0 2.5-1.122 2.5-2.5v-19.5c0-0.448-0.137-1.23-1.319-2.841zM24.543 5.457c0.959 0.959 1.712 1.825 2.268 2.543h-4.811v-4.811c0.718 0.556 1.584 1.309 2.543 2.268zM28 29.5c0 0.271-0.229 0.5-0.5 0.5h-23c-0.271 0-0.5-0.229-0.5-0.5v-27c0-0.271 0.229-0.5 0.5-0.5 0 0 15.499-0 15.5 0v7c0 0.552 0.448 1 1 1h7v19.5z\"></path>\n",
       "<path d=\"M23 26h-14c-0.552 0-1-0.448-1-1s0.448-1 1-1h14c0.552 0 1 0.448 1 1s-0.448 1-1 1z\"></path>\n",
       "<path d=\"M23 22h-14c-0.552 0-1-0.448-1-1s0.448-1 1-1h14c0.552 0 1 0.448 1 1s-0.448 1-1 1z\"></path>\n",
       "<path d=\"M23 18h-14c-0.552 0-1-0.448-1-1s0.448-1 1-1h14c0.552 0 1 0.448 1 1s-0.448 1-1 1z\"></path>\n",
       "</symbol>\n",
       "</defs>\n",
       "</svg>\n",
       "<style>/* CSS stylesheet for displaying xarray objects in jupyterlab.\n",
       " *\n",
       " */\n",
       "\n",
       ":root {\n",
       "  --xr-font-color0: var(--jp-content-font-color0, rgba(0, 0, 0, 1));\n",
       "  --xr-font-color2: var(--jp-content-font-color2, rgba(0, 0, 0, 0.54));\n",
       "  --xr-font-color3: var(--jp-content-font-color3, rgba(0, 0, 0, 0.38));\n",
       "  --xr-border-color: var(--jp-border-color2, #e0e0e0);\n",
       "  --xr-disabled-color: var(--jp-layout-color3, #bdbdbd);\n",
       "  --xr-background-color: var(--jp-layout-color0, white);\n",
       "  --xr-background-color-row-even: var(--jp-layout-color1, white);\n",
       "  --xr-background-color-row-odd: var(--jp-layout-color2, #eeeeee);\n",
       "}\n",
       "\n",
       "html[theme=dark],\n",
       "body.vscode-dark {\n",
       "  --xr-font-color0: rgba(255, 255, 255, 1);\n",
       "  --xr-font-color2: rgba(255, 255, 255, 0.54);\n",
       "  --xr-font-color3: rgba(255, 255, 255, 0.38);\n",
       "  --xr-border-color: #1F1F1F;\n",
       "  --xr-disabled-color: #515151;\n",
       "  --xr-background-color: #111111;\n",
       "  --xr-background-color-row-even: #111111;\n",
       "  --xr-background-color-row-odd: #313131;\n",
       "}\n",
       "\n",
       ".xr-wrap {\n",
       "  display: block !important;\n",
       "  min-width: 300px;\n",
       "  max-width: 700px;\n",
       "}\n",
       "\n",
       ".xr-text-repr-fallback {\n",
       "  /* fallback to plain text repr when CSS is not injected (untrusted notebook) */\n",
       "  display: none;\n",
       "}\n",
       "\n",
       ".xr-header {\n",
       "  padding-top: 6px;\n",
       "  padding-bottom: 6px;\n",
       "  margin-bottom: 4px;\n",
       "  border-bottom: solid 1px var(--xr-border-color);\n",
       "}\n",
       "\n",
       ".xr-header > div,\n",
       ".xr-header > ul {\n",
       "  display: inline;\n",
       "  margin-top: 0;\n",
       "  margin-bottom: 0;\n",
       "}\n",
       "\n",
       ".xr-obj-type,\n",
       ".xr-array-name {\n",
       "  margin-left: 2px;\n",
       "  margin-right: 10px;\n",
       "}\n",
       "\n",
       ".xr-obj-type {\n",
       "  color: var(--xr-font-color2);\n",
       "}\n",
       "\n",
       ".xr-sections {\n",
       "  padding-left: 0 !important;\n",
       "  display: grid;\n",
       "  grid-template-columns: 150px auto auto 1fr 20px 20px;\n",
       "}\n",
       "\n",
       ".xr-section-item {\n",
       "  display: contents;\n",
       "}\n",
       "\n",
       ".xr-section-item input {\n",
       "  display: none;\n",
       "}\n",
       "\n",
       ".xr-section-item input + label {\n",
       "  color: var(--xr-disabled-color);\n",
       "}\n",
       "\n",
       ".xr-section-item input:enabled + label {\n",
       "  cursor: pointer;\n",
       "  color: var(--xr-font-color2);\n",
       "}\n",
       "\n",
       ".xr-section-item input:enabled + label:hover {\n",
       "  color: var(--xr-font-color0);\n",
       "}\n",
       "\n",
       ".xr-section-summary {\n",
       "  grid-column: 1;\n",
       "  color: var(--xr-font-color2);\n",
       "  font-weight: 500;\n",
       "}\n",
       "\n",
       ".xr-section-summary > span {\n",
       "  display: inline-block;\n",
       "  padding-left: 0.5em;\n",
       "}\n",
       "\n",
       ".xr-section-summary-in:disabled + label {\n",
       "  color: var(--xr-font-color2);\n",
       "}\n",
       "\n",
       ".xr-section-summary-in + label:before {\n",
       "  display: inline-block;\n",
       "  content: '►';\n",
       "  font-size: 11px;\n",
       "  width: 15px;\n",
       "  text-align: center;\n",
       "}\n",
       "\n",
       ".xr-section-summary-in:disabled + label:before {\n",
       "  color: var(--xr-disabled-color);\n",
       "}\n",
       "\n",
       ".xr-section-summary-in:checked + label:before {\n",
       "  content: '▼';\n",
       "}\n",
       "\n",
       ".xr-section-summary-in:checked + label > span {\n",
       "  display: none;\n",
       "}\n",
       "\n",
       ".xr-section-summary,\n",
       ".xr-section-inline-details {\n",
       "  padding-top: 4px;\n",
       "  padding-bottom: 4px;\n",
       "}\n",
       "\n",
       ".xr-section-inline-details {\n",
       "  grid-column: 2 / -1;\n",
       "}\n",
       "\n",
       ".xr-section-details {\n",
       "  display: none;\n",
       "  grid-column: 1 / -1;\n",
       "  margin-bottom: 5px;\n",
       "}\n",
       "\n",
       ".xr-section-summary-in:checked ~ .xr-section-details {\n",
       "  display: contents;\n",
       "}\n",
       "\n",
       ".xr-array-wrap {\n",
       "  grid-column: 1 / -1;\n",
       "  display: grid;\n",
       "  grid-template-columns: 20px auto;\n",
       "}\n",
       "\n",
       ".xr-array-wrap > label {\n",
       "  grid-column: 1;\n",
       "  vertical-align: top;\n",
       "}\n",
       "\n",
       ".xr-preview {\n",
       "  color: var(--xr-font-color3);\n",
       "}\n",
       "\n",
       ".xr-array-preview,\n",
       ".xr-array-data {\n",
       "  padding: 0 5px !important;\n",
       "  grid-column: 2;\n",
       "}\n",
       "\n",
       ".xr-array-data,\n",
       ".xr-array-in:checked ~ .xr-array-preview {\n",
       "  display: none;\n",
       "}\n",
       "\n",
       ".xr-array-in:checked ~ .xr-array-data,\n",
       ".xr-array-preview {\n",
       "  display: inline-block;\n",
       "}\n",
       "\n",
       ".xr-dim-list {\n",
       "  display: inline-block !important;\n",
       "  list-style: none;\n",
       "  padding: 0 !important;\n",
       "  margin: 0;\n",
       "}\n",
       "\n",
       ".xr-dim-list li {\n",
       "  display: inline-block;\n",
       "  padding: 0;\n",
       "  margin: 0;\n",
       "}\n",
       "\n",
       ".xr-dim-list:before {\n",
       "  content: '(';\n",
       "}\n",
       "\n",
       ".xr-dim-list:after {\n",
       "  content: ')';\n",
       "}\n",
       "\n",
       ".xr-dim-list li:not(:last-child):after {\n",
       "  content: ',';\n",
       "  padding-right: 5px;\n",
       "}\n",
       "\n",
       ".xr-has-index {\n",
       "  font-weight: bold;\n",
       "}\n",
       "\n",
       ".xr-var-list,\n",
       ".xr-var-item {\n",
       "  display: contents;\n",
       "}\n",
       "\n",
       ".xr-var-item > div,\n",
       ".xr-var-item label,\n",
       ".xr-var-item > .xr-var-name span {\n",
       "  background-color: var(--xr-background-color-row-even);\n",
       "  margin-bottom: 0;\n",
       "}\n",
       "\n",
       ".xr-var-item > .xr-var-name:hover span {\n",
       "  padding-right: 5px;\n",
       "}\n",
       "\n",
       ".xr-var-list > li:nth-child(odd) > div,\n",
       ".xr-var-list > li:nth-child(odd) > label,\n",
       ".xr-var-list > li:nth-child(odd) > .xr-var-name span {\n",
       "  background-color: var(--xr-background-color-row-odd);\n",
       "}\n",
       "\n",
       ".xr-var-name {\n",
       "  grid-column: 1;\n",
       "}\n",
       "\n",
       ".xr-var-dims {\n",
       "  grid-column: 2;\n",
       "}\n",
       "\n",
       ".xr-var-dtype {\n",
       "  grid-column: 3;\n",
       "  text-align: right;\n",
       "  color: var(--xr-font-color2);\n",
       "}\n",
       "\n",
       ".xr-var-preview {\n",
       "  grid-column: 4;\n",
       "}\n",
       "\n",
       ".xr-var-name,\n",
       ".xr-var-dims,\n",
       ".xr-var-dtype,\n",
       ".xr-preview,\n",
       ".xr-attrs dt {\n",
       "  white-space: nowrap;\n",
       "  overflow: hidden;\n",
       "  text-overflow: ellipsis;\n",
       "  padding-right: 10px;\n",
       "}\n",
       "\n",
       ".xr-var-name:hover,\n",
       ".xr-var-dims:hover,\n",
       ".xr-var-dtype:hover,\n",
       ".xr-attrs dt:hover {\n",
       "  overflow: visible;\n",
       "  width: auto;\n",
       "  z-index: 1;\n",
       "}\n",
       "\n",
       ".xr-var-attrs,\n",
       ".xr-var-data {\n",
       "  display: none;\n",
       "  background-color: var(--xr-background-color) !important;\n",
       "  padding-bottom: 5px !important;\n",
       "}\n",
       "\n",
       ".xr-var-attrs-in:checked ~ .xr-var-attrs,\n",
       ".xr-var-data-in:checked ~ .xr-var-data {\n",
       "  display: block;\n",
       "}\n",
       "\n",
       ".xr-var-data > table {\n",
       "  float: right;\n",
       "}\n",
       "\n",
       ".xr-var-name span,\n",
       ".xr-var-data,\n",
       ".xr-attrs {\n",
       "  padding-left: 25px !important;\n",
       "}\n",
       "\n",
       ".xr-attrs,\n",
       ".xr-var-attrs,\n",
       ".xr-var-data {\n",
       "  grid-column: 1 / -1;\n",
       "}\n",
       "\n",
       "dl.xr-attrs {\n",
       "  padding: 0;\n",
       "  margin: 0;\n",
       "  display: grid;\n",
       "  grid-template-columns: 125px auto;\n",
       "}\n",
       "\n",
       ".xr-attrs dt,\n",
       ".xr-attrs dd {\n",
       "  padding: 0;\n",
       "  margin: 0;\n",
       "  float: left;\n",
       "  padding-right: 10px;\n",
       "  width: auto;\n",
       "}\n",
       "\n",
       ".xr-attrs dt {\n",
       "  font-weight: normal;\n",
       "  grid-column: 1;\n",
       "}\n",
       "\n",
       ".xr-attrs dt:hover span {\n",
       "  display: inline-block;\n",
       "  background: var(--xr-background-color);\n",
       "  padding-right: 10px;\n",
       "}\n",
       "\n",
       ".xr-attrs dd {\n",
       "  grid-column: 2;\n",
       "  white-space: pre-wrap;\n",
       "  word-break: break-all;\n",
       "}\n",
       "\n",
       ".xr-icon-database,\n",
       ".xr-icon-file-text2 {\n",
       "  display: inline-block;\n",
       "  vertical-align: middle;\n",
       "  width: 1em;\n",
       "  height: 1.5em !important;\n",
       "  stroke-width: 0;\n",
       "  stroke: currentColor;\n",
       "  fill: currentColor;\n",
       "}\n",
       "</style><pre class='xr-text-repr-fallback'>&lt;xarray.Dataset&gt;\n",
       "Dimensions:                    (time: 162)\n",
       "Coordinates:\n",
       "  * time                       (time) datetime64[ns] 2014-01-30T11:12:30 ... ...\n",
       "Data variables:\n",
       "    mf                         (time) float64 202.4 203.2 205.1 ... 114.5 114.2\n",
       "    mf_variability             (time) float64 5.265 6.307 8.518 ... 7.339 5.405\n",
       "    mf_number_of_observations  (time) float64 26.0 26.0 25.0 ... 23.0 24.0 23.0\n",
       "    inlet                      (time) &lt;U4 &#x27;248m&#x27; &#x27;248m&#x27; &#x27;248m&#x27; ... &#x27;108m&#x27; &#x27;108m&#x27;\n",
       "Attributes: (12/23)\n",
       "    data_owner:           Simon O&#x27;Doherty\n",
       "    data_owner_email:     s.odoherty@bristol.ac.uk\n",
       "    inlet_height_magl:    multiple\n",
       "    comment:              Cavity ring-down measurements. Output from GCWerks\n",
       "    long_name:            bilsdale\n",
       "    conditions_of_use:    Ensure that you contact the data owner at the outse...\n",
       "    ...                   ...\n",
       "    sampling_period:      60\n",
       "    inlet:                multiple\n",
       "    port:                 9\n",
       "    type:                 air\n",
       "    network:              decc\n",
       "    scale:                WMO-X2014A</pre><div class='xr-wrap' style='display:none'><div class='xr-header'><div class='xr-obj-type'>xarray.Dataset</div></div><ul class='xr-sections'><li class='xr-section-item'><input id='section-dcf63b59-1226-46d8-bbe7-70c49f2b55d2' class='xr-section-summary-in' type='checkbox' disabled ><label for='section-dcf63b59-1226-46d8-bbe7-70c49f2b55d2' class='xr-section-summary'  title='Expand/collapse section'>Dimensions:</label><div class='xr-section-inline-details'><ul class='xr-dim-list'><li><span class='xr-has-index'>time</span>: 162</li></ul></div><div class='xr-section-details'></div></li><li class='xr-section-item'><input id='section-6f0a6b60-0457-4918-9c25-60cdc2f27700' class='xr-section-summary-in' type='checkbox'  checked><label for='section-6f0a6b60-0457-4918-9c25-60cdc2f27700' class='xr-section-summary' >Coordinates: <span>(1)</span></label><div class='xr-section-inline-details'></div><div class='xr-section-details'><ul class='xr-var-list'><li class='xr-var-item'><div class='xr-var-name'><span class='xr-has-index'>time</span></div><div class='xr-var-dims'>(time)</div><div class='xr-var-dtype'>datetime64[ns]</div><div class='xr-var-preview xr-preview'>2014-01-30T11:12:30 ... 2020-12-...</div><input id='attrs-0aa5d4f6-3b16-46e8-af55-9e5bc925a65b' class='xr-var-attrs-in' type='checkbox' ><label for='attrs-0aa5d4f6-3b16-46e8-af55-9e5bc925a65b' title='Show/Hide attributes'><svg class='icon xr-icon-file-text2'><use xlink:href='#icon-file-text2'></use></svg></label><input id='data-36b4dcb3-e21a-4830-9c35-4aa9a2094d08' class='xr-var-data-in' type='checkbox'><label for='data-36b4dcb3-e21a-4830-9c35-4aa9a2094d08' title='Show/Hide data repr'><svg class='icon xr-icon-database'><use xlink:href='#icon-database'></use></svg></label><div class='xr-var-attrs'><dl class='xr-attrs'><dt><span>label :</span></dt><dd>left</dd><dt><span>standard_name :</span></dt><dd>time</dd><dt><span>comment :</span></dt><dd>Time stamp corresponds to beginning of sampling period. Time since midnight UTC of reference date. Note that sampling periods are approximate.</dd><dt><span>sampling_period_seconds :</span></dt><dd>60</dd></dl></div><div class='xr-var-data'><pre>array([&#x27;2014-01-30T11:12:30.000000000&#x27;, &#x27;2014-01-30T11:13:30.000000000&#x27;,\n",
       "       &#x27;2014-01-30T11:14:30.000000000&#x27;, &#x27;2014-01-30T11:15:30.000000000&#x27;,\n",
       "       &#x27;2014-01-30T11:16:30.000000000&#x27;, &#x27;2014-01-30T11:17:30.000000000&#x27;,\n",
       "       &#x27;2014-01-30T11:18:30.000000000&#x27;, &#x27;2014-11-30T11:19:30.000000000&#x27;,\n",
       "       &#x27;2014-11-30T11:20:30.000000000&#x27;, &#x27;2014-11-30T11:21:30.000000000&#x27;,\n",
       "       &#x27;2014-11-30T11:22:30.000000000&#x27;, &#x27;2014-11-30T11:23:30.000000000&#x27;,\n",
       "       &#x27;2015-01-30T11:12:30.000000000&#x27;, &#x27;2015-01-30T11:13:30.000000000&#x27;,\n",
       "       &#x27;2015-01-30T11:14:30.000000000&#x27;, &#x27;2015-01-30T11:15:30.000000000&#x27;,\n",
       "       &#x27;2015-01-30T11:16:30.000000000&#x27;, &#x27;2015-01-30T11:17:30.000000000&#x27;,\n",
       "       &#x27;2015-01-30T11:18:30.000000000&#x27;, &#x27;2015-01-30T11:19:30.000000000&#x27;,\n",
       "       &#x27;2015-01-30T11:20:30.000000000&#x27;, &#x27;2015-01-30T11:21:30.000000000&#x27;,\n",
       "       &#x27;2015-01-30T11:22:30.000000000&#x27;, &#x27;2015-01-30T11:23:30.000000000&#x27;,\n",
       "       &#x27;2015-11-30T11:12:30.000000000&#x27;, &#x27;2015-11-30T11:13:30.000000000&#x27;,\n",
       "       &#x27;2015-11-30T11:14:30.000000000&#x27;, &#x27;2015-11-30T11:15:30.000000000&#x27;,\n",
       "       &#x27;2015-11-30T11:16:30.000000000&#x27;, &#x27;2015-11-30T11:17:30.000000000&#x27;,\n",
       "       &#x27;2015-11-30T11:18:30.000000000&#x27;, &#x27;2015-11-30T11:19:30.000000000&#x27;,\n",
       "       &#x27;2015-11-30T11:20:30.000000000&#x27;, &#x27;2015-11-30T11:21:30.000000000&#x27;,\n",
       "       &#x27;2015-11-30T11:22:30.000000000&#x27;, &#x27;2015-11-30T11:23:30.000000000&#x27;,\n",
       "       &#x27;2016-04-02T06:52:30.000000000&#x27;, &#x27;2016-04-02T06:53:30.000000000&#x27;,\n",
       "       &#x27;2016-04-02T06:54:30.000000000&#x27;, &#x27;2016-04-02T06:55:30.000000000&#x27;,\n",
       "       &#x27;2016-04-02T06:56:30.000000000&#x27;, &#x27;2016-04-02T06:57:30.000000000&#x27;,\n",
       "       &#x27;2016-04-02T06:58:30.000000000&#x27;, &#x27;2016-04-02T09:04:30.000000000&#x27;,\n",
       "       &#x27;2016-04-02T09:05:30.000000000&#x27;, &#x27;2016-04-02T09:06:30.000000000&#x27;,\n",
       "       &#x27;2016-04-02T09:07:30.000000000&#x27;, &#x27;2016-11-02T09:50:30.000000000&#x27;,\n",
       "       &#x27;2016-11-02T09:51:30.000000000&#x27;, &#x27;2016-11-02T09:52:30.000000000&#x27;,\n",
       "       &#x27;2016-11-02T11:07:30.000000000&#x27;, &#x27;2016-11-02T12:06:30.000000000&#x27;,\n",
       "       &#x27;2016-11-02T12:07:30.000000000&#x27;, &#x27;2016-11-02T12:50:30.000000000&#x27;,\n",
       "       &#x27;2016-11-02T12:51:30.000000000&#x27;, &#x27;2016-11-02T12:52:30.000000000&#x27;,\n",
       "       &#x27;2016-11-02T12:53:30.000000000&#x27;, &#x27;2016-11-02T12:54:30.000000000&#x27;,\n",
       "       &#x27;2017-02-18T06:36:30.000000000&#x27;, &#x27;2017-02-18T06:37:30.000000000&#x27;,\n",
       "       &#x27;2017-02-18T06:38:30.000000000&#x27;, &#x27;2017-02-18T06:39:30.000000000&#x27;,\n",
       "       &#x27;2017-02-18T06:40:30.000000000&#x27;, &#x27;2017-02-18T06:41:30.000000000&#x27;,\n",
       "       &#x27;2017-02-18T06:42:30.000000000&#x27;, &#x27;2017-02-18T06:43:30.000000000&#x27;,\n",
       "       &#x27;2017-02-18T07:35:30.000000000&#x27;, &#x27;2017-02-18T07:36:30.000000000&#x27;,\n",
       "       &#x27;2017-02-18T14:35:30.000000000&#x27;, &#x27;2017-02-18T14:36:30.000000000&#x27;,\n",
       "       &#x27;2017-02-18T14:37:30.000000000&#x27;, &#x27;2017-02-18T14:38:30.000000000&#x27;,\n",
       "       &#x27;2017-02-18T14:39:30.000000000&#x27;, &#x27;2017-02-18T14:40:30.000000000&#x27;,\n",
       "       &#x27;2017-12-18T14:41:30.000000000&#x27;, &#x27;2017-12-18T14:42:30.000000000&#x27;,\n",
       "       &#x27;2017-12-18T14:43:30.000000000&#x27;, &#x27;2017-12-18T15:35:30.000000000&#x27;,\n",
       "       &#x27;2017-12-18T15:36:30.000000000&#x27;, &#x27;2017-12-18T15:37:30.000000000&#x27;,\n",
       "       &#x27;2017-12-18T15:38:30.000000000&#x27;, &#x27;2017-12-18T15:39:30.000000000&#x27;,\n",
       "       &#x27;2017-12-18T15:40:30.000000000&#x27;, &#x27;2017-12-18T15:41:30.000000000&#x27;,\n",
       "       &#x27;2018-02-18T15:35:30.000000000&#x27;, &#x27;2018-02-18T15:36:30.000000000&#x27;,\n",
       "       &#x27;2018-02-18T15:37:30.000000000&#x27;, &#x27;2018-02-18T15:38:30.000000000&#x27;,\n",
       "       &#x27;2018-02-18T15:39:30.000000000&#x27;, &#x27;2018-02-18T15:40:30.000000000&#x27;,\n",
       "       &#x27;2018-02-18T15:41:30.000000000&#x27;, &#x27;2018-02-18T15:42:30.000000000&#x27;,\n",
       "       &#x27;2018-02-18T15:42:30.000000000&#x27;, &#x27;2018-12-18T15:35:30.000000000&#x27;,\n",
       "       &#x27;2018-12-18T15:36:30.000000000&#x27;, &#x27;2018-12-18T15:37:30.000000000&#x27;,\n",
       "       &#x27;2018-12-18T15:38:30.000000000&#x27;, &#x27;2018-12-18T15:39:30.000000000&#x27;,\n",
       "       &#x27;2018-12-18T15:40:30.000000000&#x27;, &#x27;2018-12-18T15:41:30.000000000&#x27;,\n",
       "       &#x27;2018-12-18T15:42:30.000000000&#x27;, &#x27;2018-12-18T15:42:30.000000000&#x27;,\n",
       "       &#x27;2019-02-03T17:38:30.000000000&#x27;, &#x27;2019-02-03T17:38:30.000000000&#x27;,\n",
       "       &#x27;2019-02-03T17:39:30.000000000&#x27;, &#x27;2019-02-03T17:39:30.000000000&#x27;,\n",
       "       &#x27;2019-02-03T17:40:30.000000000&#x27;, &#x27;2019-02-03T17:40:30.000000000&#x27;,\n",
       "       &#x27;2019-02-03T17:41:30.000000000&#x27;, &#x27;2019-02-03T17:41:30.000000000&#x27;,\n",
       "       &#x27;2019-02-03T17:42:30.000000000&#x27;, &#x27;2019-02-03T17:42:30.000000000&#x27;,\n",
       "       &#x27;2019-02-03T17:43:30.000000000&#x27;, &#x27;2019-02-03T17:43:30.000000000&#x27;,\n",
       "       &#x27;2019-02-03T20:57:30.000000000&#x27;, &#x27;2019-02-03T20:57:30.000000000&#x27;,\n",
       "       &#x27;2019-02-03T20:58:30.000000000&#x27;, &#x27;2019-02-03T20:58:30.000000000&#x27;,\n",
       "       &#x27;2019-02-03T20:59:30.000000000&#x27;, &#x27;2019-02-03T20:59:30.000000000&#x27;,\n",
       "       &#x27;2019-02-03T21:00:30.000000000&#x27;, &#x27;2019-02-03T21:00:30.000000000&#x27;,\n",
       "       &#x27;2019-02-03T21:01:30.000000000&#x27;, &#x27;2019-02-03T21:01:30.000000000&#x27;,\n",
       "       &#x27;2019-02-03T21:02:30.000000000&#x27;, &#x27;2019-02-03T21:02:30.000000000&#x27;,\n",
       "       &#x27;2019-12-09T10:40:30.000000000&#x27;, &#x27;2019-12-09T10:41:30.000000000&#x27;,\n",
       "       &#x27;2019-12-09T10:41:30.000000000&#x27;, &#x27;2019-12-09T10:42:30.000000000&#x27;,\n",
       "       &#x27;2019-12-09T10:42:30.000000000&#x27;, &#x27;2019-12-09T10:43:30.000000000&#x27;,\n",
       "       &#x27;2019-12-09T10:43:30.000000000&#x27;, &#x27;2019-12-09T10:44:30.000000000&#x27;,\n",
       "       &#x27;2019-12-09T10:44:30.000000000&#x27;, &#x27;2019-12-09T10:45:30.000000000&#x27;,\n",
       "       &#x27;2019-12-09T10:45:30.000000000&#x27;, &#x27;2019-12-09T10:46:30.000000000&#x27;,\n",
       "       &#x27;2019-12-09T10:46:30.000000000&#x27;, &#x27;2019-12-09T10:47:30.000000000&#x27;,\n",
       "       &#x27;2019-12-09T10:47:30.000000000&#x27;, &#x27;2019-12-09T10:50:30.000000000&#x27;,\n",
       "       &#x27;2020-02-01T18:08:30.000000000&#x27;, &#x27;2020-02-01T18:09:30.000000000&#x27;,\n",
       "       &#x27;2020-02-01T18:10:30.000000000&#x27;, &#x27;2020-02-01T18:11:30.000000000&#x27;,\n",
       "       &#x27;2020-02-01T18:12:30.000000000&#x27;, &#x27;2020-02-01T18:13:30.000000000&#x27;,\n",
       "       &#x27;2020-02-01T18:14:30.000000000&#x27;, &#x27;2020-02-01T18:15:30.000000000&#x27;,\n",
       "       &#x27;2020-02-01T19:08:30.000000000&#x27;, &#x27;2020-02-01T21:29:30.000000000&#x27;,\n",
       "       &#x27;2020-12-01T21:30:30.000000000&#x27;, &#x27;2020-12-01T21:31:30.000000000&#x27;,\n",
       "       &#x27;2020-12-01T21:32:30.000000000&#x27;, &#x27;2020-12-01T21:33:30.000000000&#x27;,\n",
       "       &#x27;2020-12-01T21:34:30.000000000&#x27;, &#x27;2020-12-01T21:35:30.000000000&#x27;,\n",
       "       &#x27;2020-12-01T22:28:30.000000000&#x27;, &#x27;2020-12-01T22:29:30.000000000&#x27;,\n",
       "       &#x27;2020-12-01T22:30:30.000000000&#x27;, &#x27;2020-12-01T22:31:30.000000000&#x27;],\n",
       "      dtype=&#x27;datetime64[ns]&#x27;)</pre></div></li></ul></div></li><li class='xr-section-item'><input id='section-a90b96d8-a1f1-4384-90f1-5b9ce43af5db' class='xr-section-summary-in' type='checkbox'  checked><label for='section-a90b96d8-a1f1-4384-90f1-5b9ce43af5db' class='xr-section-summary' >Data variables: <span>(4)</span></label><div class='xr-section-inline-details'></div><div class='xr-section-details'><ul class='xr-var-list'><li class='xr-var-item'><div class='xr-var-name'><span>mf</span></div><div class='xr-var-dims'>(time)</div><div class='xr-var-dtype'>float64</div><div class='xr-var-preview xr-preview'>202.4 203.2 205.1 ... 114.5 114.2</div><input id='attrs-cca38127-b641-48d1-9c3b-3fd6b0b8685a' class='xr-var-attrs-in' type='checkbox' ><label for='attrs-cca38127-b641-48d1-9c3b-3fd6b0b8685a' title='Show/Hide attributes'><svg class='icon xr-icon-file-text2'><use xlink:href='#icon-file-text2'></use></svg></label><input id='data-789c8b40-70b9-4bab-8b74-f2a41bbe7da6' class='xr-var-data-in' type='checkbox'><label for='data-789c8b40-70b9-4bab-8b74-f2a41bbe7da6' title='Show/Hide data repr'><svg class='icon xr-icon-database'><use xlink:href='#icon-database'></use></svg></label><div class='xr-var-attrs'><dl class='xr-attrs'><dt><span>long_name :</span></dt><dd>mole_fraction_of_carbon_monoxide_in_air</dd><dt><span>units :</span></dt><dd>1e-9</dd></dl></div><div class='xr-var-data'><pre>array([202.44, 203.23, 205.1 , 202.88, 203.88, 201.73, 203.14, 204.18,\n",
       "       204.96, 202.14, 203.67, 202.82, 202.44, 203.23, 205.1 , 202.88,\n",
       "       203.88, 201.73, 203.14, 204.18, 204.96, 202.14, 203.67, 202.82,\n",
       "       202.44, 203.23, 205.1 , 202.88, 203.88, 201.73, 203.14, 204.18,\n",
       "       204.96, 202.14, 203.67, 202.82, 151.48, 149.15, 151.43, 153.85,\n",
       "       149.16, 154.99, 151.64, 151.52, 153.91, 153.04, 156.93, 158.94,\n",
       "       156.27, 158.02, 161.4 , 164.25, 163.28, 166.07, 164.43, 164.84,\n",
       "       160.31, 164.48, 121.5 , 121.13, 118.62, 119.2 , 121.28, 118.34,\n",
       "       118.27, 122.41, 120.04, 117.14, 117.63, 115.66, 118.4 , 118.53,\n",
       "       118.45, 118.15, 118.83, 118.7 , 122.37, 121.32, 119.86, 118.09,\n",
       "       117.24, 119.31, 118.5 , 122.94, 121.32, 119.86, 118.09, 117.24,\n",
       "       119.31, 118.5 , 122.94, 121.86, 121.86, 121.32, 119.86, 118.09,\n",
       "       117.24, 119.31, 118.5 , 122.94, 121.86, 121.86, 154.99, 154.99,\n",
       "       156.64, 156.64, 151.35, 151.35, 154.78, 154.78, 151.08, 151.08,\n",
       "       156.51, 156.51, 150.87, 150.87, 156.4 , 156.4 , 157.29, 157.29,\n",
       "       154.92, 154.92, 159.35, 159.35, 164.32, 164.32, 125.78, 125.19,\n",
       "       125.19, 125.01, 125.01, 126.96, 126.96, 125.78, 125.78, 123.71,\n",
       "       123.71, 126.91, 126.91, 125.81, 125.81, 125.78, 116.12, 116.88,\n",
       "       116.82, 116.1 , 119.01, 114.81, 115.39, 116.67, 112.79, 114.04,\n",
       "       116.04, 114.86, 112.33, 113.44, 112.31, 116.25, 113.78, 113.92,\n",
       "       114.48, 114.24])</pre></div></li><li class='xr-var-item'><div class='xr-var-name'><span>mf_variability</span></div><div class='xr-var-dims'>(time)</div><div class='xr-var-dtype'>float64</div><div class='xr-var-preview xr-preview'>5.265 6.307 8.518 ... 7.339 5.405</div><input id='attrs-61705b38-0063-491c-ad53-3c87ba222851' class='xr-var-attrs-in' type='checkbox' ><label for='attrs-61705b38-0063-491c-ad53-3c87ba222851' title='Show/Hide attributes'><svg class='icon xr-icon-file-text2'><use xlink:href='#icon-file-text2'></use></svg></label><input id='data-8fb9ad8f-1487-4cb6-b03d-1f6c43b0e9b4' class='xr-var-data-in' type='checkbox'><label for='data-8fb9ad8f-1487-4cb6-b03d-1f6c43b0e9b4' title='Show/Hide data repr'><svg class='icon xr-icon-database'><use xlink:href='#icon-database'></use></svg></label><div class='xr-var-attrs'><dl class='xr-attrs'><dt><span>long_name :</span></dt><dd>mole_fraction_of_carbon_monoxide_in_air_variability</dd><dt><span>units :</span></dt><dd>1e-9</dd></dl></div><div class='xr-var-data'><pre>array([5.265, 6.307, 8.518, 8.091, 6.419, 7.476, 6.514, 6.619, 5.995,\n",
       "       6.213, 6.535, 7.029, 5.265, 6.307, 8.518, 8.091, 6.419, 7.476,\n",
       "       6.514, 6.619, 5.995, 6.213, 6.535, 7.029, 5.265, 6.307, 8.518,\n",
       "       8.091, 6.419, 7.476, 6.514, 6.619, 5.995, 6.213, 6.535, 7.029,\n",
       "       6.322, 8.469, 5.801, 4.976, 6.78 , 8.013, 6.905, 6.005, 7.988,\n",
       "       6.791, 7.024, 7.94 , 6.387, 6.334, 7.092, 5.614, 4.655, 6.804,\n",
       "       5.086, 4.993, 5.773, 6.394, 5.628, 4.639, 5.792, 5.788, 7.024,\n",
       "       7.253, 6.56 , 6.124, 6.1  , 8.11 , 6.469, 6.556, 5.306, 6.293,\n",
       "       4.357, 5.828, 7.37 , 7.346, 6.871, 5.616, 6.438, 4.598, 5.945,\n",
       "       6.462, 5.471, 6.323, 5.616, 6.438, 4.598, 5.945, 6.462, 5.471,\n",
       "       6.323, 7.972, 7.972, 5.616, 6.438, 4.598, 5.945, 6.462, 5.471,\n",
       "       6.323, 7.972, 7.972, 5.79 , 5.79 , 6.941, 6.941, 7.207, 7.207,\n",
       "       4.313, 4.313, 6.131, 6.131, 9.731, 9.731, 6.111, 6.111, 6.18 ,\n",
       "       6.18 , 7.025, 7.025, 6.201, 6.201, 8.674, 8.674, 7.595, 7.595,\n",
       "       7.143, 6.453, 6.453, 7.45 , 7.45 , 7.812, 7.812, 5.788, 5.788,\n",
       "       7.835, 7.835, 6.286, 6.286, 4.229, 4.229, 7.143, 5.923, 5.756,\n",
       "       5.919, 6.72 , 5.064, 6.578, 5.222, 5.873, 5.703, 6.447, 6.283,\n",
       "       7.224, 4.795, 6.312, 4.765, 6.168, 5.464, 5.645, 7.339, 5.405])</pre></div></li><li class='xr-var-item'><div class='xr-var-name'><span>mf_number_of_observations</span></div><div class='xr-var-dims'>(time)</div><div class='xr-var-dtype'>float64</div><div class='xr-var-preview xr-preview'>26.0 26.0 25.0 ... 23.0 24.0 23.0</div><input id='attrs-33ab5fcd-34c0-4289-ad9d-93b31fb723b3' class='xr-var-attrs-in' type='checkbox' ><label for='attrs-33ab5fcd-34c0-4289-ad9d-93b31fb723b3' title='Show/Hide attributes'><svg class='icon xr-icon-file-text2'><use xlink:href='#icon-file-text2'></use></svg></label><input id='data-82007fc6-9a4a-44e9-b9b9-7e4ee2835f1f' class='xr-var-data-in' type='checkbox'><label for='data-82007fc6-9a4a-44e9-b9b9-7e4ee2835f1f' title='Show/Hide data repr'><svg class='icon xr-icon-database'><use xlink:href='#icon-database'></use></svg></label><div class='xr-var-attrs'><dl class='xr-attrs'><dt><span>long_name :</span></dt><dd>mole_fraction_of_carbon_monoxide_in_air_number_of_observations</dd></dl></div><div class='xr-var-data'><pre>array([26., 26., 25., 26., 26., 25., 26., 25., 26., 26., 25., 26., 26.,\n",
       "       26., 25., 26., 26., 25., 26., 25., 26., 26., 25., 26., 26., 26.,\n",
       "       25., 26., 26., 25., 26., 25., 26., 26., 25., 26., 19., 24., 20.,\n",
       "       22., 22., 23., 23., 21., 22., 22., 17., 24., 20., 21., 17., 20.,\n",
       "       19., 23., 22., 22., 20., 21., 23., 23., 24., 24., 23., 23., 24.,\n",
       "        6., 23., 23., 24., 23., 23., 23., 24., 23., 23., 23.,  7., 24.,\n",
       "       23., 23., 24., 23., 23., 24., 24., 23., 23., 24., 23., 23., 24.,\n",
       "       23., 23., 24., 23., 23., 24., 23., 23., 24., 23., 23., 25., 25.,\n",
       "       24., 24., 25., 25., 25., 25., 25., 25., 11., 11., 25., 25., 25.,\n",
       "       25., 25., 25., 24., 24., 25., 25., 25., 25., 24., 25., 25., 25.,\n",
       "       25., 24., 24., 25., 25., 25., 25., 25., 25., 12., 12., 24., 24.,\n",
       "       23., 23., 24., 23., 23., 24., 23., 24., 23., 24., 23., 24., 23.,\n",
       "       24., 23., 24., 23., 24., 23.])</pre></div></li><li class='xr-var-item'><div class='xr-var-name'><span>inlet</span></div><div class='xr-var-dims'>(time)</div><div class='xr-var-dtype'>&lt;U4</div><div class='xr-var-preview xr-preview'>&#x27;248m&#x27; &#x27;248m&#x27; ... &#x27;108m&#x27; &#x27;108m&#x27;</div><input id='attrs-2044a3a9-d439-41d6-8afb-6f1d2921abe8' class='xr-var-attrs-in' type='checkbox' disabled><label for='attrs-2044a3a9-d439-41d6-8afb-6f1d2921abe8' title='Show/Hide attributes'><svg class='icon xr-icon-file-text2'><use xlink:href='#icon-file-text2'></use></svg></label><input id='data-563eaf9f-9175-48bb-9c8f-71148e39212f' class='xr-var-data-in' type='checkbox'><label for='data-563eaf9f-9175-48bb-9c8f-71148e39212f' title='Show/Hide data repr'><svg class='icon xr-icon-database'><use xlink:href='#icon-database'></use></svg></label><div class='xr-var-attrs'><dl class='xr-attrs'></dl></div><div class='xr-var-data'><pre>array([&#x27;248m&#x27;, &#x27;248m&#x27;, &#x27;248m&#x27;, &#x27;248m&#x27;, &#x27;248m&#x27;, &#x27;248m&#x27;, &#x27;248m&#x27;, &#x27;248m&#x27;,\n",
       "       &#x27;248m&#x27;, &#x27;248m&#x27;, &#x27;248m&#x27;, &#x27;248m&#x27;, &#x27;248m&#x27;, &#x27;248m&#x27;, &#x27;248m&#x27;, &#x27;248m&#x27;,\n",
       "       &#x27;248m&#x27;, &#x27;248m&#x27;, &#x27;248m&#x27;, &#x27;248m&#x27;, &#x27;248m&#x27;, &#x27;248m&#x27;, &#x27;248m&#x27;, &#x27;248m&#x27;,\n",
       "       &#x27;248m&#x27;, &#x27;248m&#x27;, &#x27;248m&#x27;, &#x27;248m&#x27;, &#x27;248m&#x27;, &#x27;248m&#x27;, &#x27;248m&#x27;, &#x27;248m&#x27;,\n",
       "       &#x27;248m&#x27;, &#x27;248m&#x27;, &#x27;248m&#x27;, &#x27;248m&#x27;, &#x27;248m&#x27;, &#x27;248m&#x27;, &#x27;248m&#x27;, &#x27;248m&#x27;,\n",
       "       &#x27;248m&#x27;, &#x27;248m&#x27;, &#x27;248m&#x27;, &#x27;248m&#x27;, &#x27;248m&#x27;, &#x27;248m&#x27;, &#x27;248m&#x27;, &#x27;248m&#x27;,\n",
       "       &#x27;248m&#x27;, &#x27;248m&#x27;, &#x27;248m&#x27;, &#x27;248m&#x27;, &#x27;248m&#x27;, &#x27;248m&#x27;, &#x27;248m&#x27;, &#x27;248m&#x27;,\n",
       "       &#x27;248m&#x27;, &#x27;248m&#x27;, &#x27;248m&#x27;, &#x27;248m&#x27;, &#x27;248m&#x27;, &#x27;248m&#x27;, &#x27;248m&#x27;, &#x27;248m&#x27;,\n",
       "       &#x27;248m&#x27;, &#x27;248m&#x27;, &#x27;248m&#x27;, &#x27;248m&#x27;, &#x27;248m&#x27;, &#x27;248m&#x27;, &#x27;248m&#x27;, &#x27;248m&#x27;,\n",
       "       &#x27;248m&#x27;, &#x27;248m&#x27;, &#x27;248m&#x27;, &#x27;248m&#x27;, &#x27;248m&#x27;, &#x27;248m&#x27;, &#x27;248m&#x27;, &#x27;248m&#x27;,\n",
       "       &#x27;248m&#x27;, &#x27;248m&#x27;, &#x27;248m&#x27;, &#x27;248m&#x27;, &#x27;42m&#x27;, &#x27;42m&#x27;, &#x27;42m&#x27;, &#x27;42m&#x27;, &#x27;42m&#x27;,\n",
       "       &#x27;42m&#x27;, &#x27;42m&#x27;, &#x27;42m&#x27;, &#x27;42m&#x27;, &#x27;42m&#x27;, &#x27;42m&#x27;, &#x27;42m&#x27;, &#x27;42m&#x27;, &#x27;42m&#x27;,\n",
       "       &#x27;42m&#x27;, &#x27;42m&#x27;, &#x27;42m&#x27;, &#x27;42m&#x27;, &#x27;108m&#x27;, &#x27;42m&#x27;, &#x27;108m&#x27;, &#x27;42m&#x27;, &#x27;108m&#x27;,\n",
       "       &#x27;42m&#x27;, &#x27;108m&#x27;, &#x27;42m&#x27;, &#x27;108m&#x27;, &#x27;42m&#x27;, &#x27;108m&#x27;, &#x27;42m&#x27;, &#x27;108m&#x27;, &#x27;42m&#x27;,\n",
       "       &#x27;108m&#x27;, &#x27;42m&#x27;, &#x27;108m&#x27;, &#x27;42m&#x27;, &#x27;108m&#x27;, &#x27;42m&#x27;, &#x27;108m&#x27;, &#x27;42m&#x27;, &#x27;108m&#x27;,\n",
       "       &#x27;42m&#x27;, &#x27;108m&#x27;, &#x27;108m&#x27;, &#x27;42m&#x27;, &#x27;108m&#x27;, &#x27;42m&#x27;, &#x27;108m&#x27;, &#x27;42m&#x27;, &#x27;108m&#x27;,\n",
       "       &#x27;42m&#x27;, &#x27;108m&#x27;, &#x27;42m&#x27;, &#x27;108m&#x27;, &#x27;42m&#x27;, &#x27;108m&#x27;, &#x27;42m&#x27;, &#x27;42m&#x27;, &#x27;108m&#x27;,\n",
       "       &#x27;108m&#x27;, &#x27;108m&#x27;, &#x27;108m&#x27;, &#x27;108m&#x27;, &#x27;108m&#x27;, &#x27;108m&#x27;, &#x27;108m&#x27;, &#x27;108m&#x27;,\n",
       "       &#x27;108m&#x27;, &#x27;108m&#x27;, &#x27;108m&#x27;, &#x27;108m&#x27;, &#x27;108m&#x27;, &#x27;108m&#x27;, &#x27;108m&#x27;, &#x27;108m&#x27;,\n",
       "       &#x27;108m&#x27;, &#x27;108m&#x27;, &#x27;108m&#x27;], dtype=&#x27;&lt;U4&#x27;)</pre></div></li></ul></div></li><li class='xr-section-item'><input id='section-04bd55c3-85a0-4dbf-81bf-e94249f3ec70' class='xr-section-summary-in' type='checkbox'  ><label for='section-04bd55c3-85a0-4dbf-81bf-e94249f3ec70' class='xr-section-summary' >Attributes: <span>(23)</span></label><div class='xr-section-inline-details'></div><div class='xr-section-details'><dl class='xr-attrs'><dt><span>data_owner :</span></dt><dd>Simon O&#x27;Doherty</dd><dt><span>data_owner_email :</span></dt><dd>s.odoherty@bristol.ac.uk</dd><dt><span>inlet_height_magl :</span></dt><dd>multiple</dd><dt><span>comment :</span></dt><dd>Cavity ring-down measurements. Output from GCWerks</dd><dt><span>long_name :</span></dt><dd>bilsdale</dd><dt><span>conditions_of_use :</span></dt><dd>Ensure that you contact the data owner at the outset of your project.</dd><dt><span>source :</span></dt><dd>In situ measurements of air</dd><dt><span>Conventions :</span></dt><dd>CF-1.6</dd><dt><span>file_created :</span></dt><dd>2022-02-01 15:30:43.776691+00:00</dd><dt><span>processed_by :</span></dt><dd>OpenGHG_Cloud</dd><dt><span>species :</span></dt><dd>co</dd><dt><span>station_longitude :</span></dt><dd>-1.15033</dd><dt><span>station_latitude :</span></dt><dd>54.35858</dd><dt><span>station_long_name :</span></dt><dd>Bilsdale, UK</dd><dt><span>station_height_masl :</span></dt><dd>380.0</dd><dt><span>site :</span></dt><dd>bsd</dd><dt><span>instrument :</span></dt><dd>picarro</dd><dt><span>sampling_period :</span></dt><dd>60</dd><dt><span>inlet :</span></dt><dd>multiple</dd><dt><span>port :</span></dt><dd>9</dd><dt><span>type :</span></dt><dd>air</dd><dt><span>network :</span></dt><dd>decc</dd><dt><span>scale :</span></dt><dd>WMO-X2014A</dd></dl></div></li></ul></div></div>"
      ],
      "text/plain": [
       "<xarray.Dataset>\n",
       "Dimensions:                    (time: 162)\n",
       "Coordinates:\n",
       "  * time                       (time) datetime64[ns] 2014-01-30T11:12:30 ... ...\n",
       "Data variables:\n",
       "    mf                         (time) float64 202.4 203.2 205.1 ... 114.5 114.2\n",
       "    mf_variability             (time) float64 5.265 6.307 8.518 ... 7.339 5.405\n",
       "    mf_number_of_observations  (time) float64 26.0 26.0 25.0 ... 23.0 24.0 23.0\n",
       "    inlet                      (time) <U4 '248m' '248m' '248m' ... '108m' '108m'\n",
       "Attributes: (12/23)\n",
       "    data_owner:           Simon O'Doherty\n",
       "    data_owner_email:     s.odoherty@bristol.ac.uk\n",
       "    inlet_height_magl:    multiple\n",
       "    comment:              Cavity ring-down measurements. Output from GCWerks\n",
       "    long_name:            bilsdale\n",
       "    conditions_of_use:    Ensure that you contact the data owner at the outse...\n",
       "    ...                   ...\n",
       "    sampling_period:      60\n",
       "    inlet:                multiple\n",
       "    port:                 9\n",
       "    type:                 air\n",
       "    network:              decc\n",
       "    scale:                WMO-X2014A"
      ]
     },
     "execution_count": 9,
     "metadata": {},
     "output_type": "execute_result"
    }
   ],
   "source": [
    "co_data.data"
   ]
  },
  {
   "cell_type": "markdown",
   "metadata": {},
   "source": [
    "You can also see that because we extracted all the data for this site and species, this has also returned details of which inlet was applicable for each data point.\n",
    "\n",
    "We will also have additional metadata associated with our returned `co_data` object which includes the details of the ranking and applicable date ranges:"
   ]
  },
  {
   "cell_type": "code",
   "execution_count": 10,
   "metadata": {
    "execution": {
     "iopub.execute_input": "2022-02-01T15:30:44.475569Z",
     "iopub.status.busy": "2022-02-01T15:30:44.474662Z",
     "iopub.status.idle": "2022-02-01T15:30:44.478481Z",
     "shell.execute_reply": "2022-02-01T15:30:44.477880Z"
    }
   },
   "outputs": [
    {
     "data": {
      "text/plain": [
       "{'2018-01-01-00:00:00+00:00_2019-05-30-00:00:00+00:00': '42m',\n",
       " '2019-05-30-00:00:00+00:00_2021-11-30-00:00:00+00:00': '108m',\n",
       " '2016-01-01-00:00:00+00:00_2018-01-01-00:00:00+00:00': '248m'}"
      ]
     },
     "execution_count": 10,
     "metadata": {},
     "output_type": "execute_result"
    }
   ],
   "source": [
    "co_data.metadata[\"rank_metadata\"]"
   ]
  },
  {
   "cell_type": "markdown",
   "metadata": {},
   "source": [
    "---"
   ]
  },
  {
   "cell_type": "markdown",
   "metadata": {},
   "source": [
    "#### Clean up\n",
    "\n",
    "If you used the `tmp_dir` as a location for your object store at the start of the tutorial you can run the cell below to remove any files that were created to make sure any persistant data is refreshed when the notebook is re-run."
   ]
  },
  {
   "cell_type": "code",
   "execution_count": 11,
   "metadata": {
    "execution": {
     "iopub.execute_input": "2022-02-01T15:30:44.482335Z",
     "iopub.status.busy": "2022-02-01T15:30:44.481790Z",
     "iopub.status.idle": "2022-02-01T15:30:44.485198Z",
     "shell.execute_reply": "2022-02-01T15:30:44.485780Z"
    }
   },
   "outputs": [],
   "source": [
    "tmp_dir.cleanup()"
   ]
  }
 ],
 "metadata": {
  "interpreter": {
   "hash": "639e5ac7f180c95d47b677421e2009c00ec272255444d3116823602467956294"
  },
  "jupytext": {
   "formats": "ipynb,md:myst"
  },
  "kernelspec": {
   "display_name": "Python 3",
   "language": "python",
   "name": "python3"
  },
  "language_info": {
   "codemirror_mode": {
    "name": "ipython",
    "version": 3
   },
   "file_extension": ".py",
   "mimetype": "text/x-python",
   "name": "python",
   "nbconvert_exporter": "python",
   "pygments_lexer": "ipython3",
   "version": "3.10.1"
  }
 },
 "nbformat": 4,
 "nbformat_minor": 2
}
