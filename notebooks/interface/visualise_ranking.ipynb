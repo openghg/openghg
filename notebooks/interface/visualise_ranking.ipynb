{
 "cells": [
  {
   "cell_type": "code",
   "execution_count": null,
   "metadata": {},
   "outputs": [],
   "source": [
    "import sys\n",
    "\n",
    "sys.path.insert(0, \"../../..\")\n",
    "sys.path.insert(0, \"../../../../acquire\")\n",
    "\n",
    "from collections import defaultdict\n",
    "from uuid import uuid4\n",
    "import os\n",
    "\n",
    "from pyvis.network import Network\n",
    "from HUGS.ObjectStore import query_store, get_local_bucket\n",
    "from HUGS.LocalClient import RankSources\n",
    "\n",
    "from HUGS.Modules import ObsSurface\n",
    "\n",
    "%load_ext autoreload\n",
    "%autoreload 2"
   ]
  },
  {
   "cell_type": "code",
   "execution_count": null,
   "metadata": {},
   "outputs": [],
   "source": [
    "previous_path = os.environ[\"OPENGHG_PATH\"]\n",
    "\n",
    "os.environ[\"OPENGHG_PATH\"] = \"/tmp/vis_rank_tmp\"\n",
    "\n",
    "# Use this if you want to remove the temporary object store\n",
    "get_local_bucket(empty=True)\n",
    "\n",
    "# CRDS\n",
    "hundredm_data = \"../../../tests/data/proc_test_data/CRDS/hfd.picarro.1minute.100m.min.dat\"\n",
    "fiftym_data = \"../../../tests/data/proc_test_data/CRDS/hfd.picarro.1minute.50m.min.dat\"\n",
    "\n",
    "results = ObsSurface.read_file([fiftym_data, hundredm_data], data_type=\"CRDS\", network=\"DECC\", overwrite=True)"
   ]
  },
  {
   "cell_type": "code",
   "execution_count": null,
   "metadata": {},
   "outputs": [],
   "source": [
    "r = RankSources()\n",
    "# Get the sources for CO2 at Tacolneston\n",
    "rank_info = r.get_sources(site=\"hfd\", species=\"co2\")"
   ]
  },
  {
   "cell_type": "code",
   "execution_count": null,
   "metadata": {},
   "outputs": [],
   "source": [
    "r.show_rank_network()"
   ]
  },
  {
   "cell_type": "code",
   "execution_count": null,
   "metadata": {},
   "outputs": [],
   "source": [
    "daterange_50m = r.create_daterange(start=\"2012-07-26\", end=\"2017-07-06\")\n",
    "daterange_100m = r.create_daterange(start=\"2017-07-07\", end=\"2020-07-06\")\n",
    "\n",
    "rank_50m = {1: [daterange_50m]}\n",
    "rank_100m = {2: [daterange_100m]}"
   ]
  },
  {
   "cell_type": "code",
   "execution_count": null,
   "metadata": {},
   "outputs": [],
   "source": [
    "r.set_rank(rank_key=\"co2_hfd_50m_picarro\", rank_data=rank_50m)\n",
    "r.set_rank(rank_key=\"co2_hfd_100m_picarro\", rank_data=rank_100m)"
   ]
  },
  {
   "cell_type": "markdown",
   "metadata": {},
   "source": [
    "Update the ranking info"
   ]
  },
  {
   "cell_type": "code",
   "execution_count": null,
   "metadata": {},
   "outputs": [],
   "source": [
    "r.show_rank_network()"
   ]
  },
  {
   "cell_type": "markdown",
   "metadata": {},
   "source": [
    "Get the data from the object store again to check everything looks correct"
   ]
  },
  {
   "cell_type": "code",
   "execution_count": null,
   "metadata": {},
   "outputs": [],
   "source": [
    "r.get_sources(site=\"hfd\", species=\"co2\")"
   ]
  },
  {
   "cell_type": "markdown",
   "metadata": {},
   "source": [
    "Set the environment variable back"
   ]
  },
  {
   "cell_type": "code",
   "execution_count": null,
   "metadata": {},
   "outputs": [],
   "source": [
    "os.environ[\"OPENGHG_PATH\"] = previous_path"
   ]
  }
 ],
 "metadata": {
  "kernelspec": {
   "display_name": "Python 3",
   "language": "python",
   "name": "python3"
  },
  "language_info": {
   "codemirror_mode": {
    "name": "ipython",
    "version": 3
   },
   "file_extension": ".py",
   "mimetype": "text/x-python",
   "name": "python",
   "nbconvert_exporter": "python",
   "pygments_lexer": "ipython3"
  }
 },
 "nbformat": 4,
 "nbformat_minor": 4
}
