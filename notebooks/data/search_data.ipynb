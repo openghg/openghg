{
 "cells": [
  {
   "cell_type": "markdown",
   "id": "cutting-cholesterol",
   "metadata": {},
   "source": [
    "# Searching data"
   ]
  },
  {
   "cell_type": "markdown",
   "id": "interim-closer",
   "metadata": {},
   "source": [
    "Quick details to check searching of the object store once this has been populated.\n",
    "\n",
    "Depending on if we have a dummy object store available for testing these could be used as a basis for unit tests of this function."
   ]
  },
  {
   "cell_type": "code",
   "execution_count": null,
   "id": "logical-netscape",
   "metadata": {},
   "outputs": [],
   "source": [
    "import os\n",
    "os.environ[\"OPENGHG_PATH\"] = \"/work/chxmr/objectStore\""
   ]
  },
  {
   "cell_type": "code",
   "execution_count": null,
   "id": "filled-amplifier",
   "metadata": {},
   "outputs": [],
   "source": [
    "from openghg.processing import search\n",
    "\n",
    "def search_and_print(**kwargs):\n",
    "    \n",
    "    search_output = search(**kwargs)\n",
    "    \n",
    "    print(f\"Number of outputs: {len(search_output.values())}\")\n",
    "    all_inputs_match = True\n",
    "    for value in search_output.values():\n",
    "        metadata = value[\"metadata\"]\n",
    "        print(value[\"metadata\"])\n",
    "        for key, value in kwargs.items():\n",
    "            if metadata[key].lower() != value.lower():\n",
    "                all_inputs_match = False\n",
    "    print(f\"All inputs match: {all_inputs_match}\")"
   ]
  },
  {
   "cell_type": "code",
   "execution_count": null,
   "id": "powered-hearts",
   "metadata": {},
   "outputs": [],
   "source": [
    "# Checking one species input\n",
    "search_and_print(species=\"ch4\")"
   ]
  },
  {
   "cell_type": "code",
   "execution_count": null,
   "id": "veterinary-entertainment",
   "metadata": {},
   "outputs": [],
   "source": [
    "# Checking a different species input\n",
    "search_and_print(species=\"cfc11\")"
   ]
  },
  {
   "cell_type": "code",
   "execution_count": null,
   "id": "difficult-springfield",
   "metadata": {},
   "outputs": [],
   "source": [
    "# Checking species and site\n",
    "search_and_print(species=\"cfc11\", site=\"cgo\")"
   ]
  },
  {
   "cell_type": "code",
   "execution_count": null,
   "id": "solid-emphasis",
   "metadata": {},
   "outputs": [],
   "source": [
    "# Checking if we can get an unique entry by specifying the inlet\n",
    "search_and_print(species=\"cfc11\", site=\"cgo\", inlet=\"70m\")"
   ]
  },
  {
   "cell_type": "code",
   "execution_count": null,
   "id": "caroline-institute",
   "metadata": {},
   "outputs": [],
   "source": [
    "# Checking the other inlet\n",
    "search_and_print(species=\"cfc11\", site=\"cgo\", inlet=\"10m\")"
   ]
  },
  {
   "cell_type": "code",
   "execution_count": null,
   "id": "dimensional-access",
   "metadata": {},
   "outputs": [],
   "source": [
    "# Checking capital letter site codes (common syntax)\n",
    "search_and_print(site=\"CGO\")"
   ]
  },
  {
   "cell_type": "code",
   "execution_count": null,
   "id": "appreciated-question",
   "metadata": {},
   "outputs": [],
   "source": [
    "# Checking instrument input\n",
    "search_and_print(site=\"cgo\", instrument=\"gcmd\")"
   ]
  },
  {
   "cell_type": "code",
   "execution_count": null,
   "id": "cross-butler",
   "metadata": {},
   "outputs": [],
   "source": [
    "# Checking lots of combined inputs (and a different instrument)\n",
    "# to get a unique entry\n",
    "search_and_print(site=\"tac\", instrument=\"picarro\", inlet=\"185m\",\n",
    "                species=\"co2\")"
   ]
  }
 ],
 "metadata": {
  "kernelspec": {
   "display_name": "Python 3",
   "language": "python",
   "name": "python3"
  },
  "language_info": {
   "codemirror_mode": {
    "name": "ipython",
    "version": 3
   },
   "file_extension": ".py",
   "mimetype": "text/x-python",
   "name": "python",
   "nbconvert_exporter": "python",
   "pygments_lexer": "ipython3"
  }
 },
 "nbformat": 4,
 "nbformat_minor": 5
}
