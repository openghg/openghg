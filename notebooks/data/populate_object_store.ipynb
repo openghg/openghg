{
 "cells": [
  {
   "cell_type": "markdown",
   "id": "dietary-tension",
   "metadata": {},
   "source": [
    "# Populating the object store"
   ]
  },
  {
   "cell_type": "markdown",
   "id": "satellite-instrumentation",
   "metadata": {},
   "source": [
    "**Probably better off running this as a batch job but included this here to show how this could be run**"
   ]
  },
  {
   "cell_type": "code",
   "execution_count": null,
   "id": "mobile-hospital",
   "metadata": {},
   "outputs": [],
   "source": [
    "import sys\n",
    "sys.path.insert(0, \"/work/rt17603/environments/openghg/bin/activate\")\n",
    "\n",
    "from openghg.modules import ObsSurface"
   ]
  },
  {
   "cell_type": "code",
   "execution_count": null,
   "id": "contained-spray",
   "metadata": {},
   "outputs": [],
   "source": [
    "import os\n",
    "os.environ[\"OPENGHG_PATH\"] = \"/work/chxmr/objectStore\""
   ]
  },
  {
   "cell_type": "markdown",
   "id": "conceptual-syndication",
   "metadata": {},
   "source": [
    "Summary of data files we want to read in to create the primary object store (based on AGAGE, DECC and ICOS data defined within acrg_obs.process_gcwerks.array_job function)\n",
    "\n",
    "Details of files processed within process_gcwerks.array_job:\n",
    "- data_type = \"GCWERKS\", network=\"AGAGE\" (instrument is \"medusa\")\n",
    "  - \"MHD\"\n",
    "  - \"CGO\"\n",
    "  - \"GSN\"\n",
    "  - \"SDZ\"\n",
    "  - \"THD\"\n",
    "  - \"RPB\"\n",
    "  - \"SMO\"\n",
    "  - \"SIO\"\n",
    "  - \"JFJ\"\n",
    "  - \"CMN\"\n",
    "  - \"ZEP\"\n",
    "- data_type = \"GCWERKS\", network=\"AGAGE\" (instrument is \"GCMD\")\n",
    "  - \"MHD\"\n",
    "  - \"CGO\"\n",
    "  - \"RPB\"\n",
    "  - \"SMO\"\n",
    "  - \"THD\"\n",
    "- data_type = \"GCWERKS\", network=\"AGAGE\" (instrument is \"GCMS\")\n",
    "  - \"MHD\"\n",
    "  - \"CGO\"\n",
    "  - \"RPB\"\n",
    "  - \"SMO\"\n",
    "  - \"THD\"\n",
    "  - \"JFJ\"\n",
    "  - \"CMN\"\n",
    "  - \"ZEP\"\n",
    "- data_type = \"GCWERKS\", network = \"DECC\" (instrument is \"GCMD\")\n",
    "  - \"BSD\"\n",
    "  - \"HFD\"\n",
    "  - \"BSD\"\n",
    "  - \"TAC\"\n",
    "  - \"RGL\"\n",
    "- data_type = \"GCWERKS\", network = \"DECC\" (instrument is \"medusa\")\n",
    "  - \"TAC\"\n",
    "- data_type = \"CRDS\", network = \"AGAGE\"\n",
    "  - \"RPB\"\n",
    "- data_type = \"CRDS\", network = \"DECC\"\n",
    "  - \"BSD\"\n",
    "  - \"HFD\"\n",
    "  - \"TTA\"\n",
    "  - \"RGL\"\n",
    "  - \"TAC\"\n",
    "- data_type = \"ICOS\", network=\"ICOS\"\n",
    "  - \"MHD\""
   ]
  },
  {
   "cell_type": "code",
   "execution_count": null,
   "id": "wired-timing",
   "metadata": {},
   "outputs": [],
   "source": [
    "from file_search import find_all_files\n",
    "# Contains list of dictionaries to pass to the read_file() function for\n",
    "# loading all data files.\n",
    "all_inputs = find_all_files()\n",
    "print(f\"Keys for each entry: {list(all_inputs[0].keys())}\")\n",
    "inputs = [value for key, value in all_inputs[0].items() if key != \"filepath\"]\n",
    "print(f\"Files to load for first entry ({inputs}):\\n {all_inputs[0]['filepath']}\")"
   ]
  },
  {
   "cell_type": "code",
   "execution_count": null,
   "id": "reported-speaker",
   "metadata": {},
   "outputs": [],
   "source": [
    "### Takes a whie to run - better off running as a batch job\n",
    "#all_results = []\n",
    "#for params in all_inputs:\n",
    "#   results = ObsSurface.read_file(**params)\n",
    "#   all_results.append(results)"
   ]
  },
  {
   "cell_type": "code",
   "execution_count": null,
   "id": "afraid-guide",
   "metadata": {},
   "outputs": [],
   "source": [
    "### Write out any errors to a log file\n",
    "#error_logs = open(\"error_logs.csv\", \"a\")\n",
    "#for i, results in enumerate(all_results):\n",
    "#    if \"error\" in results:\n",
    "#        print(i, list(results[\"error\"].keys()))\n",
    "#        for key, value in results[\"error\"].items():\n",
    "#            error_logs.write(f\"{key}    {value}\\n\")\n",
    "#error_logs.close()"
   ]
  }
 ],
 "metadata": {
  "kernelspec": {
   "display_name": "Python 3",
   "language": "python",
   "name": "python3"
  },
  "language_info": {
   "codemirror_mode": {
    "name": "ipython",
    "version": 3
   },
   "file_extension": ".py",
   "mimetype": "text/x-python",
   "name": "python",
   "nbconvert_exporter": "python",
   "pygments_lexer": "ipython3"
  }
 },
 "nbformat": 4,
 "nbformat_minor": 5
}
