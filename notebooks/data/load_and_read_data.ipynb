{
 "cells": [
  {
   "cell_type": "markdown",
   "id": "composed-guitar",
   "metadata": {},
   "source": [
    "# Loading and accessing data"
   ]
  },
  {
   "cell_type": "code",
   "execution_count": null,
   "id": "limiting-granny",
   "metadata": {},
   "outputs": [],
   "source": [
    "import sys\n",
    "sys.path.insert(0, \"/work/rt17603/environments/openghg/bin/activate\")\n",
    "\n",
    "from openghg.modules import ObsSurface"
   ]
  },
  {
   "cell_type": "code",
   "execution_count": null,
   "id": "realistic-colorado",
   "metadata": {},
   "outputs": [],
   "source": [
    "import os\n",
    "os.environ[\"OPENGHG_PATH\"] = \"/work/chxmr/objectStore\""
   ]
  },
  {
   "cell_type": "markdown",
   "id": "engaged-marina",
   "metadata": {},
   "source": [
    "### Macehead data\n",
    "\n",
    "Start off by loading in Macehead (\"MHD\" or \"macehead\") data from all different sources. This includes:\n",
    " - data_type=\"GCWERKS\", network=\"AGAGE\" (instrument is \"GCMD\")\n",
    " - data_type=\"GCWERKS\", network=\"AGAGE\" (instrument is \"GCMS\")\n",
    " - data_type=\"GCWERKS\", network=\"AGAGE\" (instrument is \"medusa\")\n",
    " - data_type=\"ICOS\", network=\"ICOS\""
   ]
  },
  {
   "cell_type": "code",
   "execution_count": null,
   "id": "given-conditions",
   "metadata": {},
   "outputs": [],
   "source": [
    "import os\n",
    "import glob\n",
    "from file_search import find_gc_files\n",
    "\n",
    "# All MHD data files for GCMD instrument (GC)\n",
    "mhd_gcmd_tuples = find_gc_files(\"MHD\", \"GCMD\")\n",
    "\n",
    "mhd_results_1 = ObsSurface.read_file(filepath=mhd_gcmd_tuples, \n",
    "                                    data_type=\"GCWERKS\", \n",
    "                                    site=\"MHD\", network=\"AGAGE\")"
   ]
  },
  {
   "cell_type": "code",
   "execution_count": null,
   "id": "interracial-engineer",
   "metadata": {},
   "outputs": [],
   "source": [
    "# All MHD data files for GCMS instrument (GC)\n",
    "mhd_gcms_tuples = find_gc_files(\"MHD\", \"GCMS\")\n",
    "\n",
    "mhd_results_2 = ObsSurface.read_file(filepath=mhd_gcms_tuples, \n",
    "                                    data_type=\"GCWERKS\", \n",
    "                                    site=\"MHD\", network=\"AGAGE\")"
   ]
  },
  {
   "cell_type": "code",
   "execution_count": null,
   "id": "fatal-improvement",
   "metadata": {},
   "outputs": [],
   "source": [
    "# All MHD data files for medusa instrument (GC)\n",
    "mhd_medusa_tuples = find_gc_files(\"MHD\", \"medusa\")\n",
    "\n",
    "mhd_results_3 = ObsSurface.read_file(filepath=mhd_medusa_tuples, \n",
    "                                    data_type=\"GCWERKS\", \n",
    "                                    site=\"MHD\", network=\"AGAGE\")"
   ]
  },
  {
   "cell_type": "code",
   "execution_count": null,
   "id": "complete-terminology",
   "metadata": {},
   "outputs": [],
   "source": [
    "# All MHD data files for ICOS\n",
    "## At the moment this doesn't appear within the object store - Issue #57\n",
    "from file_search import find_icos_files\n",
    "icos_files = find_icos_files(\"MHD\")\n",
    "\n",
    "mhd_results_4 = ObsSurface.read_file(filepath=icos_files, \n",
    "                                    data_type=\"ICOS\", \n",
    "                                    site=\"MHD\", network=\"ICOS\")"
   ]
  },
  {
   "cell_type": "code",
   "execution_count": null,
   "id": "acoustic-thriller",
   "metadata": {},
   "outputs": [],
   "source": [
    "from openghg.objectstore import visualise_store\n",
    "visualise_store()"
   ]
  },
  {
   "cell_type": "code",
   "execution_count": null,
   "id": "nutritional-punch",
   "metadata": {},
   "outputs": [],
   "source": [
    "#from openghg.localclient import get_obs_surface\n",
    "## Should be able to read this from ICOS but doesn't seem to be able to.\n",
    "#data = get_obs_surface(site=\"mhd\", species=\"co2\", network=\"ICOS\")\n",
    "#data"
   ]
  },
  {
   "cell_type": "code",
   "execution_count": null,
   "id": "considerable-citation",
   "metadata": {},
   "outputs": [],
   "source": [
    "from openghg.localclient import get_obs_surface\n",
    "# Extracting data for one gas \"sf6\", not specifying network for now\n",
    "data = get_obs_surface(site=\"mhd\", species=\"sf6\")\n",
    "data"
   ]
  },
  {
   "cell_type": "code",
   "execution_count": null,
   "id": "fossil-radical",
   "metadata": {},
   "outputs": [],
   "source": [
    "# Extracting for nearest year start and year end when \n",
    "# including start and end dates\n",
    "data = get_obs_surface(site=\"mhd\", species=\"ch4\",\n",
    "                       start_date=\"2005-03-01\", end_date=\"2008-02-01\")\n",
    "print(data.data[\"time\"].values[0])\n",
    "print(data.data[\"time\"].values[-1])"
   ]
  },
  {
   "cell_type": "markdown",
   "id": "floppy-expert",
   "metadata": {},
   "source": [
    "Trying out searching based on data we know is present (loaded and accessed above)."
   ]
  },
  {
   "cell_type": "code",
   "execution_count": null,
   "id": "soviet-expense",
   "metadata": {},
   "outputs": [],
   "source": [
    "from openghg.processing import search"
   ]
  },
  {
   "cell_type": "code",
   "execution_count": null,
   "id": "binding-accommodation",
   "metadata": {},
   "outputs": [],
   "source": [
    "# Search output produced includes a dictionary with the uuid\n",
    "search_output = search(species=\"ch4\", site=\"mhd\"\n",
    "                        ,inlet=\"10m\")#, instrument=\"gcmd\")\n",
    "search_output"
   ]
  },
  {
   "cell_type": "code",
   "execution_count": null,
   "id": "technical-amsterdam",
   "metadata": {},
   "outputs": [],
   "source": [
    "## Extracting from code base \n",
    "#from openghg.modules import Datasource\n",
    "#obs = ObsSurface.load()\n",
    "#datasource_uuids = obs.datasources()\n",
    "#datasources = (Datasource.load(uuid=uuid, shallow=True) for uuid in datasource_uuids)"
   ]
  },
  {
   "cell_type": "code",
   "execution_count": null,
   "id": "constant-acquisition",
   "metadata": {},
   "outputs": [],
   "source": [
    "#d = next(datasources)\n",
    "#d.metadata()"
   ]
  },
  {
   "cell_type": "markdown",
   "id": "toxic-street",
   "metadata": {},
   "source": [
    "### Heathfield data\n",
    "\n",
    "Trying loading different data types for Heathfield (\"HFD\") data:\n",
    "\n",
    "- data_type = \"GCWERKS\", network = \"DECC\" (instrument is \"GCMD\")\n",
    "- data_type = \"CRDS\", network = \"DECC\""
   ]
  },
  {
   "cell_type": "code",
   "execution_count": null,
   "id": "second-blake",
   "metadata": {},
   "outputs": [],
   "source": [
    "# All HFD data files for GCMD instrument (GC), network=\"DECC\"\n",
    "sitecode = \"HFD\"\n",
    "\n",
    "hfd_gcmd_tuples = find_gc_files(sitecode, \"GCMD\")\n",
    "\n",
    "hfd_results_1 = ObsSurface.read_file(filepath=hfd_gcmd_tuples, \n",
    "                                    data_type=\"GCWERKS\", \n",
    "                                    site=sitecode, network=\"DECC\")"
   ]
  },
  {
   "cell_type": "code",
   "execution_count": null,
   "id": "spread-bikini",
   "metadata": {},
   "outputs": [],
   "source": [
    "# All HFD files for CRDS instrument, network=\"DECC\"\n",
    "from file_search import find_crds_files\n",
    "\n",
    "crds_files = find_crds_files(sitecode)\n",
    "\n",
    "hfd_results_2 = ObsSurface.read_file(filepath=crds_files, \n",
    "                                   data_type=\"CRDS\", \n",
    "                                   site=sitecode, network=\"DECC\")"
   ]
  },
  {
   "cell_type": "code",
   "execution_count": null,
   "id": "honey-budget",
   "metadata": {},
   "outputs": [],
   "source": [
    "visualise_store()"
   ]
  },
  {
   "cell_type": "code",
   "execution_count": null,
   "id": "classified-longitude",
   "metadata": {},
   "outputs": [],
   "source": [
    "# HFD data loaded for two instruments on the same network (DECC)\n",
    "# No ranking explicitly set and no height specified this \n",
    "# returns the data from \"100m\"\n",
    "data = get_obs_surface(site=\"hfd\", species=\"ch4\")\n",
    "data"
   ]
  },
  {
   "cell_type": "code",
   "execution_count": null,
   "id": "unusual-adoption",
   "metadata": {},
   "outputs": [],
   "source": [
    "# Can correctly extract data from alternative height when specified\n",
    "data = get_obs_surface(site=\"hfd\", species=\"ch4\", inlet=\"50m\")\n",
    "print(data.metadata[\"inlet\"])\n",
    "data = get_obs_surface(site=\"hfd\", species=\"ch4\", inlet=\"100m\")\n",
    "print(data.metadata[\"inlet\"])"
   ]
  },
  {
   "cell_type": "code",
   "execution_count": null,
   "id": "spread-aurora",
   "metadata": {},
   "outputs": [],
   "source": [
    "# Can correctly extract data a different species\n",
    "data = get_obs_surface(site=\"hfd\", species=\"co2\", inlet=\"50m\")\n",
    "print(data.metadata[\"species\"], data.metadata[\"inlet\"])"
   ]
  },
  {
   "cell_type": "code",
   "execution_count": null,
   "id": "committed-acoustic",
   "metadata": {},
   "outputs": [],
   "source": [
    "# Same issue with dates as for mhd data\n",
    "data = get_obs_surface(site=\"hfd\", species=\"ch4\", instrument=\"picarro\",\n",
    "                      start_date=\"2014-02-01\", end_date=\"2016-02-01\")\n",
    "print(data.data[\"time\"].values[0])\n",
    "print(data.data[\"time\"].values[-1])"
   ]
  }
 ],
 "metadata": {
  "kernelspec": {
   "display_name": "Python 3",
   "language": "python",
   "name": "python3"
  },
  "language_info": {
   "codemirror_mode": {
    "name": "ipython",
    "version": 3
   },
   "file_extension": ".py",
   "mimetype": "text/x-python",
   "name": "python",
   "nbconvert_exporter": "python",
   "pygments_lexer": "ipython3"
  }
 },
 "nbformat": 4,
 "nbformat_minor": 5
}
