{
 "cells": [
  {
   "cell_type": "markdown",
   "metadata": {},
   "source": [
    "# Beginner workflow\n",
    "\n",
    "This tutorial is a beginner workflow for processing data, visualising the object store and retrieving and visualising data.\n",
    "\n",
    "### Check installation\n",
    "\n",
    "This tutorial assumes that you have installed `openghg`. To ensure install has been successful you can open an `ipython` console and import openghg\n",
    "\n",
    "In a terminal type\n",
    "\n",
    "```bash\n",
    "ipython\n",
    "```\n",
    "\n",
    "Then import `openghg` and print the version string associated with the version you have installed. If you get something like the below `openghg` is installed correctly.\n",
    "\n",
    "```ipython\n",
    "In [1]: import openghg\n",
    "In [2]: openghg.__version__\n",
    "Out[2]: '0.0.1'\n",
    "```\n",
    "\n",
    "If you get an ``ImportError`` please go back to the install section of the documentation.\n",
    "\n",
    "\n",
    "\n",
    "\n",
    "### Notebooks\n",
    "\n",
    "If you haven't used Jupyter notebooks before please see [this introduction](https://realpython.com/jupyter-notebook-introduction/)."
   ]
  },
  {
   "cell_type": "markdown",
   "metadata": {},
   "source": [
    "## 1. Setting up our environment\n",
    "\n",
    "First the notebook sets up the environment needed to create the object store at our desired location. By default this location\n",
    "is at ``/tmp/openghg_store``. For the purposes of this tutorial this path is fine but as it is a temporary directory it may not survive a\n",
    "reboot of the computer. \n",
    "\n",
    "If you want to create an object store that survives a reboot you can change the path to anything you like. We\n",
    "recommened a path such as ``~/openghg_store`` which will create the object store in your home directory in a directory called ``openghg_store``."
   ]
  },
  {
   "cell_type": "code",
   "execution_count": 1,
   "metadata": {
    "execution": {
     "iopub.execute_input": "2020-10-21T15:28:42.358808Z",
     "iopub.status.busy": "2020-10-21T15:28:42.358246Z",
     "iopub.status.idle": "2020-10-21T15:28:43.174628Z",
     "shell.execute_reply": "2020-10-21T15:28:43.173997Z"
    }
   },
   "outputs": [],
   "source": [
    "from openghg.modules import ObsSurface\n",
    "from openghg.objectstore import visualise_store\n",
    "from openghg.localclient import get_single_site, RankSources\n",
    "\n",
    "import glob\n",
    "from pathlib import Path\n",
    "import os\n",
    "import tempfile"
   ]
  },
  {
   "cell_type": "markdown",
   "metadata": {},
   "source": [
    "### Set an environment variable for the OpenGHG object store"
   ]
  },
  {
   "cell_type": "markdown",
   "metadata": {},
   "source": [
    "Here we create a temporary directory but you can use any folder you like by setting a path in place of `tmp_dir.name`. The object store created by this notebook will only have a lifetime as long as the notebook, if you want to create a longer lived object store set a path below."
   ]
  },
  {
   "cell_type": "code",
   "execution_count": 2,
   "metadata": {
    "execution": {
     "iopub.execute_input": "2020-10-21T15:28:43.179068Z",
     "iopub.status.busy": "2020-10-21T15:28:43.178058Z",
     "iopub.status.idle": "2020-10-21T15:28:43.181678Z",
     "shell.execute_reply": "2020-10-21T15:28:43.182116Z"
    }
   },
   "outputs": [],
   "source": [
    "tmp_dir = tempfile.TemporaryDirectory()\n",
    "os.environ[\"OPENGHG_PATH\"] = tmp_dir.name # \"/tmp/openghg_store\"\n"
   ]
  },
  {
   "cell_type": "markdown",
   "metadata": {},
   "source": [
    "## 2. Processing data"
   ]
  },
  {
   "cell_type": "markdown",
   "metadata": {},
   "source": [
    "First we want to create a list of files to process, we'll use some files from our local directory"
   ]
  },
  {
   "cell_type": "code",
   "execution_count": 3,
   "metadata": {
    "execution": {
     "iopub.execute_input": "2020-10-21T15:28:43.187857Z",
     "iopub.status.busy": "2020-10-21T15:28:43.186878Z",
     "iopub.status.idle": "2020-10-21T15:28:43.189359Z",
     "shell.execute_reply": "2020-10-21T15:28:43.188774Z"
    }
   },
   "outputs": [],
   "source": [
    "decc_files = glob.glob(\"../data/DECC/*.dat\")"
   ]
  },
  {
   "cell_type": "code",
   "execution_count": 4,
   "metadata": {
    "execution": {
     "iopub.execute_input": "2020-10-21T15:28:43.193622Z",
     "iopub.status.busy": "2020-10-21T15:28:43.192610Z",
     "iopub.status.idle": "2020-10-21T15:28:43.195155Z",
     "shell.execute_reply": "2020-10-21T15:28:43.194681Z"
    }
   },
   "outputs": [],
   "source": [
    "agage_files = glob.glob(\"../data/AGAGE/*.C\")"
   ]
  },
  {
   "cell_type": "markdown",
   "metadata": {},
   "source": [
    "We can pass a list of files to `ObsSurface.read_file`. We must also tell it the type of data we want it to process, DECC data is CRDS. We also pass in the name of the network."
   ]
  },
  {
   "cell_type": "code",
   "execution_count": 5,
   "metadata": {
    "execution": {
     "iopub.execute_input": "2020-10-21T15:28:43.199052Z",
     "iopub.status.busy": "2020-10-21T15:28:43.198470Z",
     "iopub.status.idle": "2020-10-21T15:28:45.436844Z",
     "shell.execute_reply": "2020-10-21T15:28:45.435848Z"
    }
   },
   "outputs": [],
   "source": [
    "decc_results = ObsSurface.read_file(filepath=decc_files, data_type=\"CRDS\", network=\"DECC\")"
   ]
  },
  {
   "cell_type": "markdown",
   "metadata": {},
   "source": [
    "Here `decc_results` will give us a dictionary with the UUIDs (universally unique identifiers) for each of the Datasources the data has been assigned to. This tells us that the data has been processed and stored correctly."
   ]
  },
  {
   "cell_type": "markdown",
   "metadata": {},
   "source": [
    "## A note on Datasources"
   ]
  },
  {
   "cell_type": "markdown",
   "metadata": {},
   "source": [
    "Datasources are objects that are stored in the object store (add link to object store notes) that hold the data and metadata associated with each measurement we upload to the platform.\n",
    "\n",
    "For example, if we upload a file that contains readings for three gas species from a single site at a specific inlet height OpenGHG    will assign this data to three different Datasources, one for each species. Metadata such as the site, inlet height, species, network etc are stored alongside the measurements for easy searching. \n",
    "\n",
    "Datasources can also handle multiple versions of data from a single site, so if scales or other factors change multiple versions may be stored for easy future comparison."
   ]
  },
  {
   "cell_type": "markdown",
   "metadata": {},
   "source": [
    "<div class=\"alert alert-info\">\n",
    "    When you run this notebook different UUIDs will be created for the Datasources. This is expected as \n",
    "    each time a Datasource is created from scratch it is assigned a unique UUID.\n",
    "</div>"
   ]
  },
  {
   "cell_type": "code",
   "execution_count": 6,
   "metadata": {
    "execution": {
     "iopub.execute_input": "2020-10-21T15:28:45.444178Z",
     "iopub.status.busy": "2020-10-21T15:28:45.443599Z",
     "iopub.status.idle": "2020-10-21T15:28:45.449943Z",
     "shell.execute_reply": "2020-10-21T15:28:45.449414Z"
    }
   },
   "outputs": [
    {
     "data": {
      "text/plain": [
       "{'tac.picarro.1minute.100m.min.dat': {'tac.picarro.1minute.100m.min_ch4': '0bf8e07e-5691-4e58-b8ab-1e84b07ecb63',\n",
       "  'tac.picarro.1minute.100m.min_co2': '1f31c8b1-e7f3-45b4-9b5d-c64db7225d42'},\n",
       " 'tac.picarro.1minute.100m.test.dat': {'tac.picarro.1minute.100m.test_ch4': '0f07841d-e770-485a-bfe4-ee3be908e4c4',\n",
       "  'tac.picarro.1minute.100m.test_co2': 'fb2d6d0b-3f87-4c16-80f9-cf74cb10c1a5'},\n",
       " 'hfd.picarro.1minute.100m.min.dat': {'hfd.picarro.1minute.100m.min_ch4': 'efbae5d1-28c8-45a6-bde3-29838b916f01',\n",
       "  'hfd.picarro.1minute.100m.min_co2': 'a1b8e1b7-4d6b-415d-9a18-258206408ba0',\n",
       "  'hfd.picarro.1minute.100m.min_co': '8b6857a7-d3b8-43c3-a08d-ac04ba3768d0'},\n",
       " 'hfd.picarro.1minute.50m.min.dat': {'hfd.picarro.1minute.50m.min_ch4': '406f8875-7aca-4e11-903c-50456b785c04',\n",
       "  'hfd.picarro.1minute.50m.min_co2': '0adb4ccc-5ee3-4922-8b11-74b4e51c9766',\n",
       "  'hfd.picarro.1minute.50m.min_co': '89eb677e-9578-40ed-bdc5-0531e6e3cd17'},\n",
       " 'bsd.picarro.1minute.248m.dat': {'bsd.picarro.1minute.248m_ch4': '576dd088-556c-4e62-82c8-888e6951b45b',\n",
       "  'bsd.picarro.1minute.248m_co2': 'cb78922a-85f8-4afd-b9d6-28745d475c97',\n",
       "  'bsd.picarro.1minute.248m_co': '6a298b05-14e1-48ea-95cc-611ae2ca7c30'}}"
      ]
     },
     "execution_count": 1,
     "metadata": {},
     "output_type": "execute_result"
    }
   ],
   "source": [
    "decc_results"
   ]
  },
  {
   "cell_type": "markdown",
   "metadata": {},
   "source": [
    "We can now process the AGAGE data. The functions that process the AGAGE data expect data to have an accompanying precisions file. For each data file we create a tuple with the data filename and the precisions filename. A simpler method of uploading these file types is planne."
   ]
  },
  {
   "cell_type": "markdown",
   "metadata": {},
   "source": [
    "We must create a `tuple` for each pair\n",
    "\n",
    "```python\n",
    "list_of_tuples = [(data_filepath, precision_filepath), (d1, p1), (d2, p2), ...]\n",
    "```"
   ]
  },
  {
   "cell_type": "code",
   "execution_count": 7,
   "metadata": {
    "execution": {
     "iopub.execute_input": "2020-10-21T15:28:45.453840Z",
     "iopub.status.busy": "2020-10-21T15:28:45.453265Z",
     "iopub.status.idle": "2020-10-21T15:28:45.456791Z",
     "shell.execute_reply": "2020-10-21T15:28:45.456316Z"
    }
   },
   "outputs": [],
   "source": [
    "agage_tuples = [('../data/AGAGE/capegrim-medusa.18.C', '../data/AGAGE/capegrim-medusa.18.precisions.C'), \n",
    "                ('../data/AGAGE/trinidadhead.01.C', '../data/AGAGE/trinidadhead.01.precisions.C')]"
   ]
  },
  {
   "cell_type": "markdown",
   "metadata": {},
   "source": [
    "Then we process the files as we did before the with DECC data, but this time changing the data type to the `GCWERKS` type and the network to `AGAGE`."
   ]
  },
  {
   "cell_type": "code",
   "execution_count": 8,
   "metadata": {
    "execution": {
     "iopub.execute_input": "2020-10-21T15:28:45.461634Z",
     "iopub.status.busy": "2020-10-21T15:28:45.461033Z",
     "iopub.status.idle": "2020-10-21T15:28:49.102689Z",
     "shell.execute_reply": "2020-10-21T15:28:49.101686Z"
    }
   },
   "outputs": [],
   "source": [
    "agage_results = ObsSurface.read_file(filepath=agage_tuples, data_type=\"GCWERKS\", network=\"AGAGE\")"
   ]
  },
  {
   "cell_type": "markdown",
   "metadata": {},
   "source": [
    "When viewing `agage_results` there will be a large number of Datasource UUIDs shown due to the large number of gases in each data file"
   ]
  },
  {
   "cell_type": "code",
   "execution_count": 9,
   "metadata": {
    "execution": {
     "iopub.execute_input": "2020-10-21T15:28:49.108973Z",
     "iopub.status.busy": "2020-10-21T15:28:49.108393Z",
     "iopub.status.idle": "2020-10-21T15:28:49.114060Z",
     "shell.execute_reply": "2020-10-21T15:28:49.113439Z"
    }
   },
   "outputs": [
    {
     "data": {
      "text/plain": [
       "{'capegrim-medusa.18.C': {'capegrim-medusa.18_NF3': 'fe5f02fc-1ed4-436b-aa3b-1693e6a5f60b',\n",
       "  'capegrim-medusa.18_CF4': '244b1a1d-643b-46f2-a750-8d12c3a783ca',\n",
       "  'capegrim-medusa.18_PFC-116': '41840940-17d5-472e-9d5c-546824c5220d',\n",
       "  'capegrim-medusa.18_PFC-218': '3f01790c-b238-448e-ad44-e2668f5304f9',\n",
       "  'capegrim-medusa.18_PFC-318': '6a1036f5-7684-4634-8055-fa98f50271b4',\n",
       "  'capegrim-medusa.18_C4F10': '5e155384-5732-4cce-9010-f6747988191e',\n",
       "  'capegrim-medusa.18_C6F14': 'd6da3f7b-4d52-49f1-9296-a071a133867e',\n",
       "  'capegrim-medusa.18_SF6': 'b0fe4a00-02f4-4cb3-9a19-ab9606a35f93',\n",
       "  'capegrim-medusa.18_SO2F2': '68e6e241-6908-4676-9a44-02abc4d4922a',\n",
       "  'capegrim-medusa.18_SF5CF3': '37ee3c32-1c4b-4215-bb22-29611d577343',\n",
       "  'capegrim-medusa.18_HFC-23': 'fc42f21e-5ef9-46b9-81dd-bd79d968ed87',\n",
       "  'capegrim-medusa.18_HFC-32': 'c82cebd4-01fa-44c7-9d88-3cc2ef51f24b',\n",
       "  'capegrim-medusa.18_HFC-125': '6b0fe2cb-cd9f-4945-a062-6fd4e18eb674',\n",
       "  'capegrim-medusa.18_HFC-134a': '3ad0a067-df80-4310-9adb-e013131be6ef',\n",
       "  'capegrim-medusa.18_HFC-143a': '691153f0-b27e-4fca-9993-b6e9374cc06b',\n",
       "  'capegrim-medusa.18_HFC-152a': 'ce33106e-b230-4755-90bb-ef838b4de14a',\n",
       "  'capegrim-medusa.18_HFC-227ea': 'fc0b41e2-92ca-45d4-ac95-677188ebda7b',\n",
       "  'capegrim-medusa.18_HFC-236fa': '4604280b-5819-4729-89bd-f80729fe73d4',\n",
       "  'capegrim-medusa.18_HFC-245fa': 'f809fa05-09e3-4f67-91c2-cf59b5e66f92',\n",
       "  'capegrim-medusa.18_HFC-365mfc': '148fb0f2-cb97-43b3-a4ff-75840dfabcd6',\n",
       "  'capegrim-medusa.18_HFC-4310mee': '49f93f34-accc-4b10-a109-f2f18f5f9a27',\n",
       "  'capegrim-medusa.18_HCFC-22': 'd1f59114-354e-43f7-adfe-8d840eefa3bf',\n",
       "  'capegrim-medusa.18_HCFC-124': 'a0fa3a59-cc4b-4b60-8f9a-c2365a946621',\n",
       "  'capegrim-medusa.18_HCFC-132b': 'c3728ab7-242d-45d1-86f3-285e826f256f',\n",
       "  'capegrim-medusa.18_HCFC-133a': 'd96f8aae-ee31-402a-9ce5-18b1368d7c57',\n",
       "  'capegrim-medusa.18_HCFC-141b': '39ab3def-f5e0-47a8-89d0-78c91dd36310',\n",
       "  'capegrim-medusa.18_HCFC-142b': '9bf5404f-6de5-4ac2-a203-679223c7c8f2',\n",
       "  'capegrim-medusa.18_CFC-11': '7cbddb48-e523-4bfd-9385-45a10b5a1323',\n",
       "  'capegrim-medusa.18_CFC-12': '876c568f-cda8-4465-ba6d-75d34e66f8f7',\n",
       "  'capegrim-medusa.18_CFC-13': 'f54812bb-46d9-4892-866a-ef43a6e4a08d',\n",
       "  'capegrim-medusa.18_CFC-112': 'beed971d-83bf-4ae0-9e5e-62267b208e05',\n",
       "  'capegrim-medusa.18_CFC-113': 'ee2b91c1-3995-4af5-91bd-0fe4c24c850c',\n",
       "  'capegrim-medusa.18_CFC-114': 'dbc4be85-f0e9-4022-8644-38ea95132be0',\n",
       "  'capegrim-medusa.18_CFC-115': 'efdcfcc0-911c-4378-927f-fccefecef4a6',\n",
       "  'capegrim-medusa.18_H-1211': 'cb99cb46-95fd-48e3-bc2e-153cf34a0e15',\n",
       "  'capegrim-medusa.18_H-1301': 'e495dff3-5476-47ed-aa18-e80857103668',\n",
       "  'capegrim-medusa.18_H-2402': '8fa7e8c5-5bec-4374-8f14-1e1c70f12936',\n",
       "  'capegrim-medusa.18_CH3Cl': '8c4f9a45-741c-4036-b121-be01339084af',\n",
       "  'capegrim-medusa.18_CH3Br': 'f13b5f28-148b-467a-bc89-3b3c35d63a2d',\n",
       "  'capegrim-medusa.18_CH3I': 'e636e298-f60c-4a70-b3de-c76b29295f75',\n",
       "  'capegrim-medusa.18_CH2Cl2': '9ada0636-cd3b-489d-8166-6ea724ec016c',\n",
       "  'capegrim-medusa.18_CHCl3': 'eb781f42-8d2e-4186-8228-26a3ca05d17e',\n",
       "  'capegrim-medusa.18_CCl4': 'db0aec3e-c54d-44d3-a120-be2c9caffd7a',\n",
       "  'capegrim-medusa.18_CH2Br2': '1d61b0e7-9dfc-48bb-9aec-ee4fca979369',\n",
       "  'capegrim-medusa.18_CHBr3': 'de082d8a-462b-4b70-aa26-85e713a0d837',\n",
       "  'capegrim-medusa.18_CH3CCl3': '60a8dd6e-4404-44ca-a368-c49156a5d784',\n",
       "  'capegrim-medusa.18_TCE': 'da0b722f-ec8a-4312-ab91-33487e9989fb',\n",
       "  'capegrim-medusa.18_PCE': 'ffccaec5-d849-4d36-b4e1-d9af04ff8a0f',\n",
       "  'capegrim-medusa.18_ethyne': '94174b28-d029-42c9-94ae-9e55704af4c3',\n",
       "  'capegrim-medusa.18_ethane': 'afbe45ee-6f09-449d-bc5c-b1f6c2f03601',\n",
       "  'capegrim-medusa.18_propane': '6001a88d-b232-4d85-9c8c-a7fab0f9e052',\n",
       "  'capegrim-medusa.18_c-propane': 'e43540bd-628f-4183-af4c-e7fb36758aef',\n",
       "  'capegrim-medusa.18_benzene': '1e2ba911-3c6d-4438-9c8c-6db656d7db0d',\n",
       "  'capegrim-medusa.18_toluene': '4251eaa0-6468-46e8-bc81-48863b395dfe',\n",
       "  'capegrim-medusa.18_COS': '2521d126-99c1-4604-b7c9-00549a135ee1',\n",
       "  'capegrim-medusa.18_desflurane': '977835b5-bcac-4c35-af37-ebc37e9160b8'},\n",
       " 'trinidadhead.01.C': {'trinidadhead.01_CH4': 'bdee47bc-4331-472a-92b7-7b206d6a47a3',\n",
       "  'trinidadhead.01_CFC-12': '7f907430-6418-4b23-9979-1be432fe371c',\n",
       "  'trinidadhead.01_N2O': 'eb0ebbb5-3c6d-4b57-b608-71e6dc426f70',\n",
       "  'trinidadhead.01_CFC-11': 'e3b23053-73b2-46bf-92ed-58b34e5665ab',\n",
       "  'trinidadhead.01_CFC-113': '39595a77-40d4-4e68-989d-db712f47eef2',\n",
       "  'trinidadhead.01_CHCl3': 'a8dafb08-0135-4f59-9771-e496d7cd7593',\n",
       "  'trinidadhead.01_CH3CCl3': '92262069-ebbd-4463-ae87-27ff5d955e27',\n",
       "  'trinidadhead.01_CCl4': '42ae55f4-85a0-4c43-a805-540259729c82'}}"
      ]
     },
     "execution_count": 1,
     "metadata": {},
     "output_type": "execute_result"
    }
   ],
   "source": [
    "agage_results"
   ]
  },
  {
   "cell_type": "markdown",
   "metadata": {},
   "source": [
    "## 3. Visualising the object store"
   ]
  },
  {
   "cell_type": "markdown",
   "metadata": {},
   "source": [
    "Now that we have a simple object store created we can view the objects within it in a simple force graph model. To do this we use the `view_store` function from the `objectstore` submodule. Note that the cell may take a few moments to load as the force graph is created.\n",
    "\n",
    "In the force graph the central blue node is the `ObsSurface` node. Associated with this node are all the data processed by it. The next node in the topology are networks, shown in green. In the graph you will see `DECC` and `AGAGE` nodes. From these you'll see site nodes in red and then individual datasources in orange."
   ]
  },
  {
   "cell_type": "markdown",
   "metadata": {},
   "source": [
    "<div class=\"alert alert-info\">\n",
    "    The object store visualisation created by this function won't be visible in the documentation but will be created when the notebook is run.\n",
    "</div>"
   ]
  },
  {
   "cell_type": "code",
   "execution_count": 10,
   "metadata": {
    "execution": {
     "iopub.execute_input": "2020-10-21T15:28:49.118430Z",
     "iopub.status.busy": "2020-10-21T15:28:49.117467Z",
     "iopub.status.idle": "2020-10-21T15:28:49.145862Z",
     "shell.execute_reply": "2020-10-21T15:28:49.145040Z"
    }
   },
   "outputs": [
    {
     "data": {
      "text/html": [
       "\n",
       "        <iframe\n",
       "            width=\"100%\"\n",
       "            height=\"800px\"\n",
       "            src=\"openghg_objstore.html\"\n",
       "            frameborder=\"0\"\n",
       "            allowfullscreen\n",
       "        ></iframe>\n",
       "        "
      ],
      "text/plain": [
       "<IPython.lib.display.IFrame at 0x7f5581749850>"
      ]
     },
     "execution_count": 1,
     "metadata": {},
     "output_type": "execute_result"
    }
   ],
   "source": [
    "visualise_store()"
   ]
  },
  {
   "cell_type": "markdown",
   "metadata": {},
   "source": [
    "Now we know we have this data in the object store we can search it and retrieve data from it."
   ]
  },
  {
   "cell_type": "markdown",
   "metadata": {},
   "source": [
    "## 4. Retrieving data "
   ]
  },
  {
   "cell_type": "markdown",
   "metadata": {},
   "source": [
    "To retrieve data from the object store we can use the `get_single_site` function from the `localclient` submodule. This allows us to retrieve and view the data stored."
   ]
  },
  {
   "cell_type": "code",
   "execution_count": 11,
   "metadata": {
    "execution": {
     "iopub.execute_input": "2020-10-21T15:28:49.150391Z",
     "iopub.status.busy": "2020-10-21T15:28:49.149485Z",
     "iopub.status.idle": "2020-10-21T15:28:49.673781Z",
     "shell.execute_reply": "2020-10-21T15:28:49.673174Z"
    }
   },
   "outputs": [],
   "source": [
    "data = get_single_site(site=\"hfd\", species=\"co\", network=\"AGAGE\")"
   ]
  },
  {
   "cell_type": "markdown",
   "metadata": {},
   "source": [
    "If we view data we expect two `xarray.Dataset` objects to have been returned in in a `list`"
   ]
  },
  {
   "cell_type": "code",
   "execution_count": 12,
   "metadata": {
    "execution": {
     "iopub.execute_input": "2020-10-21T15:28:49.684587Z",
     "iopub.status.busy": "2020-10-21T15:28:49.684006Z",
     "iopub.status.idle": "2020-10-21T15:28:49.689725Z",
     "shell.execute_reply": "2020-10-21T15:28:49.689178Z"
    }
   },
   "outputs": [
    {
     "data": {
      "text/plain": [
       "[<xarray.Dataset>\n",
       " Dimensions:    (time: 274)\n",
       " Coordinates:\n",
       "   * time       (time) datetime64[ns] 2013-12-04T14:02:30 ... 2019-05-21T15:46:30\n",
       " Data variables:\n",
       "     mf         (time) float64 214.3 216.2 147.0 135.3 ... 123.7 133.7 118.5\n",
       "     co_stdev   (time) float64 4.081 3.634 3.887 4.11 ... 3.276 4.28 3.603 4.442\n",
       "     co_n_meas  (time) float64 19.0 19.0 19.0 19.0 19.0 ... 16.0 15.0 16.0 16.0\n",
       " Attributes:\n",
       "     data_owner:           Simon O'Doherty\n",
       "     data_owner_email:     s.odoherty@bristol.ac.uk\n",
       "     inlet_height_magl:    100m\n",
       "     comment:              Cavity ring-down measurements. Output from GCWerks\n",
       "     Conditions of use:    Ensure that you contact the data owner at the outse...\n",
       "     Source:               In situ measurements of air\n",
       "     Conventions:          CF-1.6\n",
       "     File created:         2020-10-21 15:28:44.287871+00:00\n",
       "     Processed by:         auto@hugs-cloud.com\n",
       "     species:              CO\n",
       "     station_longitude:    0.23048\n",
       "     station_latitude:     50.97675\n",
       "     station_long_name:    Heathfield, UK\n",
       "     station_height_masl:  150.0\n",
       "     scale:                WMO-X2014A,\n",
       " <xarray.Dataset>\n",
       " Dimensions:    (time: 636)\n",
       " Coordinates:\n",
       "   * time       (time) datetime64[ns] 2013-11-23T12:28:30 ... 2020-06-24T09:41:30\n",
       " Data variables:\n",
       "     mf         (time) float64 181.7 190.6 242.6 196.4 ... 93.59 86.76 129.7\n",
       "     co_stdev   (time) float64 5.158 4.641 3.602 5.487 ... 3.672 4.666 4.111\n",
       "     co_n_meas  (time) float64 19.0 19.0 19.0 19.0 19.0 ... 12.0 12.0 12.0 12.0\n",
       " Attributes:\n",
       "     data_owner:           Simon O'Doherty\n",
       "     data_owner_email:     s.odoherty@bristol.ac.uk\n",
       "     inlet_height_magl:    50m\n",
       "     comment:              Cavity ring-down measurements. Output from GCWerks\n",
       "     Conditions of use:    Ensure that you contact the data owner at the outse...\n",
       "     Source:               In situ measurements of air\n",
       "     Conventions:          CF-1.6\n",
       "     File created:         2020-10-21 15:28:44.788781+00:00\n",
       "     Processed by:         auto@hugs-cloud.com\n",
       "     species:              CO\n",
       "     station_longitude:    0.23048\n",
       "     station_latitude:     50.97675\n",
       "     station_long_name:    Heathfield, UK\n",
       "     station_height_masl:  150.0\n",
       "     scale:                WMO-X2014A]"
      ]
     },
     "execution_count": 1,
     "metadata": {},
     "output_type": "execute_result"
    }
   ],
   "source": [
    "data"
   ]
  },
  {
   "cell_type": "code",
   "execution_count": 13,
   "metadata": {
    "execution": {
     "iopub.execute_input": "2020-10-21T15:28:49.695925Z",
     "iopub.status.busy": "2020-10-21T15:28:49.695069Z",
     "iopub.status.idle": "2020-10-21T15:28:49.701598Z",
     "shell.execute_reply": "2020-10-21T15:28:49.701060Z"
    }
   },
   "outputs": [
    {
     "data": {
      "text/plain": [
       "2"
      ]
     },
     "execution_count": 1,
     "metadata": {},
     "output_type": "execute_result"
    }
   ],
   "source": [
    "len(data)"
   ]
  },
  {
   "cell_type": "markdown",
   "metadata": {},
   "source": [
    "We get two datasets for CO data from Tacolneston as there are two inlet measurement heights for this species at this site. We can quickly visualise the data we have stored using the plotting capabilities in `xarray`."
   ]
  },
  {
   "cell_type": "markdown",
   "metadata": {},
   "source": [
    "First we tell `matplotlib` that we are plotting inside a Jupyter notebook, this ensures a plot with controls is created."
   ]
  },
  {
   "cell_type": "code",
   "execution_count": 14,
   "metadata": {
    "execution": {
     "iopub.execute_input": "2020-10-21T15:28:49.706661Z",
     "iopub.status.busy": "2020-10-21T15:28:49.706030Z",
     "iopub.status.idle": "2020-10-21T15:28:51.869933Z",
     "shell.execute_reply": "2020-10-21T15:28:51.869029Z"
    }
   },
   "outputs": [
    {
     "name": "stderr",
     "output_type": "stream",
     "text": [
      "INFO:matplotlib.font_manager:Generating new fontManager, this may take some time...\n"
     ]
    }
   ],
   "source": [
    "%matplotlib notebook"
   ]
  },
  {
   "cell_type": "code",
   "execution_count": 15,
   "metadata": {
    "execution": {
     "iopub.execute_input": "2020-10-21T15:28:51.876536Z",
     "iopub.status.busy": "2020-10-21T15:28:51.875297Z",
     "iopub.status.idle": "2020-10-21T15:28:51.914564Z",
     "shell.execute_reply": "2020-10-21T15:28:51.913943Z"
    }
   },
   "outputs": [
    {
     "data": {
      "application/javascript": [
       "/* Put everything inside the global mpl namespace */\n",
       "/* global mpl */\n",
       "window.mpl = {};\n",
       "\n",
       "mpl.get_websocket_type = function () {\n",
       "    if (typeof WebSocket !== 'undefined') {\n",
       "        return WebSocket;\n",
       "    } else if (typeof MozWebSocket !== 'undefined') {\n",
       "        return MozWebSocket;\n",
       "    } else {\n",
       "        alert(\n",
       "            'Your browser does not have WebSocket support. ' +\n",
       "                'Please try Chrome, Safari or Firefox ≥ 6. ' +\n",
       "                'Firefox 4 and 5 are also supported but you ' +\n",
       "                'have to enable WebSockets in about:config.'\n",
       "        );\n",
       "    }\n",
       "};\n",
       "\n",
       "mpl.figure = function (figure_id, websocket, ondownload, parent_element) {\n",
       "    this.id = figure_id;\n",
       "\n",
       "    this.ws = websocket;\n",
       "\n",
       "    this.supports_binary = this.ws.binaryType !== undefined;\n",
       "\n",
       "    if (!this.supports_binary) {\n",
       "        var warnings = document.getElementById('mpl-warnings');\n",
       "        if (warnings) {\n",
       "            warnings.style.display = 'block';\n",
       "            warnings.textContent =\n",
       "                'This browser does not support binary websocket messages. ' +\n",
       "                'Performance may be slow.';\n",
       "        }\n",
       "    }\n",
       "\n",
       "    this.imageObj = new Image();\n",
       "\n",
       "    this.context = undefined;\n",
       "    this.message = undefined;\n",
       "    this.canvas = undefined;\n",
       "    this.rubberband_canvas = undefined;\n",
       "    this.rubberband_context = undefined;\n",
       "    this.format_dropdown = undefined;\n",
       "\n",
       "    this.image_mode = 'full';\n",
       "\n",
       "    this.root = document.createElement('div');\n",
       "    this.root.setAttribute('style', 'display: inline-block');\n",
       "    this._root_extra_style(this.root);\n",
       "\n",
       "    parent_element.appendChild(this.root);\n",
       "\n",
       "    this._init_header(this);\n",
       "    this._init_canvas(this);\n",
       "    this._init_toolbar(this);\n",
       "\n",
       "    var fig = this;\n",
       "\n",
       "    this.waiting = false;\n",
       "\n",
       "    this.ws.onopen = function () {\n",
       "        fig.send_message('supports_binary', { value: fig.supports_binary });\n",
       "        fig.send_message('send_image_mode', {});\n",
       "        if (fig.ratio !== 1) {\n",
       "            fig.send_message('set_dpi_ratio', { dpi_ratio: fig.ratio });\n",
       "        }\n",
       "        fig.send_message('refresh', {});\n",
       "    };\n",
       "\n",
       "    this.imageObj.onload = function () {\n",
       "        if (fig.image_mode === 'full') {\n",
       "            // Full images could contain transparency (where diff images\n",
       "            // almost always do), so we need to clear the canvas so that\n",
       "            // there is no ghosting.\n",
       "            fig.context.clearRect(0, 0, fig.canvas.width, fig.canvas.height);\n",
       "        }\n",
       "        fig.context.drawImage(fig.imageObj, 0, 0);\n",
       "    };\n",
       "\n",
       "    this.imageObj.onunload = function () {\n",
       "        fig.ws.close();\n",
       "    };\n",
       "\n",
       "    this.ws.onmessage = this._make_on_message_function(this);\n",
       "\n",
       "    this.ondownload = ondownload;\n",
       "};\n",
       "\n",
       "mpl.figure.prototype._init_header = function () {\n",
       "    var titlebar = document.createElement('div');\n",
       "    titlebar.classList =\n",
       "        'ui-dialog-titlebar ui-widget-header ui-corner-all ui-helper-clearfix';\n",
       "    var titletext = document.createElement('div');\n",
       "    titletext.classList = 'ui-dialog-title';\n",
       "    titletext.setAttribute(\n",
       "        'style',\n",
       "        'width: 100%; text-align: center; padding: 3px;'\n",
       "    );\n",
       "    titlebar.appendChild(titletext);\n",
       "    this.root.appendChild(titlebar);\n",
       "    this.header = titletext;\n",
       "};\n",
       "\n",
       "mpl.figure.prototype._canvas_extra_style = function (_canvas_div) {};\n",
       "\n",
       "mpl.figure.prototype._root_extra_style = function (_canvas_div) {};\n",
       "\n",
       "mpl.figure.prototype._init_canvas = function () {\n",
       "    var fig = this;\n",
       "\n",
       "    var canvas_div = (this.canvas_div = document.createElement('div'));\n",
       "    canvas_div.setAttribute(\n",
       "        'style',\n",
       "        'border: 1px solid #ddd;' +\n",
       "            'box-sizing: content-box;' +\n",
       "            'clear: both;' +\n",
       "            'min-height: 1px;' +\n",
       "            'min-width: 1px;' +\n",
       "            'outline: 0;' +\n",
       "            'overflow: hidden;' +\n",
       "            'position: relative;' +\n",
       "            'resize: both;'\n",
       "    );\n",
       "\n",
       "    function on_keyboard_event_closure(name) {\n",
       "        return function (event) {\n",
       "            return fig.key_event(event, name);\n",
       "        };\n",
       "    }\n",
       "\n",
       "    canvas_div.addEventListener(\n",
       "        'keydown',\n",
       "        on_keyboard_event_closure('key_press')\n",
       "    );\n",
       "    canvas_div.addEventListener(\n",
       "        'keyup',\n",
       "        on_keyboard_event_closure('key_release')\n",
       "    );\n",
       "\n",
       "    this._canvas_extra_style(canvas_div);\n",
       "    this.root.appendChild(canvas_div);\n",
       "\n",
       "    var canvas = (this.canvas = document.createElement('canvas'));\n",
       "    canvas.classList.add('mpl-canvas');\n",
       "    canvas.setAttribute('style', 'box-sizing: content-box;');\n",
       "\n",
       "    this.context = canvas.getContext('2d');\n",
       "\n",
       "    var backingStore =\n",
       "        this.context.backingStorePixelRatio ||\n",
       "        this.context.webkitBackingStorePixelRatio ||\n",
       "        this.context.mozBackingStorePixelRatio ||\n",
       "        this.context.msBackingStorePixelRatio ||\n",
       "        this.context.oBackingStorePixelRatio ||\n",
       "        this.context.backingStorePixelRatio ||\n",
       "        1;\n",
       "\n",
       "    this.ratio = (window.devicePixelRatio || 1) / backingStore;\n",
       "    if (this.ratio !== 1) {\n",
       "        fig.send_message('set_dpi_ratio', { dpi_ratio: this.ratio });\n",
       "    }\n",
       "\n",
       "    var rubberband_canvas = (this.rubberband_canvas = document.createElement(\n",
       "        'canvas'\n",
       "    ));\n",
       "    rubberband_canvas.setAttribute(\n",
       "        'style',\n",
       "        'box-sizing: content-box; position: absolute; left: 0; top: 0; z-index: 1;'\n",
       "    );\n",
       "\n",
       "    var resizeObserver = new ResizeObserver(function (entries) {\n",
       "        var nentries = entries.length;\n",
       "        for (var i = 0; i < nentries; i++) {\n",
       "            var entry = entries[i];\n",
       "            var width, height;\n",
       "            if (entry.contentBoxSize) {\n",
       "                if (entry.contentBoxSize instanceof Array) {\n",
       "                    // Chrome 84 implements new version of spec.\n",
       "                    width = entry.contentBoxSize[0].inlineSize;\n",
       "                    height = entry.contentBoxSize[0].blockSize;\n",
       "                } else {\n",
       "                    // Firefox implements old version of spec.\n",
       "                    width = entry.contentBoxSize.inlineSize;\n",
       "                    height = entry.contentBoxSize.blockSize;\n",
       "                }\n",
       "            } else {\n",
       "                // Chrome <84 implements even older version of spec.\n",
       "                width = entry.contentRect.width;\n",
       "                height = entry.contentRect.height;\n",
       "            }\n",
       "\n",
       "            // Keep the size of the canvas and rubber band canvas in sync with\n",
       "            // the canvas container.\n",
       "            if (entry.devicePixelContentBoxSize) {\n",
       "                // Chrome 84 implements new version of spec.\n",
       "                canvas.setAttribute(\n",
       "                    'width',\n",
       "                    entry.devicePixelContentBoxSize[0].inlineSize\n",
       "                );\n",
       "                canvas.setAttribute(\n",
       "                    'height',\n",
       "                    entry.devicePixelContentBoxSize[0].blockSize\n",
       "                );\n",
       "            } else {\n",
       "                canvas.setAttribute('width', width * fig.ratio);\n",
       "                canvas.setAttribute('height', height * fig.ratio);\n",
       "            }\n",
       "            canvas.setAttribute(\n",
       "                'style',\n",
       "                'width: ' + width + 'px; height: ' + height + 'px;'\n",
       "            );\n",
       "\n",
       "            rubberband_canvas.setAttribute('width', width);\n",
       "            rubberband_canvas.setAttribute('height', height);\n",
       "\n",
       "            // And update the size in Python. We ignore the initial 0/0 size\n",
       "            // that occurs as the element is placed into the DOM, which should\n",
       "            // otherwise not happen due to the minimum size styling.\n",
       "            if (width != 0 && height != 0) {\n",
       "                fig.request_resize(width, height);\n",
       "            }\n",
       "        }\n",
       "    });\n",
       "    resizeObserver.observe(canvas_div);\n",
       "\n",
       "    function on_mouse_event_closure(name) {\n",
       "        return function (event) {\n",
       "            return fig.mouse_event(event, name);\n",
       "        };\n",
       "    }\n",
       "\n",
       "    rubberband_canvas.addEventListener(\n",
       "        'mousedown',\n",
       "        on_mouse_event_closure('button_press')\n",
       "    );\n",
       "    rubberband_canvas.addEventListener(\n",
       "        'mouseup',\n",
       "        on_mouse_event_closure('button_release')\n",
       "    );\n",
       "    // Throttle sequential mouse events to 1 every 20ms.\n",
       "    rubberband_canvas.addEventListener(\n",
       "        'mousemove',\n",
       "        on_mouse_event_closure('motion_notify')\n",
       "    );\n",
       "\n",
       "    rubberband_canvas.addEventListener(\n",
       "        'mouseenter',\n",
       "        on_mouse_event_closure('figure_enter')\n",
       "    );\n",
       "    rubberband_canvas.addEventListener(\n",
       "        'mouseleave',\n",
       "        on_mouse_event_closure('figure_leave')\n",
       "    );\n",
       "\n",
       "    canvas_div.addEventListener('wheel', function (event) {\n",
       "        if (event.deltaY < 0) {\n",
       "            event.step = 1;\n",
       "        } else {\n",
       "            event.step = -1;\n",
       "        }\n",
       "        on_mouse_event_closure('scroll')(event);\n",
       "    });\n",
       "\n",
       "    canvas_div.appendChild(canvas);\n",
       "    canvas_div.appendChild(rubberband_canvas);\n",
       "\n",
       "    this.rubberband_context = rubberband_canvas.getContext('2d');\n",
       "    this.rubberband_context.strokeStyle = '#000000';\n",
       "\n",
       "    this._resize_canvas = function (width, height, forward) {\n",
       "        if (forward) {\n",
       "            canvas_div.style.width = width + 'px';\n",
       "            canvas_div.style.height = height + 'px';\n",
       "        }\n",
       "    };\n",
       "\n",
       "    // Disable right mouse context menu.\n",
       "    this.rubberband_canvas.addEventListener('contextmenu', function (_e) {\n",
       "        event.preventDefault();\n",
       "        return false;\n",
       "    });\n",
       "\n",
       "    function set_focus() {\n",
       "        canvas.focus();\n",
       "        canvas_div.focus();\n",
       "    }\n",
       "\n",
       "    window.setTimeout(set_focus, 100);\n",
       "};\n",
       "\n",
       "mpl.figure.prototype._init_toolbar = function () {\n",
       "    var fig = this;\n",
       "\n",
       "    var toolbar = document.createElement('div');\n",
       "    toolbar.classList = 'mpl-toolbar';\n",
       "    this.root.appendChild(toolbar);\n",
       "\n",
       "    function on_click_closure(name) {\n",
       "        return function (_event) {\n",
       "            return fig.toolbar_button_onclick(name);\n",
       "        };\n",
       "    }\n",
       "\n",
       "    function on_mouseover_closure(tooltip) {\n",
       "        return function (event) {\n",
       "            if (!event.currentTarget.disabled) {\n",
       "                return fig.toolbar_button_onmouseover(tooltip);\n",
       "            }\n",
       "        };\n",
       "    }\n",
       "\n",
       "    fig.buttons = {};\n",
       "    var buttonGroup = document.createElement('div');\n",
       "    buttonGroup.classList = 'mpl-button-group';\n",
       "    for (var toolbar_ind in mpl.toolbar_items) {\n",
       "        var name = mpl.toolbar_items[toolbar_ind][0];\n",
       "        var tooltip = mpl.toolbar_items[toolbar_ind][1];\n",
       "        var image = mpl.toolbar_items[toolbar_ind][2];\n",
       "        var method_name = mpl.toolbar_items[toolbar_ind][3];\n",
       "\n",
       "        if (!name) {\n",
       "            /* Instead of a spacer, we start a new button group. */\n",
       "            if (buttonGroup.hasChildNodes()) {\n",
       "                toolbar.appendChild(buttonGroup);\n",
       "            }\n",
       "            buttonGroup = document.createElement('div');\n",
       "            buttonGroup.classList = 'mpl-button-group';\n",
       "            continue;\n",
       "        }\n",
       "\n",
       "        var button = (fig.buttons[name] = document.createElement('button'));\n",
       "        button.classList = 'mpl-widget';\n",
       "        button.setAttribute('role', 'button');\n",
       "        button.setAttribute('aria-disabled', 'false');\n",
       "        button.addEventListener('click', on_click_closure(method_name));\n",
       "        button.addEventListener('mouseover', on_mouseover_closure(tooltip));\n",
       "\n",
       "        var icon_img = document.createElement('img');\n",
       "        icon_img.src = '_images/' + image + '.png';\n",
       "        icon_img.srcset = '_images/' + image + '_large.png 2x';\n",
       "        icon_img.alt = tooltip;\n",
       "        button.appendChild(icon_img);\n",
       "\n",
       "        buttonGroup.appendChild(button);\n",
       "    }\n",
       "\n",
       "    if (buttonGroup.hasChildNodes()) {\n",
       "        toolbar.appendChild(buttonGroup);\n",
       "    }\n",
       "\n",
       "    var fmt_picker = document.createElement('select');\n",
       "    fmt_picker.classList = 'mpl-widget';\n",
       "    toolbar.appendChild(fmt_picker);\n",
       "    this.format_dropdown = fmt_picker;\n",
       "\n",
       "    for (var ind in mpl.extensions) {\n",
       "        var fmt = mpl.extensions[ind];\n",
       "        var option = document.createElement('option');\n",
       "        option.selected = fmt === mpl.default_extension;\n",
       "        option.innerHTML = fmt;\n",
       "        fmt_picker.appendChild(option);\n",
       "    }\n",
       "\n",
       "    var status_bar = document.createElement('span');\n",
       "    status_bar.classList = 'mpl-message';\n",
       "    toolbar.appendChild(status_bar);\n",
       "    this.message = status_bar;\n",
       "};\n",
       "\n",
       "mpl.figure.prototype.request_resize = function (x_pixels, y_pixels) {\n",
       "    // Request matplotlib to resize the figure. Matplotlib will then trigger a resize in the client,\n",
       "    // which will in turn request a refresh of the image.\n",
       "    this.send_message('resize', { width: x_pixels, height: y_pixels });\n",
       "};\n",
       "\n",
       "mpl.figure.prototype.send_message = function (type, properties) {\n",
       "    properties['type'] = type;\n",
       "    properties['figure_id'] = this.id;\n",
       "    this.ws.send(JSON.stringify(properties));\n",
       "};\n",
       "\n",
       "mpl.figure.prototype.send_draw_message = function () {\n",
       "    if (!this.waiting) {\n",
       "        this.waiting = true;\n",
       "        this.ws.send(JSON.stringify({ type: 'draw', figure_id: this.id }));\n",
       "    }\n",
       "};\n",
       "\n",
       "mpl.figure.prototype.handle_save = function (fig, _msg) {\n",
       "    var format_dropdown = fig.format_dropdown;\n",
       "    var format = format_dropdown.options[format_dropdown.selectedIndex].value;\n",
       "    fig.ondownload(fig, format);\n",
       "};\n",
       "\n",
       "mpl.figure.prototype.handle_resize = function (fig, msg) {\n",
       "    var size = msg['size'];\n",
       "    if (size[0] !== fig.canvas.width || size[1] !== fig.canvas.height) {\n",
       "        fig._resize_canvas(size[0], size[1], msg['forward']);\n",
       "        fig.send_message('refresh', {});\n",
       "    }\n",
       "};\n",
       "\n",
       "mpl.figure.prototype.handle_rubberband = function (fig, msg) {\n",
       "    var x0 = msg['x0'] / fig.ratio;\n",
       "    var y0 = (fig.canvas.height - msg['y0']) / fig.ratio;\n",
       "    var x1 = msg['x1'] / fig.ratio;\n",
       "    var y1 = (fig.canvas.height - msg['y1']) / fig.ratio;\n",
       "    x0 = Math.floor(x0) + 0.5;\n",
       "    y0 = Math.floor(y0) + 0.5;\n",
       "    x1 = Math.floor(x1) + 0.5;\n",
       "    y1 = Math.floor(y1) + 0.5;\n",
       "    var min_x = Math.min(x0, x1);\n",
       "    var min_y = Math.min(y0, y1);\n",
       "    var width = Math.abs(x1 - x0);\n",
       "    var height = Math.abs(y1 - y0);\n",
       "\n",
       "    fig.rubberband_context.clearRect(\n",
       "        0,\n",
       "        0,\n",
       "        fig.canvas.width / fig.ratio,\n",
       "        fig.canvas.height / fig.ratio\n",
       "    );\n",
       "\n",
       "    fig.rubberband_context.strokeRect(min_x, min_y, width, height);\n",
       "};\n",
       "\n",
       "mpl.figure.prototype.handle_figure_label = function (fig, msg) {\n",
       "    // Updates the figure title.\n",
       "    fig.header.textContent = msg['label'];\n",
       "};\n",
       "\n",
       "mpl.figure.prototype.handle_cursor = function (fig, msg) {\n",
       "    var cursor = msg['cursor'];\n",
       "    switch (cursor) {\n",
       "        case 0:\n",
       "            cursor = 'pointer';\n",
       "            break;\n",
       "        case 1:\n",
       "            cursor = 'default';\n",
       "            break;\n",
       "        case 2:\n",
       "            cursor = 'crosshair';\n",
       "            break;\n",
       "        case 3:\n",
       "            cursor = 'move';\n",
       "            break;\n",
       "    }\n",
       "    fig.rubberband_canvas.style.cursor = cursor;\n",
       "};\n",
       "\n",
       "mpl.figure.prototype.handle_message = function (fig, msg) {\n",
       "    fig.message.textContent = msg['message'];\n",
       "};\n",
       "\n",
       "mpl.figure.prototype.handle_draw = function (fig, _msg) {\n",
       "    // Request the server to send over a new figure.\n",
       "    fig.send_draw_message();\n",
       "};\n",
       "\n",
       "mpl.figure.prototype.handle_image_mode = function (fig, msg) {\n",
       "    fig.image_mode = msg['mode'];\n",
       "};\n",
       "\n",
       "mpl.figure.prototype.handle_history_buttons = function (fig, msg) {\n",
       "    for (var key in msg) {\n",
       "        if (!(key in fig.buttons)) {\n",
       "            continue;\n",
       "        }\n",
       "        fig.buttons[key].disabled = !msg[key];\n",
       "        fig.buttons[key].setAttribute('aria-disabled', !msg[key]);\n",
       "    }\n",
       "};\n",
       "\n",
       "mpl.figure.prototype.handle_navigate_mode = function (fig, msg) {\n",
       "    if (msg['mode'] === 'PAN') {\n",
       "        fig.buttons['Pan'].classList.add('active');\n",
       "        fig.buttons['Zoom'].classList.remove('active');\n",
       "    } else if (msg['mode'] === 'ZOOM') {\n",
       "        fig.buttons['Pan'].classList.remove('active');\n",
       "        fig.buttons['Zoom'].classList.add('active');\n",
       "    } else {\n",
       "        fig.buttons['Pan'].classList.remove('active');\n",
       "        fig.buttons['Zoom'].classList.remove('active');\n",
       "    }\n",
       "};\n",
       "\n",
       "mpl.figure.prototype.updated_canvas_event = function () {\n",
       "    // Called whenever the canvas gets updated.\n",
       "    this.send_message('ack', {});\n",
       "};\n",
       "\n",
       "// A function to construct a web socket function for onmessage handling.\n",
       "// Called in the figure constructor.\n",
       "mpl.figure.prototype._make_on_message_function = function (fig) {\n",
       "    return function socket_on_message(evt) {\n",
       "        if (evt.data instanceof Blob) {\n",
       "            /* FIXME: We get \"Resource interpreted as Image but\n",
       "             * transferred with MIME type text/plain:\" errors on\n",
       "             * Chrome.  But how to set the MIME type?  It doesn't seem\n",
       "             * to be part of the websocket stream */\n",
       "            evt.data.type = 'image/png';\n",
       "\n",
       "            /* Free the memory for the previous frames */\n",
       "            if (fig.imageObj.src) {\n",
       "                (window.URL || window.webkitURL).revokeObjectURL(\n",
       "                    fig.imageObj.src\n",
       "                );\n",
       "            }\n",
       "\n",
       "            fig.imageObj.src = (window.URL || window.webkitURL).createObjectURL(\n",
       "                evt.data\n",
       "            );\n",
       "            fig.updated_canvas_event();\n",
       "            fig.waiting = false;\n",
       "            return;\n",
       "        } else if (\n",
       "            typeof evt.data === 'string' &&\n",
       "            evt.data.slice(0, 21) === 'data:image/png;base64'\n",
       "        ) {\n",
       "            fig.imageObj.src = evt.data;\n",
       "            fig.updated_canvas_event();\n",
       "            fig.waiting = false;\n",
       "            return;\n",
       "        }\n",
       "\n",
       "        var msg = JSON.parse(evt.data);\n",
       "        var msg_type = msg['type'];\n",
       "\n",
       "        // Call the  \"handle_{type}\" callback, which takes\n",
       "        // the figure and JSON message as its only arguments.\n",
       "        try {\n",
       "            var callback = fig['handle_' + msg_type];\n",
       "        } catch (e) {\n",
       "            console.log(\n",
       "                \"No handler for the '\" + msg_type + \"' message type: \",\n",
       "                msg\n",
       "            );\n",
       "            return;\n",
       "        }\n",
       "\n",
       "        if (callback) {\n",
       "            try {\n",
       "                // console.log(\"Handling '\" + msg_type + \"' message: \", msg);\n",
       "                callback(fig, msg);\n",
       "            } catch (e) {\n",
       "                console.log(\n",
       "                    \"Exception inside the 'handler_\" + msg_type + \"' callback:\",\n",
       "                    e,\n",
       "                    e.stack,\n",
       "                    msg\n",
       "                );\n",
       "            }\n",
       "        }\n",
       "    };\n",
       "};\n",
       "\n",
       "// from http://stackoverflow.com/questions/1114465/getting-mouse-location-in-canvas\n",
       "mpl.findpos = function (e) {\n",
       "    //this section is from http://www.quirksmode.org/js/events_properties.html\n",
       "    var targ;\n",
       "    if (!e) {\n",
       "        e = window.event;\n",
       "    }\n",
       "    if (e.target) {\n",
       "        targ = e.target;\n",
       "    } else if (e.srcElement) {\n",
       "        targ = e.srcElement;\n",
       "    }\n",
       "    if (targ.nodeType === 3) {\n",
       "        // defeat Safari bug\n",
       "        targ = targ.parentNode;\n",
       "    }\n",
       "\n",
       "    // pageX,Y are the mouse positions relative to the document\n",
       "    var boundingRect = targ.getBoundingClientRect();\n",
       "    var x = e.pageX - (boundingRect.left + document.body.scrollLeft);\n",
       "    var y = e.pageY - (boundingRect.top + document.body.scrollTop);\n",
       "\n",
       "    return { x: x, y: y };\n",
       "};\n",
       "\n",
       "/*\n",
       " * return a copy of an object with only non-object keys\n",
       " * we need this to avoid circular references\n",
       " * http://stackoverflow.com/a/24161582/3208463\n",
       " */\n",
       "function simpleKeys(original) {\n",
       "    return Object.keys(original).reduce(function (obj, key) {\n",
       "        if (typeof original[key] !== 'object') {\n",
       "            obj[key] = original[key];\n",
       "        }\n",
       "        return obj;\n",
       "    }, {});\n",
       "}\n",
       "\n",
       "mpl.figure.prototype.mouse_event = function (event, name) {\n",
       "    var canvas_pos = mpl.findpos(event);\n",
       "\n",
       "    if (name === 'button_press') {\n",
       "        this.canvas.focus();\n",
       "        this.canvas_div.focus();\n",
       "    }\n",
       "\n",
       "    var x = canvas_pos.x * this.ratio;\n",
       "    var y = canvas_pos.y * this.ratio;\n",
       "\n",
       "    this.send_message(name, {\n",
       "        x: x,\n",
       "        y: y,\n",
       "        button: event.button,\n",
       "        step: event.step,\n",
       "        guiEvent: simpleKeys(event),\n",
       "    });\n",
       "\n",
       "    /* This prevents the web browser from automatically changing to\n",
       "     * the text insertion cursor when the button is pressed.  We want\n",
       "     * to control all of the cursor setting manually through the\n",
       "     * 'cursor' event from matplotlib */\n",
       "    event.preventDefault();\n",
       "    return false;\n",
       "};\n",
       "\n",
       "mpl.figure.prototype._key_event_extra = function (_event, _name) {\n",
       "    // Handle any extra behaviour associated with a key event\n",
       "};\n",
       "\n",
       "mpl.figure.prototype.key_event = function (event, name) {\n",
       "    // Prevent repeat events\n",
       "    if (name === 'key_press') {\n",
       "        if (event.which === this._key) {\n",
       "            return;\n",
       "        } else {\n",
       "            this._key = event.which;\n",
       "        }\n",
       "    }\n",
       "    if (name === 'key_release') {\n",
       "        this._key = null;\n",
       "    }\n",
       "\n",
       "    var value = '';\n",
       "    if (event.ctrlKey && event.which !== 17) {\n",
       "        value += 'ctrl+';\n",
       "    }\n",
       "    if (event.altKey && event.which !== 18) {\n",
       "        value += 'alt+';\n",
       "    }\n",
       "    if (event.shiftKey && event.which !== 16) {\n",
       "        value += 'shift+';\n",
       "    }\n",
       "\n",
       "    value += 'k';\n",
       "    value += event.which.toString();\n",
       "\n",
       "    this._key_event_extra(event, name);\n",
       "\n",
       "    this.send_message(name, { key: value, guiEvent: simpleKeys(event) });\n",
       "    return false;\n",
       "};\n",
       "\n",
       "mpl.figure.prototype.toolbar_button_onclick = function (name) {\n",
       "    if (name === 'download') {\n",
       "        this.handle_save(this, null);\n",
       "    } else {\n",
       "        this.send_message('toolbar_button', { name: name });\n",
       "    }\n",
       "};\n",
       "\n",
       "mpl.figure.prototype.toolbar_button_onmouseover = function (tooltip) {\n",
       "    this.message.textContent = tooltip;\n",
       "};\n",
       "mpl.toolbar_items = [[\"Home\", \"Reset original view\", \"fa fa-home icon-home\", \"home\"], [\"Back\", \"Back to previous view\", \"fa fa-arrow-left icon-arrow-left\", \"back\"], [\"Forward\", \"Forward to next view\", \"fa fa-arrow-right icon-arrow-right\", \"forward\"], [\"\", \"\", \"\", \"\"], [\"Pan\", \"Left button pans, Right button zooms\\nx/y fixes axis, CTRL fixes aspect\", \"fa fa-arrows icon-move\", \"pan\"], [\"Zoom\", \"Zoom to rectangle\\nx/y fixes axis, CTRL fixes aspect\", \"fa fa-square-o icon-check-empty\", \"zoom\"], [\"\", \"\", \"\", \"\"], [\"Download\", \"Download plot\", \"fa fa-floppy-o icon-save\", \"download\"]];\n",
       "\n",
       "mpl.extensions = [\"eps\", \"jpeg\", \"pdf\", \"png\", \"ps\", \"raw\", \"svg\", \"tif\"];\n",
       "\n",
       "mpl.default_extension = \"png\";/* global mpl */\n",
       "\n",
       "var comm_websocket_adapter = function (comm) {\n",
       "    // Create a \"websocket\"-like object which calls the given IPython comm\n",
       "    // object with the appropriate methods. Currently this is a non binary\n",
       "    // socket, so there is still some room for performance tuning.\n",
       "    var ws = {};\n",
       "\n",
       "    ws.close = function () {\n",
       "        comm.close();\n",
       "    };\n",
       "    ws.send = function (m) {\n",
       "        //console.log('sending', m);\n",
       "        comm.send(m);\n",
       "    };\n",
       "    // Register the callback with on_msg.\n",
       "    comm.on_msg(function (msg) {\n",
       "        //console.log('receiving', msg['content']['data'], msg);\n",
       "        // Pass the mpl event to the overridden (by mpl) onmessage function.\n",
       "        ws.onmessage(msg['content']['data']);\n",
       "    });\n",
       "    return ws;\n",
       "};\n",
       "\n",
       "mpl.mpl_figure_comm = function (comm, msg) {\n",
       "    // This is the function which gets called when the mpl process\n",
       "    // starts-up an IPython Comm through the \"matplotlib\" channel.\n",
       "\n",
       "    var id = msg.content.data.id;\n",
       "    // Get hold of the div created by the display call when the Comm\n",
       "    // socket was opened in Python.\n",
       "    var element = document.getElementById(id);\n",
       "    var ws_proxy = comm_websocket_adapter(comm);\n",
       "\n",
       "    function ondownload(figure, _format) {\n",
       "        window.open(figure.canvas.toDataURL());\n",
       "    }\n",
       "\n",
       "    var fig = new mpl.figure(id, ws_proxy, ondownload, element);\n",
       "\n",
       "    // Call onopen now - mpl needs it, as it is assuming we've passed it a real\n",
       "    // web socket which is closed, not our websocket->open comm proxy.\n",
       "    ws_proxy.onopen();\n",
       "\n",
       "    fig.parent_element = element;\n",
       "    fig.cell_info = mpl.find_output_cell(\"<div id='\" + id + \"'></div>\");\n",
       "    if (!fig.cell_info) {\n",
       "        console.error('Failed to find cell for figure', id, fig);\n",
       "        return;\n",
       "    }\n",
       "    fig.cell_info[0].output_area.element.one(\n",
       "        'cleared',\n",
       "        { fig: fig },\n",
       "        fig._remove_fig_handler\n",
       "    );\n",
       "};\n",
       "\n",
       "mpl.figure.prototype.handle_close = function (fig, msg) {\n",
       "    var width = fig.canvas.width / fig.ratio;\n",
       "    fig.cell_info[0].output_area.element.off(\n",
       "        'cleared',\n",
       "        fig._remove_fig_handler\n",
       "    );\n",
       "\n",
       "    // Update the output cell to use the data from the current canvas.\n",
       "    fig.push_to_output();\n",
       "    var dataURL = fig.canvas.toDataURL();\n",
       "    // Re-enable the keyboard manager in IPython - without this line, in FF,\n",
       "    // the notebook keyboard shortcuts fail.\n",
       "    IPython.keyboard_manager.enable();\n",
       "    fig.parent_element.innerHTML =\n",
       "        '<img src=\"' + dataURL + '\" width=\"' + width + '\">';\n",
       "    fig.close_ws(fig, msg);\n",
       "};\n",
       "\n",
       "mpl.figure.prototype.close_ws = function (fig, msg) {\n",
       "    fig.send_message('closing', msg);\n",
       "    // fig.ws.close()\n",
       "};\n",
       "\n",
       "mpl.figure.prototype.push_to_output = function (_remove_interactive) {\n",
       "    // Turn the data on the canvas into data in the output cell.\n",
       "    var width = this.canvas.width / this.ratio;\n",
       "    var dataURL = this.canvas.toDataURL();\n",
       "    this.cell_info[1]['text/html'] =\n",
       "        '<img src=\"' + dataURL + '\" width=\"' + width + '\">';\n",
       "};\n",
       "\n",
       "mpl.figure.prototype.updated_canvas_event = function () {\n",
       "    // Tell IPython that the notebook contents must change.\n",
       "    IPython.notebook.set_dirty(true);\n",
       "    this.send_message('ack', {});\n",
       "    var fig = this;\n",
       "    // Wait a second, then push the new image to the DOM so\n",
       "    // that it is saved nicely (might be nice to debounce this).\n",
       "    setTimeout(function () {\n",
       "        fig.push_to_output();\n",
       "    }, 1000);\n",
       "};\n",
       "\n",
       "mpl.figure.prototype._init_toolbar = function () {\n",
       "    var fig = this;\n",
       "\n",
       "    var toolbar = document.createElement('div');\n",
       "    toolbar.classList = 'btn-toolbar';\n",
       "    this.root.appendChild(toolbar);\n",
       "\n",
       "    function on_click_closure(name) {\n",
       "        return function (_event) {\n",
       "            return fig.toolbar_button_onclick(name);\n",
       "        };\n",
       "    }\n",
       "\n",
       "    function on_mouseover_closure(tooltip) {\n",
       "        return function (event) {\n",
       "            if (!event.currentTarget.disabled) {\n",
       "                return fig.toolbar_button_onmouseover(tooltip);\n",
       "            }\n",
       "        };\n",
       "    }\n",
       "\n",
       "    fig.buttons = {};\n",
       "    var buttonGroup = document.createElement('div');\n",
       "    buttonGroup.classList = 'btn-group';\n",
       "    var button;\n",
       "    for (var toolbar_ind in mpl.toolbar_items) {\n",
       "        var name = mpl.toolbar_items[toolbar_ind][0];\n",
       "        var tooltip = mpl.toolbar_items[toolbar_ind][1];\n",
       "        var image = mpl.toolbar_items[toolbar_ind][2];\n",
       "        var method_name = mpl.toolbar_items[toolbar_ind][3];\n",
       "\n",
       "        if (!name) {\n",
       "            /* Instead of a spacer, we start a new button group. */\n",
       "            if (buttonGroup.hasChildNodes()) {\n",
       "                toolbar.appendChild(buttonGroup);\n",
       "            }\n",
       "            buttonGroup = document.createElement('div');\n",
       "            buttonGroup.classList = 'btn-group';\n",
       "            continue;\n",
       "        }\n",
       "\n",
       "        button = fig.buttons[name] = document.createElement('button');\n",
       "        button.classList = 'btn btn-default';\n",
       "        button.href = '#';\n",
       "        button.title = name;\n",
       "        button.innerHTML = '<i class=\"fa ' + image + ' fa-lg\"></i>';\n",
       "        button.addEventListener('click', on_click_closure(method_name));\n",
       "        button.addEventListener('mouseover', on_mouseover_closure(tooltip));\n",
       "        buttonGroup.appendChild(button);\n",
       "    }\n",
       "\n",
       "    if (buttonGroup.hasChildNodes()) {\n",
       "        toolbar.appendChild(buttonGroup);\n",
       "    }\n",
       "\n",
       "    // Add the status bar.\n",
       "    var status_bar = document.createElement('span');\n",
       "    status_bar.classList = 'mpl-message pull-right';\n",
       "    toolbar.appendChild(status_bar);\n",
       "    this.message = status_bar;\n",
       "\n",
       "    // Add the close button to the window.\n",
       "    var buttongrp = document.createElement('div');\n",
       "    buttongrp.classList = 'btn-group inline pull-right';\n",
       "    button = document.createElement('button');\n",
       "    button.classList = 'btn btn-mini btn-primary';\n",
       "    button.href = '#';\n",
       "    button.title = 'Stop Interaction';\n",
       "    button.innerHTML = '<i class=\"fa fa-power-off icon-remove icon-large\"></i>';\n",
       "    button.addEventListener('click', function (_evt) {\n",
       "        fig.handle_close(fig, {});\n",
       "    });\n",
       "    button.addEventListener(\n",
       "        'mouseover',\n",
       "        on_mouseover_closure('Stop Interaction')\n",
       "    );\n",
       "    buttongrp.appendChild(button);\n",
       "    var titlebar = this.root.querySelector('.ui-dialog-titlebar');\n",
       "    titlebar.insertBefore(buttongrp, titlebar.firstChild);\n",
       "};\n",
       "\n",
       "mpl.figure.prototype._remove_fig_handler = function (event) {\n",
       "    var fig = event.data.fig;\n",
       "    fig.close_ws(fig, {});\n",
       "};\n",
       "\n",
       "mpl.figure.prototype._root_extra_style = function (el) {\n",
       "    el.style.boxSizing = 'content-box'; // override notebook setting of border-box.\n",
       "};\n",
       "\n",
       "mpl.figure.prototype._canvas_extra_style = function (el) {\n",
       "    // this is important to make the div 'focusable\n",
       "    el.setAttribute('tabindex', 0);\n",
       "    // reach out to IPython and tell the keyboard manager to turn it's self\n",
       "    // off when our div gets focus\n",
       "\n",
       "    // location in version 3\n",
       "    if (IPython.notebook.keyboard_manager) {\n",
       "        IPython.notebook.keyboard_manager.register_events(el);\n",
       "    } else {\n",
       "        // location in version 2\n",
       "        IPython.keyboard_manager.register_events(el);\n",
       "    }\n",
       "};\n",
       "\n",
       "mpl.figure.prototype._key_event_extra = function (event, _name) {\n",
       "    var manager = IPython.notebook.keyboard_manager;\n",
       "    if (!manager) {\n",
       "        manager = IPython.keyboard_manager;\n",
       "    }\n",
       "\n",
       "    // Check for shift+enter\n",
       "    if (event.shiftKey && event.which === 13) {\n",
       "        this.canvas_div.blur();\n",
       "        // select the cell after this one\n",
       "        var index = IPython.notebook.find_cell_index(this.cell_info[0]);\n",
       "        IPython.notebook.select(index + 1);\n",
       "    }\n",
       "};\n",
       "\n",
       "mpl.figure.prototype.handle_save = function (fig, _msg) {\n",
       "    fig.ondownload(fig, null);\n",
       "};\n",
       "\n",
       "mpl.find_output_cell = function (html_output) {\n",
       "    // Return the cell and output element which can be found *uniquely* in the notebook.\n",
       "    // Note - this is a bit hacky, but it is done because the \"notebook_saving.Notebook\"\n",
       "    // IPython event is triggered only after the cells have been serialised, which for\n",
       "    // our purposes (turning an active figure into a static one), is too late.\n",
       "    var cells = IPython.notebook.get_cells();\n",
       "    var ncells = cells.length;\n",
       "    for (var i = 0; i < ncells; i++) {\n",
       "        var cell = cells[i];\n",
       "        if (cell.cell_type === 'code') {\n",
       "            for (var j = 0; j < cell.output_area.outputs.length; j++) {\n",
       "                var data = cell.output_area.outputs[j];\n",
       "                if (data.data) {\n",
       "                    // IPython >= 3 moved mimebundle to data attribute of output\n",
       "                    data = data.data;\n",
       "                }\n",
       "                if (data['text/html'] === html_output) {\n",
       "                    return [cell, data, j];\n",
       "                }\n",
       "            }\n",
       "        }\n",
       "    }\n",
       "};\n",
       "\n",
       "// Register the function which deals with the matplotlib target/channel.\n",
       "// The kernel may be null if the page has been refreshed.\n",
       "if (IPython.notebook.kernel !== null) {\n",
       "    IPython.notebook.kernel.comm_manager.register_target(\n",
       "        'matplotlib',\n",
       "        mpl.mpl_figure_comm\n",
       "    );\n",
       "}\n"
      ],
      "text/plain": [
       "<IPython.core.display.Javascript object>"
      ]
     },
     "metadata": {},
     "output_type": "display_data"
    },
    {
     "data": {
      "text/html": [
       "<div id='7365ce67-8965-4f65-9752-e22d044a77dd'></div>"
      ],
      "text/plain": [
       "<IPython.core.display.HTML object>"
      ]
     },
     "metadata": {},
     "output_type": "display_data"
    },
    {
     "data": {
      "text/plain": [
       "[<matplotlib.lines.Line2D at 0x7f5578098950>]"
      ]
     },
     "execution_count": 1,
     "metadata": {},
     "output_type": "execute_result"
    }
   ],
   "source": [
    "example_data = data[0]\n",
    "mol_frac = example_data.mf\n",
    "mol_frac.plot()"
   ]
  },
  {
   "cell_type": "markdown",
   "metadata": {},
   "source": [
    "## 5. Ranking data"
   ]
  },
  {
   "cell_type": "markdown",
   "metadata": {},
   "source": [
    "The dates that the data from Heathfield retrieved above overlap. If we want to easily retrieve the highest quality data from Heathfield over a range of dates we don't want to have to repeatedly check which was the correct inlet/instrument for a given daterange. This problem is solved using ranking. \n",
    "\n",
    "A given inlet on a specific instrument at a site can be given a rank for a daterange. To do this we use the `RankSources` class from the `localclient` submodule."
   ]
  },
  {
   "cell_type": "code",
   "execution_count": 16,
   "metadata": {
    "execution": {
     "iopub.execute_input": "2020-10-21T15:28:51.919181Z",
     "iopub.status.busy": "2020-10-21T15:28:51.918513Z",
     "iopub.status.idle": "2020-10-21T15:28:51.936015Z",
     "shell.execute_reply": "2020-10-21T15:28:51.935494Z"
    }
   },
   "outputs": [
    {
     "data": {
      "text/plain": [
       "{'co_hfd_100m_picarro': {'rank': 0,\n",
       "  'data_range': '2013-12-04T14:02:30_2019-05-21T15:46:30',\n",
       "  'uuid': '8b6857a7-d3b8-43c3-a08d-ac04ba3768d0',\n",
       "  'metadata': {'site': 'hfd',\n",
       "   'instrument': 'picarro',\n",
       "   'time_resolution': '1_minute',\n",
       "   'inlet': '100m',\n",
       "   'port': '10',\n",
       "   'type': 'air',\n",
       "   'network': 'decc',\n",
       "   'species': 'co',\n",
       "   'scale': 'wmo-x2014a',\n",
       "   'data_type': 'timeseries'}},\n",
       " 'co_hfd_50m_picarro': {'rank': 0,\n",
       "  'data_range': '2013-11-23T12:28:30_2020-06-24T09:41:30',\n",
       "  'uuid': '89eb677e-9578-40ed-bdc5-0531e6e3cd17',\n",
       "  'metadata': {'site': 'hfd',\n",
       "   'instrument': 'picarro',\n",
       "   'time_resolution': '1_minute',\n",
       "   'inlet': '50m',\n",
       "   'port': '9',\n",
       "   'type': 'air',\n",
       "   'network': 'decc',\n",
       "   'species': 'co',\n",
       "   'scale': 'wmo-x2014a',\n",
       "   'data_type': 'timeseries'}}}"
      ]
     },
     "execution_count": 1,
     "metadata": {},
     "output_type": "execute_result"
    }
   ],
   "source": [
    "r = RankSources()\n",
    "\n",
    "r.get_sources(site=\"hfd\", species=\"co\")"
   ]
  },
  {
   "cell_type": "markdown",
   "metadata": {},
   "source": [
    "The returned dictionary gives us two keys, one for each inlet height. To rank a source we use the `set_rank` method which expects two arguments: `rank_key` which is the key given to each source in the `dict` above and `rank_data` a dictionary of the form\n",
    "\n",
    "```python\n",
    "rank_data = {co2_hfd_50m_picarro: {1: [daterange_1], 2: [daterange_2]}}\n",
    "```\n",
    "\n",
    "We can create this dictionary using a helper method of `RankSources` called `create_daterange` as shown below."
   ]
  },
  {
   "cell_type": "code",
   "execution_count": 17,
   "metadata": {
    "execution": {
     "iopub.execute_input": "2020-10-21T15:28:51.942008Z",
     "iopub.status.busy": "2020-10-21T15:28:51.940489Z",
     "iopub.status.idle": "2020-10-21T15:28:51.944282Z",
     "shell.execute_reply": "2020-10-21T15:28:51.943552Z"
    }
   },
   "outputs": [],
   "source": [
    "daterange_100m = r.create_daterange(start=\"2013-11-01\", end=\"2016-01-01\")   "
   ]
  },
  {
   "cell_type": "markdown",
   "metadata": {},
   "source": [
    "This creates a daterange string that will be understood by `openghg`. We can then place this in a list to create our `rank_data` dictionary."
   ]
  },
  {
   "cell_type": "code",
   "execution_count": 18,
   "metadata": {
    "execution": {
     "iopub.execute_input": "2020-10-21T15:28:51.949674Z",
     "iopub.status.busy": "2020-10-21T15:28:51.948269Z",
     "iopub.status.idle": "2020-10-21T15:28:51.951759Z",
     "shell.execute_reply": "2020-10-21T15:28:51.951163Z"
    }
   },
   "outputs": [],
   "source": [
    "rank_data = {\"co_hfd_100m_picarro\": {\"1\": [daterange_100m]}}"
   ]
  },
  {
   "cell_type": "code",
   "execution_count": 19,
   "metadata": {
    "execution": {
     "iopub.execute_input": "2020-10-21T15:28:51.957415Z",
     "iopub.status.busy": "2020-10-21T15:28:51.955903Z",
     "iopub.status.idle": "2020-10-21T15:28:51.960585Z",
     "shell.execute_reply": "2020-10-21T15:28:51.959320Z"
    }
   },
   "outputs": [
    {
     "data": {
      "text/plain": [
       "{'co_hfd_100m_picarro': {'1': ['2013-11-01T00:00:00_2016-01-01T00:00:00']}}"
      ]
     },
     "execution_count": 1,
     "metadata": {},
     "output_type": "execute_result"
    }
   ],
   "source": [
    "rank_data"
   ]
  },
  {
   "cell_type": "markdown",
   "metadata": {},
   "source": [
    "Now we can set the rank of the network using `set_rank`"
   ]
  },
  {
   "cell_type": "code",
   "execution_count": 20,
   "metadata": {
    "execution": {
     "iopub.execute_input": "2020-10-21T15:28:51.965018Z",
     "iopub.status.busy": "2020-10-21T15:28:51.964279Z",
     "iopub.status.idle": "2020-10-21T15:28:51.973777Z",
     "shell.execute_reply": "2020-10-21T15:28:51.973160Z"
    }
   },
   "outputs": [],
   "source": [
    "r.set_rank(rank_key=\"co_hfd_100m_picarro\", rank_data=rank_data)"
   ]
  },
  {
   "cell_type": "markdown",
   "metadata": {},
   "source": [
    "We can now check the rank for this inlet again to check it's been set correctly"
   ]
  },
  {
   "cell_type": "code",
   "execution_count": 21,
   "metadata": {
    "execution": {
     "iopub.execute_input": "2020-10-21T15:28:51.978542Z",
     "iopub.status.busy": "2020-10-21T15:28:51.977602Z",
     "iopub.status.idle": "2020-10-21T15:28:51.995786Z",
     "shell.execute_reply": "2020-10-21T15:28:51.995273Z"
    }
   },
   "outputs": [
    {
     "data": {
      "text/plain": [
       "{'co_hfd_100m_picarro': {'rank': defaultdict(list,\n",
       "              {'1': ['2013-11-01T00:00:00_2016-01-01T00:00:00']}),\n",
       "  'data_range': '2013-12-04T14:02:30_2019-05-21T15:46:30',\n",
       "  'uuid': '8b6857a7-d3b8-43c3-a08d-ac04ba3768d0',\n",
       "  'metadata': {'site': 'hfd',\n",
       "   'instrument': 'picarro',\n",
       "   'time_resolution': '1_minute',\n",
       "   'inlet': '100m',\n",
       "   'port': '10',\n",
       "   'type': 'air',\n",
       "   'network': 'decc',\n",
       "   'species': 'co',\n",
       "   'scale': 'wmo-x2014a',\n",
       "   'data_type': 'timeseries'}},\n",
       " 'co_hfd_50m_picarro': {'rank': 0,\n",
       "  'data_range': '2013-11-23T12:28:30_2020-06-24T09:41:30',\n",
       "  'uuid': '89eb677e-9578-40ed-bdc5-0531e6e3cd17',\n",
       "  'metadata': {'site': 'hfd',\n",
       "   'instrument': 'picarro',\n",
       "   'time_resolution': '1_minute',\n",
       "   'inlet': '50m',\n",
       "   'port': '9',\n",
       "   'type': 'air',\n",
       "   'network': 'decc',\n",
       "   'species': 'co',\n",
       "   'scale': 'wmo-x2014a',\n",
       "   'data_type': 'timeseries'}}}"
      ]
     },
     "execution_count": 1,
     "metadata": {},
     "output_type": "execute_result"
    }
   ],
   "source": [
    "r.get_sources(site=\"hfd\", species=\"co\")"
   ]
  },
  {
   "cell_type": "markdown",
   "metadata": {},
   "source": [
    "We can now see\n",
    "\n",
    "```python\n",
    "'co_hfd_100m_picarro': {'rank': defaultdict(list, {'1': ['2013-11-01T00:00:00_2016-01-01T00:00:00']})\n",
    "```"
   ]
  },
  {
   "cell_type": "markdown",
   "metadata": {},
   "source": [
    "Which tells us the rank was set correctly over the daterange that we specified. We can now search for data and we'll automatically get the highest ranked data.\n",
    "\n",
    "Let's search for CO2 data at Heathfield between 2014 - 2015, dates covered by both inlets."
   ]
  },
  {
   "cell_type": "code",
   "execution_count": 22,
   "metadata": {
    "execution": {
     "iopub.execute_input": "2020-10-21T15:28:51.999641Z",
     "iopub.status.busy": "2020-10-21T15:28:51.999076Z",
     "iopub.status.idle": "2020-10-21T15:28:52.219692Z",
     "shell.execute_reply": "2020-10-21T15:28:52.218832Z"
    }
   },
   "outputs": [],
   "source": [
    "updated_data = get_single_site(site=\"hfd\", species=\"co\", network=\"AGAGE\")"
   ]
  },
  {
   "cell_type": "code",
   "execution_count": 23,
   "metadata": {
    "execution": {
     "iopub.execute_input": "2020-10-21T15:28:52.231481Z",
     "iopub.status.busy": "2020-10-21T15:28:52.230566Z",
     "iopub.status.idle": "2020-10-21T15:28:52.234039Z",
     "shell.execute_reply": "2020-10-21T15:28:52.232064Z"
    }
   },
   "outputs": [
    {
     "data": {
      "text/plain": [
       "[<xarray.Dataset>\n",
       " Dimensions:    (time: 89)\n",
       " Coordinates:\n",
       "   * time       (time) datetime64[ns] 2013-12-04T14:02:30 ... 2015-12-30T14:55:30\n",
       " Data variables:\n",
       "     mf         (time) float64 214.3 216.2 147.0 135.3 ... 123.8 136.9 142.0\n",
       "     co_stdev   (time) float64 4.081 3.634 3.887 4.11 ... 3.815 4.502 4.545 3.533\n",
       "     co_n_meas  (time) float64 19.0 19.0 19.0 19.0 19.0 ... 19.0 19.0 19.0 19.0\n",
       " Attributes:\n",
       "     data_owner:           Simon O'Doherty\n",
       "     data_owner_email:     s.odoherty@bristol.ac.uk\n",
       "     inlet_height_magl:    100m\n",
       "     comment:              Cavity ring-down measurements. Output from GCWerks\n",
       "     Conditions of use:    Ensure that you contact the data owner at the outse...\n",
       "     Source:               In situ measurements of air\n",
       "     Conventions:          CF-1.6\n",
       "     File created:         2020-10-21 15:28:44.287871+00:00\n",
       "     Processed by:         auto@hugs-cloud.com\n",
       "     species:              CO\n",
       "     station_longitude:    0.23048\n",
       "     station_latitude:     50.97675\n",
       "     station_long_name:    Heathfield, UK\n",
       "     station_height_masl:  150.0\n",
       "     scale:                WMO-X2014A]"
      ]
     },
     "execution_count": 1,
     "metadata": {},
     "output_type": "execute_result"
    }
   ],
   "source": [
    "updated_data"
   ]
  },
  {
   "cell_type": "markdown",
   "metadata": {},
   "source": [
    "Now we get the highest ranked data returned to us without the need to specify an inlet height or instrument.\n",
    "\n",
    "If we know that we want data from the 50m inlet we can still specify this in the search and get that data"
   ]
  },
  {
   "cell_type": "code",
   "execution_count": 24,
   "metadata": {
    "execution": {
     "iopub.execute_input": "2020-10-21T15:28:52.238429Z",
     "iopub.status.busy": "2020-10-21T15:28:52.237859Z",
     "iopub.status.idle": "2020-10-21T15:28:52.548586Z",
     "shell.execute_reply": "2020-10-21T15:28:52.548084Z"
    }
   },
   "outputs": [],
   "source": [
    "fiftym_data = get_single_site(site=\"hfd\", species=\"co\", network=\"AGAGE\", inlet=\"50m\")"
   ]
  },
  {
   "cell_type": "code",
   "execution_count": 25,
   "metadata": {
    "execution": {
     "iopub.execute_input": "2020-10-21T15:28:52.557157Z",
     "iopub.status.busy": "2020-10-21T15:28:52.555993Z",
     "iopub.status.idle": "2020-10-21T15:28:52.560113Z",
     "shell.execute_reply": "2020-10-21T15:28:52.559023Z"
    }
   },
   "outputs": [
    {
     "data": {
      "text/plain": [
       "[<xarray.Dataset>\n",
       " Dimensions:    (time: 636)\n",
       " Coordinates:\n",
       "   * time       (time) datetime64[ns] 2013-11-23T12:28:30 ... 2020-06-24T09:41:30\n",
       " Data variables:\n",
       "     mf         (time) float64 181.7 190.6 242.6 196.4 ... 93.59 86.76 129.7\n",
       "     co_stdev   (time) float64 5.158 4.641 3.602 5.487 ... 3.672 4.666 4.111\n",
       "     co_n_meas  (time) float64 19.0 19.0 19.0 19.0 19.0 ... 12.0 12.0 12.0 12.0\n",
       " Attributes:\n",
       "     data_owner:           Simon O'Doherty\n",
       "     data_owner_email:     s.odoherty@bristol.ac.uk\n",
       "     inlet_height_magl:    50m\n",
       "     comment:              Cavity ring-down measurements. Output from GCWerks\n",
       "     Conditions of use:    Ensure that you contact the data owner at the outse...\n",
       "     Source:               In situ measurements of air\n",
       "     Conventions:          CF-1.6\n",
       "     File created:         2020-10-21 15:28:44.788781+00:00\n",
       "     Processed by:         auto@hugs-cloud.com\n",
       "     species:              CO\n",
       "     station_longitude:    0.23048\n",
       "     station_latitude:     50.97675\n",
       "     station_long_name:    Heathfield, UK\n",
       "     station_height_masl:  150.0\n",
       "     scale:                WMO-X2014A]"
      ]
     },
     "execution_count": 1,
     "metadata": {},
     "output_type": "execute_result"
    }
   ],
   "source": [
    "fiftym_data"
   ]
  },
  {
   "cell_type": "markdown",
   "metadata": {},
   "source": [
    "## 6. Viewing ranked data"
   ]
  },
  {
   "cell_type": "markdown",
   "metadata": {},
   "source": [
    "We can also view the ranks we have given to data with a similar layout to the object store visualisation we created earlier.\n",
    "\n",
    "To do this we use the `visualise_rankings` method of of the `RankSources` class. In this figure we'll only see Datasources that contain ranked data. Hover over the nodes for further information."
   ]
  },
  {
   "cell_type": "markdown",
   "metadata": {},
   "source": [
    "<div class=\"alert alert-info\">\n",
    "    The rankings visualisation created by this function won't be visible in the documentation but will be created when the notebook is run.\n",
    "</div>"
   ]
  },
  {
   "cell_type": "code",
   "execution_count": 26,
   "metadata": {
    "execution": {
     "iopub.execute_input": "2020-10-21T15:28:52.572499Z",
     "iopub.status.busy": "2020-10-21T15:28:52.563211Z",
     "iopub.status.idle": "2020-10-21T15:28:52.578469Z",
     "shell.execute_reply": "2020-10-21T15:28:52.577851Z"
    }
   },
   "outputs": [
    {
     "data": {
      "text/html": [
       "\n",
       "        <iframe\n",
       "            width=\"100%\"\n",
       "            height=\"800px\"\n",
       "            src=\"openghg_rankings.html\"\n",
       "            frameborder=\"0\"\n",
       "            allowfullscreen\n",
       "        ></iframe>\n",
       "        "
      ],
      "text/plain": [
       "<IPython.lib.display.IFrame at 0x7f556fbf2e10>"
      ]
     },
     "execution_count": 1,
     "metadata": {},
     "output_type": "execute_result"
    }
   ],
   "source": [
    "r.visualise_rankings()"
   ]
  },
  {
   "cell_type": "markdown",
   "metadata": {},
   "source": [
    "## 7. What's next?"
   ]
  },
  {
   "cell_type": "markdown",
   "metadata": {},
   "source": [
    "Further tutorials will be added soon. If you want to explore the internal workings of OpenGHG please checkout the Developer API documentation, if you would like contribute to the project we welcome pull requests to both the code and the documentation. For help and guidance on contributing check our contributing page."
   ]
  }
 ],
 "metadata": {
  "kernelspec": {
   "display_name": "Python 3",
   "language": "python",
   "name": "python3"
  },
  "language_info": {
   "codemirror_mode": {
    "name": "ipython",
    "version": 3
   },
   "file_extension": ".py",
   "mimetype": "text/x-python",
   "name": "python",
   "nbconvert_exporter": "python",
   "pygments_lexer": "ipython3",
   "version": "3.7.9"
  }
 },
 "nbformat": 4,
 "nbformat_minor": 4
}
