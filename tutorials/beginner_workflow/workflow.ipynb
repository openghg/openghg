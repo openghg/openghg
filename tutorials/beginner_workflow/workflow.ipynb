{
 "cells": [
  {
   "cell_type": "markdown",
   "metadata": {},
   "source": [
    "# Beginner workflow\n",
    "\n",
    "This tutorial is a beginner workflow for processing data, visualising the object store and retrieving and visualising data.\n",
    "\n",
    "### Check installation\n",
    "\n",
    "This tutorial assumes that you have installed `openghg`. To ensure install has been successful you can open an `ipython` console and import openghg\n",
    "\n",
    "In a terminal type\n",
    "\n",
    "```bash\n",
    "ipython\n",
    "```\n",
    "\n",
    "Then import `openghg` and print the version string associated with the version you have installed. If you get something like the below `openghg` is installed correctly.\n",
    "\n",
    "```ipython\n",
    "In [1]: import openghg\n",
    "In [2]: openghg.__version__\n",
    "Out[2]: '0.0.1'\n",
    "```\n",
    "\n",
    "If you get an ``ImportError`` please go back to the install section of the documentation.\n",
    "\n",
    "\n",
    "\n",
    "\n",
    "### Notebooks\n",
    "\n",
    "If you haven't used Jupyter notebooks before please see [this introduction](https://realpython.com/jupyter-notebook-introduction/)."
   ]
  },
  {
   "cell_type": "markdown",
   "metadata": {},
   "source": [
    "## 1. Setting up our environment\n",
    "\n",
    "First the notebook sets up the environment needed to create the object store at our desired location. By default this location\n",
    "is at ``/tmp/openghg_store``. For the purposes of this tutorial this path is fine but as it is a temporary directory it may not survive a\n",
    "reboot of the computer. \n",
    "\n",
    "If you want to create an object store that survives a reboot you can change the path to anything you like. We\n",
    "recommened a path such as ``~/openghg_store`` which will create the object store in your home directory in a directory called ``openghg_store``."
   ]
  },
  {
   "cell_type": "code",
   "execution_count": 1,
   "metadata": {
    "execution": {
     "iopub.execute_input": "2020-10-22T12:55:44.062467Z",
     "iopub.status.busy": "2020-10-22T12:55:44.061904Z",
     "iopub.status.idle": "2020-10-22T12:55:44.821033Z",
     "shell.execute_reply": "2020-10-22T12:55:44.820346Z"
    }
   },
   "outputs": [],
   "source": [
    "from openghg.modules import ObsSurface\n",
    "from openghg.objectstore import visualise_store\n",
    "from openghg.localclient import get_single_site, RankSources\n",
    "\n",
    "import glob\n",
    "from pathlib import Path\n",
    "import os\n",
    "import tempfile"
   ]
  },
  {
   "cell_type": "markdown",
   "metadata": {},
   "source": [
    "### Set an environment variable for the OpenGHG object store"
   ]
  },
  {
   "cell_type": "markdown",
   "metadata": {},
   "source": [
    "Here we create a temporary directory but you can use any folder you like by setting a path in place of `tmp_dir.name`. The object store created by this notebook will only have a lifetime as long as the notebook, if you want to create a longer lived object store set a path below."
   ]
  },
  {
   "cell_type": "code",
   "execution_count": 2,
   "metadata": {
    "execution": {
     "iopub.execute_input": "2020-10-22T12:55:44.825567Z",
     "iopub.status.busy": "2020-10-22T12:55:44.824729Z",
     "iopub.status.idle": "2020-10-22T12:55:44.829558Z",
     "shell.execute_reply": "2020-10-22T12:55:44.828572Z"
    }
   },
   "outputs": [],
   "source": [
    "tmp_dir = tempfile.TemporaryDirectory()\n",
    "os.environ[\"OPENGHG_PATH\"] = tmp_dir.name # \"/tmp/openghg_store\"\n"
   ]
  },
  {
   "cell_type": "markdown",
   "metadata": {},
   "source": [
    "## 2. Processing data"
   ]
  },
  {
   "cell_type": "markdown",
   "metadata": {},
   "source": [
    "First we want to create a list of files to process, we'll use some files from our local directory"
   ]
  },
  {
   "cell_type": "code",
   "execution_count": 3,
   "metadata": {
    "execution": {
     "iopub.execute_input": "2020-10-22T12:55:44.834207Z",
     "iopub.status.busy": "2020-10-22T12:55:44.833538Z",
     "iopub.status.idle": "2020-10-22T12:55:44.837542Z",
     "shell.execute_reply": "2020-10-22T12:55:44.837085Z"
    }
   },
   "outputs": [],
   "source": [
    "decc_files = glob.glob(\"../data/DECC/*.dat\")"
   ]
  },
  {
   "cell_type": "code",
   "execution_count": 4,
   "metadata": {
    "execution": {
     "iopub.execute_input": "2020-10-22T12:55:44.841649Z",
     "iopub.status.busy": "2020-10-22T12:55:44.841060Z",
     "iopub.status.idle": "2020-10-22T12:55:44.844905Z",
     "shell.execute_reply": "2020-10-22T12:55:44.844251Z"
    }
   },
   "outputs": [],
   "source": [
    "agage_files = glob.glob(\"../data/AGAGE/*.C\")"
   ]
  },
  {
   "cell_type": "markdown",
   "metadata": {},
   "source": [
    "We can pass a list of files to `ObsSurface.read_file`. We must also tell it the type of data we want it to process, DECC data is CRDS. We also pass in the name of the network."
   ]
  },
  {
   "cell_type": "code",
   "execution_count": 5,
   "metadata": {
    "execution": {
     "iopub.execute_input": "2020-10-22T12:55:44.850203Z",
     "iopub.status.busy": "2020-10-22T12:55:44.848872Z",
     "iopub.status.idle": "2020-10-22T12:55:47.212660Z",
     "shell.execute_reply": "2020-10-22T12:55:47.213175Z"
    }
   },
   "outputs": [],
   "source": [
    "decc_results = ObsSurface.read_file(filepath=decc_files, data_type=\"CRDS\", network=\"DECC\")"
   ]
  },
  {
   "cell_type": "markdown",
   "metadata": {},
   "source": [
    "Here `decc_results` will give us a dictionary with the UUIDs (universally unique identifiers) for each of the Datasources the data has been assigned to. This tells us that the data has been processed and stored correctly."
   ]
  },
  {
   "cell_type": "markdown",
   "metadata": {},
   "source": [
    "## A note on Datasources"
   ]
  },
  {
   "cell_type": "markdown",
   "metadata": {},
   "source": [
    "Datasources are objects that are stored in the object store (add link to object store notes) that hold the data and metadata associated with each measurement we upload to the platform.\n",
    "\n",
    "For example, if we upload a file that contains readings for three gas species from a single site at a specific inlet height OpenGHG    will assign this data to three different Datasources, one for each species. Metadata such as the site, inlet height, species, network etc are stored alongside the measurements for easy searching. \n",
    "\n",
    "Datasources can also handle multiple versions of data from a single site, so if scales or other factors change multiple versions may be stored for easy future comparison."
   ]
  },
  {
   "cell_type": "markdown",
   "metadata": {},
   "source": [
    "<div class=\"alert alert-info\">\n",
    "    When you run this notebook different UUIDs will be created for the Datasources. This is expected as \n",
    "    each time a Datasource is created from scratch it is assigned a unique UUID.\n",
    "</div>"
   ]
  },
  {
   "cell_type": "code",
   "execution_count": 6,
   "metadata": {
    "execution": {
     "iopub.execute_input": "2020-10-22T12:55:47.219769Z",
     "iopub.status.busy": "2020-10-22T12:55:47.219220Z",
     "iopub.status.idle": "2020-10-22T12:55:47.223541Z",
     "shell.execute_reply": "2020-10-22T12:55:47.224002Z"
    }
   },
   "outputs": [
    {
     "data": {
      "text/plain": [
       "{'tac.picarro.1minute.100m.min.dat': {'tac.picarro.1minute.100m.min_ch4': '1d46b603-d96c-4e81-b961-a75f5f4e0301',\n",
       "  'tac.picarro.1minute.100m.min_co2': 'd6ec4760-aadb-45aa-aaa2-922b07b06e26'},\n",
       " 'tac.picarro.1minute.100m.test.dat': {'tac.picarro.1minute.100m.test_ch4': 'a8acc1e4-dd60-495b-aee1-528b0d063997',\n",
       "  'tac.picarro.1minute.100m.test_co2': '4ce4b0a3-301e-418d-9ac4-e49dd2a24a8b'},\n",
       " 'hfd.picarro.1minute.100m.min.dat': {'hfd.picarro.1minute.100m.min_ch4': '892e0711-bde9-49d2-a6a2-9e176fa3f707',\n",
       "  'hfd.picarro.1minute.100m.min_co2': 'de213b39-7e68-4041-9384-d26814a6d22f',\n",
       "  'hfd.picarro.1minute.100m.min_co': 'e7985c05-c71c-4d75-a30b-6c1c282f315d'},\n",
       " 'hfd.picarro.1minute.50m.min.dat': {'hfd.picarro.1minute.50m.min_ch4': 'fd1342ae-b326-45ea-a0f5-d306915a10e1',\n",
       "  'hfd.picarro.1minute.50m.min_co2': '0fa0d783-81ad-47b0-89aa-aaa0f47f28d7',\n",
       "  'hfd.picarro.1minute.50m.min_co': '168b93d3-46f3-482e-bc03-f51eaf46dec8'},\n",
       " 'bsd.picarro.1minute.248m.dat': {'bsd.picarro.1minute.248m_ch4': '21ca3416-a8ca-4da1-958a-eb9023e8274e',\n",
       "  'bsd.picarro.1minute.248m_co2': '8b8b2a66-233e-4092-b7e6-74cb3e44c3d3',\n",
       "  'bsd.picarro.1minute.248m_co': '59c84360-52a1-47a2-b564-5fa2c0408b87'}}"
      ]
     },
     "execution_count": 1,
     "metadata": {},
     "output_type": "execute_result"
    }
   ],
   "source": [
    "decc_results"
   ]
  },
  {
   "cell_type": "markdown",
   "metadata": {},
   "source": [
    "We can now process the AGAGE data. The functions that process the AGAGE data expect data to have an accompanying precisions file. For each data file we create a tuple with the data filename and the precisions filename. A simpler method of uploading these file types is planne."
   ]
  },
  {
   "cell_type": "markdown",
   "metadata": {},
   "source": [
    "We must create a `tuple` for each pair\n",
    "\n",
    "```python\n",
    "list_of_tuples = [(data_filepath, precision_filepath), (d1, p1), (d2, p2), ...]\n",
    "```"
   ]
  },
  {
   "cell_type": "code",
   "execution_count": 7,
   "metadata": {
    "execution": {
     "iopub.execute_input": "2020-10-22T12:55:47.229285Z",
     "iopub.status.busy": "2020-10-22T12:55:47.227883Z",
     "iopub.status.idle": "2020-10-22T12:55:47.230057Z",
     "shell.execute_reply": "2020-10-22T12:55:47.230575Z"
    }
   },
   "outputs": [],
   "source": [
    "agage_tuples = [('../data/AGAGE/capegrim-medusa.18.C', '../data/AGAGE/capegrim-medusa.18.precisions.C'), \n",
    "                ('../data/AGAGE/trinidadhead.01.C', '../data/AGAGE/trinidadhead.01.precisions.C')]"
   ]
  },
  {
   "cell_type": "markdown",
   "metadata": {},
   "source": [
    "Then we process the files as we did before the with DECC data, but this time changing the data type to the `GCWERKS` type and the network to `AGAGE`."
   ]
  },
  {
   "cell_type": "code",
   "execution_count": 8,
   "metadata": {
    "execution": {
     "iopub.execute_input": "2020-10-22T12:55:47.235715Z",
     "iopub.status.busy": "2020-10-22T12:55:47.234840Z",
     "iopub.status.idle": "2020-10-22T12:55:50.753670Z",
     "shell.execute_reply": "2020-10-22T12:55:50.753146Z"
    }
   },
   "outputs": [],
   "source": [
    "agage_results = ObsSurface.read_file(filepath=agage_tuples, data_type=\"GCWERKS\", network=\"AGAGE\")"
   ]
  },
  {
   "cell_type": "markdown",
   "metadata": {},
   "source": [
    "When viewing `agage_results` there will be a large number of Datasource UUIDs shown due to the large number of gases in each data file"
   ]
  },
  {
   "cell_type": "code",
   "execution_count": 9,
   "metadata": {
    "execution": {
     "iopub.execute_input": "2020-10-22T12:55:50.759409Z",
     "iopub.status.busy": "2020-10-22T12:55:50.758896Z",
     "iopub.status.idle": "2020-10-22T12:55:50.764297Z",
     "shell.execute_reply": "2020-10-22T12:55:50.763809Z"
    }
   },
   "outputs": [
    {
     "data": {
      "text/plain": [
       "{'capegrim-medusa.18.C': {'capegrim-medusa.18_NF3': 'd6a41afc-373f-45c4-8fbe-957fc85cc18b',\n",
       "  'capegrim-medusa.18_CF4': 'cf90c2dc-8f2d-49f4-b274-a1c6046a0f87',\n",
       "  'capegrim-medusa.18_PFC-116': '29ddf34a-1704-4779-9d1e-4fcd13566105',\n",
       "  'capegrim-medusa.18_PFC-218': '15657f37-8bae-4c78-aa17-dbfe5f1c2f98',\n",
       "  'capegrim-medusa.18_PFC-318': '819953c9-fb41-43b1-86a9-36fc5460f911',\n",
       "  'capegrim-medusa.18_C4F10': '9df16de3-5798-4e54-a83b-469de08f9b9d',\n",
       "  'capegrim-medusa.18_C6F14': '575e63e5-8ca0-470e-ba8e-a76d379390f4',\n",
       "  'capegrim-medusa.18_SF6': 'f0d55ba0-4325-40ed-a6a5-f841fc447a2b',\n",
       "  'capegrim-medusa.18_SO2F2': '51d4707f-d7ad-4440-9290-e6d25e70a27b',\n",
       "  'capegrim-medusa.18_SF5CF3': '10420d38-c88a-4135-85b9-9eb0a163e6d8',\n",
       "  'capegrim-medusa.18_HFC-23': 'deba29cf-e8d0-4cef-b062-2f380d7d4c62',\n",
       "  'capegrim-medusa.18_HFC-32': '3b203047-7c5e-4dba-9541-dbf6191eb034',\n",
       "  'capegrim-medusa.18_HFC-125': 'e29f2cb4-e226-4356-a6ff-47a270a3e2f9',\n",
       "  'capegrim-medusa.18_HFC-134a': 'cf74788e-be5e-4bc9-94dd-e076b5bcc18a',\n",
       "  'capegrim-medusa.18_HFC-143a': '6dffc3eb-6463-46d0-844d-69b82eadd87f',\n",
       "  'capegrim-medusa.18_HFC-152a': '9f0ff0e1-8833-454c-94f7-59fd7f2861a1',\n",
       "  'capegrim-medusa.18_HFC-227ea': '7f176c67-df08-4c2b-b123-5477787d9761',\n",
       "  'capegrim-medusa.18_HFC-236fa': '7e3f7df5-0bf4-4161-b1f4-c07f32276383',\n",
       "  'capegrim-medusa.18_HFC-245fa': 'd886f9c3-260e-447a-b543-b11db8dcf5e8',\n",
       "  'capegrim-medusa.18_HFC-365mfc': '1f9b09e0-3602-4c95-a3d1-db4970ee263e',\n",
       "  'capegrim-medusa.18_HFC-4310mee': 'e6b9a28f-4de2-45a3-89cd-d69c73157d3e',\n",
       "  'capegrim-medusa.18_HCFC-22': '7694144c-e44d-4e9d-b315-b2a07d28d680',\n",
       "  'capegrim-medusa.18_HCFC-124': 'cd273c3b-4a16-4dc5-a662-50916d239177',\n",
       "  'capegrim-medusa.18_HCFC-132b': 'bf28792e-802f-483c-be43-0c05e7a6bc1a',\n",
       "  'capegrim-medusa.18_HCFC-133a': '32a7436e-6180-4360-beaf-41447d777497',\n",
       "  'capegrim-medusa.18_HCFC-141b': '8b4297b7-75b3-4e9b-9c45-1558d4605acf',\n",
       "  'capegrim-medusa.18_HCFC-142b': '05b5e230-d0cd-47ab-9b99-6ae9d77bbde9',\n",
       "  'capegrim-medusa.18_CFC-11': '5d06d958-3c52-47d8-a490-c8b0eeb258b1',\n",
       "  'capegrim-medusa.18_CFC-12': '476eb59f-577c-4581-ae08-f4f9b5a6a456',\n",
       "  'capegrim-medusa.18_CFC-13': 'f7b8dfc7-a730-40da-896a-03f0a74f0e36',\n",
       "  'capegrim-medusa.18_CFC-112': '544c6ea6-66a0-4100-bb17-6bada2f84002',\n",
       "  'capegrim-medusa.18_CFC-113': '6f2e2b10-3ac1-4374-83b0-7a653cfde48e',\n",
       "  'capegrim-medusa.18_CFC-114': 'd5d5d33e-d344-4910-9412-b44388d20374',\n",
       "  'capegrim-medusa.18_CFC-115': '772f41d3-78ff-46e6-9eef-5e6508cfbf5e',\n",
       "  'capegrim-medusa.18_H-1211': '41cb6319-b466-49f1-9c61-63bb6a4680e5',\n",
       "  'capegrim-medusa.18_H-1301': '5a88f639-52fb-448a-9059-9bc314429694',\n",
       "  'capegrim-medusa.18_H-2402': '92ee6e38-2b50-4b68-8b82-33e407b953d2',\n",
       "  'capegrim-medusa.18_CH3Cl': '8459ab75-5a01-4867-93c5-a1b00d20a6c0',\n",
       "  'capegrim-medusa.18_CH3Br': '20547dfe-c775-4b61-80af-4a6ee7d1f3fc',\n",
       "  'capegrim-medusa.18_CH3I': '177543c3-2fda-4afa-bd39-4e186a223993',\n",
       "  'capegrim-medusa.18_CH2Cl2': '9de32d7b-17c2-42c1-9be7-18dd4c9eb59b',\n",
       "  'capegrim-medusa.18_CHCl3': 'a5b9027f-58b1-4bbb-9cdc-3df35ee512f9',\n",
       "  'capegrim-medusa.18_CCl4': '701517ce-e1a3-428b-94db-b9d53050b692',\n",
       "  'capegrim-medusa.18_CH2Br2': '1dd16a2d-4d12-48db-9154-8bc9775175e7',\n",
       "  'capegrim-medusa.18_CHBr3': 'dd3415cf-37c3-4db4-88bc-48197b6633c6',\n",
       "  'capegrim-medusa.18_CH3CCl3': '252ae8cb-3f6a-4ece-933c-6ad81da8683d',\n",
       "  'capegrim-medusa.18_TCE': '96413737-ff2f-4132-b1d3-b174db8b7895',\n",
       "  'capegrim-medusa.18_PCE': '2c4a4f08-3215-4cfb-918c-0c471b27e200',\n",
       "  'capegrim-medusa.18_ethyne': '71952b95-fb7e-4517-ac71-57143858b569',\n",
       "  'capegrim-medusa.18_ethane': 'd5477779-f405-4996-81e5-3e7f285bc588',\n",
       "  'capegrim-medusa.18_propane': '361ffb4b-b66c-4bf8-bda0-b79e4ce6c4ed',\n",
       "  'capegrim-medusa.18_c-propane': 'aec9fa26-3356-401d-8f74-b0e6abeabdde',\n",
       "  'capegrim-medusa.18_benzene': 'd39dd4ef-182a-4f70-a57b-94bb6b95d0d5',\n",
       "  'capegrim-medusa.18_toluene': 'fec9c6ba-f637-4dfa-ad76-f2e83b0be2fc',\n",
       "  'capegrim-medusa.18_COS': 'dbecec49-9369-4f0f-ac89-4b6b25920486',\n",
       "  'capegrim-medusa.18_desflurane': '700bef1b-a5ec-4cec-88d8-e18c026c5e2c'},\n",
       " 'trinidadhead.01.C': {'trinidadhead.01_CH4': '94299ad0-dff6-4bb6-9052-fbf67ae85d6a',\n",
       "  'trinidadhead.01_CFC-12': '80f17d9a-1992-418b-8f32-a6d8fa013f10',\n",
       "  'trinidadhead.01_N2O': '76d8da93-0762-4a65-8f96-9b8325962bf1',\n",
       "  'trinidadhead.01_CFC-11': 'da236bac-aa66-49f5-9173-5f8c344b3ad2',\n",
       "  'trinidadhead.01_CFC-113': '281522cb-85ff-4df0-b4d4-6cafec1ca46e',\n",
       "  'trinidadhead.01_CHCl3': 'd24a3750-d5b4-4854-90de-2094961a144c',\n",
       "  'trinidadhead.01_CH3CCl3': 'd7abd834-1ded-4c68-b776-3a8913e898f3',\n",
       "  'trinidadhead.01_CCl4': '315481db-82aa-4020-b50b-d0889ba8ae1c'}}"
      ]
     },
     "execution_count": 1,
     "metadata": {},
     "output_type": "execute_result"
    }
   ],
   "source": [
    "agage_results"
   ]
  },
  {
   "cell_type": "markdown",
   "metadata": {},
   "source": [
    "## 3. Visualising the object store"
   ]
  },
  {
   "cell_type": "markdown",
   "metadata": {},
   "source": [
    "Now that we have a simple object store created we can view the objects within it in a simple force graph model. To do this we use the `view_store` function from the `objectstore` submodule. Note that the cell may take a few moments to load as the force graph is created.\n",
    "\n",
    "In the force graph the central blue node is the `ObsSurface` node. Associated with this node are all the data processed by it. The next node in the topology are networks, shown in green. In the graph you will see `DECC` and `AGAGE` nodes. From these you'll see site nodes in red and then individual datasources in orange."
   ]
  },
  {
   "cell_type": "markdown",
   "metadata": {},
   "source": [
    "<div class=\"alert alert-info\">\n",
    "    The object store visualisation created by this function is commented out here and won't be visible in the documentation but can be uncommented and run when you use the notebook version.\n",
    "</div>"
   ]
  },
  {
   "cell_type": "code",
   "execution_count": 10,
   "metadata": {
    "execution": {
     "iopub.execute_input": "2020-10-22T12:55:50.768917Z",
     "iopub.status.busy": "2020-10-22T12:55:50.767548Z",
     "iopub.status.idle": "2020-10-22T12:55:50.769504Z",
     "shell.execute_reply": "2020-10-22T12:55:50.769952Z"
    }
   },
   "outputs": [],
   "source": [
    "# visualise_store()"
   ]
  },
  {
   "cell_type": "markdown",
   "metadata": {},
   "source": [
    "Now we know we have this data in the object store we can search it and retrieve data from it."
   ]
  },
  {
   "cell_type": "markdown",
   "metadata": {},
   "source": [
    "## 4. Retrieving data "
   ]
  },
  {
   "cell_type": "markdown",
   "metadata": {},
   "source": [
    "To retrieve data from the object store we can use the `get_single_site` function from the `localclient` submodule. This allows us to retrieve and view the data stored."
   ]
  },
  {
   "cell_type": "code",
   "execution_count": 11,
   "metadata": {
    "execution": {
     "iopub.execute_input": "2020-10-22T12:55:50.774041Z",
     "iopub.status.busy": "2020-10-22T12:55:50.773351Z",
     "iopub.status.idle": "2020-10-22T12:55:51.309129Z",
     "shell.execute_reply": "2020-10-22T12:55:51.308671Z"
    }
   },
   "outputs": [],
   "source": [
    "data = get_single_site(site=\"hfd\", species=\"co\", network=\"AGAGE\")"
   ]
  },
  {
   "cell_type": "markdown",
   "metadata": {},
   "source": [
    "If we view data we expect two `xarray.Dataset` objects to have been returned in in a `list`"
   ]
  },
  {
   "cell_type": "code",
   "execution_count": 12,
   "metadata": {
    "execution": {
     "iopub.execute_input": "2020-10-22T12:55:51.321001Z",
     "iopub.status.busy": "2020-10-22T12:55:51.319860Z",
     "iopub.status.idle": "2020-10-22T12:55:51.323669Z",
     "shell.execute_reply": "2020-10-22T12:55:51.323177Z"
    }
   },
   "outputs": [
    {
     "data": {
      "text/plain": [
       "[<xarray.Dataset>\n",
       " Dimensions:    (time: 274)\n",
       " Coordinates:\n",
       "   * time       (time) datetime64[ns] 2013-12-04T14:02:30 ... 2019-05-21T15:46:30\n",
       " Data variables:\n",
       "     mf         (time) float64 214.3 216.2 147.0 135.3 ... 123.7 133.7 118.5\n",
       "     co_stdev   (time) float64 4.081 3.634 3.887 4.11 ... 3.276 4.28 3.603 4.442\n",
       "     co_n_meas  (time) float64 19.0 19.0 19.0 19.0 19.0 ... 16.0 15.0 16.0 16.0\n",
       " Attributes:\n",
       "     data_owner:           Simon O'Doherty\n",
       "     data_owner_email:     s.odoherty@bristol.ac.uk\n",
       "     inlet_height_magl:    100m\n",
       "     comment:              Cavity ring-down measurements. Output from GCWerks\n",
       "     Conditions of use:    Ensure that you contact the data owner at the outse...\n",
       "     Source:               In situ measurements of air\n",
       "     Conventions:          CF-1.6\n",
       "     File created:         2020-10-22 12:55:45.980284+00:00\n",
       "     Processed by:         auto@hugs-cloud.com\n",
       "     species:              CO\n",
       "     station_longitude:    0.23048\n",
       "     station_latitude:     50.97675\n",
       "     station_long_name:    Heathfield, UK\n",
       "     station_height_masl:  150.0\n",
       "     scale:                WMO-X2014A,\n",
       " <xarray.Dataset>\n",
       " Dimensions:    (time: 636)\n",
       " Coordinates:\n",
       "   * time       (time) datetime64[ns] 2013-11-23T12:28:30 ... 2020-06-24T09:41:30\n",
       " Data variables:\n",
       "     mf         (time) float64 181.7 190.6 242.6 196.4 ... 93.59 86.76 129.7\n",
       "     co_stdev   (time) float64 5.158 4.641 3.602 5.487 ... 3.672 4.666 4.111\n",
       "     co_n_meas  (time) float64 19.0 19.0 19.0 19.0 19.0 ... 12.0 12.0 12.0 12.0\n",
       " Attributes:\n",
       "     data_owner:           Simon O'Doherty\n",
       "     data_owner_email:     s.odoherty@bristol.ac.uk\n",
       "     inlet_height_magl:    50m\n",
       "     comment:              Cavity ring-down measurements. Output from GCWerks\n",
       "     Conditions of use:    Ensure that you contact the data owner at the outse...\n",
       "     Source:               In situ measurements of air\n",
       "     Conventions:          CF-1.6\n",
       "     File created:         2020-10-22 12:55:46.530800+00:00\n",
       "     Processed by:         auto@hugs-cloud.com\n",
       "     species:              CO\n",
       "     station_longitude:    0.23048\n",
       "     station_latitude:     50.97675\n",
       "     station_long_name:    Heathfield, UK\n",
       "     station_height_masl:  150.0\n",
       "     scale:                WMO-X2014A]"
      ]
     },
     "execution_count": 1,
     "metadata": {},
     "output_type": "execute_result"
    }
   ],
   "source": [
    "data"
   ]
  },
  {
   "cell_type": "code",
   "execution_count": 13,
   "metadata": {
    "execution": {
     "iopub.execute_input": "2020-10-22T12:55:51.329573Z",
     "iopub.status.busy": "2020-10-22T12:55:51.327794Z",
     "iopub.status.idle": "2020-10-22T12:55:51.331994Z",
     "shell.execute_reply": "2020-10-22T12:55:51.331319Z"
    }
   },
   "outputs": [
    {
     "data": {
      "text/plain": [
       "2"
      ]
     },
     "execution_count": 1,
     "metadata": {},
     "output_type": "execute_result"
    }
   ],
   "source": [
    "len(data)"
   ]
  },
  {
   "cell_type": "markdown",
   "metadata": {},
   "source": [
    "We get two datasets for CO data from Tacolneston as there are two inlet measurement heights for this species at this site. We can quickly visualise the data we have stored using the plotting capabilities in `xarray`."
   ]
  },
  {
   "cell_type": "markdown",
   "metadata": {},
   "source": [
    "First we tell `matplotlib` that we are plotting inside a Jupyter notebook, this ensures a plot with controls is created."
   ]
  },
  {
   "cell_type": "code",
   "execution_count": 14,
   "metadata": {
    "execution": {
     "iopub.execute_input": "2020-10-22T12:55:51.336902Z",
     "iopub.status.busy": "2020-10-22T12:55:51.335834Z",
     "iopub.status.idle": "2020-10-22T12:55:52.169061Z",
     "shell.execute_reply": "2020-10-22T12:55:52.168171Z"
    }
   },
   "outputs": [
    {
     "name": "stderr",
     "output_type": "stream",
     "text": [
      "INFO:matplotlib.font_manager:Generating new fontManager, this may take some time...\n"
     ]
    }
   ],
   "source": [
    "%matplotlib notebook"
   ]
  },
  {
   "cell_type": "code",
   "execution_count": 15,
   "metadata": {
    "execution": {
     "iopub.execute_input": "2020-10-22T12:55:52.174114Z",
     "iopub.status.busy": "2020-10-22T12:55:52.173620Z",
     "iopub.status.idle": "2020-10-22T12:55:52.221552Z",
     "shell.execute_reply": "2020-10-22T12:55:52.221095Z"
    }
   },
   "outputs": [
    {
     "data": {
      "application/javascript": [
       "/* Put everything inside the global mpl namespace */\n",
       "/* global mpl */\n",
       "window.mpl = {};\n",
       "\n",
       "mpl.get_websocket_type = function () {\n",
       "    if (typeof WebSocket !== 'undefined') {\n",
       "        return WebSocket;\n",
       "    } else if (typeof MozWebSocket !== 'undefined') {\n",
       "        return MozWebSocket;\n",
       "    } else {\n",
       "        alert(\n",
       "            'Your browser does not have WebSocket support. ' +\n",
       "                'Please try Chrome, Safari or Firefox ≥ 6. ' +\n",
       "                'Firefox 4 and 5 are also supported but you ' +\n",
       "                'have to enable WebSockets in about:config.'\n",
       "        );\n",
       "    }\n",
       "};\n",
       "\n",
       "mpl.figure = function (figure_id, websocket, ondownload, parent_element) {\n",
       "    this.id = figure_id;\n",
       "\n",
       "    this.ws = websocket;\n",
       "\n",
       "    this.supports_binary = this.ws.binaryType !== undefined;\n",
       "\n",
       "    if (!this.supports_binary) {\n",
       "        var warnings = document.getElementById('mpl-warnings');\n",
       "        if (warnings) {\n",
       "            warnings.style.display = 'block';\n",
       "            warnings.textContent =\n",
       "                'This browser does not support binary websocket messages. ' +\n",
       "                'Performance may be slow.';\n",
       "        }\n",
       "    }\n",
       "\n",
       "    this.imageObj = new Image();\n",
       "\n",
       "    this.context = undefined;\n",
       "    this.message = undefined;\n",
       "    this.canvas = undefined;\n",
       "    this.rubberband_canvas = undefined;\n",
       "    this.rubberband_context = undefined;\n",
       "    this.format_dropdown = undefined;\n",
       "\n",
       "    this.image_mode = 'full';\n",
       "\n",
       "    this.root = document.createElement('div');\n",
       "    this.root.setAttribute('style', 'display: inline-block');\n",
       "    this._root_extra_style(this.root);\n",
       "\n",
       "    parent_element.appendChild(this.root);\n",
       "\n",
       "    this._init_header(this);\n",
       "    this._init_canvas(this);\n",
       "    this._init_toolbar(this);\n",
       "\n",
       "    var fig = this;\n",
       "\n",
       "    this.waiting = false;\n",
       "\n",
       "    this.ws.onopen = function () {\n",
       "        fig.send_message('supports_binary', { value: fig.supports_binary });\n",
       "        fig.send_message('send_image_mode', {});\n",
       "        if (fig.ratio !== 1) {\n",
       "            fig.send_message('set_dpi_ratio', { dpi_ratio: fig.ratio });\n",
       "        }\n",
       "        fig.send_message('refresh', {});\n",
       "    };\n",
       "\n",
       "    this.imageObj.onload = function () {\n",
       "        if (fig.image_mode === 'full') {\n",
       "            // Full images could contain transparency (where diff images\n",
       "            // almost always do), so we need to clear the canvas so that\n",
       "            // there is no ghosting.\n",
       "            fig.context.clearRect(0, 0, fig.canvas.width, fig.canvas.height);\n",
       "        }\n",
       "        fig.context.drawImage(fig.imageObj, 0, 0);\n",
       "    };\n",
       "\n",
       "    this.imageObj.onunload = function () {\n",
       "        fig.ws.close();\n",
       "    };\n",
       "\n",
       "    this.ws.onmessage = this._make_on_message_function(this);\n",
       "\n",
       "    this.ondownload = ondownload;\n",
       "};\n",
       "\n",
       "mpl.figure.prototype._init_header = function () {\n",
       "    var titlebar = document.createElement('div');\n",
       "    titlebar.classList =\n",
       "        'ui-dialog-titlebar ui-widget-header ui-corner-all ui-helper-clearfix';\n",
       "    var titletext = document.createElement('div');\n",
       "    titletext.classList = 'ui-dialog-title';\n",
       "    titletext.setAttribute(\n",
       "        'style',\n",
       "        'width: 100%; text-align: center; padding: 3px;'\n",
       "    );\n",
       "    titlebar.appendChild(titletext);\n",
       "    this.root.appendChild(titlebar);\n",
       "    this.header = titletext;\n",
       "};\n",
       "\n",
       "mpl.figure.prototype._canvas_extra_style = function (_canvas_div) {};\n",
       "\n",
       "mpl.figure.prototype._root_extra_style = function (_canvas_div) {};\n",
       "\n",
       "mpl.figure.prototype._init_canvas = function () {\n",
       "    var fig = this;\n",
       "\n",
       "    var canvas_div = (this.canvas_div = document.createElement('div'));\n",
       "    canvas_div.setAttribute(\n",
       "        'style',\n",
       "        'border: 1px solid #ddd;' +\n",
       "            'box-sizing: content-box;' +\n",
       "            'clear: both;' +\n",
       "            'min-height: 1px;' +\n",
       "            'min-width: 1px;' +\n",
       "            'outline: 0;' +\n",
       "            'overflow: hidden;' +\n",
       "            'position: relative;' +\n",
       "            'resize: both;'\n",
       "    );\n",
       "\n",
       "    function on_keyboard_event_closure(name) {\n",
       "        return function (event) {\n",
       "            return fig.key_event(event, name);\n",
       "        };\n",
       "    }\n",
       "\n",
       "    canvas_div.addEventListener(\n",
       "        'keydown',\n",
       "        on_keyboard_event_closure('key_press')\n",
       "    );\n",
       "    canvas_div.addEventListener(\n",
       "        'keyup',\n",
       "        on_keyboard_event_closure('key_release')\n",
       "    );\n",
       "\n",
       "    this._canvas_extra_style(canvas_div);\n",
       "    this.root.appendChild(canvas_div);\n",
       "\n",
       "    var canvas = (this.canvas = document.createElement('canvas'));\n",
       "    canvas.classList.add('mpl-canvas');\n",
       "    canvas.setAttribute('style', 'box-sizing: content-box;');\n",
       "\n",
       "    this.context = canvas.getContext('2d');\n",
       "\n",
       "    var backingStore =\n",
       "        this.context.backingStorePixelRatio ||\n",
       "        this.context.webkitBackingStorePixelRatio ||\n",
       "        this.context.mozBackingStorePixelRatio ||\n",
       "        this.context.msBackingStorePixelRatio ||\n",
       "        this.context.oBackingStorePixelRatio ||\n",
       "        this.context.backingStorePixelRatio ||\n",
       "        1;\n",
       "\n",
       "    this.ratio = (window.devicePixelRatio || 1) / backingStore;\n",
       "    if (this.ratio !== 1) {\n",
       "        fig.send_message('set_dpi_ratio', { dpi_ratio: this.ratio });\n",
       "    }\n",
       "\n",
       "    var rubberband_canvas = (this.rubberband_canvas = document.createElement(\n",
       "        'canvas'\n",
       "    ));\n",
       "    rubberband_canvas.setAttribute(\n",
       "        'style',\n",
       "        'box-sizing: content-box; position: absolute; left: 0; top: 0; z-index: 1;'\n",
       "    );\n",
       "\n",
       "    var resizeObserver = new ResizeObserver(function (entries) {\n",
       "        var nentries = entries.length;\n",
       "        for (var i = 0; i < nentries; i++) {\n",
       "            var entry = entries[i];\n",
       "            var width, height;\n",
       "            if (entry.contentBoxSize) {\n",
       "                if (entry.contentBoxSize instanceof Array) {\n",
       "                    // Chrome 84 implements new version of spec.\n",
       "                    width = entry.contentBoxSize[0].inlineSize;\n",
       "                    height = entry.contentBoxSize[0].blockSize;\n",
       "                } else {\n",
       "                    // Firefox implements old version of spec.\n",
       "                    width = entry.contentBoxSize.inlineSize;\n",
       "                    height = entry.contentBoxSize.blockSize;\n",
       "                }\n",
       "            } else {\n",
       "                // Chrome <84 implements even older version of spec.\n",
       "                width = entry.contentRect.width;\n",
       "                height = entry.contentRect.height;\n",
       "            }\n",
       "\n",
       "            // Keep the size of the canvas and rubber band canvas in sync with\n",
       "            // the canvas container.\n",
       "            if (entry.devicePixelContentBoxSize) {\n",
       "                // Chrome 84 implements new version of spec.\n",
       "                canvas.setAttribute(\n",
       "                    'width',\n",
       "                    entry.devicePixelContentBoxSize[0].inlineSize\n",
       "                );\n",
       "                canvas.setAttribute(\n",
       "                    'height',\n",
       "                    entry.devicePixelContentBoxSize[0].blockSize\n",
       "                );\n",
       "            } else {\n",
       "                canvas.setAttribute('width', width * fig.ratio);\n",
       "                canvas.setAttribute('height', height * fig.ratio);\n",
       "            }\n",
       "            canvas.setAttribute(\n",
       "                'style',\n",
       "                'width: ' + width + 'px; height: ' + height + 'px;'\n",
       "            );\n",
       "\n",
       "            rubberband_canvas.setAttribute('width', width);\n",
       "            rubberband_canvas.setAttribute('height', height);\n",
       "\n",
       "            // And update the size in Python. We ignore the initial 0/0 size\n",
       "            // that occurs as the element is placed into the DOM, which should\n",
       "            // otherwise not happen due to the minimum size styling.\n",
       "            if (width != 0 && height != 0) {\n",
       "                fig.request_resize(width, height);\n",
       "            }\n",
       "        }\n",
       "    });\n",
       "    resizeObserver.observe(canvas_div);\n",
       "\n",
       "    function on_mouse_event_closure(name) {\n",
       "        return function (event) {\n",
       "            return fig.mouse_event(event, name);\n",
       "        };\n",
       "    }\n",
       "\n",
       "    rubberband_canvas.addEventListener(\n",
       "        'mousedown',\n",
       "        on_mouse_event_closure('button_press')\n",
       "    );\n",
       "    rubberband_canvas.addEventListener(\n",
       "        'mouseup',\n",
       "        on_mouse_event_closure('button_release')\n",
       "    );\n",
       "    // Throttle sequential mouse events to 1 every 20ms.\n",
       "    rubberband_canvas.addEventListener(\n",
       "        'mousemove',\n",
       "        on_mouse_event_closure('motion_notify')\n",
       "    );\n",
       "\n",
       "    rubberband_canvas.addEventListener(\n",
       "        'mouseenter',\n",
       "        on_mouse_event_closure('figure_enter')\n",
       "    );\n",
       "    rubberband_canvas.addEventListener(\n",
       "        'mouseleave',\n",
       "        on_mouse_event_closure('figure_leave')\n",
       "    );\n",
       "\n",
       "    canvas_div.addEventListener('wheel', function (event) {\n",
       "        if (event.deltaY < 0) {\n",
       "            event.step = 1;\n",
       "        } else {\n",
       "            event.step = -1;\n",
       "        }\n",
       "        on_mouse_event_closure('scroll')(event);\n",
       "    });\n",
       "\n",
       "    canvas_div.appendChild(canvas);\n",
       "    canvas_div.appendChild(rubberband_canvas);\n",
       "\n",
       "    this.rubberband_context = rubberband_canvas.getContext('2d');\n",
       "    this.rubberband_context.strokeStyle = '#000000';\n",
       "\n",
       "    this._resize_canvas = function (width, height, forward) {\n",
       "        if (forward) {\n",
       "            canvas_div.style.width = width + 'px';\n",
       "            canvas_div.style.height = height + 'px';\n",
       "        }\n",
       "    };\n",
       "\n",
       "    // Disable right mouse context menu.\n",
       "    this.rubberband_canvas.addEventListener('contextmenu', function (_e) {\n",
       "        event.preventDefault();\n",
       "        return false;\n",
       "    });\n",
       "\n",
       "    function set_focus() {\n",
       "        canvas.focus();\n",
       "        canvas_div.focus();\n",
       "    }\n",
       "\n",
       "    window.setTimeout(set_focus, 100);\n",
       "};\n",
       "\n",
       "mpl.figure.prototype._init_toolbar = function () {\n",
       "    var fig = this;\n",
       "\n",
       "    var toolbar = document.createElement('div');\n",
       "    toolbar.classList = 'mpl-toolbar';\n",
       "    this.root.appendChild(toolbar);\n",
       "\n",
       "    function on_click_closure(name) {\n",
       "        return function (_event) {\n",
       "            return fig.toolbar_button_onclick(name);\n",
       "        };\n",
       "    }\n",
       "\n",
       "    function on_mouseover_closure(tooltip) {\n",
       "        return function (event) {\n",
       "            if (!event.currentTarget.disabled) {\n",
       "                return fig.toolbar_button_onmouseover(tooltip);\n",
       "            }\n",
       "        };\n",
       "    }\n",
       "\n",
       "    fig.buttons = {};\n",
       "    var buttonGroup = document.createElement('div');\n",
       "    buttonGroup.classList = 'mpl-button-group';\n",
       "    for (var toolbar_ind in mpl.toolbar_items) {\n",
       "        var name = mpl.toolbar_items[toolbar_ind][0];\n",
       "        var tooltip = mpl.toolbar_items[toolbar_ind][1];\n",
       "        var image = mpl.toolbar_items[toolbar_ind][2];\n",
       "        var method_name = mpl.toolbar_items[toolbar_ind][3];\n",
       "\n",
       "        if (!name) {\n",
       "            /* Instead of a spacer, we start a new button group. */\n",
       "            if (buttonGroup.hasChildNodes()) {\n",
       "                toolbar.appendChild(buttonGroup);\n",
       "            }\n",
       "            buttonGroup = document.createElement('div');\n",
       "            buttonGroup.classList = 'mpl-button-group';\n",
       "            continue;\n",
       "        }\n",
       "\n",
       "        var button = (fig.buttons[name] = document.createElement('button'));\n",
       "        button.classList = 'mpl-widget';\n",
       "        button.setAttribute('role', 'button');\n",
       "        button.setAttribute('aria-disabled', 'false');\n",
       "        button.addEventListener('click', on_click_closure(method_name));\n",
       "        button.addEventListener('mouseover', on_mouseover_closure(tooltip));\n",
       "\n",
       "        var icon_img = document.createElement('img');\n",
       "        icon_img.src = '_images/' + image + '.png';\n",
       "        icon_img.srcset = '_images/' + image + '_large.png 2x';\n",
       "        icon_img.alt = tooltip;\n",
       "        button.appendChild(icon_img);\n",
       "\n",
       "        buttonGroup.appendChild(button);\n",
       "    }\n",
       "\n",
       "    if (buttonGroup.hasChildNodes()) {\n",
       "        toolbar.appendChild(buttonGroup);\n",
       "    }\n",
       "\n",
       "    var fmt_picker = document.createElement('select');\n",
       "    fmt_picker.classList = 'mpl-widget';\n",
       "    toolbar.appendChild(fmt_picker);\n",
       "    this.format_dropdown = fmt_picker;\n",
       "\n",
       "    for (var ind in mpl.extensions) {\n",
       "        var fmt = mpl.extensions[ind];\n",
       "        var option = document.createElement('option');\n",
       "        option.selected = fmt === mpl.default_extension;\n",
       "        option.innerHTML = fmt;\n",
       "        fmt_picker.appendChild(option);\n",
       "    }\n",
       "\n",
       "    var status_bar = document.createElement('span');\n",
       "    status_bar.classList = 'mpl-message';\n",
       "    toolbar.appendChild(status_bar);\n",
       "    this.message = status_bar;\n",
       "};\n",
       "\n",
       "mpl.figure.prototype.request_resize = function (x_pixels, y_pixels) {\n",
       "    // Request matplotlib to resize the figure. Matplotlib will then trigger a resize in the client,\n",
       "    // which will in turn request a refresh of the image.\n",
       "    this.send_message('resize', { width: x_pixels, height: y_pixels });\n",
       "};\n",
       "\n",
       "mpl.figure.prototype.send_message = function (type, properties) {\n",
       "    properties['type'] = type;\n",
       "    properties['figure_id'] = this.id;\n",
       "    this.ws.send(JSON.stringify(properties));\n",
       "};\n",
       "\n",
       "mpl.figure.prototype.send_draw_message = function () {\n",
       "    if (!this.waiting) {\n",
       "        this.waiting = true;\n",
       "        this.ws.send(JSON.stringify({ type: 'draw', figure_id: this.id }));\n",
       "    }\n",
       "};\n",
       "\n",
       "mpl.figure.prototype.handle_save = function (fig, _msg) {\n",
       "    var format_dropdown = fig.format_dropdown;\n",
       "    var format = format_dropdown.options[format_dropdown.selectedIndex].value;\n",
       "    fig.ondownload(fig, format);\n",
       "};\n",
       "\n",
       "mpl.figure.prototype.handle_resize = function (fig, msg) {\n",
       "    var size = msg['size'];\n",
       "    if (size[0] !== fig.canvas.width || size[1] !== fig.canvas.height) {\n",
       "        fig._resize_canvas(size[0], size[1], msg['forward']);\n",
       "        fig.send_message('refresh', {});\n",
       "    }\n",
       "};\n",
       "\n",
       "mpl.figure.prototype.handle_rubberband = function (fig, msg) {\n",
       "    var x0 = msg['x0'] / fig.ratio;\n",
       "    var y0 = (fig.canvas.height - msg['y0']) / fig.ratio;\n",
       "    var x1 = msg['x1'] / fig.ratio;\n",
       "    var y1 = (fig.canvas.height - msg['y1']) / fig.ratio;\n",
       "    x0 = Math.floor(x0) + 0.5;\n",
       "    y0 = Math.floor(y0) + 0.5;\n",
       "    x1 = Math.floor(x1) + 0.5;\n",
       "    y1 = Math.floor(y1) + 0.5;\n",
       "    var min_x = Math.min(x0, x1);\n",
       "    var min_y = Math.min(y0, y1);\n",
       "    var width = Math.abs(x1 - x0);\n",
       "    var height = Math.abs(y1 - y0);\n",
       "\n",
       "    fig.rubberband_context.clearRect(\n",
       "        0,\n",
       "        0,\n",
       "        fig.canvas.width / fig.ratio,\n",
       "        fig.canvas.height / fig.ratio\n",
       "    );\n",
       "\n",
       "    fig.rubberband_context.strokeRect(min_x, min_y, width, height);\n",
       "};\n",
       "\n",
       "mpl.figure.prototype.handle_figure_label = function (fig, msg) {\n",
       "    // Updates the figure title.\n",
       "    fig.header.textContent = msg['label'];\n",
       "};\n",
       "\n",
       "mpl.figure.prototype.handle_cursor = function (fig, msg) {\n",
       "    var cursor = msg['cursor'];\n",
       "    switch (cursor) {\n",
       "        case 0:\n",
       "            cursor = 'pointer';\n",
       "            break;\n",
       "        case 1:\n",
       "            cursor = 'default';\n",
       "            break;\n",
       "        case 2:\n",
       "            cursor = 'crosshair';\n",
       "            break;\n",
       "        case 3:\n",
       "            cursor = 'move';\n",
       "            break;\n",
       "    }\n",
       "    fig.rubberband_canvas.style.cursor = cursor;\n",
       "};\n",
       "\n",
       "mpl.figure.prototype.handle_message = function (fig, msg) {\n",
       "    fig.message.textContent = msg['message'];\n",
       "};\n",
       "\n",
       "mpl.figure.prototype.handle_draw = function (fig, _msg) {\n",
       "    // Request the server to send over a new figure.\n",
       "    fig.send_draw_message();\n",
       "};\n",
       "\n",
       "mpl.figure.prototype.handle_image_mode = function (fig, msg) {\n",
       "    fig.image_mode = msg['mode'];\n",
       "};\n",
       "\n",
       "mpl.figure.prototype.handle_history_buttons = function (fig, msg) {\n",
       "    for (var key in msg) {\n",
       "        if (!(key in fig.buttons)) {\n",
       "            continue;\n",
       "        }\n",
       "        fig.buttons[key].disabled = !msg[key];\n",
       "        fig.buttons[key].setAttribute('aria-disabled', !msg[key]);\n",
       "    }\n",
       "};\n",
       "\n",
       "mpl.figure.prototype.handle_navigate_mode = function (fig, msg) {\n",
       "    if (msg['mode'] === 'PAN') {\n",
       "        fig.buttons['Pan'].classList.add('active');\n",
       "        fig.buttons['Zoom'].classList.remove('active');\n",
       "    } else if (msg['mode'] === 'ZOOM') {\n",
       "        fig.buttons['Pan'].classList.remove('active');\n",
       "        fig.buttons['Zoom'].classList.add('active');\n",
       "    } else {\n",
       "        fig.buttons['Pan'].classList.remove('active');\n",
       "        fig.buttons['Zoom'].classList.remove('active');\n",
       "    }\n",
       "};\n",
       "\n",
       "mpl.figure.prototype.updated_canvas_event = function () {\n",
       "    // Called whenever the canvas gets updated.\n",
       "    this.send_message('ack', {});\n",
       "};\n",
       "\n",
       "// A function to construct a web socket function for onmessage handling.\n",
       "// Called in the figure constructor.\n",
       "mpl.figure.prototype._make_on_message_function = function (fig) {\n",
       "    return function socket_on_message(evt) {\n",
       "        if (evt.data instanceof Blob) {\n",
       "            /* FIXME: We get \"Resource interpreted as Image but\n",
       "             * transferred with MIME type text/plain:\" errors on\n",
       "             * Chrome.  But how to set the MIME type?  It doesn't seem\n",
       "             * to be part of the websocket stream */\n",
       "            evt.data.type = 'image/png';\n",
       "\n",
       "            /* Free the memory for the previous frames */\n",
       "            if (fig.imageObj.src) {\n",
       "                (window.URL || window.webkitURL).revokeObjectURL(\n",
       "                    fig.imageObj.src\n",
       "                );\n",
       "            }\n",
       "\n",
       "            fig.imageObj.src = (window.URL || window.webkitURL).createObjectURL(\n",
       "                evt.data\n",
       "            );\n",
       "            fig.updated_canvas_event();\n",
       "            fig.waiting = false;\n",
       "            return;\n",
       "        } else if (\n",
       "            typeof evt.data === 'string' &&\n",
       "            evt.data.slice(0, 21) === 'data:image/png;base64'\n",
       "        ) {\n",
       "            fig.imageObj.src = evt.data;\n",
       "            fig.updated_canvas_event();\n",
       "            fig.waiting = false;\n",
       "            return;\n",
       "        }\n",
       "\n",
       "        var msg = JSON.parse(evt.data);\n",
       "        var msg_type = msg['type'];\n",
       "\n",
       "        // Call the  \"handle_{type}\" callback, which takes\n",
       "        // the figure and JSON message as its only arguments.\n",
       "        try {\n",
       "            var callback = fig['handle_' + msg_type];\n",
       "        } catch (e) {\n",
       "            console.log(\n",
       "                \"No handler for the '\" + msg_type + \"' message type: \",\n",
       "                msg\n",
       "            );\n",
       "            return;\n",
       "        }\n",
       "\n",
       "        if (callback) {\n",
       "            try {\n",
       "                // console.log(\"Handling '\" + msg_type + \"' message: \", msg);\n",
       "                callback(fig, msg);\n",
       "            } catch (e) {\n",
       "                console.log(\n",
       "                    \"Exception inside the 'handler_\" + msg_type + \"' callback:\",\n",
       "                    e,\n",
       "                    e.stack,\n",
       "                    msg\n",
       "                );\n",
       "            }\n",
       "        }\n",
       "    };\n",
       "};\n",
       "\n",
       "// from http://stackoverflow.com/questions/1114465/getting-mouse-location-in-canvas\n",
       "mpl.findpos = function (e) {\n",
       "    //this section is from http://www.quirksmode.org/js/events_properties.html\n",
       "    var targ;\n",
       "    if (!e) {\n",
       "        e = window.event;\n",
       "    }\n",
       "    if (e.target) {\n",
       "        targ = e.target;\n",
       "    } else if (e.srcElement) {\n",
       "        targ = e.srcElement;\n",
       "    }\n",
       "    if (targ.nodeType === 3) {\n",
       "        // defeat Safari bug\n",
       "        targ = targ.parentNode;\n",
       "    }\n",
       "\n",
       "    // pageX,Y are the mouse positions relative to the document\n",
       "    var boundingRect = targ.getBoundingClientRect();\n",
       "    var x = e.pageX - (boundingRect.left + document.body.scrollLeft);\n",
       "    var y = e.pageY - (boundingRect.top + document.body.scrollTop);\n",
       "\n",
       "    return { x: x, y: y };\n",
       "};\n",
       "\n",
       "/*\n",
       " * return a copy of an object with only non-object keys\n",
       " * we need this to avoid circular references\n",
       " * http://stackoverflow.com/a/24161582/3208463\n",
       " */\n",
       "function simpleKeys(original) {\n",
       "    return Object.keys(original).reduce(function (obj, key) {\n",
       "        if (typeof original[key] !== 'object') {\n",
       "            obj[key] = original[key];\n",
       "        }\n",
       "        return obj;\n",
       "    }, {});\n",
       "}\n",
       "\n",
       "mpl.figure.prototype.mouse_event = function (event, name) {\n",
       "    var canvas_pos = mpl.findpos(event);\n",
       "\n",
       "    if (name === 'button_press') {\n",
       "        this.canvas.focus();\n",
       "        this.canvas_div.focus();\n",
       "    }\n",
       "\n",
       "    var x = canvas_pos.x * this.ratio;\n",
       "    var y = canvas_pos.y * this.ratio;\n",
       "\n",
       "    this.send_message(name, {\n",
       "        x: x,\n",
       "        y: y,\n",
       "        button: event.button,\n",
       "        step: event.step,\n",
       "        guiEvent: simpleKeys(event),\n",
       "    });\n",
       "\n",
       "    /* This prevents the web browser from automatically changing to\n",
       "     * the text insertion cursor when the button is pressed.  We want\n",
       "     * to control all of the cursor setting manually through the\n",
       "     * 'cursor' event from matplotlib */\n",
       "    event.preventDefault();\n",
       "    return false;\n",
       "};\n",
       "\n",
       "mpl.figure.prototype._key_event_extra = function (_event, _name) {\n",
       "    // Handle any extra behaviour associated with a key event\n",
       "};\n",
       "\n",
       "mpl.figure.prototype.key_event = function (event, name) {\n",
       "    // Prevent repeat events\n",
       "    if (name === 'key_press') {\n",
       "        if (event.which === this._key) {\n",
       "            return;\n",
       "        } else {\n",
       "            this._key = event.which;\n",
       "        }\n",
       "    }\n",
       "    if (name === 'key_release') {\n",
       "        this._key = null;\n",
       "    }\n",
       "\n",
       "    var value = '';\n",
       "    if (event.ctrlKey && event.which !== 17) {\n",
       "        value += 'ctrl+';\n",
       "    }\n",
       "    if (event.altKey && event.which !== 18) {\n",
       "        value += 'alt+';\n",
       "    }\n",
       "    if (event.shiftKey && event.which !== 16) {\n",
       "        value += 'shift+';\n",
       "    }\n",
       "\n",
       "    value += 'k';\n",
       "    value += event.which.toString();\n",
       "\n",
       "    this._key_event_extra(event, name);\n",
       "\n",
       "    this.send_message(name, { key: value, guiEvent: simpleKeys(event) });\n",
       "    return false;\n",
       "};\n",
       "\n",
       "mpl.figure.prototype.toolbar_button_onclick = function (name) {\n",
       "    if (name === 'download') {\n",
       "        this.handle_save(this, null);\n",
       "    } else {\n",
       "        this.send_message('toolbar_button', { name: name });\n",
       "    }\n",
       "};\n",
       "\n",
       "mpl.figure.prototype.toolbar_button_onmouseover = function (tooltip) {\n",
       "    this.message.textContent = tooltip;\n",
       "};\n",
       "mpl.toolbar_items = [[\"Home\", \"Reset original view\", \"fa fa-home icon-home\", \"home\"], [\"Back\", \"Back to previous view\", \"fa fa-arrow-left icon-arrow-left\", \"back\"], [\"Forward\", \"Forward to next view\", \"fa fa-arrow-right icon-arrow-right\", \"forward\"], [\"\", \"\", \"\", \"\"], [\"Pan\", \"Left button pans, Right button zooms\\nx/y fixes axis, CTRL fixes aspect\", \"fa fa-arrows icon-move\", \"pan\"], [\"Zoom\", \"Zoom to rectangle\\nx/y fixes axis, CTRL fixes aspect\", \"fa fa-square-o icon-check-empty\", \"zoom\"], [\"\", \"\", \"\", \"\"], [\"Download\", \"Download plot\", \"fa fa-floppy-o icon-save\", \"download\"]];\n",
       "\n",
       "mpl.extensions = [\"eps\", \"jpeg\", \"pdf\", \"png\", \"ps\", \"raw\", \"svg\", \"tif\"];\n",
       "\n",
       "mpl.default_extension = \"png\";/* global mpl */\n",
       "\n",
       "var comm_websocket_adapter = function (comm) {\n",
       "    // Create a \"websocket\"-like object which calls the given IPython comm\n",
       "    // object with the appropriate methods. Currently this is a non binary\n",
       "    // socket, so there is still some room for performance tuning.\n",
       "    var ws = {};\n",
       "\n",
       "    ws.close = function () {\n",
       "        comm.close();\n",
       "    };\n",
       "    ws.send = function (m) {\n",
       "        //console.log('sending', m);\n",
       "        comm.send(m);\n",
       "    };\n",
       "    // Register the callback with on_msg.\n",
       "    comm.on_msg(function (msg) {\n",
       "        //console.log('receiving', msg['content']['data'], msg);\n",
       "        // Pass the mpl event to the overridden (by mpl) onmessage function.\n",
       "        ws.onmessage(msg['content']['data']);\n",
       "    });\n",
       "    return ws;\n",
       "};\n",
       "\n",
       "mpl.mpl_figure_comm = function (comm, msg) {\n",
       "    // This is the function which gets called when the mpl process\n",
       "    // starts-up an IPython Comm through the \"matplotlib\" channel.\n",
       "\n",
       "    var id = msg.content.data.id;\n",
       "    // Get hold of the div created by the display call when the Comm\n",
       "    // socket was opened in Python.\n",
       "    var element = document.getElementById(id);\n",
       "    var ws_proxy = comm_websocket_adapter(comm);\n",
       "\n",
       "    function ondownload(figure, _format) {\n",
       "        window.open(figure.canvas.toDataURL());\n",
       "    }\n",
       "\n",
       "    var fig = new mpl.figure(id, ws_proxy, ondownload, element);\n",
       "\n",
       "    // Call onopen now - mpl needs it, as it is assuming we've passed it a real\n",
       "    // web socket which is closed, not our websocket->open comm proxy.\n",
       "    ws_proxy.onopen();\n",
       "\n",
       "    fig.parent_element = element;\n",
       "    fig.cell_info = mpl.find_output_cell(\"<div id='\" + id + \"'></div>\");\n",
       "    if (!fig.cell_info) {\n",
       "        console.error('Failed to find cell for figure', id, fig);\n",
       "        return;\n",
       "    }\n",
       "    fig.cell_info[0].output_area.element.one(\n",
       "        'cleared',\n",
       "        { fig: fig },\n",
       "        fig._remove_fig_handler\n",
       "    );\n",
       "};\n",
       "\n",
       "mpl.figure.prototype.handle_close = function (fig, msg) {\n",
       "    var width = fig.canvas.width / fig.ratio;\n",
       "    fig.cell_info[0].output_area.element.off(\n",
       "        'cleared',\n",
       "        fig._remove_fig_handler\n",
       "    );\n",
       "\n",
       "    // Update the output cell to use the data from the current canvas.\n",
       "    fig.push_to_output();\n",
       "    var dataURL = fig.canvas.toDataURL();\n",
       "    // Re-enable the keyboard manager in IPython - without this line, in FF,\n",
       "    // the notebook keyboard shortcuts fail.\n",
       "    IPython.keyboard_manager.enable();\n",
       "    fig.parent_element.innerHTML =\n",
       "        '<img src=\"' + dataURL + '\" width=\"' + width + '\">';\n",
       "    fig.close_ws(fig, msg);\n",
       "};\n",
       "\n",
       "mpl.figure.prototype.close_ws = function (fig, msg) {\n",
       "    fig.send_message('closing', msg);\n",
       "    // fig.ws.close()\n",
       "};\n",
       "\n",
       "mpl.figure.prototype.push_to_output = function (_remove_interactive) {\n",
       "    // Turn the data on the canvas into data in the output cell.\n",
       "    var width = this.canvas.width / this.ratio;\n",
       "    var dataURL = this.canvas.toDataURL();\n",
       "    this.cell_info[1]['text/html'] =\n",
       "        '<img src=\"' + dataURL + '\" width=\"' + width + '\">';\n",
       "};\n",
       "\n",
       "mpl.figure.prototype.updated_canvas_event = function () {\n",
       "    // Tell IPython that the notebook contents must change.\n",
       "    IPython.notebook.set_dirty(true);\n",
       "    this.send_message('ack', {});\n",
       "    var fig = this;\n",
       "    // Wait a second, then push the new image to the DOM so\n",
       "    // that it is saved nicely (might be nice to debounce this).\n",
       "    setTimeout(function () {\n",
       "        fig.push_to_output();\n",
       "    }, 1000);\n",
       "};\n",
       "\n",
       "mpl.figure.prototype._init_toolbar = function () {\n",
       "    var fig = this;\n",
       "\n",
       "    var toolbar = document.createElement('div');\n",
       "    toolbar.classList = 'btn-toolbar';\n",
       "    this.root.appendChild(toolbar);\n",
       "\n",
       "    function on_click_closure(name) {\n",
       "        return function (_event) {\n",
       "            return fig.toolbar_button_onclick(name);\n",
       "        };\n",
       "    }\n",
       "\n",
       "    function on_mouseover_closure(tooltip) {\n",
       "        return function (event) {\n",
       "            if (!event.currentTarget.disabled) {\n",
       "                return fig.toolbar_button_onmouseover(tooltip);\n",
       "            }\n",
       "        };\n",
       "    }\n",
       "\n",
       "    fig.buttons = {};\n",
       "    var buttonGroup = document.createElement('div');\n",
       "    buttonGroup.classList = 'btn-group';\n",
       "    var button;\n",
       "    for (var toolbar_ind in mpl.toolbar_items) {\n",
       "        var name = mpl.toolbar_items[toolbar_ind][0];\n",
       "        var tooltip = mpl.toolbar_items[toolbar_ind][1];\n",
       "        var image = mpl.toolbar_items[toolbar_ind][2];\n",
       "        var method_name = mpl.toolbar_items[toolbar_ind][3];\n",
       "\n",
       "        if (!name) {\n",
       "            /* Instead of a spacer, we start a new button group. */\n",
       "            if (buttonGroup.hasChildNodes()) {\n",
       "                toolbar.appendChild(buttonGroup);\n",
       "            }\n",
       "            buttonGroup = document.createElement('div');\n",
       "            buttonGroup.classList = 'btn-group';\n",
       "            continue;\n",
       "        }\n",
       "\n",
       "        button = fig.buttons[name] = document.createElement('button');\n",
       "        button.classList = 'btn btn-default';\n",
       "        button.href = '#';\n",
       "        button.title = name;\n",
       "        button.innerHTML = '<i class=\"fa ' + image + ' fa-lg\"></i>';\n",
       "        button.addEventListener('click', on_click_closure(method_name));\n",
       "        button.addEventListener('mouseover', on_mouseover_closure(tooltip));\n",
       "        buttonGroup.appendChild(button);\n",
       "    }\n",
       "\n",
       "    if (buttonGroup.hasChildNodes()) {\n",
       "        toolbar.appendChild(buttonGroup);\n",
       "    }\n",
       "\n",
       "    // Add the status bar.\n",
       "    var status_bar = document.createElement('span');\n",
       "    status_bar.classList = 'mpl-message pull-right';\n",
       "    toolbar.appendChild(status_bar);\n",
       "    this.message = status_bar;\n",
       "\n",
       "    // Add the close button to the window.\n",
       "    var buttongrp = document.createElement('div');\n",
       "    buttongrp.classList = 'btn-group inline pull-right';\n",
       "    button = document.createElement('button');\n",
       "    button.classList = 'btn btn-mini btn-primary';\n",
       "    button.href = '#';\n",
       "    button.title = 'Stop Interaction';\n",
       "    button.innerHTML = '<i class=\"fa fa-power-off icon-remove icon-large\"></i>';\n",
       "    button.addEventListener('click', function (_evt) {\n",
       "        fig.handle_close(fig, {});\n",
       "    });\n",
       "    button.addEventListener(\n",
       "        'mouseover',\n",
       "        on_mouseover_closure('Stop Interaction')\n",
       "    );\n",
       "    buttongrp.appendChild(button);\n",
       "    var titlebar = this.root.querySelector('.ui-dialog-titlebar');\n",
       "    titlebar.insertBefore(buttongrp, titlebar.firstChild);\n",
       "};\n",
       "\n",
       "mpl.figure.prototype._remove_fig_handler = function (event) {\n",
       "    var fig = event.data.fig;\n",
       "    fig.close_ws(fig, {});\n",
       "};\n",
       "\n",
       "mpl.figure.prototype._root_extra_style = function (el) {\n",
       "    el.style.boxSizing = 'content-box'; // override notebook setting of border-box.\n",
       "};\n",
       "\n",
       "mpl.figure.prototype._canvas_extra_style = function (el) {\n",
       "    // this is important to make the div 'focusable\n",
       "    el.setAttribute('tabindex', 0);\n",
       "    // reach out to IPython and tell the keyboard manager to turn it's self\n",
       "    // off when our div gets focus\n",
       "\n",
       "    // location in version 3\n",
       "    if (IPython.notebook.keyboard_manager) {\n",
       "        IPython.notebook.keyboard_manager.register_events(el);\n",
       "    } else {\n",
       "        // location in version 2\n",
       "        IPython.keyboard_manager.register_events(el);\n",
       "    }\n",
       "};\n",
       "\n",
       "mpl.figure.prototype._key_event_extra = function (event, _name) {\n",
       "    var manager = IPython.notebook.keyboard_manager;\n",
       "    if (!manager) {\n",
       "        manager = IPython.keyboard_manager;\n",
       "    }\n",
       "\n",
       "    // Check for shift+enter\n",
       "    if (event.shiftKey && event.which === 13) {\n",
       "        this.canvas_div.blur();\n",
       "        // select the cell after this one\n",
       "        var index = IPython.notebook.find_cell_index(this.cell_info[0]);\n",
       "        IPython.notebook.select(index + 1);\n",
       "    }\n",
       "};\n",
       "\n",
       "mpl.figure.prototype.handle_save = function (fig, _msg) {\n",
       "    fig.ondownload(fig, null);\n",
       "};\n",
       "\n",
       "mpl.find_output_cell = function (html_output) {\n",
       "    // Return the cell and output element which can be found *uniquely* in the notebook.\n",
       "    // Note - this is a bit hacky, but it is done because the \"notebook_saving.Notebook\"\n",
       "    // IPython event is triggered only after the cells have been serialised, which for\n",
       "    // our purposes (turning an active figure into a static one), is too late.\n",
       "    var cells = IPython.notebook.get_cells();\n",
       "    var ncells = cells.length;\n",
       "    for (var i = 0; i < ncells; i++) {\n",
       "        var cell = cells[i];\n",
       "        if (cell.cell_type === 'code') {\n",
       "            for (var j = 0; j < cell.output_area.outputs.length; j++) {\n",
       "                var data = cell.output_area.outputs[j];\n",
       "                if (data.data) {\n",
       "                    // IPython >= 3 moved mimebundle to data attribute of output\n",
       "                    data = data.data;\n",
       "                }\n",
       "                if (data['text/html'] === html_output) {\n",
       "                    return [cell, data, j];\n",
       "                }\n",
       "            }\n",
       "        }\n",
       "    }\n",
       "};\n",
       "\n",
       "// Register the function which deals with the matplotlib target/channel.\n",
       "// The kernel may be null if the page has been refreshed.\n",
       "if (IPython.notebook.kernel !== null) {\n",
       "    IPython.notebook.kernel.comm_manager.register_target(\n",
       "        'matplotlib',\n",
       "        mpl.mpl_figure_comm\n",
       "    );\n",
       "}\n"
      ],
      "text/plain": [
       "<IPython.core.display.Javascript object>"
      ]
     },
     "metadata": {},
     "output_type": "display_data"
    },
    {
     "data": {
      "text/html": [
       "<div id='65f58b56-4101-496b-b42f-33ca80d8d550'></div>"
      ],
      "text/plain": [
       "<IPython.core.display.HTML object>"
      ]
     },
     "metadata": {},
     "output_type": "display_data"
    },
    {
     "data": {
      "text/plain": [
       "[<matplotlib.lines.Line2D at 0x7f236b4ead10>]"
      ]
     },
     "execution_count": 1,
     "metadata": {},
     "output_type": "execute_result"
    }
   ],
   "source": [
    "example_data = data[0]\n",
    "mol_frac = example_data.mf\n",
    "mol_frac.plot()"
   ]
  },
  {
   "cell_type": "markdown",
   "metadata": {},
   "source": [
    "## 5. Ranking data"
   ]
  },
  {
   "cell_type": "markdown",
   "metadata": {},
   "source": [
    "The dates that the data from Heathfield retrieved above overlap. If we want to easily retrieve the highest quality data from Heathfield over a range of dates we don't want to have to repeatedly check which was the correct inlet/instrument for a given daterange. This problem is solved using ranking. \n",
    "\n",
    "A given inlet on a specific instrument at a site can be given a rank for a daterange. To do this we use the `RankSources` class from the `localclient` submodule."
   ]
  },
  {
   "cell_type": "code",
   "execution_count": 16,
   "metadata": {
    "execution": {
     "iopub.execute_input": "2020-10-22T12:55:52.226412Z",
     "iopub.status.busy": "2020-10-22T12:55:52.225626Z",
     "iopub.status.idle": "2020-10-22T12:55:52.245761Z",
     "shell.execute_reply": "2020-10-22T12:55:52.246197Z"
    }
   },
   "outputs": [
    {
     "data": {
      "text/plain": [
       "{'co_hfd_100m_picarro': {'rank': 0,\n",
       "  'data_range': '2013-12-04T14:02:30_2019-05-21T15:46:30',\n",
       "  'uuid': 'e7985c05-c71c-4d75-a30b-6c1c282f315d',\n",
       "  'metadata': {'site': 'hfd',\n",
       "   'instrument': 'picarro',\n",
       "   'time_resolution': '1_minute',\n",
       "   'inlet': '100m',\n",
       "   'port': '10',\n",
       "   'type': 'air',\n",
       "   'network': 'decc',\n",
       "   'species': 'co',\n",
       "   'scale': 'wmo-x2014a',\n",
       "   'data_type': 'timeseries'}},\n",
       " 'co_hfd_50m_picarro': {'rank': 0,\n",
       "  'data_range': '2013-11-23T12:28:30_2020-06-24T09:41:30',\n",
       "  'uuid': '168b93d3-46f3-482e-bc03-f51eaf46dec8',\n",
       "  'metadata': {'site': 'hfd',\n",
       "   'instrument': 'picarro',\n",
       "   'time_resolution': '1_minute',\n",
       "   'inlet': '50m',\n",
       "   'port': '9',\n",
       "   'type': 'air',\n",
       "   'network': 'decc',\n",
       "   'species': 'co',\n",
       "   'scale': 'wmo-x2014a',\n",
       "   'data_type': 'timeseries'}}}"
      ]
     },
     "execution_count": 1,
     "metadata": {},
     "output_type": "execute_result"
    }
   ],
   "source": [
    "r = RankSources()\n",
    "\n",
    "r.get_sources(site=\"hfd\", species=\"co\")"
   ]
  },
  {
   "cell_type": "markdown",
   "metadata": {},
   "source": [
    "The returned dictionary gives us two keys, one for each inlet height. To rank a source we use the `set_rank` method which expects two arguments: `rank_key` which is the key given to each source in the `dict` above and `rank_data` a dictionary of the form\n",
    "\n",
    "```python\n",
    "rank_data = {co2_hfd_50m_picarro: {1: [daterange_1], 2: [daterange_2]}}\n",
    "```\n",
    "\n",
    "We can create this dictionary using a helper method of `RankSources` called `create_daterange` as shown below."
   ]
  },
  {
   "cell_type": "code",
   "execution_count": 17,
   "metadata": {
    "execution": {
     "iopub.execute_input": "2020-10-22T12:55:52.250793Z",
     "iopub.status.busy": "2020-10-22T12:55:52.249656Z",
     "iopub.status.idle": "2020-10-22T12:55:52.252753Z",
     "shell.execute_reply": "2020-10-22T12:55:52.252069Z"
    }
   },
   "outputs": [],
   "source": [
    "daterange_100m = r.create_daterange(start=\"2013-11-01\", end=\"2016-01-01\")   "
   ]
  },
  {
   "cell_type": "markdown",
   "metadata": {},
   "source": [
    "This creates a daterange string that will be understood by `openghg`. We can then place this in a list to create our `rank_data` dictionary."
   ]
  },
  {
   "cell_type": "code",
   "execution_count": 18,
   "metadata": {
    "execution": {
     "iopub.execute_input": "2020-10-22T12:55:52.257848Z",
     "iopub.status.busy": "2020-10-22T12:55:52.256403Z",
     "iopub.status.idle": "2020-10-22T12:55:52.259398Z",
     "shell.execute_reply": "2020-10-22T12:55:52.258908Z"
    }
   },
   "outputs": [],
   "source": [
    "rank_data = {\"co_hfd_100m_picarro\": {\"1\": [daterange_100m]}}"
   ]
  },
  {
   "cell_type": "code",
   "execution_count": 19,
   "metadata": {
    "execution": {
     "iopub.execute_input": "2020-10-22T12:55:52.263662Z",
     "iopub.status.busy": "2020-10-22T12:55:52.263063Z",
     "iopub.status.idle": "2020-10-22T12:55:52.266628Z",
     "shell.execute_reply": "2020-10-22T12:55:52.266128Z"
    }
   },
   "outputs": [
    {
     "data": {
      "text/plain": [
       "{'co_hfd_100m_picarro': {'1': ['2013-11-01T00:00:00_2016-01-01T00:00:00']}}"
      ]
     },
     "execution_count": 1,
     "metadata": {},
     "output_type": "execute_result"
    }
   ],
   "source": [
    "rank_data"
   ]
  },
  {
   "cell_type": "markdown",
   "metadata": {},
   "source": [
    "Now we can set the rank of the network using `set_rank`"
   ]
  },
  {
   "cell_type": "code",
   "execution_count": 20,
   "metadata": {
    "execution": {
     "iopub.execute_input": "2020-10-22T12:55:52.269994Z",
     "iopub.status.busy": "2020-10-22T12:55:52.269475Z",
     "iopub.status.idle": "2020-10-22T12:55:52.278185Z",
     "shell.execute_reply": "2020-10-22T12:55:52.278948Z"
    }
   },
   "outputs": [],
   "source": [
    "r.set_rank(rank_key=\"co_hfd_100m_picarro\", rank_data=rank_data)"
   ]
  },
  {
   "cell_type": "markdown",
   "metadata": {},
   "source": [
    "We can now check the rank for this inlet again to check it's been set correctly"
   ]
  },
  {
   "cell_type": "code",
   "execution_count": 21,
   "metadata": {
    "execution": {
     "iopub.execute_input": "2020-10-22T12:55:52.285539Z",
     "iopub.status.busy": "2020-10-22T12:55:52.285037Z",
     "iopub.status.idle": "2020-10-22T12:55:52.299007Z",
     "shell.execute_reply": "2020-10-22T12:55:52.299418Z"
    }
   },
   "outputs": [
    {
     "data": {
      "text/plain": [
       "{'co_hfd_100m_picarro': {'rank': defaultdict(list,\n",
       "              {'1': ['2013-11-01T00:00:00_2016-01-01T00:00:00']}),\n",
       "  'data_range': '2013-12-04T14:02:30_2019-05-21T15:46:30',\n",
       "  'uuid': 'e7985c05-c71c-4d75-a30b-6c1c282f315d',\n",
       "  'metadata': {'site': 'hfd',\n",
       "   'instrument': 'picarro',\n",
       "   'time_resolution': '1_minute',\n",
       "   'inlet': '100m',\n",
       "   'port': '10',\n",
       "   'type': 'air',\n",
       "   'network': 'decc',\n",
       "   'species': 'co',\n",
       "   'scale': 'wmo-x2014a',\n",
       "   'data_type': 'timeseries'}},\n",
       " 'co_hfd_50m_picarro': {'rank': 0,\n",
       "  'data_range': '2013-11-23T12:28:30_2020-06-24T09:41:30',\n",
       "  'uuid': '168b93d3-46f3-482e-bc03-f51eaf46dec8',\n",
       "  'metadata': {'site': 'hfd',\n",
       "   'instrument': 'picarro',\n",
       "   'time_resolution': '1_minute',\n",
       "   'inlet': '50m',\n",
       "   'port': '9',\n",
       "   'type': 'air',\n",
       "   'network': 'decc',\n",
       "   'species': 'co',\n",
       "   'scale': 'wmo-x2014a',\n",
       "   'data_type': 'timeseries'}}}"
      ]
     },
     "execution_count": 1,
     "metadata": {},
     "output_type": "execute_result"
    }
   ],
   "source": [
    "r.get_sources(site=\"hfd\", species=\"co\")"
   ]
  },
  {
   "cell_type": "markdown",
   "metadata": {},
   "source": [
    "We can now see\n",
    "\n",
    "```python\n",
    "'co_hfd_100m_picarro': {'rank': defaultdict(list, {'1': ['2013-11-01T00:00:00_2016-01-01T00:00:00']})\n",
    "```"
   ]
  },
  {
   "cell_type": "markdown",
   "metadata": {},
   "source": [
    "Which tells us the rank was set correctly over the daterange that we specified. We can now search for data and we'll automatically get the highest ranked data.\n",
    "\n",
    "Let's search for CO2 data at Heathfield between 2014 - 2015, dates covered by both inlets."
   ]
  },
  {
   "cell_type": "code",
   "execution_count": 22,
   "metadata": {
    "execution": {
     "iopub.execute_input": "2020-10-22T12:55:52.303358Z",
     "iopub.status.busy": "2020-10-22T12:55:52.302491Z",
     "iopub.status.idle": "2020-10-22T12:55:52.506313Z",
     "shell.execute_reply": "2020-10-22T12:55:52.505668Z"
    }
   },
   "outputs": [],
   "source": [
    "updated_data = get_single_site(site=\"hfd\", species=\"co\", network=\"AGAGE\")"
   ]
  },
  {
   "cell_type": "code",
   "execution_count": 23,
   "metadata": {
    "execution": {
     "iopub.execute_input": "2020-10-22T12:55:52.513840Z",
     "iopub.status.busy": "2020-10-22T12:55:52.513225Z",
     "iopub.status.idle": "2020-10-22T12:55:52.517096Z",
     "shell.execute_reply": "2020-10-22T12:55:52.516505Z"
    }
   },
   "outputs": [
    {
     "data": {
      "text/plain": [
       "[<xarray.Dataset>\n",
       " Dimensions:    (time: 89)\n",
       " Coordinates:\n",
       "   * time       (time) datetime64[ns] 2013-12-04T14:02:30 ... 2015-12-30T14:55:30\n",
       " Data variables:\n",
       "     mf         (time) float64 214.3 216.2 147.0 135.3 ... 123.8 136.9 142.0\n",
       "     co_stdev   (time) float64 4.081 3.634 3.887 4.11 ... 3.815 4.502 4.545 3.533\n",
       "     co_n_meas  (time) float64 19.0 19.0 19.0 19.0 19.0 ... 19.0 19.0 19.0 19.0\n",
       " Attributes:\n",
       "     data_owner:           Simon O'Doherty\n",
       "     data_owner_email:     s.odoherty@bristol.ac.uk\n",
       "     inlet_height_magl:    100m\n",
       "     comment:              Cavity ring-down measurements. Output from GCWerks\n",
       "     Conditions of use:    Ensure that you contact the data owner at the outse...\n",
       "     Source:               In situ measurements of air\n",
       "     Conventions:          CF-1.6\n",
       "     File created:         2020-10-22 12:55:45.980284+00:00\n",
       "     Processed by:         auto@hugs-cloud.com\n",
       "     species:              CO\n",
       "     station_longitude:    0.23048\n",
       "     station_latitude:     50.97675\n",
       "     station_long_name:    Heathfield, UK\n",
       "     station_height_masl:  150.0\n",
       "     scale:                WMO-X2014A]"
      ]
     },
     "execution_count": 1,
     "metadata": {},
     "output_type": "execute_result"
    }
   ],
   "source": [
    "updated_data"
   ]
  },
  {
   "cell_type": "markdown",
   "metadata": {},
   "source": [
    "Now we get the highest ranked data returned to us without the need to specify an inlet height or instrument.\n",
    "\n",
    "If we know that we want data from the 50m inlet we can still specify this in the search and get that data"
   ]
  },
  {
   "cell_type": "code",
   "execution_count": 24,
   "metadata": {
    "execution": {
     "iopub.execute_input": "2020-10-22T12:55:52.521820Z",
     "iopub.status.busy": "2020-10-22T12:55:52.521098Z",
     "iopub.status.idle": "2020-10-22T12:55:52.834770Z",
     "shell.execute_reply": "2020-10-22T12:55:52.835373Z"
    }
   },
   "outputs": [],
   "source": [
    "fiftym_data = get_single_site(site=\"hfd\", species=\"co\", network=\"AGAGE\", inlet=\"50m\")"
   ]
  },
  {
   "cell_type": "code",
   "execution_count": 25,
   "metadata": {
    "execution": {
     "iopub.execute_input": "2020-10-22T12:55:52.844435Z",
     "iopub.status.busy": "2020-10-22T12:55:52.843683Z",
     "iopub.status.idle": "2020-10-22T12:55:52.848275Z",
     "shell.execute_reply": "2020-10-22T12:55:52.847715Z"
    }
   },
   "outputs": [
    {
     "data": {
      "text/plain": [
       "[<xarray.Dataset>\n",
       " Dimensions:    (time: 636)\n",
       " Coordinates:\n",
       "   * time       (time) datetime64[ns] 2013-11-23T12:28:30 ... 2020-06-24T09:41:30\n",
       " Data variables:\n",
       "     mf         (time) float64 181.7 190.6 242.6 196.4 ... 93.59 86.76 129.7\n",
       "     co_stdev   (time) float64 5.158 4.641 3.602 5.487 ... 3.672 4.666 4.111\n",
       "     co_n_meas  (time) float64 19.0 19.0 19.0 19.0 19.0 ... 12.0 12.0 12.0 12.0\n",
       " Attributes:\n",
       "     data_owner:           Simon O'Doherty\n",
       "     data_owner_email:     s.odoherty@bristol.ac.uk\n",
       "     inlet_height_magl:    50m\n",
       "     comment:              Cavity ring-down measurements. Output from GCWerks\n",
       "     Conditions of use:    Ensure that you contact the data owner at the outse...\n",
       "     Source:               In situ measurements of air\n",
       "     Conventions:          CF-1.6\n",
       "     File created:         2020-10-22 12:55:46.530800+00:00\n",
       "     Processed by:         auto@hugs-cloud.com\n",
       "     species:              CO\n",
       "     station_longitude:    0.23048\n",
       "     station_latitude:     50.97675\n",
       "     station_long_name:    Heathfield, UK\n",
       "     station_height_masl:  150.0\n",
       "     scale:                WMO-X2014A]"
      ]
     },
     "execution_count": 1,
     "metadata": {},
     "output_type": "execute_result"
    }
   ],
   "source": [
    "fiftym_data"
   ]
  },
  {
   "cell_type": "markdown",
   "metadata": {},
   "source": [
    "## 6. Viewing ranked data"
   ]
  },
  {
   "cell_type": "markdown",
   "metadata": {},
   "source": [
    "We can also view the ranks we have given to data with a similar layout to the object store visualisation we created earlier.\n",
    "\n",
    "To do this we use the `visualise_rankings` method of of the `RankSources` class. In this figure we'll only see Datasources that contain ranked data. Hover over the nodes for further information."
   ]
  },
  {
   "cell_type": "markdown",
   "metadata": {},
   "source": [
    "<div class=\"alert alert-info\">\n",
    "    The rankings visualisation created by this function is commented out here and won't be visible in the documentation but can be uncommented and run when you use the notebook version.\n",
    "</div>"
   ]
  },
  {
   "cell_type": "code",
   "execution_count": 26,
   "metadata": {
    "execution": {
     "iopub.execute_input": "2020-10-22T12:55:52.853339Z",
     "iopub.status.busy": "2020-10-22T12:55:52.852031Z",
     "iopub.status.idle": "2020-10-22T12:55:52.855073Z",
     "shell.execute_reply": "2020-10-22T12:55:52.854552Z"
    }
   },
   "outputs": [],
   "source": [
    "# r.visualise_rankings()"
   ]
  },
  {
   "cell_type": "markdown",
   "metadata": {},
   "source": [
    "## 7. What's next?"
   ]
  },
  {
   "cell_type": "markdown",
   "metadata": {},
   "source": [
    "Further tutorials will be added soon. If you want to explore the internal workings of OpenGHG please checkout the Developer API documentation, if you would like contribute to the project we welcome pull requests to both the code and the documentation. For help and guidance on contributing check our contributing page."
   ]
  }
 ],
 "metadata": {
  "kernelspec": {
   "display_name": "Python 3",
   "language": "python",
   "name": "python3"
  },
  "language_info": {
   "codemirror_mode": {
    "name": "ipython",
    "version": 3
   },
   "file_extension": ".py",
   "mimetype": "text/x-python",
   "name": "python",
   "nbconvert_exporter": "python",
   "pygments_lexer": "ipython3",
   "version": "3.7.9"
  }
 },
 "nbformat": 4,
 "nbformat_minor": 4
}
