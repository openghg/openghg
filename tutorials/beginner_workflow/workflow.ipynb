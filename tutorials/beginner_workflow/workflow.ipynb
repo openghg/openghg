{
 "cells": [
  {
   "cell_type": "markdown",
   "metadata": {},
   "source": [
    "# Beginner workflow\n",
    "\n",
    "This tutorial is a beginner workflow for processing data, visualising the object store and retrieving and visualising data.\n",
    "\n",
    "### Check installation\n",
    "\n",
    "This tutorial assumes that you have installed `openghg`. To ensure install has been successful you can open an `ipython` console and import openghg\n",
    "\n",
    "In a terminal type\n",
    "\n",
    "```bash\n",
    "ipython\n",
    "```\n",
    "\n",
    "Then import `openghg` and print the version string associated with the version you have installed. If you get something like the below `openghg` is installed correctly.\n",
    "\n",
    "```ipython\n",
    "In [1]: import openghg\n",
    "In [2]: openghg.__version__\n",
    "Out[2]: '0.0.1'\n",
    "```\n",
    "\n",
    "If you get an ``ImportError`` please go back to the install section of the documentation.\n",
    "\n",
    "\n",
    "\n",
    "\n",
    "### Notebooks\n",
    "\n",
    "If you haven't used Jupyter notebooks before please see [this introduction](https://realpython.com/jupyter-notebook-introduction/)."
   ]
  },
  {
   "cell_type": "markdown",
   "metadata": {},
   "source": [
    "## 1. Setting up our environment\n",
    "\n",
    "First the notebook sets up the environment needed to create the object store at our desired location. By default this location\n",
    "is at ``/tmp/openghg_store``. For the purposes of this tutorial this path is fine but as it is a temporary directory it may not survive a\n",
    "reboot of the computer. \n",
    "\n",
    "If you want to create an object store that survives a reboot you can change the path to anything you like. We\n",
    "recommened a path such as ``~/openghg_store`` which will create the object store in your home directory in a directory called ``openghg_store``."
   ]
  },
  {
   "cell_type": "code",
   "execution_count": 1,
   "metadata": {
    "execution": {
     "iopub.execute_input": "2020-11-10T17:15:58.554437Z",
     "iopub.status.busy": "2020-11-10T17:15:58.552765Z",
     "iopub.status.idle": "2020-11-10T17:15:59.414930Z",
     "shell.execute_reply": "2020-11-10T17:15:59.413966Z"
    }
   },
   "outputs": [],
   "source": [
    "from openghg.modules import ObsSurface\n",
    "from openghg.objectstore import visualise_store\n",
    "from openghg.localclient import get_single_site, RankSources\n",
    "\n",
    "import glob\n",
    "from pathlib import Path\n",
    "import os\n",
    "import tempfile"
   ]
  },
  {
   "cell_type": "markdown",
   "metadata": {},
   "source": [
    "### Set an environment variable for the OpenGHG object store"
   ]
  },
  {
   "cell_type": "markdown",
   "metadata": {},
   "source": [
    "Here we create a temporary directory but you can use any folder you like by setting a path in place of `tmp_dir.name`. The object store created by this notebook will only have a lifetime as long as the notebook, if you want to create a longer lived object store set a path below."
   ]
  },
  {
   "cell_type": "code",
   "execution_count": 2,
   "metadata": {
    "execution": {
     "iopub.execute_input": "2020-11-10T17:15:59.420327Z",
     "iopub.status.busy": "2020-11-10T17:15:59.419331Z",
     "iopub.status.idle": "2020-11-10T17:15:59.424122Z",
     "shell.execute_reply": "2020-11-10T17:15:59.423598Z"
    }
   },
   "outputs": [],
   "source": [
    "tmp_dir = tempfile.TemporaryDirectory()\n",
    "os.environ[\"OPENGHG_PATH\"] = tmp_dir.name # \"/tmp/openghg_store\"\n"
   ]
  },
  {
   "cell_type": "markdown",
   "metadata": {},
   "source": [
    "## 2. Processing data"
   ]
  },
  {
   "cell_type": "markdown",
   "metadata": {},
   "source": [
    "First we want to create a list of files to process, we'll use some files from our local directory"
   ]
  },
  {
   "cell_type": "code",
   "execution_count": 3,
   "metadata": {
    "execution": {
     "iopub.execute_input": "2020-11-10T17:15:59.429153Z",
     "iopub.status.busy": "2020-11-10T17:15:59.427781Z",
     "iopub.status.idle": "2020-11-10T17:15:59.429823Z",
     "shell.execute_reply": "2020-11-10T17:15:59.430290Z"
    }
   },
   "outputs": [],
   "source": [
    "decc_files = glob.glob(\"../data/DECC/*.dat\")"
   ]
  },
  {
   "cell_type": "code",
   "execution_count": 4,
   "metadata": {
    "execution": {
     "iopub.execute_input": "2020-11-10T17:15:59.435136Z",
     "iopub.status.busy": "2020-11-10T17:15:59.433825Z",
     "iopub.status.idle": "2020-11-10T17:15:59.435814Z",
     "shell.execute_reply": "2020-11-10T17:15:59.436442Z"
    }
   },
   "outputs": [],
   "source": [
    "agage_files = glob.glob(\"../data/AGAGE/*.C\")"
   ]
  },
  {
   "cell_type": "markdown",
   "metadata": {},
   "source": [
    "We can pass a list of files to `ObsSurface.read_file`. We must also tell it the type of data we want it to process, DECC data is CRDS. We also pass in the name of the network."
   ]
  },
  {
   "cell_type": "code",
   "execution_count": 5,
   "metadata": {
    "execution": {
     "iopub.execute_input": "2020-11-10T17:15:59.440647Z",
     "iopub.status.busy": "2020-11-10T17:15:59.440077Z",
     "iopub.status.idle": "2020-11-10T17:16:00.089880Z",
     "shell.execute_reply": "2020-11-10T17:16:00.089348Z"
    }
   },
   "outputs": [
    {
     "name": "stdout",
     "output_type": "stream",
     "text": [
      "\r",
      "  0%|          | 0/5 [00:00<?, ?it/s]"
     ]
    },
    {
     "name": "stdout",
     "output_type": "stream",
     "text": [
      "\r",
      "Processing: tac.picarro.1minute.100m.min.dat:   0%|          | 0/5 [00:00<?, ?it/s]"
     ]
    },
    {
     "name": "stdout",
     "output_type": "stream",
     "text": [
      "\r",
      "Processing: tac.picarro.1minute.100m.test.dat:  20%|██        | 1/5 [00:00<00:00, 12.84it/s]"
     ]
    },
    {
     "name": "stdout",
     "output_type": "stream",
     "text": [
      "\r",
      "Processing: tac.picarro.1minute.100m.test.dat:  40%|████      | 2/5 [00:00<00:00,  7.47it/s]"
     ]
    },
    {
     "name": "stdout",
     "output_type": "stream",
     "text": [
      "\r",
      "Processing: hfd.picarro.1minute.100m.min.dat:  40%|████      | 2/5 [00:00<00:00,  7.47it/s] "
     ]
    },
    {
     "name": "stdout",
     "output_type": "stream",
     "text": [
      "\r",
      "Processing: hfd.picarro.1minute.100m.min.dat:  60%|██████    | 3/5 [00:00<00:00,  7.22it/s]"
     ]
    },
    {
     "name": "stdout",
     "output_type": "stream",
     "text": [
      "\r",
      "Processing: hfd.picarro.1minute.50m.min.dat:  60%|██████    | 3/5 [00:00<00:00,  7.22it/s] "
     ]
    },
    {
     "name": "stdout",
     "output_type": "stream",
     "text": [
      "\r",
      "Processing: hfd.picarro.1minute.50m.min.dat:  80%|████████  | 4/5 [00:00<00:00,  7.01it/s]"
     ]
    },
    {
     "name": "stdout",
     "output_type": "stream",
     "text": [
      "\r",
      "Processing: bsd.picarro.1minute.248m.dat:  80%|████████  | 4/5 [00:00<00:00,  7.01it/s]   "
     ]
    },
    {
     "name": "stdout",
     "output_type": "stream",
     "text": [
      "\r",
      "Processing: bsd.picarro.1minute.248m.dat: 100%|██████████| 5/5 [00:00<00:00,  7.86it/s]"
     ]
    },
    {
     "name": "stdout",
     "output_type": "stream",
     "text": [
      "\n"
     ]
    }
   ],
   "source": [
    "decc_results = ObsSurface.read_file(filepath=decc_files, data_type=\"CRDS\", network=\"DECC\")"
   ]
  },
  {
   "cell_type": "markdown",
   "metadata": {},
   "source": [
    "Here `decc_results` will give us a dictionary with the UUIDs (universally unique identifiers) for each of the Datasources the data has been assigned to. This tells us that the data has been processed and stored correctly."
   ]
  },
  {
   "cell_type": "markdown",
   "metadata": {},
   "source": [
    "## A note on Datasources"
   ]
  },
  {
   "cell_type": "markdown",
   "metadata": {},
   "source": [
    "Datasources are objects that are stored in the object store (add link to object store notes) that hold the data and metadata associated with each measurement we upload to the platform.\n",
    "\n",
    "For example, if we upload a file that contains readings for three gas species from a single site at a specific inlet height OpenGHG    will assign this data to three different Datasources, one for each species. Metadata such as the site, inlet height, species, network etc are stored alongside the measurements for easy searching. \n",
    "\n",
    "Datasources can also handle multiple versions of data from a single site, so if scales or other factors change multiple versions may be stored for easy future comparison."
   ]
  },
  {
   "cell_type": "markdown",
   "metadata": {},
   "source": [
    "<div class=\"alert alert-info\">\n",
    "    When you run this notebook different UUIDs will be created for the Datasources. This is expected as \n",
    "    each time a Datasource is created from scratch it is assigned a unique UUID.\n",
    "</div>"
   ]
  },
  {
   "cell_type": "code",
   "execution_count": 6,
   "metadata": {
    "execution": {
     "iopub.execute_input": "2020-11-10T17:16:00.098732Z",
     "iopub.status.busy": "2020-11-10T17:16:00.097712Z",
     "iopub.status.idle": "2020-11-10T17:16:00.102722Z",
     "shell.execute_reply": "2020-11-10T17:16:00.103190Z"
    }
   },
   "outputs": [
    {
     "data": {
      "text/plain": [
       "defaultdict(dict,\n",
       "            {'processed': {'tac.picarro.1minute.100m.min.dat': {'tac.picarro.1minute.100m.min_ch4': '4b971e7a-516d-4dcf-af2f-7e97dab70662',\n",
       "               'tac.picarro.1minute.100m.min_co2': '975db69e-251b-454f-bfef-37b8558964c3'},\n",
       "              'tac.picarro.1minute.100m.test.dat': {'tac.picarro.1minute.100m.test_ch4': 'af7945d5-fd17-4e90-9932-e8b318b08eb5',\n",
       "               'tac.picarro.1minute.100m.test_co2': '52b28667-571a-4f5a-90ec-2b9b629c39a7'},\n",
       "              'hfd.picarro.1minute.100m.min.dat': {'hfd.picarro.1minute.100m.min_ch4': 'cddbb81a-cd07-4bbe-b3c7-2304ed1c032c',\n",
       "               'hfd.picarro.1minute.100m.min_co2': '80033eae-5728-4fa4-8214-d949f909b33d',\n",
       "               'hfd.picarro.1minute.100m.min_co': 'bfde6b8f-6ecb-43de-8cc3-668fed9ec563'},\n",
       "              'hfd.picarro.1minute.50m.min.dat': {'hfd.picarro.1minute.50m.min_ch4': '42add2ff-15f2-4c94-aeea-370486c6616b',\n",
       "               'hfd.picarro.1minute.50m.min_co2': '398b6b38-9f16-4c7b-b653-3603e0fafe88',\n",
       "               'hfd.picarro.1minute.50m.min_co': '4e880d44-1b4a-4679-929c-0004dd40fa84'},\n",
       "              'bsd.picarro.1minute.248m.dat': {'bsd.picarro.1minute.248m_ch4': '1de79490-33c1-4254-a8b7-d17f27697733',\n",
       "               'bsd.picarro.1minute.248m_co2': '4c63eb33-54bc-475d-a6ce-d770ee3de3f5',\n",
       "               'bsd.picarro.1minute.248m_co': '130eff07-7500-4c4d-8b51-74260e558f4f'}}})"
      ]
     },
     "execution_count": 1,
     "metadata": {},
     "output_type": "execute_result"
    }
   ],
   "source": [
    "decc_results"
   ]
  },
  {
   "cell_type": "markdown",
   "metadata": {},
   "source": [
    "We can now process the AGAGE data. The functions that process the AGAGE data expect data to have an accompanying precisions file. For each data file we create a tuple with the data filename and the precisions filename. A simpler method of uploading these file types is planne."
   ]
  },
  {
   "cell_type": "markdown",
   "metadata": {},
   "source": [
    "We must create a `tuple` for each pair\n",
    "\n",
    "```python\n",
    "list_of_tuples = [(data_filepath, precision_filepath), (d1, p1), (d2, p2), ...]\n",
    "```"
   ]
  },
  {
   "cell_type": "code",
   "execution_count": 7,
   "metadata": {
    "execution": {
     "iopub.execute_input": "2020-11-10T17:16:00.109117Z",
     "iopub.status.busy": "2020-11-10T17:16:00.107650Z",
     "iopub.status.idle": "2020-11-10T17:16:00.109818Z",
     "shell.execute_reply": "2020-11-10T17:16:00.110295Z"
    }
   },
   "outputs": [],
   "source": [
    "agage_tuples = [('../data/AGAGE/capegrim-medusa.18.C', '../data/AGAGE/capegrim-medusa.18.precisions.C'), \n",
    "                ('../data/AGAGE/trinidadhead.01.C', '../data/AGAGE/trinidadhead.01.precisions.C')]"
   ]
  },
  {
   "cell_type": "markdown",
   "metadata": {},
   "source": [
    "Then we process the files as we did before the with DECC data, but this time changing the data type to the `GCWERKS` type and the network to `AGAGE`."
   ]
  },
  {
   "cell_type": "code",
   "execution_count": 8,
   "metadata": {
    "execution": {
     "iopub.execute_input": "2020-11-10T17:16:00.117278Z",
     "iopub.status.busy": "2020-11-10T17:16:00.115854Z",
     "iopub.status.idle": "2020-11-10T17:16:02.171765Z",
     "shell.execute_reply": "2020-11-10T17:16:02.172387Z"
    }
   },
   "outputs": [
    {
     "name": "stdout",
     "output_type": "stream",
     "text": [
      "\r",
      "  0%|          | 0/2 [00:00<?, ?it/s]"
     ]
    },
    {
     "name": "stdout",
     "output_type": "stream",
     "text": [
      "\r",
      "Processing: capegrim-medusa.18.C:   0%|          | 0/2 [00:00<?, ?it/s]"
     ]
    },
    {
     "name": "stdout",
     "output_type": "stream",
     "text": [
      "\r",
      "Processing: capegrim-medusa.18.C:  50%|█████     | 1/2 [00:01<00:01,  1.78s/it]"
     ]
    },
    {
     "name": "stdout",
     "output_type": "stream",
     "text": [
      "\r",
      "Processing: trinidadhead.01.C:  50%|█████     | 1/2 [00:01<00:01,  1.78s/it]   "
     ]
    },
    {
     "name": "stdout",
     "output_type": "stream",
     "text": [
      "\r",
      "Processing: trinidadhead.01.C: 100%|██████████| 2/2 [00:02<00:00,  1.33s/it]"
     ]
    },
    {
     "name": "stdout",
     "output_type": "stream",
     "text": [
      "\r",
      "Processing: trinidadhead.01.C: 100%|██████████| 2/2 [00:02<00:00,  1.03s/it]"
     ]
    },
    {
     "name": "stdout",
     "output_type": "stream",
     "text": [
      "\n"
     ]
    }
   ],
   "source": [
    "agage_results = ObsSurface.read_file(filepath=agage_tuples, data_type=\"GCWERKS\", network=\"AGAGE\")"
   ]
  },
  {
   "cell_type": "markdown",
   "metadata": {},
   "source": [
    "When viewing `agage_results` there will be a large number of Datasource UUIDs shown due to the large number of gases in each data file"
   ]
  },
  {
   "cell_type": "code",
   "execution_count": 9,
   "metadata": {
    "execution": {
     "iopub.execute_input": "2020-11-10T17:16:02.179671Z",
     "iopub.status.busy": "2020-11-10T17:16:02.178988Z",
     "iopub.status.idle": "2020-11-10T17:16:02.184924Z",
     "shell.execute_reply": "2020-11-10T17:16:02.184296Z"
    }
   },
   "outputs": [
    {
     "data": {
      "text/plain": [
       "defaultdict(dict,\n",
       "            {'processed': {'capegrim-medusa.18.C': {'capegrim-medusa.18_NF3_75m_4': '55d43493-5204-41e8-9ecf-b0ffefa9a271',\n",
       "               'capegrim-medusa.18_CF4_75m_4': 'f557523f-a160-4f87-9ac8-ee24d6b867b6',\n",
       "               'capegrim-medusa.18_PFC-116_75m_4': 'ad1ef4c8-3730-4692-841f-4ff2a693380c',\n",
       "               'capegrim-medusa.18_PFC-218_75m_4': '57c96751-f76c-4928-bafd-af1b5c84c0f6',\n",
       "               'capegrim-medusa.18_PFC-318_75m_4': 'd32a8c89-e783-4f27-b868-57e6418f2afd',\n",
       "               'capegrim-medusa.18_C4F10_75m_4': 'fc163b7a-81ab-41bf-8a09-fe6cddf8f780',\n",
       "               'capegrim-medusa.18_C6F14_75m_4': '173a809e-811f-4dd4-b6e4-20c536499ba2',\n",
       "               'capegrim-medusa.18_SF6_75m_4': 'b8cf6192-5d3b-4f60-b6e2-ad33443e7066',\n",
       "               'capegrim-medusa.18_SO2F2_75m_4': 'd32bb7af-9e79-453f-b177-f30dea82fc39',\n",
       "               'capegrim-medusa.18_SF5CF3_75m_4': '349c6ec9-ca34-4f68-8681-cff758c27ab0',\n",
       "               'capegrim-medusa.18_HFC-23_75m_4': '2b898aa4-b0fb-45a1-8e5c-89a0d6214ea2',\n",
       "               'capegrim-medusa.18_HFC-32_75m_4': 'b3be0d09-8417-4cdb-8925-7903a03647ab',\n",
       "               'capegrim-medusa.18_HFC-125_75m_4': 'a3dc751c-6312-44e8-9882-e01643778ef7',\n",
       "               'capegrim-medusa.18_HFC-134a_75m_4': '90591c3d-c15c-4f92-afa1-c270b544f8e4',\n",
       "               'capegrim-medusa.18_HFC-143a_75m_4': 'b9e86787-5efa-45d9-82de-a0c656d7360e',\n",
       "               'capegrim-medusa.18_HFC-152a_75m_4': 'cf0df23b-93ea-45e2-9b65-9b4e0f721994',\n",
       "               'capegrim-medusa.18_HFC-227ea_75m_4': '5a832708-a579-434e-82b3-d8db650c7ce7',\n",
       "               'capegrim-medusa.18_HFC-236fa_75m_4': '9d1cc407-3174-4279-8e44-49bec9ea842f',\n",
       "               'capegrim-medusa.18_HFC-245fa_75m_4': 'b6384a3d-5dd6-493d-8820-c04501790849',\n",
       "               'capegrim-medusa.18_HFC-365mfc_75m_4': '73844bda-bc86-4718-aaac-6a0ff56cc675',\n",
       "               'capegrim-medusa.18_HFC-4310mee_75m_4': 'b91a455c-a163-42f6-a504-ffd1056211db',\n",
       "               'capegrim-medusa.18_HCFC-22_75m_4': '0ac3df4e-1c33-485e-9a8f-5bb255254ad7',\n",
       "               'capegrim-medusa.18_HCFC-124_75m_4': '348e7765-ac86-413e-99d7-a14105e4dda2',\n",
       "               'capegrim-medusa.18_HCFC-132b_75m_4': '54c823de-d407-4750-aabf-03aa94510998',\n",
       "               'capegrim-medusa.18_HCFC-133a_75m_4': 'a5cd616e-2208-4b89-b6e0-0e0e6e582ee8',\n",
       "               'capegrim-medusa.18_HCFC-141b_75m_4': '75a1ef2b-44b6-4fcd-8e4d-a7b044b849ae',\n",
       "               'capegrim-medusa.18_HCFC-142b_75m_4': 'abbc5474-6e40-420f-8869-5afea80d219e',\n",
       "               'capegrim-medusa.18_CFC-11_75m_4': 'fc1b14d8-616e-42be-b223-052b0ff11118',\n",
       "               'capegrim-medusa.18_CFC-12_75m_4': '93601446-57f2-446e-958d-7db2163f676c',\n",
       "               'capegrim-medusa.18_CFC-13_75m_4': 'cfef1c0b-6c10-42f7-8647-1b3ce4777b98',\n",
       "               'capegrim-medusa.18_CFC-112_75m_4': '62961ba5-dfed-427b-b6fc-455605fd886f',\n",
       "               'capegrim-medusa.18_CFC-113_75m_4': 'fa7b8981-c78c-4018-8555-5cd833592d93',\n",
       "               'capegrim-medusa.18_CFC-114_75m_4': '1557a8d6-cfc8-4f32-88d9-0c014650f167',\n",
       "               'capegrim-medusa.18_CFC-115_75m_4': 'f03ed99f-9a81-4d5b-a91f-411df8b587ce',\n",
       "               'capegrim-medusa.18_H-1211_75m_4': '11a2fcf1-4b58-4cdf-8066-8493e47c1d51',\n",
       "               'capegrim-medusa.18_H-1301_75m_4': '042b6fbe-0e61-41cd-a050-5b4a5e35477b',\n",
       "               'capegrim-medusa.18_H-2402_75m_4': '92ab98ec-c428-4ed4-a5fc-eaa0f7560dcd',\n",
       "               'capegrim-medusa.18_CH3Cl_75m_4': '4159be83-ec60-4fae-9f5e-7ba161ff063c',\n",
       "               'capegrim-medusa.18_CH3Br_75m_4': '6592d52b-dfbd-44f6-b7a9-073a7a032fc0',\n",
       "               'capegrim-medusa.18_CH3I_75m_4': 'af3e3f99-fa9d-486c-9530-e8f06d39a4af',\n",
       "               'capegrim-medusa.18_CH2Cl2_75m_4': 'eb17a106-8bfe-43a9-b318-efc74f96da9c',\n",
       "               'capegrim-medusa.18_CHCl3_75m_4': '7e2d403c-f44f-4c98-a71d-b5a762c35ab2',\n",
       "               'capegrim-medusa.18_CCl4_75m_4': '1d2a6fd9-bfe3-455e-803d-fc970a770382',\n",
       "               'capegrim-medusa.18_CH2Br2_75m_4': '2db82e31-6788-406f-918c-185031adb87e',\n",
       "               'capegrim-medusa.18_CHBr3_75m_4': '38864716-1805-457d-9eb1-69189ca2e946',\n",
       "               'capegrim-medusa.18_CH3CCl3_75m_4': '9d102209-b26f-4e1e-a7f6-4531151e5423',\n",
       "               'capegrim-medusa.18_TCE_75m_4': '5d9be9d6-ed5d-45c4-a3f7-27d82d031ea3',\n",
       "               'capegrim-medusa.18_PCE_75m_4': '13e23206-2715-4188-94ab-047af1b3377b',\n",
       "               'capegrim-medusa.18_ethyne_75m_4': '35114d7c-03a5-45ad-b178-937d01d749a7',\n",
       "               'capegrim-medusa.18_ethane_75m_4': 'ddad0733-a6d3-4e5c-8f2c-04188176e462',\n",
       "               'capegrim-medusa.18_propane_75m_4': '7e34f866-872a-4bdf-b90e-b29da237484a',\n",
       "               'capegrim-medusa.18_c-propane_75m_4': '8c99e537-2d14-4d18-948a-57123bbdb527',\n",
       "               'capegrim-medusa.18_benzene_75m_4': 'c7aed46c-1bd1-46bc-99db-d09c90ed971c',\n",
       "               'capegrim-medusa.18_toluene_75m_4': '52ea118d-3af8-4d6b-8f17-e730e194bc1a',\n",
       "               'capegrim-medusa.18_COS_75m_4': 'e3e70ba6-697f-4019-8707-817ddaa44147',\n",
       "               'capegrim-medusa.18_desflurane_75m_4': '3035db8e-b613-41b2-85dc-b288a48a6955'},\n",
       "              'trinidadhead.01.C': {'trinidadhead.01_CH4_any': '3c0d0260-ed95-45ba-b656-8b5e44f8bd73',\n",
       "               'trinidadhead.01_CFC-12_any': '8893b3f0-b694-4601-9ab9-80f935d18caf',\n",
       "               'trinidadhead.01_N2O_any': '838f582b-a598-4a00-bb7f-49836250bafd',\n",
       "               'trinidadhead.01_CFC-11_any': '711e7e86-7ed1-4d22-ba77-46cb0ed96fdb',\n",
       "               'trinidadhead.01_CFC-113_any': '7e18991c-ba4e-4f5a-8eb9-4d819cf0e0b2',\n",
       "               'trinidadhead.01_CHCl3_any': 'c1bddd00-3cbf-4fe9-82c9-dba6f6badbe5',\n",
       "               'trinidadhead.01_CH3CCl3_any': '8eebe910-eb0e-476b-92f1-57b2c2aab2b3',\n",
       "               'trinidadhead.01_CCl4_any': 'dd5c3a37-031c-4ee0-81df-309be28d784d'}}})"
      ]
     },
     "execution_count": 1,
     "metadata": {},
     "output_type": "execute_result"
    }
   ],
   "source": [
    "agage_results"
   ]
  },
  {
   "cell_type": "markdown",
   "metadata": {},
   "source": [
    "## 3. Visualising the object store"
   ]
  },
  {
   "cell_type": "markdown",
   "metadata": {},
   "source": [
    "Now that we have a simple object store created we can view the objects within it in a simple force graph model. To do this we use the `view_store` function from the `objectstore` submodule. Note that the cell may take a few moments to load as the force graph is created.\n",
    "\n",
    "In the force graph the central blue node is the `ObsSurface` node. Associated with this node are all the data processed by it. The next node in the topology are networks, shown in green. In the graph you will see `DECC` and `AGAGE` nodes. From these you'll see site nodes in red and then individual datasources in orange."
   ]
  },
  {
   "cell_type": "markdown",
   "metadata": {},
   "source": [
    "<div class=\"alert alert-info\">\n",
    "    The object store visualisation created by this function is commented out here and won't be visible in the documentation but can be uncommented and run when you use the notebook version.\n",
    "</div>"
   ]
  },
  {
   "cell_type": "code",
   "execution_count": 10,
   "metadata": {
    "execution": {
     "iopub.execute_input": "2020-11-10T17:16:02.189863Z",
     "iopub.status.busy": "2020-11-10T17:16:02.188631Z",
     "iopub.status.idle": "2020-11-10T17:16:02.190519Z",
     "shell.execute_reply": "2020-11-10T17:16:02.190976Z"
    }
   },
   "outputs": [],
   "source": [
    "# visualise_store()"
   ]
  },
  {
   "cell_type": "markdown",
   "metadata": {},
   "source": [
    "Now we know we have this data in the object store we can search it and retrieve data from it."
   ]
  },
  {
   "cell_type": "markdown",
   "metadata": {},
   "source": [
    "## 4. Retrieving data "
   ]
  },
  {
   "cell_type": "markdown",
   "metadata": {},
   "source": [
    "To retrieve data from the object store we can use the `get_single_site` function from the `localclient` submodule. This allows us to retrieve and view the data stored."
   ]
  },
  {
   "cell_type": "code",
   "execution_count": 11,
   "metadata": {
    "execution": {
     "iopub.execute_input": "2020-11-10T17:16:02.195418Z",
     "iopub.status.busy": "2020-11-10T17:16:02.194842Z",
     "iopub.status.idle": "2020-11-10T17:16:02.469782Z",
     "shell.execute_reply": "2020-11-10T17:16:02.469222Z"
    }
   },
   "outputs": [],
   "source": [
    "data = get_single_site(site=\"hfd\", species=\"co\", network=\"AGAGE\")"
   ]
  },
  {
   "cell_type": "markdown",
   "metadata": {},
   "source": [
    "If we view data we expect two `xarray.Dataset` objects to have been returned in in a `list`"
   ]
  },
  {
   "cell_type": "code",
   "execution_count": 12,
   "metadata": {
    "execution": {
     "iopub.execute_input": "2020-11-10T17:16:02.475713Z",
     "iopub.status.busy": "2020-11-10T17:16:02.474964Z",
     "iopub.status.idle": "2020-11-10T17:16:02.484645Z",
     "shell.execute_reply": "2020-11-10T17:16:02.485525Z"
    }
   },
   "outputs": [
    {
     "data": {
      "text/plain": [
       "[<xarray.Dataset>\n",
       " Dimensions:    (time: 32)\n",
       " Coordinates:\n",
       "   * time       (time) datetime64[ns] 2013-12-04T14:02:30 ... 2019-05-21T15:46:30\n",
       " Data variables:\n",
       "     mf         (time) float64 214.3 216.2 147.0 135.3 ... 123.7 133.7 118.5\n",
       "     co_stdev   (time) float64 4.081 3.634 3.887 4.11 ... 3.276 4.28 3.603 4.442\n",
       "     co_n_meas  (time) float64 19.0 19.0 19.0 19.0 19.0 ... 16.0 15.0 16.0 16.0\n",
       " Attributes:\n",
       "     data_owner:           Simon O'Doherty\n",
       "     data_owner_email:     s.odoherty@bristol.ac.uk\n",
       "     inlet_height_magl:    100m\n",
       "     comment:              Cavity ring-down measurements. Output from GCWerks\n",
       "     Conditions of use:    Ensure that you contact the data owner at the outse...\n",
       "     Source:               In situ measurements of air\n",
       "     Conventions:          CF-1.6\n",
       "     File created:         2020-11-10 17:15:59.741491+00:00\n",
       "     Processed by:         auto@hugs-cloud.com\n",
       "     species:              CO\n",
       "     station_longitude:    0.23048\n",
       "     station_latitude:     50.97675\n",
       "     station_long_name:    Heathfield, UK\n",
       "     station_height_masl:  150.0\n",
       "     scale:                WMO-X2014A,\n",
       " <xarray.Dataset>\n",
       " Dimensions:    (time: 35)\n",
       " Coordinates:\n",
       "   * time       (time) datetime64[ns] 2013-11-23T12:28:30 ... 2020-06-24T09:41:30\n",
       " Data variables:\n",
       "     mf         (time) float64 181.7 190.6 242.6 196.4 ... 93.59 86.76 129.7\n",
       "     co_stdev   (time) float64 5.158 4.641 3.602 5.487 ... 3.672 4.666 4.111\n",
       "     co_n_meas  (time) float64 19.0 19.0 19.0 19.0 19.0 ... 12.0 12.0 12.0 12.0\n",
       " Attributes:\n",
       "     data_owner:           Simon O'Doherty\n",
       "     data_owner_email:     s.odoherty@bristol.ac.uk\n",
       "     inlet_height_magl:    50m\n",
       "     comment:              Cavity ring-down measurements. Output from GCWerks\n",
       "     Conditions of use:    Ensure that you contact the data owner at the outse...\n",
       "     Source:               In situ measurements of air\n",
       "     Conventions:          CF-1.6\n",
       "     File created:         2020-11-10 17:15:59.890969+00:00\n",
       "     Processed by:         auto@hugs-cloud.com\n",
       "     species:              CO\n",
       "     station_longitude:    0.23048\n",
       "     station_latitude:     50.97675\n",
       "     station_long_name:    Heathfield, UK\n",
       "     station_height_masl:  150.0\n",
       "     scale:                WMO-X2014A]"
      ]
     },
     "execution_count": 1,
     "metadata": {},
     "output_type": "execute_result"
    }
   ],
   "source": [
    "data"
   ]
  },
  {
   "cell_type": "code",
   "execution_count": 13,
   "metadata": {
    "execution": {
     "iopub.execute_input": "2020-11-10T17:16:02.493582Z",
     "iopub.status.busy": "2020-11-10T17:16:02.492950Z",
     "iopub.status.idle": "2020-11-10T17:16:02.496111Z",
     "shell.execute_reply": "2020-11-10T17:16:02.496720Z"
    }
   },
   "outputs": [
    {
     "data": {
      "text/plain": [
       "2"
      ]
     },
     "execution_count": 1,
     "metadata": {},
     "output_type": "execute_result"
    }
   ],
   "source": [
    "len(data)"
   ]
  },
  {
   "cell_type": "markdown",
   "metadata": {},
   "source": [
    "We get two datasets for CO data from Tacolneston as there are two inlet measurement heights for this species at this site. We can quickly visualise the data we have stored using the plotting capabilities in `xarray`."
   ]
  },
  {
   "cell_type": "markdown",
   "metadata": {},
   "source": [
    "First we tell `matplotlib` that we are plotting inside a Jupyter notebook, this ensures a plot with controls is created."
   ]
  },
  {
   "cell_type": "code",
   "execution_count": 14,
   "metadata": {
    "execution": {
     "iopub.execute_input": "2020-11-10T17:16:02.501775Z",
     "iopub.status.busy": "2020-11-10T17:16:02.501197Z",
     "iopub.status.idle": "2020-11-10T17:16:03.540571Z",
     "shell.execute_reply": "2020-11-10T17:16:03.539451Z"
    }
   },
   "outputs": [
    {
     "name": "stderr",
     "output_type": "stream",
     "text": [
      "INFO:matplotlib.font_manager:Generating new fontManager, this may take some time...\n"
     ]
    }
   ],
   "source": [
    "%matplotlib notebook"
   ]
  },
  {
   "cell_type": "code",
   "execution_count": 15,
   "metadata": {
    "execution": {
     "iopub.execute_input": "2020-11-10T17:16:03.546109Z",
     "iopub.status.busy": "2020-11-10T17:16:03.545472Z",
     "iopub.status.idle": "2020-11-10T17:16:03.591918Z",
     "shell.execute_reply": "2020-11-10T17:16:03.591351Z"
    }
   },
   "outputs": [
    {
     "data": {
      "application/javascript": [
       "/* Put everything inside the global mpl namespace */\n",
       "/* global mpl */\n",
       "window.mpl = {};\n",
       "\n",
       "mpl.get_websocket_type = function () {\n",
       "    if (typeof WebSocket !== 'undefined') {\n",
       "        return WebSocket;\n",
       "    } else if (typeof MozWebSocket !== 'undefined') {\n",
       "        return MozWebSocket;\n",
       "    } else {\n",
       "        alert(\n",
       "            'Your browser does not have WebSocket support. ' +\n",
       "                'Please try Chrome, Safari or Firefox ≥ 6. ' +\n",
       "                'Firefox 4 and 5 are also supported but you ' +\n",
       "                'have to enable WebSockets in about:config.'\n",
       "        );\n",
       "    }\n",
       "};\n",
       "\n",
       "mpl.figure = function (figure_id, websocket, ondownload, parent_element) {\n",
       "    this.id = figure_id;\n",
       "\n",
       "    this.ws = websocket;\n",
       "\n",
       "    this.supports_binary = this.ws.binaryType !== undefined;\n",
       "\n",
       "    if (!this.supports_binary) {\n",
       "        var warnings = document.getElementById('mpl-warnings');\n",
       "        if (warnings) {\n",
       "            warnings.style.display = 'block';\n",
       "            warnings.textContent =\n",
       "                'This browser does not support binary websocket messages. ' +\n",
       "                'Performance may be slow.';\n",
       "        }\n",
       "    }\n",
       "\n",
       "    this.imageObj = new Image();\n",
       "\n",
       "    this.context = undefined;\n",
       "    this.message = undefined;\n",
       "    this.canvas = undefined;\n",
       "    this.rubberband_canvas = undefined;\n",
       "    this.rubberband_context = undefined;\n",
       "    this.format_dropdown = undefined;\n",
       "\n",
       "    this.image_mode = 'full';\n",
       "\n",
       "    this.root = document.createElement('div');\n",
       "    this.root.setAttribute('style', 'display: inline-block');\n",
       "    this._root_extra_style(this.root);\n",
       "\n",
       "    parent_element.appendChild(this.root);\n",
       "\n",
       "    this._init_header(this);\n",
       "    this._init_canvas(this);\n",
       "    this._init_toolbar(this);\n",
       "\n",
       "    var fig = this;\n",
       "\n",
       "    this.waiting = false;\n",
       "\n",
       "    this.ws.onopen = function () {\n",
       "        fig.send_message('supports_binary', { value: fig.supports_binary });\n",
       "        fig.send_message('send_image_mode', {});\n",
       "        if (fig.ratio !== 1) {\n",
       "            fig.send_message('set_dpi_ratio', { dpi_ratio: fig.ratio });\n",
       "        }\n",
       "        fig.send_message('refresh', {});\n",
       "    };\n",
       "\n",
       "    this.imageObj.onload = function () {\n",
       "        if (fig.image_mode === 'full') {\n",
       "            // Full images could contain transparency (where diff images\n",
       "            // almost always do), so we need to clear the canvas so that\n",
       "            // there is no ghosting.\n",
       "            fig.context.clearRect(0, 0, fig.canvas.width, fig.canvas.height);\n",
       "        }\n",
       "        fig.context.drawImage(fig.imageObj, 0, 0);\n",
       "    };\n",
       "\n",
       "    this.imageObj.onunload = function () {\n",
       "        fig.ws.close();\n",
       "    };\n",
       "\n",
       "    this.ws.onmessage = this._make_on_message_function(this);\n",
       "\n",
       "    this.ondownload = ondownload;\n",
       "};\n",
       "\n",
       "mpl.figure.prototype._init_header = function () {\n",
       "    var titlebar = document.createElement('div');\n",
       "    titlebar.classList =\n",
       "        'ui-dialog-titlebar ui-widget-header ui-corner-all ui-helper-clearfix';\n",
       "    var titletext = document.createElement('div');\n",
       "    titletext.classList = 'ui-dialog-title';\n",
       "    titletext.setAttribute(\n",
       "        'style',\n",
       "        'width: 100%; text-align: center; padding: 3px;'\n",
       "    );\n",
       "    titlebar.appendChild(titletext);\n",
       "    this.root.appendChild(titlebar);\n",
       "    this.header = titletext;\n",
       "};\n",
       "\n",
       "mpl.figure.prototype._canvas_extra_style = function (_canvas_div) {};\n",
       "\n",
       "mpl.figure.prototype._root_extra_style = function (_canvas_div) {};\n",
       "\n",
       "mpl.figure.prototype._init_canvas = function () {\n",
       "    var fig = this;\n",
       "\n",
       "    var canvas_div = (this.canvas_div = document.createElement('div'));\n",
       "    canvas_div.setAttribute(\n",
       "        'style',\n",
       "        'border: 1px solid #ddd;' +\n",
       "            'box-sizing: content-box;' +\n",
       "            'clear: both;' +\n",
       "            'min-height: 1px;' +\n",
       "            'min-width: 1px;' +\n",
       "            'outline: 0;' +\n",
       "            'overflow: hidden;' +\n",
       "            'position: relative;' +\n",
       "            'resize: both;'\n",
       "    );\n",
       "\n",
       "    function on_keyboard_event_closure(name) {\n",
       "        return function (event) {\n",
       "            return fig.key_event(event, name);\n",
       "        };\n",
       "    }\n",
       "\n",
       "    canvas_div.addEventListener(\n",
       "        'keydown',\n",
       "        on_keyboard_event_closure('key_press')\n",
       "    );\n",
       "    canvas_div.addEventListener(\n",
       "        'keyup',\n",
       "        on_keyboard_event_closure('key_release')\n",
       "    );\n",
       "\n",
       "    this._canvas_extra_style(canvas_div);\n",
       "    this.root.appendChild(canvas_div);\n",
       "\n",
       "    var canvas = (this.canvas = document.createElement('canvas'));\n",
       "    canvas.classList.add('mpl-canvas');\n",
       "    canvas.setAttribute('style', 'box-sizing: content-box;');\n",
       "\n",
       "    this.context = canvas.getContext('2d');\n",
       "\n",
       "    var backingStore =\n",
       "        this.context.backingStorePixelRatio ||\n",
       "        this.context.webkitBackingStorePixelRatio ||\n",
       "        this.context.mozBackingStorePixelRatio ||\n",
       "        this.context.msBackingStorePixelRatio ||\n",
       "        this.context.oBackingStorePixelRatio ||\n",
       "        this.context.backingStorePixelRatio ||\n",
       "        1;\n",
       "\n",
       "    this.ratio = (window.devicePixelRatio || 1) / backingStore;\n",
       "    if (this.ratio !== 1) {\n",
       "        fig.send_message('set_dpi_ratio', { dpi_ratio: this.ratio });\n",
       "    }\n",
       "\n",
       "    var rubberband_canvas = (this.rubberband_canvas = document.createElement(\n",
       "        'canvas'\n",
       "    ));\n",
       "    rubberband_canvas.setAttribute(\n",
       "        'style',\n",
       "        'box-sizing: content-box; position: absolute; left: 0; top: 0; z-index: 1;'\n",
       "    );\n",
       "\n",
       "    var resizeObserver = new ResizeObserver(function (entries) {\n",
       "        var nentries = entries.length;\n",
       "        for (var i = 0; i < nentries; i++) {\n",
       "            var entry = entries[i];\n",
       "            var width, height;\n",
       "            if (entry.contentBoxSize) {\n",
       "                if (entry.contentBoxSize instanceof Array) {\n",
       "                    // Chrome 84 implements new version of spec.\n",
       "                    width = entry.contentBoxSize[0].inlineSize;\n",
       "                    height = entry.contentBoxSize[0].blockSize;\n",
       "                } else {\n",
       "                    // Firefox implements old version of spec.\n",
       "                    width = entry.contentBoxSize.inlineSize;\n",
       "                    height = entry.contentBoxSize.blockSize;\n",
       "                }\n",
       "            } else {\n",
       "                // Chrome <84 implements even older version of spec.\n",
       "                width = entry.contentRect.width;\n",
       "                height = entry.contentRect.height;\n",
       "            }\n",
       "\n",
       "            // Keep the size of the canvas and rubber band canvas in sync with\n",
       "            // the canvas container.\n",
       "            if (entry.devicePixelContentBoxSize) {\n",
       "                // Chrome 84 implements new version of spec.\n",
       "                canvas.setAttribute(\n",
       "                    'width',\n",
       "                    entry.devicePixelContentBoxSize[0].inlineSize\n",
       "                );\n",
       "                canvas.setAttribute(\n",
       "                    'height',\n",
       "                    entry.devicePixelContentBoxSize[0].blockSize\n",
       "                );\n",
       "            } else {\n",
       "                canvas.setAttribute('width', width * fig.ratio);\n",
       "                canvas.setAttribute('height', height * fig.ratio);\n",
       "            }\n",
       "            canvas.setAttribute(\n",
       "                'style',\n",
       "                'width: ' + width + 'px; height: ' + height + 'px;'\n",
       "            );\n",
       "\n",
       "            rubberband_canvas.setAttribute('width', width);\n",
       "            rubberband_canvas.setAttribute('height', height);\n",
       "\n",
       "            // And update the size in Python. We ignore the initial 0/0 size\n",
       "            // that occurs as the element is placed into the DOM, which should\n",
       "            // otherwise not happen due to the minimum size styling.\n",
       "            if (width != 0 && height != 0) {\n",
       "                fig.request_resize(width, height);\n",
       "            }\n",
       "        }\n",
       "    });\n",
       "    resizeObserver.observe(canvas_div);\n",
       "\n",
       "    function on_mouse_event_closure(name) {\n",
       "        return function (event) {\n",
       "            return fig.mouse_event(event, name);\n",
       "        };\n",
       "    }\n",
       "\n",
       "    rubberband_canvas.addEventListener(\n",
       "        'mousedown',\n",
       "        on_mouse_event_closure('button_press')\n",
       "    );\n",
       "    rubberband_canvas.addEventListener(\n",
       "        'mouseup',\n",
       "        on_mouse_event_closure('button_release')\n",
       "    );\n",
       "    // Throttle sequential mouse events to 1 every 20ms.\n",
       "    rubberband_canvas.addEventListener(\n",
       "        'mousemove',\n",
       "        on_mouse_event_closure('motion_notify')\n",
       "    );\n",
       "\n",
       "    rubberband_canvas.addEventListener(\n",
       "        'mouseenter',\n",
       "        on_mouse_event_closure('figure_enter')\n",
       "    );\n",
       "    rubberband_canvas.addEventListener(\n",
       "        'mouseleave',\n",
       "        on_mouse_event_closure('figure_leave')\n",
       "    );\n",
       "\n",
       "    canvas_div.addEventListener('wheel', function (event) {\n",
       "        if (event.deltaY < 0) {\n",
       "            event.step = 1;\n",
       "        } else {\n",
       "            event.step = -1;\n",
       "        }\n",
       "        on_mouse_event_closure('scroll')(event);\n",
       "    });\n",
       "\n",
       "    canvas_div.appendChild(canvas);\n",
       "    canvas_div.appendChild(rubberband_canvas);\n",
       "\n",
       "    this.rubberband_context = rubberband_canvas.getContext('2d');\n",
       "    this.rubberband_context.strokeStyle = '#000000';\n",
       "\n",
       "    this._resize_canvas = function (width, height, forward) {\n",
       "        if (forward) {\n",
       "            canvas_div.style.width = width + 'px';\n",
       "            canvas_div.style.height = height + 'px';\n",
       "        }\n",
       "    };\n",
       "\n",
       "    // Disable right mouse context menu.\n",
       "    this.rubberband_canvas.addEventListener('contextmenu', function (_e) {\n",
       "        event.preventDefault();\n",
       "        return false;\n",
       "    });\n",
       "\n",
       "    function set_focus() {\n",
       "        canvas.focus();\n",
       "        canvas_div.focus();\n",
       "    }\n",
       "\n",
       "    window.setTimeout(set_focus, 100);\n",
       "};\n",
       "\n",
       "mpl.figure.prototype._init_toolbar = function () {\n",
       "    var fig = this;\n",
       "\n",
       "    var toolbar = document.createElement('div');\n",
       "    toolbar.classList = 'mpl-toolbar';\n",
       "    this.root.appendChild(toolbar);\n",
       "\n",
       "    function on_click_closure(name) {\n",
       "        return function (_event) {\n",
       "            return fig.toolbar_button_onclick(name);\n",
       "        };\n",
       "    }\n",
       "\n",
       "    function on_mouseover_closure(tooltip) {\n",
       "        return function (event) {\n",
       "            if (!event.currentTarget.disabled) {\n",
       "                return fig.toolbar_button_onmouseover(tooltip);\n",
       "            }\n",
       "        };\n",
       "    }\n",
       "\n",
       "    fig.buttons = {};\n",
       "    var buttonGroup = document.createElement('div');\n",
       "    buttonGroup.classList = 'mpl-button-group';\n",
       "    for (var toolbar_ind in mpl.toolbar_items) {\n",
       "        var name = mpl.toolbar_items[toolbar_ind][0];\n",
       "        var tooltip = mpl.toolbar_items[toolbar_ind][1];\n",
       "        var image = mpl.toolbar_items[toolbar_ind][2];\n",
       "        var method_name = mpl.toolbar_items[toolbar_ind][3];\n",
       "\n",
       "        if (!name) {\n",
       "            /* Instead of a spacer, we start a new button group. */\n",
       "            if (buttonGroup.hasChildNodes()) {\n",
       "                toolbar.appendChild(buttonGroup);\n",
       "            }\n",
       "            buttonGroup = document.createElement('div');\n",
       "            buttonGroup.classList = 'mpl-button-group';\n",
       "            continue;\n",
       "        }\n",
       "\n",
       "        var button = (fig.buttons[name] = document.createElement('button'));\n",
       "        button.classList = 'mpl-widget';\n",
       "        button.setAttribute('role', 'button');\n",
       "        button.setAttribute('aria-disabled', 'false');\n",
       "        button.addEventListener('click', on_click_closure(method_name));\n",
       "        button.addEventListener('mouseover', on_mouseover_closure(tooltip));\n",
       "\n",
       "        var icon_img = document.createElement('img');\n",
       "        icon_img.src = '_images/' + image + '.png';\n",
       "        icon_img.srcset = '_images/' + image + '_large.png 2x';\n",
       "        icon_img.alt = tooltip;\n",
       "        button.appendChild(icon_img);\n",
       "\n",
       "        buttonGroup.appendChild(button);\n",
       "    }\n",
       "\n",
       "    if (buttonGroup.hasChildNodes()) {\n",
       "        toolbar.appendChild(buttonGroup);\n",
       "    }\n",
       "\n",
       "    var fmt_picker = document.createElement('select');\n",
       "    fmt_picker.classList = 'mpl-widget';\n",
       "    toolbar.appendChild(fmt_picker);\n",
       "    this.format_dropdown = fmt_picker;\n",
       "\n",
       "    for (var ind in mpl.extensions) {\n",
       "        var fmt = mpl.extensions[ind];\n",
       "        var option = document.createElement('option');\n",
       "        option.selected = fmt === mpl.default_extension;\n",
       "        option.innerHTML = fmt;\n",
       "        fmt_picker.appendChild(option);\n",
       "    }\n",
       "\n",
       "    var status_bar = document.createElement('span');\n",
       "    status_bar.classList = 'mpl-message';\n",
       "    toolbar.appendChild(status_bar);\n",
       "    this.message = status_bar;\n",
       "};\n",
       "\n",
       "mpl.figure.prototype.request_resize = function (x_pixels, y_pixels) {\n",
       "    // Request matplotlib to resize the figure. Matplotlib will then trigger a resize in the client,\n",
       "    // which will in turn request a refresh of the image.\n",
       "    this.send_message('resize', { width: x_pixels, height: y_pixels });\n",
       "};\n",
       "\n",
       "mpl.figure.prototype.send_message = function (type, properties) {\n",
       "    properties['type'] = type;\n",
       "    properties['figure_id'] = this.id;\n",
       "    this.ws.send(JSON.stringify(properties));\n",
       "};\n",
       "\n",
       "mpl.figure.prototype.send_draw_message = function () {\n",
       "    if (!this.waiting) {\n",
       "        this.waiting = true;\n",
       "        this.ws.send(JSON.stringify({ type: 'draw', figure_id: this.id }));\n",
       "    }\n",
       "};\n",
       "\n",
       "mpl.figure.prototype.handle_save = function (fig, _msg) {\n",
       "    var format_dropdown = fig.format_dropdown;\n",
       "    var format = format_dropdown.options[format_dropdown.selectedIndex].value;\n",
       "    fig.ondownload(fig, format);\n",
       "};\n",
       "\n",
       "mpl.figure.prototype.handle_resize = function (fig, msg) {\n",
       "    var size = msg['size'];\n",
       "    if (size[0] !== fig.canvas.width || size[1] !== fig.canvas.height) {\n",
       "        fig._resize_canvas(size[0], size[1], msg['forward']);\n",
       "        fig.send_message('refresh', {});\n",
       "    }\n",
       "};\n",
       "\n",
       "mpl.figure.prototype.handle_rubberband = function (fig, msg) {\n",
       "    var x0 = msg['x0'] / fig.ratio;\n",
       "    var y0 = (fig.canvas.height - msg['y0']) / fig.ratio;\n",
       "    var x1 = msg['x1'] / fig.ratio;\n",
       "    var y1 = (fig.canvas.height - msg['y1']) / fig.ratio;\n",
       "    x0 = Math.floor(x0) + 0.5;\n",
       "    y0 = Math.floor(y0) + 0.5;\n",
       "    x1 = Math.floor(x1) + 0.5;\n",
       "    y1 = Math.floor(y1) + 0.5;\n",
       "    var min_x = Math.min(x0, x1);\n",
       "    var min_y = Math.min(y0, y1);\n",
       "    var width = Math.abs(x1 - x0);\n",
       "    var height = Math.abs(y1 - y0);\n",
       "\n",
       "    fig.rubberband_context.clearRect(\n",
       "        0,\n",
       "        0,\n",
       "        fig.canvas.width / fig.ratio,\n",
       "        fig.canvas.height / fig.ratio\n",
       "    );\n",
       "\n",
       "    fig.rubberband_context.strokeRect(min_x, min_y, width, height);\n",
       "};\n",
       "\n",
       "mpl.figure.prototype.handle_figure_label = function (fig, msg) {\n",
       "    // Updates the figure title.\n",
       "    fig.header.textContent = msg['label'];\n",
       "};\n",
       "\n",
       "mpl.figure.prototype.handle_cursor = function (fig, msg) {\n",
       "    var cursor = msg['cursor'];\n",
       "    switch (cursor) {\n",
       "        case 0:\n",
       "            cursor = 'pointer';\n",
       "            break;\n",
       "        case 1:\n",
       "            cursor = 'default';\n",
       "            break;\n",
       "        case 2:\n",
       "            cursor = 'crosshair';\n",
       "            break;\n",
       "        case 3:\n",
       "            cursor = 'move';\n",
       "            break;\n",
       "    }\n",
       "    fig.rubberband_canvas.style.cursor = cursor;\n",
       "};\n",
       "\n",
       "mpl.figure.prototype.handle_message = function (fig, msg) {\n",
       "    fig.message.textContent = msg['message'];\n",
       "};\n",
       "\n",
       "mpl.figure.prototype.handle_draw = function (fig, _msg) {\n",
       "    // Request the server to send over a new figure.\n",
       "    fig.send_draw_message();\n",
       "};\n",
       "\n",
       "mpl.figure.prototype.handle_image_mode = function (fig, msg) {\n",
       "    fig.image_mode = msg['mode'];\n",
       "};\n",
       "\n",
       "mpl.figure.prototype.handle_history_buttons = function (fig, msg) {\n",
       "    for (var key in msg) {\n",
       "        if (!(key in fig.buttons)) {\n",
       "            continue;\n",
       "        }\n",
       "        fig.buttons[key].disabled = !msg[key];\n",
       "        fig.buttons[key].setAttribute('aria-disabled', !msg[key]);\n",
       "    }\n",
       "};\n",
       "\n",
       "mpl.figure.prototype.handle_navigate_mode = function (fig, msg) {\n",
       "    if (msg['mode'] === 'PAN') {\n",
       "        fig.buttons['Pan'].classList.add('active');\n",
       "        fig.buttons['Zoom'].classList.remove('active');\n",
       "    } else if (msg['mode'] === 'ZOOM') {\n",
       "        fig.buttons['Pan'].classList.remove('active');\n",
       "        fig.buttons['Zoom'].classList.add('active');\n",
       "    } else {\n",
       "        fig.buttons['Pan'].classList.remove('active');\n",
       "        fig.buttons['Zoom'].classList.remove('active');\n",
       "    }\n",
       "};\n",
       "\n",
       "mpl.figure.prototype.updated_canvas_event = function () {\n",
       "    // Called whenever the canvas gets updated.\n",
       "    this.send_message('ack', {});\n",
       "};\n",
       "\n",
       "// A function to construct a web socket function for onmessage handling.\n",
       "// Called in the figure constructor.\n",
       "mpl.figure.prototype._make_on_message_function = function (fig) {\n",
       "    return function socket_on_message(evt) {\n",
       "        if (evt.data instanceof Blob) {\n",
       "            /* FIXME: We get \"Resource interpreted as Image but\n",
       "             * transferred with MIME type text/plain:\" errors on\n",
       "             * Chrome.  But how to set the MIME type?  It doesn't seem\n",
       "             * to be part of the websocket stream */\n",
       "            evt.data.type = 'image/png';\n",
       "\n",
       "            /* Free the memory for the previous frames */\n",
       "            if (fig.imageObj.src) {\n",
       "                (window.URL || window.webkitURL).revokeObjectURL(\n",
       "                    fig.imageObj.src\n",
       "                );\n",
       "            }\n",
       "\n",
       "            fig.imageObj.src = (window.URL || window.webkitURL).createObjectURL(\n",
       "                evt.data\n",
       "            );\n",
       "            fig.updated_canvas_event();\n",
       "            fig.waiting = false;\n",
       "            return;\n",
       "        } else if (\n",
       "            typeof evt.data === 'string' &&\n",
       "            evt.data.slice(0, 21) === 'data:image/png;base64'\n",
       "        ) {\n",
       "            fig.imageObj.src = evt.data;\n",
       "            fig.updated_canvas_event();\n",
       "            fig.waiting = false;\n",
       "            return;\n",
       "        }\n",
       "\n",
       "        var msg = JSON.parse(evt.data);\n",
       "        var msg_type = msg['type'];\n",
       "\n",
       "        // Call the  \"handle_{type}\" callback, which takes\n",
       "        // the figure and JSON message as its only arguments.\n",
       "        try {\n",
       "            var callback = fig['handle_' + msg_type];\n",
       "        } catch (e) {\n",
       "            console.log(\n",
       "                \"No handler for the '\" + msg_type + \"' message type: \",\n",
       "                msg\n",
       "            );\n",
       "            return;\n",
       "        }\n",
       "\n",
       "        if (callback) {\n",
       "            try {\n",
       "                // console.log(\"Handling '\" + msg_type + \"' message: \", msg);\n",
       "                callback(fig, msg);\n",
       "            } catch (e) {\n",
       "                console.log(\n",
       "                    \"Exception inside the 'handler_\" + msg_type + \"' callback:\",\n",
       "                    e,\n",
       "                    e.stack,\n",
       "                    msg\n",
       "                );\n",
       "            }\n",
       "        }\n",
       "    };\n",
       "};\n",
       "\n",
       "// from http://stackoverflow.com/questions/1114465/getting-mouse-location-in-canvas\n",
       "mpl.findpos = function (e) {\n",
       "    //this section is from http://www.quirksmode.org/js/events_properties.html\n",
       "    var targ;\n",
       "    if (!e) {\n",
       "        e = window.event;\n",
       "    }\n",
       "    if (e.target) {\n",
       "        targ = e.target;\n",
       "    } else if (e.srcElement) {\n",
       "        targ = e.srcElement;\n",
       "    }\n",
       "    if (targ.nodeType === 3) {\n",
       "        // defeat Safari bug\n",
       "        targ = targ.parentNode;\n",
       "    }\n",
       "\n",
       "    // pageX,Y are the mouse positions relative to the document\n",
       "    var boundingRect = targ.getBoundingClientRect();\n",
       "    var x = e.pageX - (boundingRect.left + document.body.scrollLeft);\n",
       "    var y = e.pageY - (boundingRect.top + document.body.scrollTop);\n",
       "\n",
       "    return { x: x, y: y };\n",
       "};\n",
       "\n",
       "/*\n",
       " * return a copy of an object with only non-object keys\n",
       " * we need this to avoid circular references\n",
       " * http://stackoverflow.com/a/24161582/3208463\n",
       " */\n",
       "function simpleKeys(original) {\n",
       "    return Object.keys(original).reduce(function (obj, key) {\n",
       "        if (typeof original[key] !== 'object') {\n",
       "            obj[key] = original[key];\n",
       "        }\n",
       "        return obj;\n",
       "    }, {});\n",
       "}\n",
       "\n",
       "mpl.figure.prototype.mouse_event = function (event, name) {\n",
       "    var canvas_pos = mpl.findpos(event);\n",
       "\n",
       "    if (name === 'button_press') {\n",
       "        this.canvas.focus();\n",
       "        this.canvas_div.focus();\n",
       "    }\n",
       "\n",
       "    var x = canvas_pos.x * this.ratio;\n",
       "    var y = canvas_pos.y * this.ratio;\n",
       "\n",
       "    this.send_message(name, {\n",
       "        x: x,\n",
       "        y: y,\n",
       "        button: event.button,\n",
       "        step: event.step,\n",
       "        guiEvent: simpleKeys(event),\n",
       "    });\n",
       "\n",
       "    /* This prevents the web browser from automatically changing to\n",
       "     * the text insertion cursor when the button is pressed.  We want\n",
       "     * to control all of the cursor setting manually through the\n",
       "     * 'cursor' event from matplotlib */\n",
       "    event.preventDefault();\n",
       "    return false;\n",
       "};\n",
       "\n",
       "mpl.figure.prototype._key_event_extra = function (_event, _name) {\n",
       "    // Handle any extra behaviour associated with a key event\n",
       "};\n",
       "\n",
       "mpl.figure.prototype.key_event = function (event, name) {\n",
       "    // Prevent repeat events\n",
       "    if (name === 'key_press') {\n",
       "        if (event.which === this._key) {\n",
       "            return;\n",
       "        } else {\n",
       "            this._key = event.which;\n",
       "        }\n",
       "    }\n",
       "    if (name === 'key_release') {\n",
       "        this._key = null;\n",
       "    }\n",
       "\n",
       "    var value = '';\n",
       "    if (event.ctrlKey && event.which !== 17) {\n",
       "        value += 'ctrl+';\n",
       "    }\n",
       "    if (event.altKey && event.which !== 18) {\n",
       "        value += 'alt+';\n",
       "    }\n",
       "    if (event.shiftKey && event.which !== 16) {\n",
       "        value += 'shift+';\n",
       "    }\n",
       "\n",
       "    value += 'k';\n",
       "    value += event.which.toString();\n",
       "\n",
       "    this._key_event_extra(event, name);\n",
       "\n",
       "    this.send_message(name, { key: value, guiEvent: simpleKeys(event) });\n",
       "    return false;\n",
       "};\n",
       "\n",
       "mpl.figure.prototype.toolbar_button_onclick = function (name) {\n",
       "    if (name === 'download') {\n",
       "        this.handle_save(this, null);\n",
       "    } else {\n",
       "        this.send_message('toolbar_button', { name: name });\n",
       "    }\n",
       "};\n",
       "\n",
       "mpl.figure.prototype.toolbar_button_onmouseover = function (tooltip) {\n",
       "    this.message.textContent = tooltip;\n",
       "};\n",
       "mpl.toolbar_items = [[\"Home\", \"Reset original view\", \"fa fa-home icon-home\", \"home\"], [\"Back\", \"Back to previous view\", \"fa fa-arrow-left icon-arrow-left\", \"back\"], [\"Forward\", \"Forward to next view\", \"fa fa-arrow-right icon-arrow-right\", \"forward\"], [\"\", \"\", \"\", \"\"], [\"Pan\", \"Left button pans, Right button zooms\\nx/y fixes axis, CTRL fixes aspect\", \"fa fa-arrows icon-move\", \"pan\"], [\"Zoom\", \"Zoom to rectangle\\nx/y fixes axis, CTRL fixes aspect\", \"fa fa-square-o icon-check-empty\", \"zoom\"], [\"\", \"\", \"\", \"\"], [\"Download\", \"Download plot\", \"fa fa-floppy-o icon-save\", \"download\"]];\n",
       "\n",
       "mpl.extensions = [\"eps\", \"jpeg\", \"pdf\", \"png\", \"ps\", \"raw\", \"svg\", \"tif\"];\n",
       "\n",
       "mpl.default_extension = \"png\";/* global mpl */\n",
       "\n",
       "var comm_websocket_adapter = function (comm) {\n",
       "    // Create a \"websocket\"-like object which calls the given IPython comm\n",
       "    // object with the appropriate methods. Currently this is a non binary\n",
       "    // socket, so there is still some room for performance tuning.\n",
       "    var ws = {};\n",
       "\n",
       "    ws.close = function () {\n",
       "        comm.close();\n",
       "    };\n",
       "    ws.send = function (m) {\n",
       "        //console.log('sending', m);\n",
       "        comm.send(m);\n",
       "    };\n",
       "    // Register the callback with on_msg.\n",
       "    comm.on_msg(function (msg) {\n",
       "        //console.log('receiving', msg['content']['data'], msg);\n",
       "        // Pass the mpl event to the overridden (by mpl) onmessage function.\n",
       "        ws.onmessage(msg['content']['data']);\n",
       "    });\n",
       "    return ws;\n",
       "};\n",
       "\n",
       "mpl.mpl_figure_comm = function (comm, msg) {\n",
       "    // This is the function which gets called when the mpl process\n",
       "    // starts-up an IPython Comm through the \"matplotlib\" channel.\n",
       "\n",
       "    var id = msg.content.data.id;\n",
       "    // Get hold of the div created by the display call when the Comm\n",
       "    // socket was opened in Python.\n",
       "    var element = document.getElementById(id);\n",
       "    var ws_proxy = comm_websocket_adapter(comm);\n",
       "\n",
       "    function ondownload(figure, _format) {\n",
       "        window.open(figure.canvas.toDataURL());\n",
       "    }\n",
       "\n",
       "    var fig = new mpl.figure(id, ws_proxy, ondownload, element);\n",
       "\n",
       "    // Call onopen now - mpl needs it, as it is assuming we've passed it a real\n",
       "    // web socket which is closed, not our websocket->open comm proxy.\n",
       "    ws_proxy.onopen();\n",
       "\n",
       "    fig.parent_element = element;\n",
       "    fig.cell_info = mpl.find_output_cell(\"<div id='\" + id + \"'></div>\");\n",
       "    if (!fig.cell_info) {\n",
       "        console.error('Failed to find cell for figure', id, fig);\n",
       "        return;\n",
       "    }\n",
       "    fig.cell_info[0].output_area.element.one(\n",
       "        'cleared',\n",
       "        { fig: fig },\n",
       "        fig._remove_fig_handler\n",
       "    );\n",
       "};\n",
       "\n",
       "mpl.figure.prototype.handle_close = function (fig, msg) {\n",
       "    var width = fig.canvas.width / fig.ratio;\n",
       "    fig.cell_info[0].output_area.element.off(\n",
       "        'cleared',\n",
       "        fig._remove_fig_handler\n",
       "    );\n",
       "\n",
       "    // Update the output cell to use the data from the current canvas.\n",
       "    fig.push_to_output();\n",
       "    var dataURL = fig.canvas.toDataURL();\n",
       "    // Re-enable the keyboard manager in IPython - without this line, in FF,\n",
       "    // the notebook keyboard shortcuts fail.\n",
       "    IPython.keyboard_manager.enable();\n",
       "    fig.parent_element.innerHTML =\n",
       "        '<img src=\"' + dataURL + '\" width=\"' + width + '\">';\n",
       "    fig.close_ws(fig, msg);\n",
       "};\n",
       "\n",
       "mpl.figure.prototype.close_ws = function (fig, msg) {\n",
       "    fig.send_message('closing', msg);\n",
       "    // fig.ws.close()\n",
       "};\n",
       "\n",
       "mpl.figure.prototype.push_to_output = function (_remove_interactive) {\n",
       "    // Turn the data on the canvas into data in the output cell.\n",
       "    var width = this.canvas.width / this.ratio;\n",
       "    var dataURL = this.canvas.toDataURL();\n",
       "    this.cell_info[1]['text/html'] =\n",
       "        '<img src=\"' + dataURL + '\" width=\"' + width + '\">';\n",
       "};\n",
       "\n",
       "mpl.figure.prototype.updated_canvas_event = function () {\n",
       "    // Tell IPython that the notebook contents must change.\n",
       "    IPython.notebook.set_dirty(true);\n",
       "    this.send_message('ack', {});\n",
       "    var fig = this;\n",
       "    // Wait a second, then push the new image to the DOM so\n",
       "    // that it is saved nicely (might be nice to debounce this).\n",
       "    setTimeout(function () {\n",
       "        fig.push_to_output();\n",
       "    }, 1000);\n",
       "};\n",
       "\n",
       "mpl.figure.prototype._init_toolbar = function () {\n",
       "    var fig = this;\n",
       "\n",
       "    var toolbar = document.createElement('div');\n",
       "    toolbar.classList = 'btn-toolbar';\n",
       "    this.root.appendChild(toolbar);\n",
       "\n",
       "    function on_click_closure(name) {\n",
       "        return function (_event) {\n",
       "            return fig.toolbar_button_onclick(name);\n",
       "        };\n",
       "    }\n",
       "\n",
       "    function on_mouseover_closure(tooltip) {\n",
       "        return function (event) {\n",
       "            if (!event.currentTarget.disabled) {\n",
       "                return fig.toolbar_button_onmouseover(tooltip);\n",
       "            }\n",
       "        };\n",
       "    }\n",
       "\n",
       "    fig.buttons = {};\n",
       "    var buttonGroup = document.createElement('div');\n",
       "    buttonGroup.classList = 'btn-group';\n",
       "    var button;\n",
       "    for (var toolbar_ind in mpl.toolbar_items) {\n",
       "        var name = mpl.toolbar_items[toolbar_ind][0];\n",
       "        var tooltip = mpl.toolbar_items[toolbar_ind][1];\n",
       "        var image = mpl.toolbar_items[toolbar_ind][2];\n",
       "        var method_name = mpl.toolbar_items[toolbar_ind][3];\n",
       "\n",
       "        if (!name) {\n",
       "            /* Instead of a spacer, we start a new button group. */\n",
       "            if (buttonGroup.hasChildNodes()) {\n",
       "                toolbar.appendChild(buttonGroup);\n",
       "            }\n",
       "            buttonGroup = document.createElement('div');\n",
       "            buttonGroup.classList = 'btn-group';\n",
       "            continue;\n",
       "        }\n",
       "\n",
       "        button = fig.buttons[name] = document.createElement('button');\n",
       "        button.classList = 'btn btn-default';\n",
       "        button.href = '#';\n",
       "        button.title = name;\n",
       "        button.innerHTML = '<i class=\"fa ' + image + ' fa-lg\"></i>';\n",
       "        button.addEventListener('click', on_click_closure(method_name));\n",
       "        button.addEventListener('mouseover', on_mouseover_closure(tooltip));\n",
       "        buttonGroup.appendChild(button);\n",
       "    }\n",
       "\n",
       "    if (buttonGroup.hasChildNodes()) {\n",
       "        toolbar.appendChild(buttonGroup);\n",
       "    }\n",
       "\n",
       "    // Add the status bar.\n",
       "    var status_bar = document.createElement('span');\n",
       "    status_bar.classList = 'mpl-message pull-right';\n",
       "    toolbar.appendChild(status_bar);\n",
       "    this.message = status_bar;\n",
       "\n",
       "    // Add the close button to the window.\n",
       "    var buttongrp = document.createElement('div');\n",
       "    buttongrp.classList = 'btn-group inline pull-right';\n",
       "    button = document.createElement('button');\n",
       "    button.classList = 'btn btn-mini btn-primary';\n",
       "    button.href = '#';\n",
       "    button.title = 'Stop Interaction';\n",
       "    button.innerHTML = '<i class=\"fa fa-power-off icon-remove icon-large\"></i>';\n",
       "    button.addEventListener('click', function (_evt) {\n",
       "        fig.handle_close(fig, {});\n",
       "    });\n",
       "    button.addEventListener(\n",
       "        'mouseover',\n",
       "        on_mouseover_closure('Stop Interaction')\n",
       "    );\n",
       "    buttongrp.appendChild(button);\n",
       "    var titlebar = this.root.querySelector('.ui-dialog-titlebar');\n",
       "    titlebar.insertBefore(buttongrp, titlebar.firstChild);\n",
       "};\n",
       "\n",
       "mpl.figure.prototype._remove_fig_handler = function (event) {\n",
       "    var fig = event.data.fig;\n",
       "    fig.close_ws(fig, {});\n",
       "};\n",
       "\n",
       "mpl.figure.prototype._root_extra_style = function (el) {\n",
       "    el.style.boxSizing = 'content-box'; // override notebook setting of border-box.\n",
       "};\n",
       "\n",
       "mpl.figure.prototype._canvas_extra_style = function (el) {\n",
       "    // this is important to make the div 'focusable\n",
       "    el.setAttribute('tabindex', 0);\n",
       "    // reach out to IPython and tell the keyboard manager to turn it's self\n",
       "    // off when our div gets focus\n",
       "\n",
       "    // location in version 3\n",
       "    if (IPython.notebook.keyboard_manager) {\n",
       "        IPython.notebook.keyboard_manager.register_events(el);\n",
       "    } else {\n",
       "        // location in version 2\n",
       "        IPython.keyboard_manager.register_events(el);\n",
       "    }\n",
       "};\n",
       "\n",
       "mpl.figure.prototype._key_event_extra = function (event, _name) {\n",
       "    var manager = IPython.notebook.keyboard_manager;\n",
       "    if (!manager) {\n",
       "        manager = IPython.keyboard_manager;\n",
       "    }\n",
       "\n",
       "    // Check for shift+enter\n",
       "    if (event.shiftKey && event.which === 13) {\n",
       "        this.canvas_div.blur();\n",
       "        // select the cell after this one\n",
       "        var index = IPython.notebook.find_cell_index(this.cell_info[0]);\n",
       "        IPython.notebook.select(index + 1);\n",
       "    }\n",
       "};\n",
       "\n",
       "mpl.figure.prototype.handle_save = function (fig, _msg) {\n",
       "    fig.ondownload(fig, null);\n",
       "};\n",
       "\n",
       "mpl.find_output_cell = function (html_output) {\n",
       "    // Return the cell and output element which can be found *uniquely* in the notebook.\n",
       "    // Note - this is a bit hacky, but it is done because the \"notebook_saving.Notebook\"\n",
       "    // IPython event is triggered only after the cells have been serialised, which for\n",
       "    // our purposes (turning an active figure into a static one), is too late.\n",
       "    var cells = IPython.notebook.get_cells();\n",
       "    var ncells = cells.length;\n",
       "    for (var i = 0; i < ncells; i++) {\n",
       "        var cell = cells[i];\n",
       "        if (cell.cell_type === 'code') {\n",
       "            for (var j = 0; j < cell.output_area.outputs.length; j++) {\n",
       "                var data = cell.output_area.outputs[j];\n",
       "                if (data.data) {\n",
       "                    // IPython >= 3 moved mimebundle to data attribute of output\n",
       "                    data = data.data;\n",
       "                }\n",
       "                if (data['text/html'] === html_output) {\n",
       "                    return [cell, data, j];\n",
       "                }\n",
       "            }\n",
       "        }\n",
       "    }\n",
       "};\n",
       "\n",
       "// Register the function which deals with the matplotlib target/channel.\n",
       "// The kernel may be null if the page has been refreshed.\n",
       "if (IPython.notebook.kernel !== null) {\n",
       "    IPython.notebook.kernel.comm_manager.register_target(\n",
       "        'matplotlib',\n",
       "        mpl.mpl_figure_comm\n",
       "    );\n",
       "}\n"
      ],
      "text/plain": [
       "<IPython.core.display.Javascript object>"
      ]
     },
     "metadata": {},
     "output_type": "display_data"
    },
    {
     "data": {
      "text/html": [
       "<div id='d91d333a-ccb9-4ac8-af7d-cc2d230c564b'></div>"
      ],
      "text/plain": [
       "<IPython.core.display.HTML object>"
      ]
     },
     "metadata": {},
     "output_type": "display_data"
    },
    {
     "data": {
      "text/plain": [
       "[<matplotlib.lines.Line2D at 0x7fa3878d2850>]"
      ]
     },
     "execution_count": 1,
     "metadata": {},
     "output_type": "execute_result"
    }
   ],
   "source": [
    "example_data = data[0]\n",
    "mol_frac = example_data.mf\n",
    "mol_frac.plot()"
   ]
  },
  {
   "cell_type": "markdown",
   "metadata": {},
   "source": [
    "## 5. Ranking data"
   ]
  },
  {
   "cell_type": "markdown",
   "metadata": {},
   "source": [
    "The dates that the data from Heathfield retrieved above overlap. If we want to easily retrieve the highest quality data from Heathfield over a range of dates we don't want to have to repeatedly check which was the correct inlet/instrument for a given daterange. This problem is solved using ranking. \n",
    "\n",
    "A given inlet on a specific instrument at a site can be given a rank for a daterange. To do this we use the `RankSources` class from the `localclient` submodule."
   ]
  },
  {
   "cell_type": "code",
   "execution_count": 16,
   "metadata": {
    "execution": {
     "iopub.execute_input": "2020-11-10T17:16:03.596468Z",
     "iopub.status.busy": "2020-11-10T17:16:03.595682Z",
     "iopub.status.idle": "2020-11-10T17:16:03.616397Z",
     "shell.execute_reply": "2020-11-10T17:16:03.615843Z"
    }
   },
   "outputs": [
    {
     "data": {
      "text/plain": [
       "{'co_hfd_100m_picarro': {'rank': 0,\n",
       "  'data_range': '2013-12-04T14:02:30_2019-05-21T15:46:30',\n",
       "  'uuid': 'bfde6b8f-6ecb-43de-8cc3-668fed9ec563',\n",
       "  'metadata': {'site': 'hfd',\n",
       "   'instrument': 'picarro',\n",
       "   'time_resolution': '1_minute',\n",
       "   'inlet': '100m',\n",
       "   'port': '10',\n",
       "   'type': 'air',\n",
       "   'network': 'decc',\n",
       "   'species': 'co',\n",
       "   'scale': 'wmo-x2014a',\n",
       "   'data_type': 'timeseries'}},\n",
       " 'co_hfd_50m_picarro': {'rank': 0,\n",
       "  'data_range': '2013-11-23T12:28:30_2020-06-24T09:41:30',\n",
       "  'uuid': '4e880d44-1b4a-4679-929c-0004dd40fa84',\n",
       "  'metadata': {'site': 'hfd',\n",
       "   'instrument': 'picarro',\n",
       "   'time_resolution': '1_minute',\n",
       "   'inlet': '50m',\n",
       "   'port': '9',\n",
       "   'type': 'air',\n",
       "   'network': 'decc',\n",
       "   'species': 'co',\n",
       "   'scale': 'wmo-x2014a',\n",
       "   'data_type': 'timeseries'}}}"
      ]
     },
     "execution_count": 1,
     "metadata": {},
     "output_type": "execute_result"
    }
   ],
   "source": [
    "r = RankSources()\n",
    "\n",
    "r.get_sources(site=\"hfd\", species=\"co\")"
   ]
  },
  {
   "cell_type": "markdown",
   "metadata": {},
   "source": [
    "The returned dictionary gives us two keys, one for each inlet height. To rank a source we use the `set_rank` method which expects two arguments: `rank_key` which is the key given to each source in the `dict` above and `rank_data` a dictionary of the form\n",
    "\n",
    "```python\n",
    "rank_data = {co2_hfd_50m_picarro: {1: [daterange_1], 2: [daterange_2]}}\n",
    "```\n",
    "\n",
    "We can create this dictionary using a helper method of `RankSources` called `create_daterange` as shown below."
   ]
  },
  {
   "cell_type": "code",
   "execution_count": 17,
   "metadata": {
    "execution": {
     "iopub.execute_input": "2020-11-10T17:16:03.621932Z",
     "iopub.status.busy": "2020-11-10T17:16:03.620668Z",
     "iopub.status.idle": "2020-11-10T17:16:03.623657Z",
     "shell.execute_reply": "2020-11-10T17:16:03.623114Z"
    }
   },
   "outputs": [],
   "source": [
    "daterange_100m = r.create_daterange(start=\"2013-11-01\", end=\"2016-01-01\")   "
   ]
  },
  {
   "cell_type": "markdown",
   "metadata": {},
   "source": [
    "This creates a daterange string that will be understood by `openghg`. We can then place this in a list to create our `rank_data` dictionary."
   ]
  },
  {
   "cell_type": "code",
   "execution_count": 18,
   "metadata": {
    "execution": {
     "iopub.execute_input": "2020-11-10T17:16:03.629298Z",
     "iopub.status.busy": "2020-11-10T17:16:03.627969Z",
     "iopub.status.idle": "2020-11-10T17:16:03.631099Z",
     "shell.execute_reply": "2020-11-10T17:16:03.630591Z"
    }
   },
   "outputs": [],
   "source": [
    "rank_data = {\"co_hfd_100m_picarro\": {\"1\": [daterange_100m]}}"
   ]
  },
  {
   "cell_type": "code",
   "execution_count": 19,
   "metadata": {
    "execution": {
     "iopub.execute_input": "2020-11-10T17:16:03.636004Z",
     "iopub.status.busy": "2020-11-10T17:16:03.635363Z",
     "iopub.status.idle": "2020-11-10T17:16:03.639311Z",
     "shell.execute_reply": "2020-11-10T17:16:03.638795Z"
    }
   },
   "outputs": [
    {
     "data": {
      "text/plain": [
       "{'co_hfd_100m_picarro': {'1': ['2013-11-01T00:00:00_2016-01-01T00:00:00']}}"
      ]
     },
     "execution_count": 1,
     "metadata": {},
     "output_type": "execute_result"
    }
   ],
   "source": [
    "rank_data"
   ]
  },
  {
   "cell_type": "markdown",
   "metadata": {},
   "source": [
    "Now we can set the rank of the network using `set_rank`"
   ]
  },
  {
   "cell_type": "code",
   "execution_count": 20,
   "metadata": {
    "execution": {
     "iopub.execute_input": "2020-11-10T17:16:03.643461Z",
     "iopub.status.busy": "2020-11-10T17:16:03.642887Z",
     "iopub.status.idle": "2020-11-10T17:16:03.651764Z",
     "shell.execute_reply": "2020-11-10T17:16:03.652219Z"
    }
   },
   "outputs": [],
   "source": [
    "r.set_rank(rank_key=\"co_hfd_100m_picarro\", rank_data=rank_data)"
   ]
  },
  {
   "cell_type": "markdown",
   "metadata": {},
   "source": [
    "We can now check the rank for this inlet again to check it's been set correctly"
   ]
  },
  {
   "cell_type": "code",
   "execution_count": 21,
   "metadata": {
    "execution": {
     "iopub.execute_input": "2020-11-10T17:16:03.656944Z",
     "iopub.status.busy": "2020-11-10T17:16:03.656361Z",
     "iopub.status.idle": "2020-11-10T17:16:03.675634Z",
     "shell.execute_reply": "2020-11-10T17:16:03.675073Z"
    }
   },
   "outputs": [
    {
     "data": {
      "text/plain": [
       "{'co_hfd_100m_picarro': {'rank': defaultdict(list,\n",
       "              {'1': ['2013-11-01T00:00:00_2016-01-01T00:00:00']}),\n",
       "  'data_range': '2013-12-04T14:02:30_2019-05-21T15:46:30',\n",
       "  'uuid': 'bfde6b8f-6ecb-43de-8cc3-668fed9ec563',\n",
       "  'metadata': {'site': 'hfd',\n",
       "   'instrument': 'picarro',\n",
       "   'time_resolution': '1_minute',\n",
       "   'inlet': '100m',\n",
       "   'port': '10',\n",
       "   'type': 'air',\n",
       "   'network': 'decc',\n",
       "   'species': 'co',\n",
       "   'scale': 'wmo-x2014a',\n",
       "   'data_type': 'timeseries'}},\n",
       " 'co_hfd_50m_picarro': {'rank': 0,\n",
       "  'data_range': '2013-11-23T12:28:30_2020-06-24T09:41:30',\n",
       "  'uuid': '4e880d44-1b4a-4679-929c-0004dd40fa84',\n",
       "  'metadata': {'site': 'hfd',\n",
       "   'instrument': 'picarro',\n",
       "   'time_resolution': '1_minute',\n",
       "   'inlet': '50m',\n",
       "   'port': '9',\n",
       "   'type': 'air',\n",
       "   'network': 'decc',\n",
       "   'species': 'co',\n",
       "   'scale': 'wmo-x2014a',\n",
       "   'data_type': 'timeseries'}}}"
      ]
     },
     "execution_count": 1,
     "metadata": {},
     "output_type": "execute_result"
    }
   ],
   "source": [
    "r.get_sources(site=\"hfd\", species=\"co\")"
   ]
  },
  {
   "cell_type": "markdown",
   "metadata": {},
   "source": [
    "We can now see\n",
    "\n",
    "```python\n",
    "'co_hfd_100m_picarro': {'rank': defaultdict(list, {'1': ['2013-11-01T00:00:00_2016-01-01T00:00:00']})\n",
    "```"
   ]
  },
  {
   "cell_type": "markdown",
   "metadata": {},
   "source": [
    "Which tells us the rank was set correctly over the daterange that we specified. We can now search for data and we'll automatically get the highest ranked data.\n",
    "\n",
    "Let's search for CO2 data at Heathfield between 2014 - 2015, dates covered by both inlets."
   ]
  },
  {
   "cell_type": "code",
   "execution_count": 22,
   "metadata": {
    "execution": {
     "iopub.execute_input": "2020-11-10T17:16:03.679930Z",
     "iopub.status.busy": "2020-11-10T17:16:03.679321Z",
     "iopub.status.idle": "2020-11-10T17:16:03.872490Z",
     "shell.execute_reply": "2020-11-10T17:16:03.871670Z"
    }
   },
   "outputs": [],
   "source": [
    "updated_data = get_single_site(site=\"hfd\", species=\"co\", network=\"AGAGE\")"
   ]
  },
  {
   "cell_type": "code",
   "execution_count": 23,
   "metadata": {
    "execution": {
     "iopub.execute_input": "2020-11-10T17:16:03.885971Z",
     "iopub.status.busy": "2020-11-10T17:16:03.884667Z",
     "iopub.status.idle": "2020-11-10T17:16:03.890213Z",
     "shell.execute_reply": "2020-11-10T17:16:03.889509Z"
    }
   },
   "outputs": [
    {
     "data": {
      "text/plain": [
       "[<xarray.Dataset>\n",
       " Dimensions:    (time: 15)\n",
       " Coordinates:\n",
       "   * time       (time) datetime64[ns] 2013-12-04T14:02:30 ... 2014-05-07T00:28:30\n",
       " Data variables:\n",
       "     mf         (time) float64 214.3 216.2 147.0 135.3 ... 155.6 158.0 129.8\n",
       "     co_stdev   (time) float64 4.081 3.634 3.887 4.11 ... 4.771 4.945 4.813 4.796\n",
       "     co_n_meas  (time) float64 19.0 19.0 19.0 19.0 19.0 ... 19.0 19.0 19.0 19.0\n",
       " Attributes:\n",
       "     data_owner:           Simon O'Doherty\n",
       "     data_owner_email:     s.odoherty@bristol.ac.uk\n",
       "     inlet_height_magl:    100m\n",
       "     comment:              Cavity ring-down measurements. Output from GCWerks\n",
       "     Conditions of use:    Ensure that you contact the data owner at the outse...\n",
       "     Source:               In situ measurements of air\n",
       "     Conventions:          CF-1.6\n",
       "     File created:         2020-11-10 17:15:59.741491+00:00\n",
       "     Processed by:         auto@hugs-cloud.com\n",
       "     species:              CO\n",
       "     station_longitude:    0.23048\n",
       "     station_latitude:     50.97675\n",
       "     station_long_name:    Heathfield, UK\n",
       "     station_height_masl:  150.0\n",
       "     scale:                WMO-X2014A]"
      ]
     },
     "execution_count": 1,
     "metadata": {},
     "output_type": "execute_result"
    }
   ],
   "source": [
    "updated_data"
   ]
  },
  {
   "cell_type": "markdown",
   "metadata": {},
   "source": [
    "Now we get the highest ranked data returned to us without the need to specify an inlet height or instrument.\n",
    "\n",
    "If we know that we want data from the 50m inlet we can still specify this in the search and get that data"
   ]
  },
  {
   "cell_type": "code",
   "execution_count": 24,
   "metadata": {
    "execution": {
     "iopub.execute_input": "2020-11-10T17:16:03.894493Z",
     "iopub.status.busy": "2020-11-10T17:16:03.893910Z",
     "iopub.status.idle": "2020-11-10T17:16:04.043950Z",
     "shell.execute_reply": "2020-11-10T17:16:04.043228Z"
    }
   },
   "outputs": [],
   "source": [
    "fiftym_data = get_single_site(site=\"hfd\", species=\"co\", network=\"AGAGE\", inlet=\"50m\")"
   ]
  },
  {
   "cell_type": "code",
   "execution_count": 25,
   "metadata": {
    "execution": {
     "iopub.execute_input": "2020-11-10T17:16:04.053119Z",
     "iopub.status.busy": "2020-11-10T17:16:04.051902Z",
     "iopub.status.idle": "2020-11-10T17:16:04.056092Z",
     "shell.execute_reply": "2020-11-10T17:16:04.055526Z"
    }
   },
   "outputs": [
    {
     "data": {
      "text/plain": [
       "[<xarray.Dataset>\n",
       " Dimensions:    (time: 35)\n",
       " Coordinates:\n",
       "   * time       (time) datetime64[ns] 2013-11-23T12:28:30 ... 2020-06-24T09:41:30\n",
       " Data variables:\n",
       "     mf         (time) float64 181.7 190.6 242.6 196.4 ... 93.59 86.76 129.7\n",
       "     co_stdev   (time) float64 5.158 4.641 3.602 5.487 ... 3.672 4.666 4.111\n",
       "     co_n_meas  (time) float64 19.0 19.0 19.0 19.0 19.0 ... 12.0 12.0 12.0 12.0\n",
       " Attributes:\n",
       "     data_owner:           Simon O'Doherty\n",
       "     data_owner_email:     s.odoherty@bristol.ac.uk\n",
       "     inlet_height_magl:    50m\n",
       "     comment:              Cavity ring-down measurements. Output from GCWerks\n",
       "     Conditions of use:    Ensure that you contact the data owner at the outse...\n",
       "     Source:               In situ measurements of air\n",
       "     Conventions:          CF-1.6\n",
       "     File created:         2020-11-10 17:15:59.890969+00:00\n",
       "     Processed by:         auto@hugs-cloud.com\n",
       "     species:              CO\n",
       "     station_longitude:    0.23048\n",
       "     station_latitude:     50.97675\n",
       "     station_long_name:    Heathfield, UK\n",
       "     station_height_masl:  150.0\n",
       "     scale:                WMO-X2014A]"
      ]
     },
     "execution_count": 1,
     "metadata": {},
     "output_type": "execute_result"
    }
   ],
   "source": [
    "fiftym_data"
   ]
  },
  {
   "cell_type": "markdown",
   "metadata": {},
   "source": [
    "## 6. Viewing ranked data"
   ]
  },
  {
   "cell_type": "markdown",
   "metadata": {},
   "source": [
    "We can also view the ranks we have given to data with a similar layout to the object store visualisation we created earlier.\n",
    "\n",
    "To do this we use the `visualise_rankings` method of of the `RankSources` class. In this figure we'll only see Datasources that contain ranked data. Hover over the nodes for further information."
   ]
  },
  {
   "cell_type": "markdown",
   "metadata": {},
   "source": [
    "<div class=\"alert alert-info\">\n",
    "    The rankings visualisation created by this function is commented out here and won't be visible in the documentation but can be uncommented and run when you use the notebook version.\n",
    "</div>"
   ]
  },
  {
   "cell_type": "code",
   "execution_count": 26,
   "metadata": {
    "execution": {
     "iopub.execute_input": "2020-11-10T17:16:04.061883Z",
     "iopub.status.busy": "2020-11-10T17:16:04.060569Z",
     "iopub.status.idle": "2020-11-10T17:16:04.063807Z",
     "shell.execute_reply": "2020-11-10T17:16:04.063271Z"
    }
   },
   "outputs": [],
   "source": [
    "# r.visualise_rankings()"
   ]
  },
  {
   "cell_type": "markdown",
   "metadata": {},
   "source": [
    "## 7. What's next?"
   ]
  },
  {
   "cell_type": "markdown",
   "metadata": {},
   "source": [
    "Further tutorials will be added soon. If you want to explore the internal workings of OpenGHG please checkout the Developer API documentation, if you would like contribute to the project we welcome pull requests to both the code and the documentation. For help and guidance on contributing check our contributing page."
   ]
  }
 ],
 "metadata": {
  "kernelspec": {
   "display_name": "Python 3",
   "language": "python",
   "name": "python3"
  },
  "language_info": {
   "codemirror_mode": {
    "name": "ipython",
    "version": 3
   },
   "file_extension": ".py",
   "mimetype": "text/x-python",
   "name": "python",
   "nbconvert_exporter": "python",
   "pygments_lexer": "ipython3",
   "version": "3.7.9"
  }
 },
 "nbformat": 4,
 "nbformat_minor": 4
}
